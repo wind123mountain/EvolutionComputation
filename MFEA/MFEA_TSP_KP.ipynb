{
 "cells": [
  {
   "cell_type": "code",
   "execution_count": 2,
   "metadata": {},
   "outputs": [],
   "source": [
    "import numpy as np\n",
    "import matplotlib.pyplot as plt"
   ]
  },
  {
   "cell_type": "code",
   "execution_count": 4,
   "metadata": {},
   "outputs": [],
   "source": [
    "def load_KP(path = \"datasets/KP24.txt\"):\n",
    "    with open(path, 'r') as f:\n",
    "        inputData = f.readlines()\n",
    "    \n",
    "    Capacity = int(inputData[0].strip())\n",
    "    N = int(inputData[1].strip())\n",
    "    item_list=[]\n",
    "    for item in inputData[2:]:\n",
    "        #del '\\n' \n",
    "        item = item.strip()\n",
    "        #split by ' '\n",
    "        item = item.split(' ')\n",
    "        #(p, w)\n",
    "        item_list.append((int(item[0]), int(item[1])))\n",
    "\n",
    "    return Capacity, N, item_list"
   ]
  },
  {
   "cell_type": "code",
   "execution_count": 18,
   "metadata": {},
   "outputs": [],
   "source": [
    "def DistanceMatrix(cities, n):\n",
    "    dis_matrix = np.zeros([n,n])\n",
    "\n",
    "    for i in range(n):\n",
    "        for j in range(i+1, n):\n",
    "            a = np.array(cities[i])\n",
    "            b = np.array(cities[j])\n",
    "            c = a - b\n",
    "            dis_matrix[i, j] = np.sqrt(np.sum(c*c))\n",
    "            dis_matrix[j, i] = dis_matrix[i, j]\n",
    "\n",
    "    return dis_matrix"
   ]
  },
  {
   "cell_type": "code",
   "execution_count": 16,
   "metadata": {},
   "outputs": [],
   "source": [
    "def load_TSP(path = \"datasets/eil51.txt\"):\n",
    "    with open(path, 'r') as f:\n",
    "        inputData = f.readlines()\n",
    "    \n",
    "    N = int(inputData[0].strip())\n",
    "    node_list=[]\n",
    "    for node in inputData[1:]:\n",
    "        #del '\\n' \n",
    "        node = node.strip()\n",
    "        #split by ' '\n",
    "        node = node.split(' ')\n",
    "        node_list.append((int(node[1]), int(node[2])))\n",
    "\n",
    "    dis_matrix = DistanceMatrix(node_list, N)\n",
    "    \n",
    "    return node_list, N, dis_matrix"
   ]
  },
  {
   "cell_type": "code",
   "execution_count": 19,
   "metadata": {},
   "outputs": [
    {
     "name": "stdout",
     "output_type": "stream",
     "text": [
      "[(37, 52), (49, 49), (52, 64), (20, 26), (40, 30), (21, 47), (17, 63), (31, 62), (52, 33), (51, 21), (42, 41), (31, 32), (5, 25), (12, 42), (36, 16), (52, 41), (27, 23), (17, 33), (13, 13), (57, 58), (62, 42), (42, 57), (16, 57), (8, 52), (7, 38), (27, 68), (30, 48), (43, 67), (58, 48), (58, 27), (37, 69), (38, 46), (46, 10), (61, 33), (62, 63), (63, 69), (32, 22), (45, 35), (59, 15), (5, 6), (10, 17), (21, 10), (5, 64), (30, 15), (39, 10), (32, 39), (25, 32), (25, 55), (48, 28), (56, 37), (30, 40)]\n",
      "51\n"
     ]
    }
   ],
   "source": [
    "node_list, num_cities, dis_matrix = load_TSP()\n",
    "print(node_list)\n",
    "print(num_cities)"
   ]
  },
  {
   "cell_type": "code",
   "execution_count": 7,
   "metadata": {},
   "outputs": [
    {
     "name": "stdout",
     "output_type": "stream",
     "text": [
      "6404180\n",
      "24\n",
      "[(825594, 382745), (1677009, 799601), (1676628, 909247), (1523970, 729069), (943972, 467902), (97426, 44328), (69666, 34610), (1296457, 698150), (1679693, 823460), (1902996, 903959), (1844992, 853665), (1049289, 551830), (1252836, 610856), (1319836, 670702), (953277, 488960), (2067538, 951111), (675367, 323046), (853655, 446298), (1826027, 931161), (65731, 31385), (901489, 496951), (577243, 264724), (466257, 224916), (369261, 169684)]\n"
     ]
    }
   ],
   "source": [
    "Capacity, N, item_list = load_KP()\n",
    "print(Capacity)\n",
    "print(N)\n",
    "print(item_list)"
   ]
  },
  {
   "cell_type": "code",
   "execution_count": 8,
   "metadata": {},
   "outputs": [],
   "source": [
    "D = num_cities - 1\n",
    "if D < N: D = N"
   ]
  },
  {
   "cell_type": "code",
   "execution_count": 14,
   "metadata": {},
   "outputs": [],
   "source": [
    "def decode_TSP(indiv, n = num_cities - 1):\n",
    "    decode = []\n",
    "    for i in range(n):\n",
    "        decode.append((i+1, indiv[i]))\n",
    "    decode.sort(key=lambda tup: tup[1], reverse=False)\n",
    "    sol = [i[0] for i in decode]\n",
    "    return np.array(sol)\n",
    "\n",
    "\n",
    "def decode_KP(indiv, n = N):\n",
    "    sol = []\n",
    "    for i in indiv[:n]:\n",
    "        if i < 0.5: sol.append(0)\n",
    "        else: sol.append(1)\n",
    "    return np.array(sol)\n"
   ]
  },
  {
   "cell_type": "code",
   "execution_count": 27,
   "metadata": {},
   "outputs": [
    {
     "data": {
      "text/plain": [
       "[3, 1, 4, 2]"
      ]
     },
     "execution_count": 27,
     "metadata": {},
     "output_type": "execute_result"
    }
   ],
   "source": [
    "list(decode_TSP([0.4, 0.7, 0.2, 0.5], n = 4))"
   ]
  },
  {
   "cell_type": "code",
   "execution_count": 15,
   "metadata": {},
   "outputs": [
    {
     "data": {
      "text/plain": [
       "array([0, 1, 0, 1])"
      ]
     },
     "execution_count": 15,
     "metadata": {},
     "output_type": "execute_result"
    }
   ],
   "source": [
    "decode_KP([0.4, 0.7, 0.2, 0.5], n = 4)"
   ]
  },
  {
   "cell_type": "code",
   "execution_count": null,
   "metadata": {},
   "outputs": [],
   "source": [
    "import math\n",
    "\n",
    "def cost_tsp(indiv):\n",
    "    n = len(indiv) - 1\n",
    "    cost = dis_matrix[0, indiv[0]]\n",
    "    for i in range(n):\n",
    "        cost += dis_matrix[indiv[i], indiv[i+1]]\n",
    "    cost += dis_matrix[indiv[n], 0]\n",
    "\n",
    "    return cost\n",
    "\n",
    "def cost_kp(indiv, n = N):\n",
    "    cost = 0\n",
    "    weight_total = 0\n",
    "\n",
    "    for i in range(n):\n",
    "        cost += indiv[i]*item_list[i][0]\n",
    "        weight_total += indiv[i]*item_list[i][1]\n",
    " \n",
    "    if(weight_total > Capacity):\n",
    "        cost -= 50*(weight_total - Capacity)\n",
    "    return cost\n",
    "\n",
    "def Factorial_Cost(indiv, t):\n",
    "    if(t == 0):\n",
    "        decode = decode_TSP(indiv)\n",
    "        return(decode)\n",
    "    else:\n",
    "        decode = decode_KP(indiv)\n",
    "        return(decode)"
   ]
  }
 ],
 "metadata": {
  "interpreter": {
   "hash": "b0fdbd91fa1014f333c33329988a7a04d464deba86e034a82d46dbd46f2ee1d2"
  },
  "kernelspec": {
   "display_name": "Python 3.8.8 64-bit ('base': conda)",
   "name": "python3"
  },
  "language_info": {
   "codemirror_mode": {
    "name": "ipython",
    "version": 3
   },
   "file_extension": ".py",
   "mimetype": "text/x-python",
   "name": "python",
   "nbconvert_exporter": "python",
   "pygments_lexer": "ipython3",
   "version": "3.8.8"
  },
  "orig_nbformat": 4
 },
 "nbformat": 4,
 "nbformat_minor": 2
}
