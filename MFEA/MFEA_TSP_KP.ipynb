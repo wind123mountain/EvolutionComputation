{
 "cells": [
  {
   "cell_type": "code",
   "execution_count": 98,
   "metadata": {},
   "outputs": [],
   "source": [
    "import numpy as np\n",
    "import matplotlib.pyplot as plt"
   ]
  },
  {
   "cell_type": "code",
   "execution_count": 100,
   "metadata": {},
   "outputs": [],
   "source": [
    "def load_KP(path = \"datasets/KP24.txt\"):\n",
    "    with open(path, 'r') as f:\n",
    "        inputData = f.readlines()\n",
    "    \n",
    "    Capacity = int(inputData[0].strip())\n",
    "    N = int(inputData[1].strip())\n",
    "    item_list=[]\n",
    "    for item in inputData[2:]:\n",
    "        #del '\\n' \n",
    "        item = item.strip()\n",
    "        #split by ' '\n",
    "        item = item.split(' ')\n",
    "        #(p, w)\n",
    "        item_list.append((int(item[0]), int(item[1])))\n",
    "\n",
    "    return Capacity, N, item_list"
   ]
  },
  {
   "cell_type": "code",
   "execution_count": 101,
   "metadata": {},
   "outputs": [],
   "source": [
    "def DistanceMatrix(cities, n):\n",
    "    dis_matrix = np.zeros([n,n])\n",
    "\n",
    "    for i in range(n):\n",
    "        for j in range(i+1, n):\n",
    "            a = np.array(cities[i])\n",
    "            b = np.array(cities[j])\n",
    "            c = a - b\n",
    "            dis_matrix[i, j] = np.sqrt(np.sum(c*c))\n",
    "            dis_matrix[j, i] = dis_matrix[i, j]\n",
    "\n",
    "    return dis_matrix"
   ]
  },
  {
   "cell_type": "code",
   "execution_count": 102,
   "metadata": {},
   "outputs": [],
   "source": [
    "def load_TSP(path = \"datasets/eil51.txt\"):\n",
    "    with open(path, 'r') as f:\n",
    "        inputData = f.readlines()\n",
    "    \n",
    "    N = int(inputData[0].strip())\n",
    "    node_list=[]\n",
    "    for node in inputData[1:]:\n",
    "        #del '\\n' \n",
    "        node = node.strip()\n",
    "        #split by ' '\n",
    "        node = node.split(' ')\n",
    "        node_list.append((int(node[1]), int(node[2])))\n",
    "\n",
    "    dis_matrix = DistanceMatrix(node_list, N)\n",
    "    \n",
    "    return node_list, N, dis_matrix"
   ]
  },
  {
   "cell_type": "code",
   "execution_count": 103,
   "metadata": {},
   "outputs": [
    {
     "name": "stdout",
     "output_type": "stream",
     "text": [
      "[(37, 52), (49, 49), (52, 64), (20, 26), (40, 30), (21, 47), (17, 63), (31, 62), (52, 33), (51, 21), (42, 41), (31, 32), (5, 25), (12, 42), (36, 16), (52, 41), (27, 23), (17, 33), (13, 13), (57, 58), (62, 42), (42, 57), (16, 57), (8, 52), (7, 38), (27, 68), (30, 48), (43, 67), (58, 48), (58, 27), (37, 69), (38, 46), (46, 10), (61, 33), (62, 63), (63, 69), (32, 22), (45, 35), (59, 15), (5, 6), (10, 17), (21, 10), (5, 64), (30, 15), (39, 10), (32, 39), (25, 32), (25, 55), (48, 28), (56, 37), (30, 40)]\n",
      "51\n"
     ]
    }
   ],
   "source": [
    "node_list, num_cities, dis_matrix = load_TSP()\n",
    "print(node_list)\n",
    "print(num_cities)"
   ]
  },
  {
   "cell_type": "code",
   "execution_count": 104,
   "metadata": {},
   "outputs": [
    {
     "name": "stdout",
     "output_type": "stream",
     "text": [
      "6404180\n",
      "24\n",
      "[(825594, 382745), (1677009, 799601), (1676628, 909247), (1523970, 729069), (943972, 467902), (97426, 44328), (69666, 34610), (1296457, 698150), (1679693, 823460), (1902996, 903959), (1844992, 853665), (1049289, 551830), (1252836, 610856), (1319836, 670702), (953277, 488960), (2067538, 951111), (675367, 323046), (853655, 446298), (1826027, 931161), (65731, 31385), (901489, 496951), (577243, 264724), (466257, 224916), (369261, 169684)]\n"
     ]
    }
   ],
   "source": [
    "Capacity, N, item_list = load_KP()\n",
    "print(Capacity)\n",
    "print(N)\n",
    "print(item_list)"
   ]
  },
  {
   "cell_type": "code",
   "execution_count": 105,
   "metadata": {},
   "outputs": [],
   "source": [
    "D = num_cities - 1\n",
    "if D < N: D = N"
   ]
  },
  {
   "cell_type": "code",
   "execution_count": 106,
   "metadata": {},
   "outputs": [],
   "source": [
    "def decode_TSP(indiv, n = num_cities - 1):\n",
    "    decode = []\n",
    "    for i in range(n):\n",
    "        decode.append((i+1, indiv[i]))\n",
    "    decode.sort(key=lambda tup: tup[1], reverse=False)\n",
    "    sol = [i[0] for i in decode]\n",
    "    return np.array(sol)\n",
    "\n",
    "\n",
    "def decode_KP(indiv, n = N):\n",
    "    sol = []\n",
    "    for i in indiv[:n]:\n",
    "        if i < 0.5: sol.append(0)\n",
    "        else: sol.append(1)\n",
    "    return np.array(sol)\n"
   ]
  },
  {
   "cell_type": "code",
   "execution_count": 107,
   "metadata": {},
   "outputs": [
    {
     "data": {
      "text/plain": [
       "[3, 1, 4, 2]"
      ]
     },
     "execution_count": 107,
     "metadata": {},
     "output_type": "execute_result"
    }
   ],
   "source": [
    "decode_TSP([0.4, 0.7, 0.2, 0.5], n = 4)"
   ]
  },
  {
   "cell_type": "code",
   "execution_count": 108,
   "metadata": {},
   "outputs": [
    {
     "data": {
      "text/plain": [
       "array([0, 1, 0, 1])"
      ]
     },
     "execution_count": 108,
     "metadata": {},
     "output_type": "execute_result"
    }
   ],
   "source": [
    "decode_KP([0.4, 0.7, 0.2, 0.5], n = 4)"
   ]
  },
  {
   "cell_type": "code",
   "execution_count": 109,
   "metadata": {},
   "outputs": [],
   "source": [
    "import math\n",
    "\n",
    "def cost_tsp(indiv):\n",
    "    n = len(indiv) - 1\n",
    "    cost = dis_matrix[0, indiv[0]]\n",
    "    for i in range(n):\n",
    "        cost += dis_matrix[indiv[i], indiv[i+1]]\n",
    "    cost += dis_matrix[indiv[n], 0]\n",
    "\n",
    "    return -cost\n",
    "\n",
    "def cost_kp(indiv, n = N):\n",
    "    cost = 0\n",
    "    weight_total = 0\n",
    "\n",
    "    for i in range(n):\n",
    "        cost += indiv[i]*item_list[i][0]\n",
    "        weight_total += indiv[i]*item_list[i][1]\n",
    " \n",
    "    if(weight_total > Capacity):\n",
    "        cost -= 100*(weight_total - Capacity)\n",
    "    return cost\n",
    "\n",
    "def Factorial_Cost(indiv, t):\n",
    "    if t == 0:\n",
    "        decode = decode_TSP(indiv)\n",
    "        return cost_tsp(decode)\n",
    "    elif t == 1:\n",
    "        decode = decode_KP(indiv)\n",
    "        return cost_kp(decode)\n",
    "    else:\n",
    "        return cost_tsp(decode_TSP(indiv)), cost_kp(decode_KP(indiv))"
   ]
  },
  {
   "cell_type": "code",
   "execution_count": 110,
   "metadata": {},
   "outputs": [],
   "source": [
    "mark_tsp = set()\n",
    "mark_kp = set()\n",
    "\n",
    "def check_generated(individual, t = 2):\n",
    "    res = False\n",
    "\n",
    "    if t == 0 or t == 2:\n",
    "        tsp = decode_TSP(individual)\n",
    "        hash_val = hash(tsp.tobytes())\n",
    "        pre_size = len(mark_tsp)\n",
    "        mark_tsp.add(hash_val)\n",
    "        if(pre_size == len(mark_tsp)): res = True\n",
    "\n",
    "    if t == 1 or t == 2:\n",
    "        kp = decode_KP(individual)\n",
    "        hash_val = hash(kp.tobytes())\n",
    "        pre_size = len(mark_kp)\n",
    "        mark_kp.add(hash_val)\n",
    "        if(pre_size == len(mark_kp)): res = True\n",
    "    \n",
    "    return res"
   ]
  },
  {
   "cell_type": "code",
   "execution_count": 111,
   "metadata": {},
   "outputs": [],
   "source": [
    "def GeneratorIndiv(dims=D):\n",
    "    \n",
    "    indiv = np.random.random_sample((dims, ))\n",
    "    while check_generated(indiv):\n",
    "        indiv = np.random.random_sample((dims, ))\n",
    "    \n",
    "    return indiv, Factorial_Cost(indiv, t=2)"
   ]
  },
  {
   "cell_type": "code",
   "execution_count": 112,
   "metadata": {},
   "outputs": [
    {
     "data": {
      "text/plain": [
       "(array([5.68560156e-01, 4.27371652e-01, 1.32880349e-01, 1.56742247e-01,\n",
       "        6.72757162e-01, 5.90760408e-01, 4.85927360e-02, 1.04815268e-01,\n",
       "        2.46607971e-02, 6.45145617e-03, 2.30072986e-01, 2.87541734e-01,\n",
       "        1.96506402e-01, 7.63513386e-01, 1.35375143e-01, 3.21705952e-01,\n",
       "        4.59511921e-01, 4.77390260e-01, 2.65718387e-01, 1.87918891e-02,\n",
       "        6.60228841e-01, 8.18426372e-01, 5.38127590e-01, 1.46660108e-01,\n",
       "        2.84001514e-01, 2.68734273e-01, 5.47621884e-04, 9.67806135e-01,\n",
       "        1.31772556e-01, 2.11820603e-01, 2.73485325e-01, 2.62114226e-01,\n",
       "        2.41032539e-01, 6.66400783e-01, 3.01109441e-01, 2.86964201e-01,\n",
       "        1.53362799e-01, 7.05465806e-01, 4.70806845e-01, 2.12806644e-01,\n",
       "        3.78058290e-01, 5.09845032e-01, 9.20423156e-01, 3.47932105e-01,\n",
       "        6.17453327e-01, 2.31695971e-01, 9.71781324e-01, 5.00117536e-01,\n",
       "        1.31517253e-01, 6.75822692e-01]),\n",
       " (-1616.7133828933988, 5131817))"
      ]
     },
     "execution_count": 112,
     "metadata": {},
     "output_type": "execute_result"
    }
   ],
   "source": [
    "GeneratorIndiv()"
   ]
  },
  {
   "cell_type": "code",
   "execution_count": 113,
   "metadata": {},
   "outputs": [],
   "source": [
    "def Generate_Eval(sizePop, d = D):\n",
    "    population = []\n",
    "    tsp_cost = []\n",
    "    kp_cost = []\n",
    "\n",
    "    for i in range(sizePop):\n",
    "        pi, fcosti = GeneratorIndiv()\n",
    "        #(pi, ti, fitnessi, fac_costi)\n",
    "        population.append([pi, -1, -1.0, -1.0])\n",
    "        tsp_cost.append((i, fcosti[0]))\n",
    "        kp_cost.append((i, fcosti[1]))\n",
    "    \n",
    "    tsp_cost.sort(key=lambda p: p[1], reverse = True)\n",
    "    kp_cost.sort(key=lambda p: p[1], reverse = True)\n",
    "\n",
    "    for i in range(sizePop):\n",
    "        #if fitness < 1/rank\n",
    "        if population[tsp_cost[i][0]][2] < 1/(i+1):\n",
    "            population[tsp_cost[i][0]][1] = int(0)\n",
    "            population[tsp_cost[i][0]][2] = 1/(i+1)\n",
    "            population[tsp_cost[i][0]][3] = tsp_cost[i][1]\n",
    "            \n",
    "        if population[kp_cost[i][0]][2] < 1/(i+1):\n",
    "            population[kp_cost[i][0]][1] = int(1)\n",
    "            population[kp_cost[i][0]][2] = 1/(i+1)\n",
    "            population[kp_cost[i][0]][3] = kp_cost[i][1]\n",
    "            \n",
    "\n",
    "    return population"
   ]
  },
  {
   "cell_type": "code",
   "execution_count": 114,
   "metadata": {},
   "outputs": [],
   "source": [
    "def chooseParents(pop):\n",
    "    n = len(pop)\n",
    "    index1 = np.random.randint(n)\n",
    "    while True:\n",
    "        index2 = np.random.randint(n)\n",
    "        if index1 == index2: break\n",
    "    index3 = np.random.randint(n)\n",
    "    while True:\n",
    "        index4 = np.random.randint(n)\n",
    "        if index3 == index4: break\n",
    "    \n",
    "    if pop[index1][2] > pop[index2][2]:\n",
    "        p1 = pop[index1]\n",
    "    else:\n",
    "        p1 = pop[index2]\n",
    "    \n",
    "    if pop[index3][2] > pop[index4][2]:\n",
    "        p2 = pop[index3]\n",
    "    else:\n",
    "        p2 = pop[index4]\n",
    "    \n",
    "    return p1, p2"
   ]
  },
  {
   "cell_type": "code",
   "execution_count": 115,
   "metadata": {},
   "outputs": [],
   "source": [
    "import math\n",
    "\n",
    "def cross_SBX(p1, p2, nc = 2):\n",
    "    u = np.random.random_sample()\n",
    "    if u < 0.5:\n",
    "        beta = math.pow(2*u, 1/(nc+1))\n",
    "    else:\n",
    "        beta = math.pow(0.5/(1-u), 1/(nc+1))\n",
    "\n",
    "    c1 = 0.5*((1+beta)*p1 + (1-beta)*p2)\n",
    "    c2 = 0.5*((1-beta)*p1 + (1+beta)*p2)\n",
    "\n",
    "    return c1, c2"
   ]
  },
  {
   "cell_type": "code",
   "execution_count": 116,
   "metadata": {},
   "outputs": [
    {
     "data": {
      "text/plain": [
       "(array([0.36630109, 0.61187406, 0.5309977 ]),\n",
       " array([0.54394537, 0.67372594, 0.15678376]))"
      ]
     },
     "execution_count": 116,
     "metadata": {},
     "output_type": "execute_result"
    }
   ],
   "source": [
    "cross_SBX(np.array([0.3546, 0.6078, 0.55564646]), np.array([0.55564646,0.6778, 0.132135]))"
   ]
  },
  {
   "cell_type": "code",
   "execution_count": 117,
   "metadata": {},
   "outputs": [],
   "source": [
    "def mutation(individual, e = 0.15):\n",
    "    n = len(individual)\n",
    "    res = np.array(individual)\n",
    "\n",
    "    index1 = np.random.randint(n)\n",
    "    index2 = np.random.randint(n)\n",
    "    while index1 == index2:\n",
    "        index2 = np.random.randint(n)\n",
    "\n",
    "    res[index1] -= e\n",
    "    res[index2] += e\n",
    "\n",
    "    #res = np.array(individual) - np.random.uniform(-e, e, len(individual))\n",
    "\n",
    "    return res"
   ]
  },
  {
   "cell_type": "code",
   "execution_count": 118,
   "metadata": {},
   "outputs": [],
   "source": [
    "def update_fitness(pop):\n",
    "    task = [[], []]\n",
    "\n",
    "    for indiv in pop:\n",
    "        task[indiv[1]].append(indiv)\n",
    "    \n",
    "    task[0].sort(key=lambda p: p[3], reverse = True)\n",
    "    task[1].sort(key=lambda p: p[3], reverse = True)\n",
    "\n",
    "    for i in range(len(task[0])):\n",
    "        task[0][i][2] = 1/(i+1)\n",
    "    for i in range(len(task[1])):\n",
    "        task[1][i][2] = 1/(i+1)\n",
    "\n",
    "    return task[0] + task[1]"
   ]
  },
  {
   "cell_type": "code",
   "execution_count": 119,
   "metadata": {},
   "outputs": [],
   "source": [
    "import random\n",
    "\n",
    "def selection(pre_pop, offs_pop):\n",
    "    pop = pre_pop + offs_pop\n",
    "    pop = update_fitness(pop)\n",
    "    pop.sort(key=lambda indiv: indiv[2], reverse = True)\n",
    "    next_pop = pop[:len(pre_pop)]\n",
    "    #random.shuffle(next_pop)\n",
    "\n",
    "    return next_pop"
   ]
  },
  {
   "cell_type": "code",
   "execution_count": 120,
   "metadata": {},
   "outputs": [],
   "source": [
    "def GA(size_pop, num_gens, rmp):\n",
    "    population = Generate_Eval(sizePop=size_pop)\n",
    "    logg = []\n",
    "    n_offsT = int(size_pop/2)\n",
    "\n",
    "    t = 0\n",
    "    while t < num_gens:\n",
    "        offs_pop = []\n",
    "        n_offs = [0, 0]\n",
    "\n",
    "        while n_offs[0] < n_offsT and n_offs[1] < n_offsT:\n",
    "            p1, p2 = chooseParents(population)\n",
    "\n",
    "            if p1[1] == p2[1]:\n",
    "                c1, c2 = cross_SBX(p1[0], p2[0])\n",
    "                \n",
    "                if not check_generated(c1, t=p1[1]):\n",
    "                    offs_pop.append([c1, p1[1], -1, Factorial_Cost(c1, p1[1])])\n",
    "                    n_offs[p1[1]] += 1\n",
    "                \n",
    "                if not check_generated(c2):\n",
    "                    offs_pop.append([c2, p1[1], -1, Factorial_Cost(c2, p1[1])])\n",
    "                    n_offs[p1[1]] += 1\n",
    "            \n",
    "            elif np.random.random_sample() < rmp:\n",
    "                c1, c2 = cross_SBX(p1[0], p2[0])\n",
    "                \n",
    "                if not check_generated(c1, t=p1[1]) and np.random.random_sample() < 0.5:\n",
    "                    offs_pop.append([c1, p1[1], -1, Factorial_Cost(c1, p1[1])])\n",
    "                    n_offs[p1[1]] += 1\n",
    "                else:\n",
    "                    offs_pop.append([c1, p2[1], -1, Factorial_Cost(c1, p2[1])])\n",
    "                    n_offs[p2[1]] += 1\n",
    "        \n",
    "                if not check_generated(c2, t=p2[1]) and np.random.random_sample() < 0.5:\n",
    "                    offs_pop.append([c2, p1[1], -1, Factorial_Cost(c2, p1[1])])\n",
    "                    n_offs[p1[1]] += 1\n",
    "                else:\n",
    "                    offs_pop.append([c2, p2[1], -1, Factorial_Cost(c2, p2[1])])\n",
    "                    n_offs[p2[1]] += 1\n",
    "            \n",
    "            else:\n",
    "                c1 = mutation(p1[0])\n",
    "                if not check_generated(c1, t=p1[1]):\n",
    "                    offs_pop.append([c1, p1[1], -1, Factorial_Cost(c1, p1[1])])\n",
    "                    n_offs[p1[1]] += 1\n",
    "\n",
    "                c2 = mutation(p2[0])\n",
    "                if not check_generated(c2, t=p2[1]):\n",
    "                    offs_pop.append([c2, p2[1], -1, Factorial_Cost(c2, p2[1])])\n",
    "                    n_offs[p2[1]] += 1\n",
    "\n",
    "        population = selection(population, offs_pop)\n",
    "        best = [0, 0]\n",
    "        \n",
    "        if population[1][2] == 1.0:\n",
    "            best[population[0][1]] = population[0][0]\n",
    "            best[population[1][1]] = population[1][0]\n",
    "        else:\n",
    "            best[0] = population[0][0]\n",
    "            best[1] = population[0][0]\n",
    "        \n",
    "        logg.append([t, best])\n",
    "        random.shuffle(population)\n",
    "        t += 1\n",
    "    \n",
    "    return logg"
   ]
  },
  {
   "cell_type": "code",
   "execution_count": 121,
   "metadata": {},
   "outputs": [],
   "source": [
    "def show(his):\n",
    "    input = np.array(his, dtype=object)\n",
    "    x = input[:, 0]\n",
    "    res = np.array(input[:, 1])\n",
    "    res_tsp = []\n",
    "    res_kp = []\n",
    "    for indivs in res:\n",
    "        res_tsp.append(-Factorial_Cost(indivs[0], 0))\n",
    "        res_kp.append(Factorial_Cost(indivs[1], 1))\n",
    "    res_tsp = np.array(res_tsp)\n",
    "    res_kp = np.array(res_kp)\n",
    "\n",
    "    plt.figure(figsize=(20, 7))\n",
    "\n",
    "    plt.subplot(1, 2, 1)\n",
    "    plt.plot(x, res_tsp)\n",
    "    plt.title('TSP: best = '+ str(res_tsp[-1]))\n",
    "\n",
    "    plt.subplot(1, 2, 2)\n",
    "    plt.plot(x, res_kp)\n",
    "    plt.title('KPbest = '+ str(res_kp[-1]))\n",
    "\n",
    "    plt.show()"
   ]
  },
  {
   "cell_type": "code",
   "execution_count": 129,
   "metadata": {},
   "outputs": [
    {
     "data": {
      "image/png": "[encoded data removed]",
      "text/plain": [
       "<Figure size 1440x504 with 2 Axes>"
      ]
     },
     "metadata": {
      "needs_background": "light"
     },
     "output_type": "display_data"
    }
   ],
   "source": [
    "history = GA(40, 2500, 0.15)\n",
    "show(history)"
   ]
  },
  {
   "cell_type": "code",
   "execution_count": 123,
   "metadata": {},
   "outputs": [],
   "source": [
    "#op_eil51 = 426\n",
    "#op_kp24 = 13.549.094"
   ]
  }
 ],
 "metadata": {
  "interpreter": {
   "hash": "b0fdbd91fa1014f333c33329988a7a04d464deba86e034a82d46dbd46f2ee1d2"
  },
  "kernelspec": {
   "display_name": "Python 3",
   "language": "python",
   "name": "python3"
  },
  "language_info": {
   "codemirror_mode": {
    "name": "ipython",
    "version": 3
   },
   "file_extension": ".py",
   "mimetype": "text/x-python",
   "name": "python",
   "nbconvert_exporter": "python",
   "pygments_lexer": "ipython3",
   "version": "3.8.8"
  }
 },
 "nbformat": 4,
 "nbformat_minor": 2
}
