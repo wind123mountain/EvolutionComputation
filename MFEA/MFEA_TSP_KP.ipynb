{
 "cells": [
  {
   "cell_type": "code",
   "execution_count": 1,
   "metadata": {},
   "outputs": [],
   "source": [
    "import numpy as np\n",
    "import matplotlib.pyplot as plt"
   ]
  },
  {
   "cell_type": "code",
   "execution_count": 2,
   "metadata": {},
   "outputs": [],
   "source": [
    "def load_KP(path = \"datasets/KP24.txt\"):\n",
    "    with open(path, 'r') as f:\n",
    "        inputData = f.readlines()\n",
    "    \n",
    "    Capacity = int(inputData[0].strip())\n",
    "    N = int(inputData[1].strip())\n",
    "    item_list=[]\n",
    "    for item in inputData[2:]:\n",
    "        #del '\\n' \n",
    "        item = item.strip()\n",
    "        #split by ' '\n",
    "        item = item.split(' ')\n",
    "        #(p, w)\n",
    "        item_list.append((int(item[0]), int(item[1])))\n",
    "\n",
    "    return Capacity, N, item_list"
   ]
  },
  {
   "cell_type": "code",
   "execution_count": 3,
   "metadata": {},
   "outputs": [],
   "source": [
    "def DistanceMatrix(cities, n):\n",
    "    dis_matrix = np.zeros([n,n])\n",
    "\n",
    "    for i in range(n):\n",
    "        for j in range(i+1, n):\n",
    "            a = np.array(cities[i])\n",
    "            b = np.array(cities[j])\n",
    "            c = a - b\n",
    "            dis_matrix[i, j] = np.sqrt(np.sum(c*c))\n",
    "            dis_matrix[j, i] = dis_matrix[i, j]\n",
    "\n",
    "    return dis_matrix"
   ]
  },
  {
   "cell_type": "code",
   "execution_count": 4,
   "metadata": {},
   "outputs": [],
   "source": [
    "def load_TSP(path = \"datasets/eil51.txt\"):\n",
    "    with open(path, 'r') as f:\n",
    "        inputData = f.readlines()\n",
    "    \n",
    "    N = int(inputData[0].strip())\n",
    "    node_list=[]\n",
    "    for node in inputData[1:]:\n",
    "        #del '\\n' \n",
    "        node = node.strip()\n",
    "        #split by ' '\n",
    "        node = node.split(' ')\n",
    "        node_list.append((int(node[1]), int(node[2])))\n",
    "\n",
    "    dis_matrix = DistanceMatrix(node_list, N)\n",
    "    \n",
    "    return node_list, N, dis_matrix"
   ]
  },
  {
   "cell_type": "code",
   "execution_count": 5,
   "metadata": {},
   "outputs": [
    {
     "name": "stdout",
     "output_type": "stream",
     "text": [
      "[(37, 52), (49, 49), (52, 64), (20, 26), (40, 30), (21, 47), (17, 63), (31, 62), (52, 33), (51, 21), (42, 41), (31, 32), (5, 25), (12, 42), (36, 16), (52, 41), (27, 23), (17, 33), (13, 13), (57, 58), (62, 42), (42, 57), (16, 57), (8, 52), (7, 38), (27, 68), (30, 48), (43, 67), (58, 48), (58, 27), (37, 69), (38, 46), (46, 10), (61, 33), (62, 63), (63, 69), (32, 22), (45, 35), (59, 15), (5, 6), (10, 17), (21, 10), (5, 64), (30, 15), (39, 10), (32, 39), (25, 32), (25, 55), (48, 28), (56, 37), (30, 40)]\n",
      "51\n"
     ]
    }
   ],
   "source": [
    "node_list, num_cities, dis_matrix = load_TSP()\n",
    "print(node_list)\n",
    "print(num_cities)"
   ]
  },
  {
   "cell_type": "code",
   "execution_count": 6,
   "metadata": {},
   "outputs": [
    {
     "name": "stdout",
     "output_type": "stream",
     "text": [
      "6404180\n",
      "24\n",
      "[(825594, 382745), (1677009, 799601), (1676628, 909247), (1523970, 729069), (943972, 467902), (97426, 44328), (69666, 34610), (1296457, 698150), (1679693, 823460), (1902996, 903959), (1844992, 853665), (1049289, 551830), (1252836, 610856), (1319836, 670702), (953277, 488960), (2067538, 951111), (675367, 323046), (853655, 446298), (1826027, 931161), (65731, 31385), (901489, 496951), (577243, 264724), (466257, 224916), (369261, 169684)]\n"
     ]
    }
   ],
   "source": [
    "Capacity, N, item_list = load_KP()\n",
    "print(Capacity)\n",
    "print(N)\n",
    "print(item_list)"
   ]
  },
  {
   "cell_type": "code",
   "execution_count": 7,
   "metadata": {},
   "outputs": [],
   "source": [
    "D = num_cities - 1\n",
    "if D < N: D = N"
   ]
  },
  {
   "cell_type": "code",
   "execution_count": 8,
   "metadata": {},
   "outputs": [],
   "source": [
    "def decode_TSP(indiv, n = num_cities - 1):\n",
    "    decode = []\n",
    "    for i in range(n):\n",
    "        decode.append((i+1, indiv[i]))\n",
    "    decode.sort(key=lambda tup: tup[1], reverse=False)\n",
    "    sol = [i[0] for i in decode]\n",
    "    return np.array(sol)\n",
    "\n",
    "\n",
    "def decode_KP(indiv, n = N):\n",
    "    sol = []\n",
    "    for i in indiv[:n]:\n",
    "        if i < 0.5: sol.append(0)\n",
    "        else: sol.append(1)\n",
    "    return np.array(sol)\n"
   ]
  },
  {
   "cell_type": "code",
   "execution_count": 9,
   "metadata": {},
   "outputs": [
    {
     "data": {
      "text/plain": [
       "array([3, 1, 4, 2])"
      ]
     },
     "execution_count": 9,
     "metadata": {},
     "output_type": "execute_result"
    }
   ],
   "source": [
    "decode_TSP([0.4, 0.7, 0.2, 0.5], n = 4)"
   ]
  },
  {
   "cell_type": "code",
   "execution_count": 10,
   "metadata": {},
   "outputs": [
    {
     "data": {
      "text/plain": [
       "array([0, 1, 0, 1])"
      ]
     },
     "execution_count": 10,
     "metadata": {},
     "output_type": "execute_result"
    }
   ],
   "source": [
    "decode_KP([0.4, 0.7, 0.2, 0.5], n = 4)"
   ]
  },
  {
   "cell_type": "code",
   "execution_count": 11,
   "metadata": {},
   "outputs": [],
   "source": [
    "import math\n",
    "\n",
    "def cost_tsp(indiv):\n",
    "    n = len(indiv) - 1\n",
    "    cost = dis_matrix[0, indiv[0]]\n",
    "    for i in range(n):\n",
    "        cost += dis_matrix[indiv[i], indiv[i+1]]\n",
    "    cost += dis_matrix[indiv[n], 0]\n",
    "\n",
    "    return -cost\n",
    "\n",
    "def cost_kp(indiv, n = N):\n",
    "    cost = 0\n",
    "    weight_total = 0\n",
    "\n",
    "    for i in range(n):\n",
    "        cost += indiv[i]*item_list[i][0]\n",
    "        weight_total += indiv[i]*item_list[i][1]\n",
    " \n",
    "    if(weight_total > Capacity):\n",
    "        cost -= 100*(weight_total - Capacity)\n",
    "    return cost\n",
    "\n",
    "def Factorial_Cost(indiv, t):\n",
    "    if t == 0:\n",
    "        decode = decode_TSP(indiv)\n",
    "        return cost_tsp(decode)\n",
    "    elif t == 1:\n",
    "        decode = decode_KP(indiv)\n",
    "        return cost_kp(decode)\n",
    "    else:\n",
    "        return cost_tsp(decode_TSP(indiv)), cost_kp(decode_KP(indiv))"
   ]
  },
  {
   "cell_type": "code",
   "execution_count": 12,
   "metadata": {},
   "outputs": [],
   "source": [
    "mark_tsp = set()\n",
    "mark_kp = set()\n",
    "\n",
    "def check_generated(individual, t = 2):\n",
    "    res = False\n",
    "\n",
    "    if t == 0 or t == 2:\n",
    "        tsp = decode_TSP(individual)\n",
    "        hash_val = hash(tsp.tobytes())\n",
    "        pre_size = len(mark_tsp)\n",
    "        mark_tsp.add(hash_val)\n",
    "        if(pre_size == len(mark_tsp)): res = True\n",
    "\n",
    "    if t == 1 or t == 2:\n",
    "        kp = decode_KP(individual)\n",
    "        hash_val = hash(kp.tobytes())\n",
    "        pre_size = len(mark_kp)\n",
    "        mark_kp.add(hash_val)\n",
    "        if(pre_size == len(mark_kp)): res = True\n",
    "    \n",
    "    return res"
   ]
  },
  {
   "cell_type": "code",
   "execution_count": 13,
   "metadata": {},
   "outputs": [],
   "source": [
    "def GeneratorIndiv(dims=D):\n",
    "    \n",
    "    indiv = np.random.random_sample((dims, ))\n",
    "    while check_generated(indiv):\n",
    "        indiv = np.random.random_sample((dims, ))\n",
    "    \n",
    "    return indiv, Factorial_Cost(indiv, t=2)"
   ]
  },
  {
   "cell_type": "code",
   "execution_count": 14,
   "metadata": {},
   "outputs": [
    {
     "data": {
      "text/plain": [
       "(array([0.15384696, 0.54195449, 0.17071363, 0.94538879, 0.90298497,\n",
       "        0.45217341, 0.70269774, 0.82344707, 0.710465  , 0.15904023,\n",
       "        0.81420325, 0.72077392, 0.36412299, 0.1607664 , 0.72725848,\n",
       "        0.11857747, 0.84633543, 0.75464837, 0.28815226, 0.81228511,\n",
       "        0.16686087, 0.46616091, 0.48885031, 0.69892957, 0.00674476,\n",
       "        0.50467889, 0.62809619, 0.57811715, 0.88391202, 0.37477147,\n",
       "        0.59386952, 0.88736551, 0.540178  , 0.05039314, 0.92137886,\n",
       "        0.71283942, 0.34773443, 0.01948325, 0.6582682 , 0.78859436,\n",
       "        0.03579217, 0.57965543, 0.97650208, 0.06371956, 0.75285209,\n",
       "        0.45271957, 0.50436689, 0.28067134, 0.08121623, 0.93725622]),\n",
       " (-1677.8218927941898, 11654339))"
      ]
     },
     "execution_count": 14,
     "metadata": {},
     "output_type": "execute_result"
    }
   ],
   "source": [
    "GeneratorIndiv()"
   ]
  },
  {
   "cell_type": "code",
   "execution_count": 15,
   "metadata": {},
   "outputs": [],
   "source": [
    "def Generate_Eval(sizePop, d = D):\n",
    "    population = []\n",
    "    tsp_cost = []\n",
    "    kp_cost = []\n",
    "\n",
    "    for i in range(sizePop):\n",
    "        pi, fcosti = GeneratorIndiv()\n",
    "\n",
    "        #(pi, ti, fitnessi, fac_costi)\n",
    "        population.append([pi, -1, -1.0, -1.0])\n",
    "        tsp_cost.append((i, fcosti[0]))\n",
    "        kp_cost.append((i, fcosti[1]))\n",
    "    \n",
    "    tsp_cost.sort(key=lambda p: p[1], reverse = True)\n",
    "    kp_cost.sort(key=lambda p: p[1], reverse = True)\n",
    "\n",
    "    for i in range(sizePop):\n",
    "        #if fitness < 1/rank\n",
    "        if population[tsp_cost[i][0]][2] < 1/(i+1):\n",
    "            population[tsp_cost[i][0]][1] = int(0)\n",
    "            population[tsp_cost[i][0]][2] = 1/(i+1)\n",
    "            population[tsp_cost[i][0]][3] = tsp_cost[i][1]\n",
    "            \n",
    "        if population[kp_cost[i][0]][2] < 1/(i+1):\n",
    "            population[kp_cost[i][0]][1] = int(1)\n",
    "            population[kp_cost[i][0]][2] = 1/(i+1)\n",
    "            population[kp_cost[i][0]][3] = kp_cost[i][1]\n",
    "            \n",
    "\n",
    "    return population"
   ]
  },
  {
   "cell_type": "code",
   "execution_count": 16,
   "metadata": {},
   "outputs": [],
   "source": [
    "def chooseParents(pop):\n",
    "    n = len(pop)\n",
    "    index1 = np.random.randint(n)\n",
    "    while True:\n",
    "        index2 = np.random.randint(n)\n",
    "        if index1 != index2: break\n",
    "    index3 = np.random.randint(n)\n",
    "    while True:\n",
    "        index4 = np.random.randint(n)\n",
    "        if index3 != index4: break\n",
    "    \n",
    "    if pop[index1][2] > pop[index2][2]:\n",
    "        p1 = pop[index1]\n",
    "    else:\n",
    "        p1 = pop[index2]\n",
    "    \n",
    "    if pop[index3][2] > pop[index4][2]:\n",
    "        p2 = pop[index3]\n",
    "    else:\n",
    "        p2 = pop[index4]\n",
    "    \n",
    "    return p1, p2"
   ]
  },
  {
   "cell_type": "code",
   "execution_count": 17,
   "metadata": {},
   "outputs": [],
   "source": [
    "import math\n",
    "\n",
    "def cross_SBX(p1, p2, nc = 2):\n",
    "    u = np.random.random_sample()\n",
    "    if u < 0.5:\n",
    "        beta = math.pow(2*u, 1/(nc+1))\n",
    "    else:\n",
    "        beta = math.pow(0.5/(1-u), 1/(nc+1))\n",
    "\n",
    "    c1 = 0.5*((1+beta)*p1 + (1-beta)*p2)\n",
    "    c2 = 0.5*((1-beta)*p1 + (1+beta)*p2)\n",
    "\n",
    "    return c1, c2"
   ]
  },
  {
   "cell_type": "code",
   "execution_count": 18,
   "metadata": {},
   "outputs": [
    {
     "data": {
      "text/plain": [
       "(array([0.3843922 , 0.618173  , 0.49288814]),\n",
       " array([0.52585426, 0.667427  , 0.19489332]))"
      ]
     },
     "execution_count": 18,
     "metadata": {},
     "output_type": "execute_result"
    }
   ],
   "source": [
    "cross_SBX(np.array([0.3546, 0.6078, 0.55564646]), np.array([0.55564646,0.6778, 0.132135]))"
   ]
  },
  {
   "cell_type": "code",
   "execution_count": 19,
   "metadata": {},
   "outputs": [],
   "source": [
    "def mutation(individual, e = 0.15):\n",
    "    n = len(individual)\n",
    "    res = np.array(individual)\n",
    "\n",
    "    index1 = np.random.randint(n)\n",
    "    index2 = np.random.randint(n)\n",
    "    while index1 == index2:\n",
    "        index2 = np.random.randint(n)\n",
    "\n",
    "    res[index1] -= e\n",
    "    res[index2] += e\n",
    "\n",
    "    #res = np.array(individual) - np.random.uniform(-e, e, len(individual))\n",
    "\n",
    "    return res"
   ]
  },
  {
   "cell_type": "code",
   "execution_count": 20,
   "metadata": {},
   "outputs": [],
   "source": [
    "def update_fitness(pop):\n",
    "    task = [[], []]\n",
    "\n",
    "    for indiv in pop:\n",
    "        task[indiv[1]].append(indiv)\n",
    "    \n",
    "    task[0].sort(key=lambda p: p[3], reverse = True)\n",
    "    task[1].sort(key=lambda p: p[3], reverse = True)\n",
    "\n",
    "    for i in range(len(task[0])):\n",
    "        task[0][i][2] = 1/(i+1)\n",
    "    for i in range(len(task[1])):\n",
    "        task[1][i][2] = 1/(i+1)\n",
    "\n",
    "    return task[0] + task[1]"
   ]
  },
  {
   "cell_type": "code",
   "execution_count": 21,
   "metadata": {},
   "outputs": [],
   "source": [
    "import random\n",
    "\n",
    "def selection(pre_pop, offs_pop):\n",
    "    pop = pre_pop + offs_pop\n",
    "    pop = update_fitness(pop)\n",
    "    pop.sort(key=lambda indiv: indiv[2], reverse = True)\n",
    "    next_pop = pop[:len(pre_pop)]\n",
    "    #random.shuffle(next_pop)\n",
    "\n",
    "    return next_pop"
   ]
  },
  {
   "cell_type": "code",
   "execution_count": 22,
   "metadata": {},
   "outputs": [],
   "source": [
    "def GA(size_pop, num_gens, rmp):\n",
    "    population = Generate_Eval(sizePop=size_pop)\n",
    "    logg = []\n",
    "\n",
    "    t = 0\n",
    "    while t < num_gens:\n",
    "        offs_pop = []\n",
    "        n_offs = 0\n",
    "\n",
    "        while n_offs < size_pop:\n",
    "            p1, p2 = chooseParents(population)\n",
    "\n",
    "            if p1[1] == p2[1]:\n",
    "                c1, c2 = cross_SBX(p1[0], p2[0])\n",
    "                \n",
    "                if not check_generated(c1, t=p1[1]):\n",
    "                    offs_pop.append([c1, p1[1], -1, Factorial_Cost(c1, p1[1])])\n",
    "                    n_offs += 1\n",
    "                \n",
    "                if not check_generated(c2):\n",
    "                    offs_pop.append([c2, p1[1], -1, Factorial_Cost(c2, p1[1])])\n",
    "                    n_offs += 1\n",
    "            \n",
    "            elif np.random.random_sample() < rmp:\n",
    "                c1, c2 = cross_SBX(p1[0], p2[0])\n",
    "                \n",
    "                if not check_generated(c1, t=p1[1]) and np.random.random_sample() < 0.5:\n",
    "                    offs_pop.append([c1, p1[1], -1, Factorial_Cost(c1, p1[1])])\n",
    "                    n_offs += 1\n",
    "                else:\n",
    "                    offs_pop.append([c1, p2[1], -1, Factorial_Cost(c1, p2[1])])\n",
    "                    n_offs += 1\n",
    "        \n",
    "                if not check_generated(c2, t=p2[1]) and np.random.random_sample() < 0.5:\n",
    "                    offs_pop.append([c2, p1[1], -1, Factorial_Cost(c2, p1[1])])\n",
    "                    n_offs += 1\n",
    "                else:\n",
    "                    offs_pop.append([c2, p2[1], -1, Factorial_Cost(c2, p2[1])])\n",
    "                    n_offs += 1\n",
    "            \n",
    "            else:\n",
    "                c1 = mutation(p1[0])\n",
    "                if not check_generated(c1, t=p1[1]):\n",
    "                    offs_pop.append([c1, p1[1], -1, Factorial_Cost(c1, p1[1])])\n",
    "                    n_offs += 1\n",
    "\n",
    "                c2 = mutation(p2[0])\n",
    "                if not check_generated(c2, t=p2[1]):\n",
    "                    offs_pop.append([c2, p2[1], -1, Factorial_Cost(c2, p2[1])])\n",
    "                    n_offs += 1\n",
    "\n",
    "        population = selection(population, offs_pop)\n",
    "        best = [0, 0]\n",
    "        \n",
    "        if population[1][2] == 1.0:\n",
    "            best[population[0][1]] = population[0][0]\n",
    "            best[population[1][1]] = population[1][0]\n",
    "        else:\n",
    "            best[0] = population[0][0]\n",
    "            best[1] = population[0][0]\n",
    "        \n",
    "        logg.append([t, best])\n",
    "        random.shuffle(population)\n",
    "        t += 1\n",
    "    \n",
    "    return logg"
   ]
  },
  {
   "cell_type": "code",
   "execution_count": 23,
   "metadata": {},
   "outputs": [],
   "source": [
    "def show(his):\n",
    "    input = np.array(his, dtype=object)\n",
    "    x = input[:, 0]\n",
    "    res = np.array(input[:, 1])\n",
    "    res_tsp = []\n",
    "    res_kp = []\n",
    "    for indivs in res:\n",
    "        res_tsp.append(-Factorial_Cost(indivs[0], 0))\n",
    "        res_kp.append(Factorial_Cost(indivs[1], 1))\n",
    "    res_tsp = np.array(res_tsp)\n",
    "    res_kp = np.array(res_kp)\n",
    "\n",
    "    plt.figure(figsize=(20, 7))\n",
    "\n",
    "    plt.subplot(1, 2, 1)\n",
    "    plt.plot(x, res_tsp)\n",
    "    plt.title('TSP: best = '+ str(res_tsp[-1]))\n",
    "\n",
    "    plt.subplot(1, 2, 2)\n",
    "    plt.plot(x, res_kp)\n",
    "    plt.title('KPbest = '+ str(res_kp[-1]))\n",
    "\n",
    "    plt.show()"
   ]
  },
  {
   "cell_type": "code",
   "execution_count": 27,
   "metadata": {},
   "outputs": [
    {
     "data": {
      "image/png": "[encoded data removed]",
      "text/plain": [
       "<Figure size 1440x504 with 2 Axes>"
      ]
     },
     "metadata": {
      "needs_background": "light"
     },
     "output_type": "display_data"
    }
   ],
   "source": [
    "history = GA(40, 2000, 0.3)\n",
    "show(history)"
   ]
  },
  {
   "cell_type": "code",
   "execution_count": 25,
   "metadata": {},
   "outputs": [],
   "source": [
    "#op_eil51 = 426\n",
    "#op_kp24 = 13.549.094"
   ]
  }
 ],
 "metadata": {
  "interpreter": {
   "hash": "b0fdbd91fa1014f333c33329988a7a04d464deba86e034a82d46dbd46f2ee1d2"
  },
  "kernelspec": {
   "display_name": "Python 3",
   "language": "python",
   "name": "python3"
  },
  "language_info": {
   "codemirror_mode": {
    "name": "ipython",
    "version": 3
   },
   "file_extension": ".py",
   "mimetype": "text/x-python",
   "name": "python",
   "nbconvert_exporter": "python",
   "pygments_lexer": "ipython3",
   "version": "3.8.8"
  }
 },
 "nbformat": 4,
 "nbformat_minor": 2
}
