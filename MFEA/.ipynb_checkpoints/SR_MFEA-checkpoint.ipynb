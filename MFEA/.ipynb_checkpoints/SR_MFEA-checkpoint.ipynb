{
 "cells": [
  {
   "cell_type": "code",
   "execution_count": 1,
   "id": "153da417",
   "metadata": {},
   "outputs": [],
   "source": [
    "import numpy as np\n",
    "import matplotlib.pyplot as plt\n",
    "import pandas as pd"
   ]
  },
  {
   "cell_type": "code",
   "execution_count": 2,
   "id": "512c8338",
   "metadata": {},
   "outputs": [],
   "source": [
    "np.random.seed(0)"
   ]
  },
  {
   "cell_type": "code",
   "execution_count": 3,
   "id": "c66514ac",
   "metadata": {},
   "outputs": [],
   "source": [
    "def distanceMatrix(nodes,N):\n",
    "    dim = N + 1\n",
    "    dis = np.zeros([dim,dim])\n",
    "    for i in range(1,dim):\n",
    "        for j in range(i+1,dim):\n",
    "            a = np.array(nodes[i-1])\n",
    "            b = np.array(nodes[j-1])\n",
    "            c = np.sum((a-b)**2)\n",
    "            c = np.sqrt(c)\n",
    "            dis[i,j] = c\n",
    "            dis[j,i] = c\n",
    "    return dis"
   ]
  },
  {
   "cell_type": "code",
   "execution_count": 4,
   "id": "81bc6993",
   "metadata": {},
   "outputs": [],
   "source": [
    "def load_TSP(path='datasets/eil51.txt'):\n",
    "    with open(path, 'r') as f: \n",
    "        inputData = f.readlines()\n",
    "    N = int(inputData[0].strip())\n",
    "    nodes = []\n",
    "    for line in inputData[1:]:\n",
    "        line = line.strip()\n",
    "        line = line.split(' ')\n",
    "        nodes.append([int(line[1]),int(line[2])])\n",
    "    dis = distanceMatrix(nodes,N)\n",
    "    return N,nodes,dis"
   ]
  },
  {
   "cell_type": "code",
   "execution_count": 5,
   "id": "afde2e25",
   "metadata": {},
   "outputs": [],
   "source": [
    "dataPath = ['eil51.txt','att48.txt','eil76.txt','st70.txt']"
   ]
  },
  {
   "cell_type": "code",
   "execution_count": 6,
   "id": "115acab4",
   "metadata": {},
   "outputs": [],
   "source": [
    "data_info = []\n",
    "maxDim = 0\n",
    "for x in dataPath:\n",
    "    N,nodes,dis = load_TSP('datasets/'+ x)\n",
    "    if(N> maxDim):\n",
    "        maxDim = N\n",
    "    data_info.append([N,nodes,dis])"
   ]
  },
  {
   "cell_type": "code",
   "execution_count": 7,
   "id": "0e50f1d0",
   "metadata": {},
   "outputs": [],
   "source": [
    "def decodeTSP(individual, n = maxDim):\n",
    "    return np.array(np.argsort(individual[:n])+1)"
   ]
  },
  {
   "cell_type": "code",
   "execution_count": 8,
   "id": "f0a1b70a",
   "metadata": {},
   "outputs": [],
   "source": [
    "def f_cost_TSP(individual,dis_TSP ,n = maxDim):\n",
    "    cost = 0\n",
    "    for i in range(n-1):\n",
    "#         print(i,i+1)\n",
    "        cost += dis_TSP[individual[i],individual[i+1]]\n",
    "    cost += dis_TSP[individual[n-1],individual[0]]\n",
    "    return cost"
   ]
  },
  {
   "cell_type": "code",
   "execution_count": 9,
   "id": "af3ac788",
   "metadata": {},
   "outputs": [],
   "source": [
    "def Factorial_Cost(indiv,dims,dis_TSP):\n",
    "    decode = decodeTSP(indiv,n=dims)\n",
    "    return f_cost_TSP(decode,dis_TSP,n=dims)"
   ]
  },
  {
   "cell_type": "code",
   "execution_count": 10,
   "id": "18b158ea",
   "metadata": {},
   "outputs": [],
   "source": [
    "def GeneratorIndiv(dims=maxDim):\n",
    "    indiv = np.random.random_sample((dims, ))\n",
    "    f_cost = []\n",
    "    for i in range(len(data_info)):\n",
    "        N,_,dis = data_info[i]\n",
    "        cost = Factorial_Cost(indiv,N,dis)\n",
    "        f_cost.append(cost)\n",
    "    return indiv, f_cost"
   ]
  },
  {
   "cell_type": "code",
   "execution_count": 39,
   "id": "65e59695",
   "metadata": {},
   "outputs": [],
   "source": [
    "def Generate_Eval(sizePop, d = maxDim):\n",
    "    population = []\n",
    "    pop_cost = []\n",
    "    for i in range(sizePop):\n",
    "        pi, f_cost = GeneratorIndiv()\n",
    "        population.append(pi)\n",
    "        pop_cost.append(f_cost)\n",
    "    population,pop_cost = np.asarray(population),np.asarray(pop_cost)\n",
    "    rank = np.argsort(-pop_cost,axis = 0) + 1\n",
    "#     skill_factor = np.argmin(rank,axis = 1)+1\n",
    "#     fitness = 1/np.min(rank,axis = 1) \n",
    "#     return population,pop_cost,rank,skill_factor,fitness\n",
    "    return population,pop_cost,rank"
   ]
  },
  {
   "cell_type": "code",
   "execution_count": 40,
   "id": "7f406d13",
   "metadata": {},
   "outputs": [],
   "source": [
    "n = 50\n",
    "k = len(data_info)\n",
    "m = int(n/k)\n",
    "population,pop_cost,rank = Generate_Eval(n)"
   ]
  },
  {
   "cell_type": "code",
   "execution_count": 41,
   "id": "e135f379",
   "metadata": {},
   "outputs": [],
   "source": [
    "def heSo(n,m,TH=0.4):\n",
    "    # a1 + b1 = 1\n",
    "    # a1*m+b1 = TH\n",
    "    # a2*m + b2= TH\n",
    "    # a2*n + b2 = 0\n",
    "    a1 = (1-TH)/(1-m)\n",
    "    b1 = 1 - a1\n",
    "    a2 = TH/(m-n)\n",
    "    b2 = (TH-a2*m)\n",
    "    return a1,b1,a2,b2"
   ]
  },
  {
   "cell_type": "code",
   "execution_count": 42,
   "id": "7253ae3a",
   "metadata": {},
   "outputs": [],
   "source": [
    "def fm(a1,b1,a2,b2,n,m,r,TH=0.4):\n",
    "    if r >=1 and r <m:\n",
    "        return a1*r+b1\n",
    "    elif r ==m:\n",
    "        return TH\n",
    "    elif r >= m+1:\n",
    "        return a2*r+b2"
   ]
  },
  {
   "cell_type": "code",
   "execution_count": 43,
   "id": "0a5e56a3",
   "metadata": {},
   "outputs": [],
   "source": [
    "def abilitiVector(rank,TH):\n",
    "    a1,b1,a2,b2 = heSo(n,m,TH)\n",
    "    abiVector =[]\n",
    "    for x in range(len(rank)):\n",
    "        df =[]\n",
    "        for item in rank[x]:\n",
    "            df.append(fm(a1,b1,a2,b2,n,m,item,TH))\n",
    "        abiVector.append(df)\n",
    "    return np.array(abiVector)"
   ]
  },
  {
   "cell_type": "code",
   "execution_count": 47,
   "id": "dccb30b4",
   "metadata": {},
   "outputs": [],
   "source": [
    "import math\n",
    "\n",
    "def cross_SBX(p1, p2, nc = 2):\n",
    "    u = np.random.random_sample()\n",
    "    if u < 0.5:\n",
    "        beta = math.pow(2*u, 1/(nc+1))\n",
    "    else:\n",
    "        beta = math.pow(0.5/(1-u), 1/(nc+1))\n",
    "\n",
    "    c1 = 0.5*((1+beta)*p1 + (1-beta)*p2)\n",
    "    c2 = 0.5*((1-beta)*p1 + (1+beta)*p2)\n",
    "\n",
    "    return c1, c2"
   ]
  },
  {
   "cell_type": "code",
   "execution_count": 51,
   "id": "c0874bbb",
   "metadata": {},
   "outputs": [],
   "source": [
    "def Diff_Mutation(y1,y2,y3,y4):\n",
    "    F = np.random.random_sample()\n",
    "    return y1 + F * (y4 - y1 + y2 - y3)"
   ]
  },
  {
   "cell_type": "code",
   "execution_count": 82,
   "id": "3cae3216",
   "metadata": {},
   "outputs": [],
   "source": [
    "def Poly_Mutation(p,nm = 20):\n",
    "    u = np.random.random_sample()\n",
    "    if u <= 0.5:\n",
    "        phi = np.power(2*u,1/(nm+1)) -1\n",
    "        return p + phi*p\n",
    "    else:\n",
    "        phi = 1 - np.power(2-2*u,1/(nm+1))\n",
    "        return p + phi*(1-p)"
   ]
  },
  {
   "cell_type": "code",
   "execution_count": 99,
   "id": "285e29d9",
   "metadata": {},
   "outputs": [],
   "source": [
    "def Offspring_Generation(pop,abiVector,task,Pa,Pb,m):\n",
    "    n = pop.shape[0]\n",
    "    x_star = pop[abiVector[:,task].argmax()]\n",
    "    offs_gen = []\n",
    "    abi_gen = []\n",
    "    for indiv in range(int(m/2)):\n",
    "        index1 = np.random.randint(n)\n",
    "        while True:\n",
    "            index2 = np.random.randint(n)\n",
    "            if index1 != index2: break\n",
    "        p1,p2 = pop[index1],pop[index2]\n",
    "        if np.random.random_sample() < Pa:\n",
    "            c1,c2 = cross_SBX(p1,p2)\n",
    "            if np.random.random_sample() < Pb:\n",
    "                c1 = Diff_Mutation(c1,p1,p2,x_star)\n",
    "                c2 = Diff_Mutation(c2,p2,p1,x_star)\n",
    "        else:\n",
    "            c1 = Poly_Mutation(p1)\n",
    "            c2 = Poly_Mutation(p2)\n",
    "        if np.random.random_sample() <= 0.5:\n",
    "            a1 = abiVector[index1]\n",
    "            a2 = abiVector[index2]\n",
    "        else:\n",
    "            a1 = abiVector[index2]\n",
    "            a2 = abiVector[index1]\n",
    "        \n",
    "        offs_gen.append(c1)\n",
    "        offs_gen.append(c2)\n",
    "        abi_gen.append(a1)\n",
    "        abi_gen.append(a2)\n",
    "    return np.array(offs_gen), np.array(abi_gen) "
   ]
  },
  {
   "cell_type": "code",
   "execution_count": 112,
   "id": "aa813b9c",
   "metadata": {},
   "outputs": [],
   "source": [
    "MAX = np.iinfo(np.int64).max"
   ]
  },
  {
   "cell_type": "code",
   "execution_count": 123,
   "id": "267e690e",
   "metadata": {},
   "outputs": [],
   "source": [
    "def Select_Eval(offs_gen,abi_gen,task,k):\n",
    "    size_gen = offs_gen.shape[0]\n",
    "    tmp = np.arange(size_gen)\n",
    "    random.shuffle(tmp)\n",
    "    \n",
    "    new_gen = []\n",
    "    new_fc = []\n",
    "    for x in tmp:\n",
    "        indiv = offs_gen[x]\n",
    "        abi_x = abi_gen[x]\n",
    "        fc = []\n",
    "        for js in range(k):\n",
    "            if js == task or np.random.random_sample() <= abi_x[js]:\n",
    "                N,_,dis = data_info[js]\n",
    "                cost = Factorial_Cost(indiv,N,dis)\n",
    "            else:\n",
    "                cost = MAX\n",
    "            fc.append(cost)\n",
    "        new_fc.append(fc)\n",
    "        new_gen.append(indiv)\n",
    "    return np.array(new_gen),np.array(new_fc)"
   ]
  },
  {
   "cell_type": "code",
   "execution_count": 189,
   "id": "3d0560ff",
   "metadata": {},
   "outputs": [],
   "source": [
    "def updateAbility(pop_cost,TH):\n",
    "    rank = np.argsort(-pop_cost,axis = 0) + 1\n",
    "    abiVector = abilitiVector(rank,TH)\n",
    "    return abiVector"
   ]
  },
  {
   "cell_type": "code",
   "execution_count": 213,
   "id": "4453cddb",
   "metadata": {},
   "outputs": [],
   "source": [
    "from tqdm import tqdm"
   ]
  },
  {
   "cell_type": "code",
   "execution_count": 222,
   "id": "bc126b6d",
   "metadata": {},
   "outputs": [],
   "source": [
    "def SREMTO(n,TH,Pa,Pb,epochs=2000):\n",
    "    population,pop_cost,rank = Generate_Eval(n)\n",
    "    k = len(data_info)\n",
    "    m = int(n/k)\n",
    "    abiVector = abilitiVector(rank,TH)\n",
    "    \n",
    "    log = []\n",
    "    for epoch in tqdm(range(epochs)):\n",
    "        for task in range(k):\n",
    "            index = abiVector[:,task].argsort()[-m:]\n",
    "            group = [population[index],pop_cost[index],rank[index],abiVector[index]]\n",
    "            \n",
    "            offs_gen,abi_gen = Offspring_Generation(group[0],group[3],task,Pa,Pb,m)\n",
    "            \n",
    "            new_gen,new_fc = Select_Eval(offs_gen,abi_gen,task,k)\n",
    "            \n",
    "            population = np.concatenate((population,new_gen),axis=0)\n",
    "            pop_cost = np.concatenate((pop_cost,new_fc),axis=0)\n",
    "        \n",
    "        #update\n",
    "        tmp_pop = []\n",
    "        tmp_cost = []\n",
    "        for task in range(k):\n",
    "            index = pop_cost[:,task].argsort()[:m]\n",
    "            tmp_pop.append(population[index])\n",
    "            tmp_cost.append(pop_cost[index])\n",
    "        population = np.concatenate(tmp_pop)\n",
    "        pop_cost = np.concatenate(tmp_cost)\n",
    "        abiVector = updateAbility(pop_cost,TH)\n",
    "        \n",
    "        best = []\n",
    "        for task in range(k):\n",
    "            index = pop_cost[:,task].argmin()\n",
    "            indiv = population[index]\n",
    "            N,_,dis = data_info[task]\n",
    "            cost = Factorial_Cost(indiv,N,dis)\n",
    "            best.append(cost)\n",
    "        log.append(best)\n",
    "    return np.array(log)"
   ]
  },
  {
   "cell_type": "code",
   "execution_count": 223,
   "id": "e3d192ad",
   "metadata": {},
   "outputs": [
    {
     "name": "stderr",
     "output_type": "stream",
     "text": [
      "100%|██████████| 2000/2000 [00:29<00:00, 66.69it/s]\n"
     ]
    }
   ],
   "source": [
    "log = SREMTO(200,0.4,0.6,0.6)"
   ]
  },
  {
   "cell_type": "code",
   "execution_count": 230,
   "id": "1c509914",
   "metadata": {},
   "outputs": [],
   "source": [
    "def show(log):\n",
    "    plt.figure(figsize=(20, 15))\n",
    "    for i in range(k):\n",
    "        plt.subplot(2,2,i+1)\n",
    "        best = log[:,i].min()\n",
    "        plt.plot(log[:,i])\n",
    "        plt.title('TSP best: {best}'.format(best=best))\n",
    "\n",
    "    plt.show()"
   ]
  },
  {
   "cell_type": "code",
   "execution_count": 231,
   "id": "8a975bde",
   "metadata": {},
   "outputs": [
    {
     "data": {
      "image/png": "[encoded data removed]",
      "text/plain": [
       "<Figure size 1440x1080 with 4 Axes>"
      ]
     },
     "metadata": {
      "needs_background": "light"
     },
     "output_type": "display_data"
    }
   ],
   "source": [
    "show(log)"
   ]
  },
  {
   "cell_type": "code",
   "execution_count": null,
   "id": "1e91fd72",
   "metadata": {},
   "outputs": [],
   "source": []
  },
  {
   "cell_type": "code",
   "execution_count": null,
   "id": "b30c30a2",
   "metadata": {},
   "outputs": [],
   "source": []
  }
 ],
 "metadata": {
  "kernelspec": {
   "display_name": "Python 3",
   "language": "python",
   "name": "python3"
  },
  "language_info": {
   "codemirror_mode": {
    "name": "ipython",
    "version": 3
   },
   "file_extension": ".py",
   "mimetype": "text/x-python",
   "name": "python",
   "nbconvert_exporter": "python",
   "pygments_lexer": "ipython3",
   "version": "3.8.8"
  }
 },
 "nbformat": 4,
 "nbformat_minor": 5
}
