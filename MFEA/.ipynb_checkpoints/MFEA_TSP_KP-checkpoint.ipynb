{
 "cells": [
  {
   "cell_type": "code",
   "execution_count": 62,
   "metadata": {},
   "outputs": [],
   "source": [
    "import numpy as np\n",
    "import matplotlib.pyplot as plt"
   ]
  },
  {
   "cell_type": "code",
   "execution_count": 63,
   "metadata": {},
   "outputs": [],
   "source": [
    "def load_KP(path = \"datasets/KP24.txt\"):\n",
    "    with open(path, 'r') as f:\n",
    "        inputData = f.readlines()\n",
    "    \n",
    "    Capacity = int(inputData[0].strip())\n",
    "    N = int(inputData[1].strip())\n",
    "    item_list=[]\n",
    "    for item in inputData[2:]:\n",
    "        #del '\\n' \n",
    "        item = item.strip()\n",
    "        #split by ' '\n",
    "        item = item.split(' ')\n",
    "        #(p, w)\n",
    "        item_list.append((int(item[0]), int(item[1])))\n",
    "\n",
    "    return Capacity, N, item_list"
   ]
  },
  {
   "cell_type": "code",
   "execution_count": 64,
   "metadata": {},
   "outputs": [],
   "source": [
    "def DistanceMatrix(cities, n):\n",
    "    dis_matrix = np.zeros([n,n])\n",
    "\n",
    "    for i in range(n):\n",
    "        for j in range(i+1, n):\n",
    "            a = np.array(cities[i])\n",
    "            b = np.array(cities[j])\n",
    "            c = a - b\n",
    "            dis_matrix[i, j] = np.sqrt(np.sum(c*c))\n",
    "            dis_matrix[j, i] = dis_matrix[i, j]\n",
    "\n",
    "    return dis_matrix"
   ]
  },
  {
   "cell_type": "code",
   "execution_count": 65,
   "metadata": {},
   "outputs": [],
   "source": [
    "def load_TSP(path = \"datasets/eil51.txt\"):\n",
    "    with open(path, 'r') as f:\n",
    "        inputData = f.readlines()\n",
    "    \n",
    "    N = int(inputData[0].strip())\n",
    "    node_list=[]\n",
    "    for node in inputData[1:]:\n",
    "        #del '\\n' \n",
    "        node = node.strip()\n",
    "        #split by ' '\n",
    "        node = node.split(' ')\n",
    "        node_list.append((int(node[1]), int(node[2])))\n",
    "\n",
    "    dis_matrix = DistanceMatrix(node_list, N)\n",
    "    \n",
    "    return node_list, N, dis_matrix"
   ]
  },
  {
   "cell_type": "code",
   "execution_count": 66,
   "metadata": {},
   "outputs": [
    {
     "name": "stdout",
     "output_type": "stream",
     "text": [
      "[(37, 52), (49, 49), (52, 64), (20, 26), (40, 30), (21, 47), (17, 63), (31, 62), (52, 33), (51, 21), (42, 41), (31, 32), (5, 25), (12, 42), (36, 16), (52, 41), (27, 23), (17, 33), (13, 13), (57, 58), (62, 42), (42, 57), (16, 57), (8, 52), (7, 38), (27, 68), (30, 48), (43, 67), (58, 48), (58, 27), (37, 69), (38, 46), (46, 10), (61, 33), (62, 63), (63, 69), (32, 22), (45, 35), (59, 15), (5, 6), (10, 17), (21, 10), (5, 64), (30, 15), (39, 10), (32, 39), (25, 32), (25, 55), (48, 28), (56, 37), (30, 40)]\n",
      "51\n"
     ]
    }
   ],
   "source": [
    "node_list, num_cities, dis_matrix = load_TSP()\n",
    "print(node_list)\n",
    "print(num_cities)"
   ]
  },
  {
   "cell_type": "code",
   "execution_count": 67,
   "metadata": {},
   "outputs": [
    {
     "name": "stdout",
     "output_type": "stream",
     "text": [
      "6404180\n",
      "24\n",
      "[(825594, 382745), (1677009, 799601), (1676628, 909247), (1523970, 729069), (943972, 467902), (97426, 44328), (69666, 34610), (1296457, 698150), (1679693, 823460), (1902996, 903959), (1844992, 853665), (1049289, 551830), (1252836, 610856), (1319836, 670702), (953277, 488960), (2067538, 951111), (675367, 323046), (853655, 446298), (1826027, 931161), (65731, 31385), (901489, 496951), (577243, 264724), (466257, 224916), (369261, 169684)]\n"
     ]
    }
   ],
   "source": [
    "Capacity, N, item_list = load_KP()\n",
    "print(Capacity)\n",
    "print(N)\n",
    "print(item_list)"
   ]
  },
  {
   "cell_type": "code",
   "execution_count": 68,
   "metadata": {},
   "outputs": [],
   "source": [
    "D = num_cities - 1\n",
    "if D < N: D = N"
   ]
  },
  {
   "cell_type": "code",
   "execution_count": 69,
   "metadata": {},
   "outputs": [],
   "source": [
    "def decode_TSP(indiv, n = num_cities - 1):\n",
    "    decode = []\n",
    "    for i in range(n):\n",
    "        decode.append((i+1, indiv[i]))\n",
    "    decode.sort(key=lambda tup: tup[1], reverse=False)\n",
    "    sol = [i[0] for i in decode]\n",
    "    return np.array(sol)\n",
    "\n",
    "\n",
    "def decode_KP(indiv, n = N):\n",
    "    sol = []\n",
    "    for i in indiv[:n]:\n",
    "        if i < 0.5: sol.append(0)\n",
    "        else: sol.append(1)\n",
    "    return np.array(sol)\n"
   ]
  },
  {
   "cell_type": "code",
   "execution_count": 70,
   "metadata": {},
   "outputs": [
    {
     "data": {
      "text/plain": [
       "[3, 1, 4, 2]"
      ]
     },
     "execution_count": 70,
     "metadata": {},
     "output_type": "execute_result"
    }
   ],
   "source": [
    "list(decode_TSP([0.4, 0.7, 0.2, 0.5], n = 4))"
   ]
  },
  {
   "cell_type": "code",
   "execution_count": 71,
   "metadata": {},
   "outputs": [
    {
     "data": {
      "text/plain": [
       "array([0, 1, 0, 1])"
      ]
     },
     "execution_count": 71,
     "metadata": {},
     "output_type": "execute_result"
    }
   ],
   "source": [
    "decode_KP([0.4, 0.7, 0.2, 0.5], n = 4)"
   ]
  },
  {
   "cell_type": "code",
   "execution_count": 72,
   "metadata": {},
   "outputs": [],
   "source": [
    "import math\n",
    "\n",
    "def cost_tsp(indiv):\n",
    "    n = len(indiv) - 1\n",
    "    cost = dis_matrix[0, indiv[0]]\n",
    "    for i in range(n):\n",
    "        cost += dis_matrix[indiv[i], indiv[i+1]]\n",
    "    cost += dis_matrix[indiv[n], 0]\n",
    "\n",
    "    return -cost\n",
    "\n",
    "def cost_kp(indiv, n = N):\n",
    "    cost = 0\n",
    "    weight_total = 0\n",
    "\n",
    "    for i in range(n):\n",
    "        cost += indiv[i]*item_list[i][0]\n",
    "        weight_total += indiv[i]*item_list[i][1]\n",
    " \n",
    "    if(weight_total > Capacity):\n",
    "        cost -= 100*(weight_total - Capacity)\n",
    "    return cost\n",
    "\n",
    "def Factorial_Cost(indiv, t):\n",
    "    if t == 0:\n",
    "        decode = decode_TSP(indiv)\n",
    "        return cost_tsp(decode)\n",
    "    elif t == 1:\n",
    "        decode = decode_KP(indiv)\n",
    "        return cost_kp(decode)\n",
    "    else:\n",
    "        return cost_tsp(decode_TSP(indiv)), cost_kp(decode_KP(indiv))"
   ]
  },
  {
   "cell_type": "code",
   "execution_count": 73,
   "metadata": {},
   "outputs": [],
   "source": [
    "def GeneratorIndiv(dims=D):\n",
    "    \n",
    "    indiv = np.random.random_sample((dims, ))\n",
    "    \n",
    "    return indiv, Factorial_Cost(indiv, t=2)"
   ]
  },
  {
   "cell_type": "code",
   "execution_count": 74,
   "metadata": {},
   "outputs": [
    {
     "data": {
      "text/plain": [
       "(array([0.84215462, 0.80011555, 0.12768423, 0.87335703, 0.1091535 ,\n",
       "        0.10335431, 0.7714011 , 0.94490529, 0.7103116 , 0.43518509,\n",
       "        0.84470383, 0.85090801, 0.28222712, 0.33756161, 0.00749456,\n",
       "        0.89838032, 0.02121698, 0.74349181, 0.16104205, 0.46131965,\n",
       "        0.4797049 , 0.22975486, 0.23398791, 0.706462  , 0.73280841,\n",
       "        0.51806927, 0.66619822, 0.46291052, 0.89708263, 0.98412767,\n",
       "        0.26171015, 0.76346576, 0.34586676, 0.72481925, 0.97080613,\n",
       "        0.13407588, 0.79439767, 0.61595853, 0.81634086, 0.60976626,\n",
       "        0.34181694, 0.43130872, 0.5878194 , 0.71683366, 0.9332836 ,\n",
       "        0.58873254, 0.97672818, 0.02078176, 0.72431758, 0.00853986]),\n",
       " (-1598.0470446605386, 9652824))"
      ]
     },
     "execution_count": 74,
     "metadata": {},
     "output_type": "execute_result"
    }
   ],
   "source": [
    "GeneratorIndiv()"
   ]
  },
  {
   "cell_type": "code",
   "execution_count": 75,
   "metadata": {},
   "outputs": [],
   "source": [
    "def Generate_Eval(sizePop, d = D):\n",
    "    population = []\n",
    "    tsp_cost = []\n",
    "    kp_cost = []\n",
    "\n",
    "    for i in range(sizePop):\n",
    "        pi, fcosti = GeneratorIndiv()\n",
    "        #(pi, ti, fitnessi, fac_costi)\n",
    "        population.append([pi, -1, -1.0, -1.0])\n",
    "        tsp_cost.append((i, fcosti[0]))\n",
    "        kp_cost.append((i, fcosti[1]))\n",
    "    \n",
    "    tsp_cost.sort(key=lambda p: p[1], reverse = True)\n",
    "    kp_cost.sort(key=lambda p: p[1], reverse = True)\n",
    "\n",
    "    for i in range(sizePop):\n",
    "        #if fitness < 1/rank\n",
    "        if population[tsp_cost[i][0]][2] < 1/(i+1):\n",
    "            population[tsp_cost[i][0]][1] = int(0)\n",
    "            population[tsp_cost[i][0]][2] = 1/(i+1)\n",
    "            population[tsp_cost[i][0]][3] = tsp_cost[i][1]\n",
    "            \n",
    "        if population[kp_cost[i][0]][2] < 1/(i+1):\n",
    "            population[kp_cost[i][0]][1] = int(1)\n",
    "            population[kp_cost[i][0]][2] = 1/(i+1)\n",
    "            population[kp_cost[i][0]][3] = tsp_cost[i][1]\n",
    "            \n",
    "\n",
    "    return population"
   ]
  },
  {
   "cell_type": "code",
   "execution_count": 76,
   "metadata": {},
   "outputs": [
    {
     "data": {
      "text/plain": [
       "[[array([0.37794898, 0.66116975, 0.54456191, 0.09815085, 0.86947792,\n",
       "         0.25563616, 0.67161839, 0.38631259, 0.34389026, 0.78446594,\n",
       "         0.05179668, 0.41002877, 0.94317814, 0.34305146, 0.39928429,\n",
       "         0.10673168, 0.62921032, 0.15078474, 0.50713343, 0.63445721,\n",
       "         0.84962515, 0.66755569, 0.03030545, 0.68463728, 0.58402007,\n",
       "         0.72141104, 0.03926957, 0.28520081, 0.69572222, 0.84751718,\n",
       "         0.0048068 , 0.21446599, 0.24323446, 0.90471806, 0.48728332,\n",
       "         0.19236674, 0.88821962, 0.60566007, 0.55508193, 0.59080263,\n",
       "         0.86665482, 0.90490627, 0.5719478 , 0.7389042 , 0.36202761,\n",
       "         0.38326153, 0.05013505, 0.58589072, 0.64850268, 0.30402601]),\n",
       "  1,\n",
       "  1.0,\n",
       "  -1508.3994600636327],\n",
       " [array([0.87640919, 0.2542618 , 0.68999579, 0.95283963, 0.48730025,\n",
       "         0.93457513, 0.77421219, 0.61081352, 0.13660514, 0.25535226,\n",
       "         0.03285976, 0.22074008, 0.54358028, 0.69369912, 0.18616771,\n",
       "         0.34841549, 0.79718974, 0.58783387, 0.42637217, 0.40387869,\n",
       "         0.9916063 , 0.48053286, 0.15455198, 0.25913771, 0.21309264,\n",
       "         0.25563591, 0.4528978 , 0.98306198, 0.42126332, 0.29866022,\n",
       "         0.01755431, 0.05193609, 0.0738344 , 0.18846227, 0.6211471 ,\n",
       "         0.51144936, 0.0338241 , 0.50633072, 0.8608402 , 0.33671802,\n",
       "         0.95049464, 0.84882467, 0.69922762, 0.97609122, 0.57896912,\n",
       "         0.60279699, 0.33261943, 0.93473685, 0.04093032, 0.1810766 ]),\n",
       "  0,\n",
       "  1.0,\n",
       "  -1508.3994600636327]]"
      ]
     },
     "execution_count": 76,
     "metadata": {},
     "output_type": "execute_result"
    }
   ],
   "source": [
    "Generate_Eval(2)"
   ]
  },
  {
   "cell_type": "code",
   "execution_count": 77,
   "metadata": {},
   "outputs": [],
   "source": [
    "def chooseParents(pop):\n",
    "    n = len(pop)\n",
    "    index1 = np.random.randint(n)\n",
    "    while True:\n",
    "        index2 = np.random.randint(n)\n",
    "        if index1 == index2: break\n",
    "    index3 = np.random.randint(n)\n",
    "    while True:\n",
    "        index4 = np.random.randint(n)\n",
    "        if index3 == index4: break\n",
    "    \n",
    "    if pop[index1][2] > pop[index2][2]:\n",
    "        p1 = pop[index1]\n",
    "    else:\n",
    "        p1 = pop[index2]\n",
    "    \n",
    "    if pop[index3][2] > pop[index4][2]:\n",
    "        p2 = pop[index3]\n",
    "    else:\n",
    "        p2 = pop[index4]\n",
    "    \n",
    "    return p1, p2"
   ]
  },
  {
   "cell_type": "code",
   "execution_count": 78,
   "metadata": {},
   "outputs": [
    {
     "data": {
      "text/plain": [
       "([array([0.42167115, 0.98973364, 0.27487263, 0.8956068 , 0.18505624,\n",
       "         0.79142128, 0.13268797, 0.00945778, 0.68461215, 0.6151375 ,\n",
       "         0.10711809, 0.21388769, 0.56031227, 0.9257537 , 0.59539017,\n",
       "         0.04620679, 0.66671407, 0.93123086, 0.89228402, 0.99653229,\n",
       "         0.40827398, 0.14923335, 0.5697936 , 0.94146219, 0.25217421,\n",
       "         0.43766498, 0.92725138, 0.26444855, 0.07012652, 0.04390518,\n",
       "         0.09694379, 0.60026862, 0.83579795, 0.90613479, 0.78773745,\n",
       "         0.6587737 , 0.50252996, 0.30815413, 0.37951401, 0.18230888,\n",
       "         0.14559419, 0.59496757, 0.91232715, 0.63062507, 0.69624627,\n",
       "         0.37926862, 0.29344797, 0.48890427, 0.957542  , 0.26567879]),\n",
       "  0,\n",
       "  0.5,\n",
       "  -1694.5930538230436],\n",
       " [array([0.6878474 , 0.37775284, 0.99485243, 0.88785399, 0.19433555,\n",
       "         0.63660468, 0.3889489 , 0.41843764, 0.21008907, 0.53466918,\n",
       "         0.97483203, 0.23778168, 0.42888106, 0.0634515 , 0.88298907,\n",
       "         0.35000874, 0.86086816, 0.98680982, 0.47106538, 0.11699882,\n",
       "         0.17882757, 0.24572004, 0.54307244, 0.84346317, 0.18989943,\n",
       "         0.23333556, 0.53661305, 0.34522308, 0.41342996, 0.62340079,\n",
       "         0.50092772, 0.37524006, 0.11904184, 0.45010874, 0.17194498,\n",
       "         0.20724732, 0.28983423, 0.67159352, 0.66488548, 0.71131978,\n",
       "         0.63767057, 0.49552865, 0.58888085, 0.0307199 , 0.10521135,\n",
       "         0.82689989, 0.24045316, 0.6633791 , 0.09139756, 0.69859546]),\n",
       "  0,\n",
       "  1.0,\n",
       "  -1488.743399691094])"
      ]
     },
     "execution_count": 78,
     "metadata": {},
     "output_type": "execute_result"
    }
   ],
   "source": [
    "chooseParents(p)"
   ]
  },
  {
   "cell_type": "code",
   "execution_count": 92,
   "metadata": {},
   "outputs": [],
   "source": [
    "import math\n",
    "\n",
    "def cross_SBX(p1, p2, nc = 5):\n",
    "    u = np.random.random_sample()\n",
    "    if u < 0.5:\n",
    "        beta = math.pow(2*u, 1/(nc+1))\n",
    "    else:\n",
    "        beta = math.pow(0.5/(1-u), 1/(nc+1))\n",
    "\n",
    "    c1 = 0.5*((1+beta)*p1 + (1-beta)*p2)\n",
    "    c2 = 0.5*((1-beta)*p1 + (1+beta)*p2)\n",
    "\n",
    "    return c1, c2"
   ]
  },
  {
   "cell_type": "code",
   "execution_count": 80,
   "metadata": {},
   "outputs": [
    {
     "data": {
      "text/plain": [
       "(array([0.30384249, 0.59039377]), array([0.49615751, 0.10960623]))"
      ]
     },
     "execution_count": 80,
     "metadata": {},
     "output_type": "execute_result"
    }
   ],
   "source": [
    "cross_SBX(np.array([0.3, 0.6]), np.array([0.5, 0.1]))"
   ]
  },
  {
   "cell_type": "code",
   "execution_count": 94,
   "metadata": {},
   "outputs": [],
   "source": [
    "def mutation_changeValue(individual, e = 0.1):\n",
    "    n = len(individual)\n",
    "    res = np.array(individual)\n",
    "\n",
    "    index1 = np.random.randint(n)\n",
    "    index2 = np.random.randint(n)\n",
    "    while index1 == index2:\n",
    "        index2 = np.random.randint(n)\n",
    "\n",
    "    res[index1] -= e\n",
    "    res[index2] += e\n",
    "\n",
    "    return res"
   ]
  },
  {
   "cell_type": "code",
   "execution_count": 82,
   "metadata": {},
   "outputs": [],
   "source": [
    "def update_fitness(pop):\n",
    "    task = [[], []]\n",
    "\n",
    "    for indiv in pop:\n",
    "        task[indiv[1]].append(indiv)\n",
    "    \n",
    "    task[0].sort(key=lambda p: p[3], reverse = True)\n",
    "    task[1].sort(key=lambda p: p[3], reverse = True)\n",
    "\n",
    "    for i in range(len(task[0])):\n",
    "        task[0][i][2] = 1/(i+1)\n",
    "    for i in range(len(task[1])):\n",
    "        task[1][i][2] = 1/(i+1)\n",
    "\n",
    "    return task[0] + task[1]"
   ]
  },
  {
   "cell_type": "code",
   "execution_count": 83,
   "metadata": {},
   "outputs": [],
   "source": [
    "import random\n",
    "\n",
    "def selection(pre_pop, offs_pop):\n",
    "    pop = pre_pop + offs_pop\n",
    "    pop = update_fitness(pop)\n",
    "    pop.sort(key=lambda indiv: indiv[2], reverse = True)\n",
    "    next_pop = pop[:len(pre_pop)]\n",
    "    #random.shuffle(next_pop)\n",
    "\n",
    "    return next_pop"
   ]
  },
  {
   "cell_type": "code",
   "execution_count": 84,
   "metadata": {},
   "outputs": [],
   "source": [
    "def GA(size_pop, num_gens, rmp):\n",
    "    population = Generate_Eval(sizePop=size_pop)\n",
    "    logg = []\n",
    "    n_offsT = int(size_pop/2)\n",
    "\n",
    "    t = 0\n",
    "    while t < num_gens:\n",
    "        offs_pop = []\n",
    "        n_offs = [0, 0]\n",
    "\n",
    "        while n_offs[0] < n_offsT and n_offs[1] < n_offsT:\n",
    "            p1, p2 = chooseParents(population)\n",
    "\n",
    "            if p1[1] == p2[1]:\n",
    "                c1, c2 = cross_SBX(p1[0], p2[0])\n",
    "                offs_pop.append([c1, p1[1], -1, Factorial_Cost(c1, p1[1])])\n",
    "                offs_pop.append([c2, p1[1], -1, Factorial_Cost(c2, p1[1])])\n",
    "                n_offs[p1[1]] += 2\n",
    "            elif np.random.random_sample() < rmp:\n",
    "                c1, c2 = cross_SBX(p1[0], p2[0])\n",
    "                if np.random.random_sample() < 0.5:\n",
    "                    offs_pop.append([c1, p1[1], -1, Factorial_Cost(c1, p1[1])])\n",
    "                    n_offs[p1[1]] += 1\n",
    "                else:\n",
    "                    offs_pop.append([c1, p2[1], -1, Factorial_Cost(c1, p2[1])])\n",
    "                    n_offs[p2[1]] += 1\n",
    "                if np.random.random_sample() < 0.5:\n",
    "                    offs_pop.append([c2, p1[1], -1, Factorial_Cost(c2, p1[1])])\n",
    "                    n_offs[p1[1]] += 1\n",
    "                else:\n",
    "                    offs_pop.append([c2, p2[1], -1, Factorial_Cost(c2, p2[1])])\n",
    "                    n_offs[p2[1]] += 1\n",
    "            else:\n",
    "                c1 = mutation_changeValue(p1[0])\n",
    "                offs_pop.append([c1, p1[1], -1, Factorial_Cost(c1, p1[1])])\n",
    "                n_offs[p1[1]] += 1\n",
    "\n",
    "                c2 = mutation_changeValue(p2[0])\n",
    "                offs_pop.append([c2, p2[1], -1, Factorial_Cost(c2, p2[1])])\n",
    "                n_offs[p2[1]] += 1\n",
    "\n",
    "        population = selection(population, offs_pop)\n",
    "        best = [0, 0]\n",
    "        if population[1][2] == 1.0:\n",
    "            best[population[0][1]] = population[0][0]\n",
    "            best[population[1][1]] = population[1][0]\n",
    "        else:\n",
    "            best[0] = population[0][0]\n",
    "            best[1] = population[0][0]\n",
    "        logg.append([t, best])\n",
    "        t += 1\n",
    "    \n",
    "    return logg"
   ]
  },
  {
   "cell_type": "code",
   "execution_count": 85,
   "metadata": {},
   "outputs": [],
   "source": [
    "def show(his):\n",
    "    input = np.array(his, dtype=object)\n",
    "    x = input[:, 0]\n",
    "    res = np.array(input[:, 1])\n",
    "    res_tsp = []\n",
    "    res_kp = []\n",
    "    for indivs in res:\n",
    "        res_tsp.append(-Factorial_Cost(indivs[0], 0))\n",
    "        res_kp.append(Factorial_Cost(indivs[1], 1))\n",
    "    res_tsp = np.array(res_tsp)\n",
    "    res_kp = np.array(res_kp)\n",
    "\n",
    "    plt.figure(figsize=(20, 7))\n",
    "\n",
    "    plt.subplot(1, 2, 1)\n",
    "    plt.plot(x, res_tsp)\n",
    "    plt.title('TSP: best = '+ str(res_tsp[-1]))\n",
    "\n",
    "    plt.subplot(1, 2, 2)\n",
    "    plt.plot(x, res_kp)\n",
    "    plt.title('KPbest = '+ str(res_kp[-1]))\n",
    "\n",
    "    plt.show()"
   ]
  },
  {
   "cell_type": "code",
   "execution_count": 105,
   "metadata": {},
   "outputs": [
    {
     "data": {
      "image/png": "[encoded data removed]",
      "text/plain": [
       "<Figure size 1440x504 with 2 Axes>"
      ]
     },
     "metadata": {
      "needs_background": "light"
     },
     "output_type": "display_data"
    }
   ],
   "source": [
    "history = GA(150, 400, 0.4)\n",
    "show(history)"
   ]
  },
  {
   "cell_type": "code",
   "execution_count": 87,
   "metadata": {},
   "outputs": [],
   "source": [
    "#op_eil51 = 426\n",
    "#op_kp24 = 13.549.094"
   ]
  }
 ],
 "metadata": {
  "interpreter": {
   "hash": "b0fdbd91fa1014f333c33329988a7a04d464deba86e034a82d46dbd46f2ee1d2"
  },
  "kernelspec": {
   "display_name": "Python 3",
   "language": "python",
   "name": "python3"
  },
  "language_info": {
   "codemirror_mode": {
    "name": "ipython",
    "version": 3
   },
   "file_extension": ".py",
   "mimetype": "text/x-python",
   "name": "python",
   "nbconvert_exporter": "python",
   "pygments_lexer": "ipython3",
   "version": "3.8.8"
  }
 },
 "nbformat": 4,
 "nbformat_minor": 2
}
