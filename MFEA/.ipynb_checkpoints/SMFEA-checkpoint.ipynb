{
 "cells": [
  {
   "cell_type": "code",
   "execution_count": 113,
   "id": "153da417",
   "metadata": {},
   "outputs": [],
   "source": [
    "import numpy as np\n",
    "import matplotlib.pyplot as plt\n",
    "import pandas as pd"
   ]
  },
  {
   "cell_type": "code",
   "execution_count": 114,
   "id": "512c8338",
   "metadata": {},
   "outputs": [],
   "source": [
    "np.random.seed(0)"
   ]
  },
  {
   "cell_type": "code",
   "execution_count": 115,
   "id": "c66514ac",
   "metadata": {},
   "outputs": [],
   "source": [
    "def distanceMatrix(nodes,N):\n",
    "    dim = N + 1\n",
    "    dis = np.zeros([dim,dim])\n",
    "    for i in range(1,dim):\n",
    "        for j in range(i+1,dim):\n",
    "            a = np.array(nodes[i-1])\n",
    "            b = np.array(nodes[j-1])\n",
    "            c = np.sum((a-b)**2)\n",
    "            c = np.sqrt(c)\n",
    "            dis[i,j] = c\n",
    "            dis[j,i] = c\n",
    "    return dis"
   ]
  },
  {
   "cell_type": "code",
   "execution_count": 116,
   "id": "81bc6993",
   "metadata": {},
   "outputs": [],
   "source": [
    "def load_TSP(path='datasets/eil51.txt'):\n",
    "    with open(path, 'r') as f: \n",
    "        inputData = f.readlines()\n",
    "    N = int(inputData[0].strip())\n",
    "    nodes = []\n",
    "    for line in inputData[1:]:\n",
    "        line = line.strip()\n",
    "        line = line.split(' ')\n",
    "        nodes.append([int(line[1]),int(line[2])])\n",
    "    dis = distanceMatrix(nodes,N)\n",
    "    return N,nodes,dis"
   ]
  },
  {
   "cell_type": "code",
   "execution_count": 117,
   "id": "afde2e25",
   "metadata": {},
   "outputs": [],
   "source": [
    "dataPath = ['eil51.txt','att48.txt','eil76.txt','st70.txt']"
   ]
  },
  {
   "cell_type": "code",
   "execution_count": 118,
   "id": "115acab4",
   "metadata": {},
   "outputs": [],
   "source": [
    "data_info = []\n",
    "maxDim = 0\n",
    "for x in dataPath:\n",
    "    N,nodes,dis = load_TSP('datasets/'+ x)\n",
    "    if(N> maxDim):\n",
    "        maxDim = N\n",
    "    data_info.append([N,nodes,dis])"
   ]
  },
  {
   "cell_type": "code",
   "execution_count": 119,
   "id": "0e50f1d0",
   "metadata": {},
   "outputs": [],
   "source": [
    "def decodeTSP(individual, n = maxDim):\n",
    "    return np.array(np.argsort(individual[:n])+1)"
   ]
  },
  {
   "cell_type": "code",
   "execution_count": 120,
   "id": "f0a1b70a",
   "metadata": {},
   "outputs": [],
   "source": [
    "def f_cost_TSP(individual,dis_TSP ,n = maxDim):\n",
    "    cost = 0\n",
    "    for i in range(n-1):\n",
    "#         print(i,i+1)\n",
    "        cost += dis_TSP[individual[i],individual[i+1]]\n",
    "    cost += dis_TSP[individual[n-1],individual[0]]\n",
    "    return cost"
   ]
  },
  {
   "cell_type": "code",
   "execution_count": 121,
   "id": "af3ac788",
   "metadata": {},
   "outputs": [],
   "source": [
    "def Factorial_Cost(indiv,dims,dis_TSP):\n",
    "    decode = decodeTSP(indiv,n=dims)\n",
    "    return f_cost_TSP(decode,dis_TSP,n=dims)"
   ]
  },
  {
   "cell_type": "code",
   "execution_count": 200,
   "id": "18b158ea",
   "metadata": {},
   "outputs": [],
   "source": [
    "def GeneratorIndiv(dims=maxDim):\n",
    "    indiv = np.random.random_sample((dims, ))\n",
    "    f_cost = []\n",
    "    for i in range(len(data_info)):\n",
    "        N,_,dis = data_info[i]\n",
    "        cost = Factorial_Cost(indiv,N,dis)\n",
    "        f_cost.append(cost)\n",
    "    return indiv, f_cost"
   ]
  },
  {
   "cell_type": "code",
   "execution_count": 221,
   "id": "65e59695",
   "metadata": {},
   "outputs": [],
   "source": [
    "def Generate_Eval(sizePop, d = maxDim):\n",
    "    population = []\n",
    "    pop_cost = []\n",
    "    for i in range(sizePop):\n",
    "        pi, f_cost = GeneratorIndiv()\n",
    "        population.append(pi)\n",
    "        pop_cost.append(f_cost)\n",
    "    population,pop_cost = np.asarray(population),np.asarray(pop_cost)\n",
    "    rank = np.argsort(-pop_cost,axis = 0) + 1\n",
    "    skill_factor = np.argmin(rank,axis = 1)+1\n",
    "    fitness = 1/np.min(rank,axis = 1) \n",
    "    return population,pop_cost,rank,skill_factor,fitness"
   ]
  },
  {
   "cell_type": "code",
   "execution_count": 222,
   "id": "7f406d13",
   "metadata": {},
   "outputs": [],
   "source": [
    "population,pop_cost,rank,skill_factor,fitness = Generate_Eval(10)"
   ]
  },
  {
   "cell_type": "code",
   "execution_count": null,
   "id": "485c1e13",
   "metadata": {},
   "outputs": [],
   "source": []
  }
 ],
 "metadata": {
  "kernelspec": {
   "display_name": "Python 3",
   "language": "python",
   "name": "python3"
  },
  "language_info": {
   "codemirror_mode": {
    "name": "ipython",
    "version": 3
   },
   "file_extension": ".py",
   "mimetype": "text/x-python",
   "name": "python",
   "nbconvert_exporter": "python",
   "pygments_lexer": "ipython3",
   "version": "3.8.8"
  }
 },
 "nbformat": 4,
 "nbformat_minor": 5
}
