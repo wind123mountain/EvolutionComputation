{
 "cells": [
  {
   "cell_type": "code",
   "execution_count": 247,
   "id": "153da417",
   "metadata": {},
   "outputs": [],
   "source": [
    "import numpy as np\n",
    "import matplotlib.pyplot as plt\n",
    "import pandas as pd\n",
    "import random"
   ]
  },
  {
   "cell_type": "code",
   "execution_count": 248,
   "id": "512c8338",
   "metadata": {},
   "outputs": [],
   "source": [
    "np.random.seed(0)\n",
    "random.seed(0)"
   ]
  },
  {
   "cell_type": "code",
   "execution_count": 249,
   "id": "c66514ac",
   "metadata": {},
   "outputs": [],
   "source": [
    "def distanceMatrix(nodes,N):\n",
    "    dim = N + 1\n",
    "    dis = np.zeros([dim,dim])\n",
    "    for i in range(1,dim):\n",
    "        for j in range(i+1,dim):\n",
    "            a = np.array(nodes[i-1])\n",
    "            b = np.array(nodes[j-1])\n",
    "            c = np.sum((a-b)**2)\n",
    "            c = np.sqrt(c)\n",
    "#             c = np.abs(a-b)\n",
    "#             c = np.sum(c)\n",
    "            dis[i,j] = c\n",
    "            dis[j,i] = c\n",
    "    return dis"
   ]
  },
  {
   "cell_type": "code",
   "execution_count": 250,
   "id": "81bc6993",
   "metadata": {},
   "outputs": [],
   "source": [
    "def load_TSP(path='datasets/eil51.txt'):\n",
    "    with open(path, 'r') as f: \n",
    "        inputData = f.readlines()\n",
    "    N = int(inputData[0].strip())\n",
    "    nodes = []\n",
    "    for line in inputData[1:]:\n",
    "        line = line.strip()\n",
    "        line = line.split(' ')\n",
    "        nodes.append([int(line[1]),int(line[2])])\n",
    "    dis = distanceMatrix(nodes,N)\n",
    "    return N,nodes,dis"
   ]
  },
  {
   "cell_type": "code",
   "execution_count": 251,
   "id": "afde2e25",
   "metadata": {},
   "outputs": [],
   "source": [
    "dataPath = ['eil51.txt','att48.txt','eil76.txt','pr76.txt']"
   ]
  },
  {
   "cell_type": "code",
   "execution_count": 252,
   "id": "115acab4",
   "metadata": {},
   "outputs": [],
   "source": [
    "data_info = []\n",
    "maxDim = 0\n",
    "for x in dataPath:\n",
    "    N,nodes,dis = load_TSP('datasets/'+ x)\n",
    "    if(N> maxDim):\n",
    "        maxDim = N\n",
    "    data_info.append([N,nodes,dis])"
   ]
  },
  {
   "cell_type": "code",
   "execution_count": 253,
   "id": "0e50f1d0",
   "metadata": {},
   "outputs": [],
   "source": [
    "def decodeTSP(individual, n = maxDim):\n",
    "    return np.array(np.argsort(individual[:n])+1)"
   ]
  },
  {
   "cell_type": "code",
   "execution_count": 254,
   "id": "f0a1b70a",
   "metadata": {},
   "outputs": [],
   "source": [
    "def f_cost_TSP(individual,dis_TSP ,n = maxDim):\n",
    "    cost = 0\n",
    "    for i in range(n-1):\n",
    "#         print(i,i+1)\n",
    "        cost += dis_TSP[individual[i],individual[i+1]]\n",
    "    cost += dis_TSP[individual[n-1],individual[0]]\n",
    "    return cost"
   ]
  },
  {
   "cell_type": "code",
   "execution_count": 255,
   "id": "af3ac788",
   "metadata": {},
   "outputs": [],
   "source": [
    "def Factorial_Cost(indiv,dims,dis_TSP):\n",
    "    decode = decodeTSP(indiv,n=dims)\n",
    "    return f_cost_TSP(decode,dis_TSP,n=dims)"
   ]
  },
  {
   "cell_type": "code",
   "execution_count": 256,
   "id": "18b158ea",
   "metadata": {},
   "outputs": [],
   "source": [
    "def GeneratorIndiv(dims=maxDim):\n",
    "#     indiv = np.random.random_sample((dims, ))\n",
    "    indiv = np.random.permutation(range(1,dims+1))\n",
    "    f_cost = []\n",
    "    for i in range(len(data_info)):\n",
    "        N,_,dis = data_info[i]\n",
    "        cost = Factorial_Cost(indiv,N,dis)\n",
    "        f_cost.append(cost)\n",
    "    return indiv, f_cost"
   ]
  },
  {
   "cell_type": "code",
   "execution_count": 257,
   "id": "65e59695",
   "metadata": {},
   "outputs": [],
   "source": [
    "def Generate_Eval(sizePop, d = maxDim):\n",
    "    population = []\n",
    "    pop_cost = []\n",
    "    for i in range(sizePop):\n",
    "        pi, f_cost = GeneratorIndiv(d)\n",
    "        population.append(pi)\n",
    "        pop_cost.append(f_cost)\n",
    "    population,pop_cost = np.asarray(population),np.asarray(pop_cost)\n",
    "    rank = np.argsort(pop_cost,axis = 0) + 1\n",
    "#     skill_factor = np.argmin(rank,axis = 1)+1\n",
    "#     fitness = 1/np.min(rank,axis = 1) \n",
    "#     return population,pop_cost,rank,skill_factor,fitness\n",
    "    return population,pop_cost,rank"
   ]
  },
  {
   "cell_type": "code",
   "execution_count": 258,
   "id": "e135f379",
   "metadata": {},
   "outputs": [],
   "source": [
    "def heSo(n,m,TH=0.4):\n",
    "    # a1 + b1 = 1\n",
    "    # a1*m+b1 = TH\n",
    "    # a2*m + b2= TH\n",
    "    # a2*n + b2 = 0\n",
    "    a1 = (1-TH)/(1-m)\n",
    "    b1 = 1 - a1\n",
    "    a2 = TH/(m-n)\n",
    "    b2 = (TH-a2*m)\n",
    "    return a1,b1,a2,b2"
   ]
  },
  {
   "cell_type": "code",
   "execution_count": 259,
   "id": "7253ae3a",
   "metadata": {},
   "outputs": [],
   "source": [
    "def fm(a1,b1,a2,b2,n,m,r,TH=0.4):\n",
    "    if r >=1 and r <m:\n",
    "        return a1*r+b1\n",
    "    elif r ==m:\n",
    "        return TH\n",
    "    elif r >= m+1:\n",
    "        return a2*r+b2"
   ]
  },
  {
   "cell_type": "code",
   "execution_count": 260,
   "id": "caf2dc5b",
   "metadata": {},
   "outputs": [],
   "source": [
    "def abilitiVector(rank,TH,n,m):\n",
    "    a1,b1,a2,b2 = heSo(n,m,TH)\n",
    "    abiVector =[]\n",
    "    for x in range(len(rank)):\n",
    "        df =[]\n",
    "        for item in rank[x]:\n",
    "            df.append(fm(a1,b1,a2,b2,n,m,item,TH))\n",
    "        abiVector.append(df)\n",
    "    return np.array(abiVector)"
   ]
  },
  {
   "cell_type": "code",
   "execution_count": 261,
   "id": "28378a94",
   "metadata": {},
   "outputs": [],
   "source": [
    "import math\n",
    "\n",
    "def cross_SBX(p1, p2, nc = 2):\n",
    "    u = np.random.random_sample()\n",
    "    if u < 0.5:\n",
    "        beta = math.pow(2*u, 1/(nc+1))\n",
    "    else:\n",
    "        beta = math.pow(0.5/(1-u), 1/(nc+1))\n",
    "\n",
    "    c1 = 0.5*((1+beta)*p1 + (1-beta)*p2)\n",
    "    c2 = 0.5*((1-beta)*p1 + (1+beta)*p2)\n",
    "\n",
    "    return c1, c2"
   ]
  },
  {
   "cell_type": "code",
   "execution_count": 262,
   "id": "d4f04a7d",
   "metadata": {},
   "outputs": [],
   "source": [
    "def Diff_Mutation(y1,y2,y3,y4):\n",
    "    F = np.random.random_sample()\n",
    "    return y1 + F * (y4 - y1 + y2 - y3)"
   ]
  },
  {
   "cell_type": "code",
   "execution_count": 263,
   "id": "5719107c",
   "metadata": {},
   "outputs": [],
   "source": [
    "def Poly_Mutation(p,nm = 20):\n",
    "    u = np.random.random_sample()\n",
    "    if u <= 0.5:\n",
    "        phi = np.power(2*u,1/(nm+1)) -1\n",
    "        return p + phi*p\n",
    "    else:\n",
    "        phi = 1 - np.power(2-2*u,1/(nm+1))\n",
    "        return p + phi*(1-p)"
   ]
  },
  {
   "cell_type": "code",
   "execution_count": 264,
   "id": "2a5574f5",
   "metadata": {},
   "outputs": [],
   "source": [
    "def mutation(individual, e = 0.15):\n",
    "    n = len(individual)\n",
    "    res = np.array(individual)\n",
    "\n",
    "    index1 = np.random.randint(n)\n",
    "    index2 = np.random.randint(n)\n",
    "    while index1 == index2:\n",
    "        index2 = np.random.randint(n)\n",
    "\n",
    "    res[index1] -= e\n",
    "    res[index2] += e\n",
    "\n",
    "    return res"
   ]
  },
  {
   "cell_type": "code",
   "execution_count": 265,
   "id": "f44a3e58",
   "metadata": {},
   "outputs": [],
   "source": [
    "def cross_pmx(p1, p2):\n",
    "    n = p1.shape[0]\n",
    "    # min = int(n/4)\n",
    "    # max = int(n - n/4)\n",
    "\n",
    "    if n > 13:\n",
    "        cross = 10\n",
    "    else:\n",
    "        cross = 0\n",
    "    #if(np.random.random_sample() < 0.01): cross = 25\n",
    "    \n",
    "    index1 = np.random.randint(1, n-cross)\n",
    "    index2 = index1 + cross\n",
    "    #while index1 == index2:\n",
    "    #    index2 = np.random.randint(1, n-1)\n",
    "   \n",
    "    # if index1 > index2:\n",
    "    #     temp = index1\n",
    "    #     index1 = index2\n",
    "    #     index2 = temp\n",
    "\n",
    "    #print(index1, index2)\n",
    "\n",
    "    o1 = np.array(p2)\n",
    "    o2 = np.array(p1)\n",
    "\n",
    "    pos1 = np.full(n+1, -1, dtype=int)\n",
    "    pos2 = np.full(n+1, -1, dtype=int)\n",
    "    for i in range(index1, index2+1):\n",
    "        pos1[o1[i]] = i\n",
    "        pos2[o2[i]] = i\n",
    "        \n",
    "    for i in range(n):\n",
    "        if index1 <= i and i <= index2: continue\n",
    "\n",
    "        id1 = i\n",
    "        while True:\n",
    "            if pos1[p1[id1]] == -1:\n",
    "                o1[i] = p1[id1]\n",
    "                break\n",
    "            id1 = pos1[p1[id1]]\n",
    "        \n",
    "        id2 = i\n",
    "        while True:\n",
    "            if pos2[p2[id2]] == -1:\n",
    "                o2[i] = p2[id2]\n",
    "                break\n",
    "            id2 = pos2[p2[id2]]\n",
    "    \n",
    "    return o1, o2\n",
    "def mutation_swap(individual):\n",
    "    n = len(individual)\n",
    "    res = np.array(individual)\n",
    "\n",
    "    index1 = np.random.randint(n)\n",
    "    index2 = np.random.randint(n)\n",
    "    while index1 == index2:\n",
    "        index2 = np.random.randint(n)\n",
    "\n",
    "    temp = res[index1]\n",
    "    res[index1] = res[index2]\n",
    "    res[index2] = temp\n",
    "\n",
    "    return res"
   ]
  },
  {
   "cell_type": "code",
   "execution_count": 266,
   "id": "e8dc3e6f",
   "metadata": {},
   "outputs": [],
   "source": [
    "def Offspring_Generation(pop,abiVector,task,Pa,Pb,m):\n",
    "    n = pop.shape[0]\n",
    "    x_star = pop[abiVector[:,task].argmax()]\n",
    "    offs_gen = []\n",
    "    abi_gen = []\n",
    "    for indiv in range(int(m/2)):\n",
    "        index1 = np.random.randint(n)\n",
    "        while True:\n",
    "            index2 = np.random.randint(n)\n",
    "            if index1 != index2: break\n",
    "        p1,p2 = pop[index1],pop[index2]\n",
    "        if np.random.random_sample() < Pa:\n",
    "            c1,c2 = cross_pmx(p1,p2)\n",
    "#             if np.random.random_sample() < Pb:\n",
    "#                 c1 = Diff_Mutation(c1,p1,p2,x_star)\n",
    "#                 c2 = Diff_Mutation(c2,p2,p1,x_star)\n",
    "        else:\n",
    "            c1 = mutation_swap(p1)\n",
    "            c2 = mutation_swap(p2)\n",
    "#             c1 = mutation(p1, e = 0.15)\n",
    "#             c2 = mutation(p2, e = 0.15)\n",
    "        if np.random.random_sample() <= 0.5:\n",
    "            a1 = abiVector[index1]\n",
    "            a2 = abiVector[index2]\n",
    "        else:\n",
    "            a1 = abiVector[index2]\n",
    "            a2 = abiVector[index1]\n",
    "        \n",
    "        offs_gen.append(c1)\n",
    "        offs_gen.append(c2)\n",
    "        abi_gen.append(a1)\n",
    "        abi_gen.append(a2)\n",
    "    return np.array(offs_gen), np.array(abi_gen) "
   ]
  },
  {
   "cell_type": "code",
   "execution_count": 267,
   "id": "17e39602",
   "metadata": {},
   "outputs": [],
   "source": [
    "MAX = np.iinfo(np.int64).max"
   ]
  },
  {
   "cell_type": "code",
   "execution_count": 268,
   "id": "dc5e1848",
   "metadata": {},
   "outputs": [],
   "source": [
    "def Select_Eval(offs_gen,abi_gen,task,k):\n",
    "    size_gen = offs_gen.shape[0]\n",
    "    tmp = np.arange(size_gen)\n",
    "    random.shuffle(tmp)\n",
    "    \n",
    "    new_gen = []\n",
    "    new_fc = []\n",
    "    for x in tmp:\n",
    "        indiv = offs_gen[x]\n",
    "        abi_x = abi_gen[x]\n",
    "        fc = []\n",
    "        for js in range(k):\n",
    "            if js == task or np.random.random_sample() <= abi_x[js]:\n",
    "                N,_,dis = data_info[js]\n",
    "                cost = Factorial_Cost(indiv,N,dis)\n",
    "            else:\n",
    "                cost = MAX\n",
    "            fc.append(cost)\n",
    "        new_fc.append(fc)\n",
    "        new_gen.append(indiv)\n",
    "    return np.array(new_gen),np.array(new_fc)"
   ]
  },
  {
   "cell_type": "code",
   "execution_count": 269,
   "id": "ffe31313",
   "metadata": {},
   "outputs": [],
   "source": [
    "def updateAbility(pop_cost,TH,n,m):\n",
    "    rank = np.argsort(-pop_cost,axis = 0) + 1\n",
    "    abiVector = abilitiVector(rank,TH,n,m)\n",
    "    return abiVector"
   ]
  },
  {
   "cell_type": "code",
   "execution_count": 270,
   "id": "54f7ce64",
   "metadata": {},
   "outputs": [],
   "source": [
    "from tqdm import tqdm"
   ]
  },
  {
   "cell_type": "code",
   "execution_count": 286,
   "id": "bc126b6d",
   "metadata": {},
   "outputs": [],
   "source": [
    "def SREMTO(n,TH,Pa,Pb,epochs=20000):\n",
    "    population,pop_cost,rank = Generate_Eval(n)\n",
    "    k = len(data_info)\n",
    "    m = int(n/k)\n",
    "    abiVector = abilitiVector(rank,TH,n,m)\n",
    "    \n",
    "    log = []\n",
    "    for epoch in tqdm(range(epochs)):\n",
    "        off_gen = []\n",
    "        off_fc = []\n",
    "        for task in range(k):\n",
    "            index = abiVector[:,task].argsort()[-m:]\n",
    "            group = [population[index],pop_cost[index],rank[index],abiVector[index]]\n",
    "            \n",
    "            offs_gen,abi_gen = Offspring_Generation(group[0],group[3],task,Pa,Pb,m)\n",
    "            \n",
    "            new_gen,new_fc = Select_Eval(offs_gen,abi_gen,task,k)\n",
    "            \n",
    "            off_gen.append(new_gen)\n",
    "            off_fc.append(new_fc)\n",
    "        \n",
    "        \n",
    "        off_gen = np.concatenate(off_gen)\n",
    "        off_fc = np.concatenate(off_fc)\n",
    "        \n",
    "        population = np.concatenate([population,off_gen],axis=0)\n",
    "        pop_cost = np.concatenate([pop_cost,off_fc],axis=0)\n",
    "        \n",
    "        #update\n",
    "        tmp_pop = []\n",
    "        tmp_cost = []\n",
    "        for task in range(k):\n",
    "            index = pop_cost[:,task].argsort()[:m]\n",
    "            tmp_pop.append(population[index])\n",
    "            tmp_cost.append(pop_cost[index])\n",
    "        population = np.concatenate(tmp_pop)\n",
    "        pop_cost = np.concatenate(tmp_cost)\n",
    "        abiVector = updateAbility(pop_cost,TH,n,m)\n",
    "        \n",
    "        best = []\n",
    "        for task in range(k):\n",
    "            index = pop_cost[:,task].argmin()\n",
    "            indiv = population[index]\n",
    "            N,_,dis = data_info[task]\n",
    "            cost = Factorial_Cost(indiv,N,dis)\n",
    "            best.append(cost)\n",
    "        log.append(best)\n",
    "    return np.array(log)"
   ]
  },
  {
   "cell_type": "code",
   "execution_count": 287,
   "id": "d6865fc0",
   "metadata": {},
   "outputs": [
    {
     "name": "stderr",
     "output_type": "stream",
     "text": [
      "100%|██████████| 20000/20000 [09:50<00:00, 33.84it/s]\n"
     ]
    }
   ],
   "source": [
    "log = SREMTO(200,0.5,0.7,0.1)"
   ]
  },
  {
   "cell_type": "code",
   "execution_count": 288,
   "id": "31bbda3c",
   "metadata": {},
   "outputs": [],
   "source": [
    "k = 4"
   ]
  },
  {
   "cell_type": "code",
   "execution_count": 289,
   "id": "ee037843",
   "metadata": {},
   "outputs": [],
   "source": [
    "def show(log):\n",
    "    plt.figure(figsize=(20, 15))\n",
    "    for i in range(k):\n",
    "        name = dataPath[i].split('.')[0]\n",
    "        plt.subplot(2,2,i+1)\n",
    "        best = log[:,i].min()\n",
    "        plt.plot(log[:,i])\n",
    "        plt.title('TSP {i} best: {best}'.format(i=name.upper(),best=best))\n",
    "    plt.show()"
   ]
  },
  {
   "cell_type": "code",
   "execution_count": 290,
   "id": "6800b6b0",
   "metadata": {
    "scrolled": false
   },
   "outputs": [
    {
     "data": {
      "image/png": "[encoded data removed]",
      "text/plain": [
       "<Figure size 1440x1080 with 4 Axes>"
      ]
     },
     "metadata": {
      "needs_background": "light"
     },
     "output_type": "display_data"
    }
   ],
   "source": [
    "show(log)"
   ]
  },
  {
   "cell_type": "code",
   "execution_count": null,
   "id": "1197ae2e",
   "metadata": {},
   "outputs": [],
   "source": []
  }
 ],
 "metadata": {
  "kernelspec": {
   "display_name": "Python 3",
   "language": "python",
   "name": "python3"
  },
  "language_info": {
   "codemirror_mode": {
    "name": "ipython",
    "version": 3
   },
   "file_extension": ".py",
   "mimetype": "text/x-python",
   "name": "python",
   "nbconvert_exporter": "python",
   "pygments_lexer": "ipython3",
   "version": "3.8.8"
  }
 },
 "nbformat": 4,
 "nbformat_minor": 5
}
