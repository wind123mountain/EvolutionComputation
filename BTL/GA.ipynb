{
 "cells": [
  {
   "cell_type": "code",
   "execution_count": 28,
   "id": "f8351124",
   "metadata": {},
   "outputs": [],
   "source": [
    "import numpy as np\n",
    "import matplotlib.pyplot as plt\n",
    "import pandas as pd"
   ]
  },
  {
   "cell_type": "code",
   "execution_count": 29,
   "id": "e450ccbf",
   "metadata": {},
   "outputs": [],
   "source": [
    "np.random.seed(0)"
   ]
  },
  {
   "cell_type": "code",
   "execution_count": 30,
   "id": "59833022",
   "metadata": {},
   "outputs": [],
   "source": [
    "def distanceMatrix(nodes,N):\n",
    "    dim = N + 1\n",
    "    dis = np.zeros([dim,dim])\n",
    "    for i in range(1,dim):\n",
    "        for j in range(i+1,dim):\n",
    "            a = np.array(nodes[i-1])\n",
    "            b = np.array(nodes[j-1])\n",
    "            c = np.sum((a-b)**2)\n",
    "            c = np.sqrt(c)\n",
    "            dis[i,j] = c\n",
    "            dis[j,i] = c\n",
    "    return dis"
   ]
  },
  {
   "cell_type": "code",
   "execution_count": 64,
   "id": "8ebbd051",
   "metadata": {},
   "outputs": [],
   "source": [
    "def load_TSP(path='datasets/eil76.txt'):\n",
    "    with open(path, 'r') as f: \n",
    "        inputData = f.readlines()\n",
    "    N = int(inputData[0].strip())\n",
    "    nodes = []\n",
    "    for line in inputData[1:]:\n",
    "        line = line.strip()\n",
    "        line = line.split(' ')\n",
    "        nodes.append([int(line[1]),int(line[2])])\n",
    "    dis = distanceMatrix(nodes,N)\n",
    "    return N,nodes,dis"
   ]
  },
  {
   "cell_type": "code",
   "execution_count": 65,
   "id": "10974df5",
   "metadata": {},
   "outputs": [],
   "source": [
    "N_TSP,nodes_TSP,dis_TSP = load_TSP()"
   ]
  },
  {
   "cell_type": "code",
   "execution_count": 66,
   "id": "cbacfe6b",
   "metadata": {},
   "outputs": [],
   "source": [
    "def decodeTSP(individual, n = N_TSP):\n",
    "    return np.array(np.argsort(individual)+1)"
   ]
  },
  {
   "cell_type": "code",
   "execution_count": 67,
   "id": "936a2761",
   "metadata": {},
   "outputs": [],
   "source": [
    "def f_cost_TSP(individual, n = N_TSP):\n",
    "    cost = 0\n",
    "    for i in range(n-1):\n",
    "#         print(i,i+1)\n",
    "        cost += dis_TSP[individual[i],individual[i+1]]\n",
    "    cost += dis_TSP[individual[n-1],individual[0]]\n",
    "    fitness = 1/cost\n",
    "    return cost,fitness"
   ]
  },
  {
   "cell_type": "code",
   "execution_count": 68,
   "id": "04653659",
   "metadata": {},
   "outputs": [],
   "source": [
    "def Factorial_Cost(indiv):\n",
    "    decode = decodeTSP(indiv)\n",
    "    return f_cost_TSP(decode)"
   ]
  },
  {
   "cell_type": "code",
   "execution_count": 69,
   "id": "da9795c2",
   "metadata": {},
   "outputs": [],
   "source": [
    "import math\n",
    "\n",
    "def cross_SBX(p1, p2, nc = 2):\n",
    "    u = np.random.random_sample()\n",
    "    if u < 0.5:\n",
    "        beta = math.pow(2*u, 1/(nc+1))\n",
    "    else:\n",
    "        beta = math.pow(0.5/(1-u), 1/(nc+1))\n",
    "\n",
    "    c1 = 0.5*((1+beta)*p1 + (1-beta)*p2)\n",
    "    c2 = 0.5*((1-beta)*p1 + (1+beta)*p2)\n",
    "\n",
    "    return c1, c2"
   ]
  },
  {
   "cell_type": "code",
   "execution_count": 70,
   "id": "adc47f93",
   "metadata": {},
   "outputs": [],
   "source": [
    "def mutation(individual, e = 0.15):\n",
    "    n = len(individual)\n",
    "    res = np.array(individual)\n",
    "\n",
    "    index1 = np.random.randint(n)\n",
    "    index2 = np.random.randint(n)\n",
    "    while index1 == index2:\n",
    "        index2 = np.random.randint(n)\n",
    "\n",
    "    res[index1] -= e\n",
    "    res[index2] += e\n",
    "\n",
    "    return res"
   ]
  },
  {
   "cell_type": "code",
   "execution_count": 71,
   "id": "e34605ef",
   "metadata": {},
   "outputs": [],
   "source": [
    "def chooseParents(pop):\n",
    "    n = len(pop)\n",
    "    index1 = np.random.randint(n)\n",
    "    while True:\n",
    "        index2 = np.random.randint(n)\n",
    "        if index1 != index2: break\n",
    "    index3 = np.random.randint(n)\n",
    "    while True:\n",
    "        index4 = np.random.randint(n)\n",
    "        if index3 != index4: break\n",
    "    \n",
    "    if pop[index1][2] > pop[index2][2]:\n",
    "        p1 = pop[index1]\n",
    "    else:\n",
    "        p1 = pop[index2]\n",
    "    \n",
    "    if pop[index3][2] > pop[index4][2]:\n",
    "        p2 = pop[index3]\n",
    "    else:\n",
    "        p2 = pop[index4]\n",
    "    \n",
    "    return p1, p2"
   ]
  },
  {
   "cell_type": "code",
   "execution_count": 72,
   "id": "07f972e3",
   "metadata": {},
   "outputs": [],
   "source": [
    "def GeneratorIndiv(dims=N_TSP):\n",
    "    indiv = np.random.random_sample((dims, ))\n",
    "    return indiv, Factorial_Cost(indiv)"
   ]
  },
  {
   "cell_type": "code",
   "execution_count": 73,
   "id": "89e29401",
   "metadata": {},
   "outputs": [],
   "source": [
    "def Generate_Eval(sizePop, d = N_TSP):\n",
    "    population = []\n",
    "\n",
    "    for i in range(sizePop):\n",
    "        pi, cost_fitness = GeneratorIndiv()\n",
    "        population.append([pi, cost_fitness[0],cost_fitness[1]])\n",
    "        \n",
    "            \n",
    "\n",
    "    return population"
   ]
  },
  {
   "cell_type": "code",
   "execution_count": 74,
   "id": "59c565d6",
   "metadata": {},
   "outputs": [],
   "source": [
    "def update_new_pop(pre_pop, offs_pop,opt):\n",
    "    if(opt==1):\n",
    "        pop = pre_pop + offs_pop\n",
    "        pop.sort(key=lambda indiv: indiv[2], reverse = True)\n",
    "        next_pop = pop[:len(pre_pop)]\n",
    "    else:\n",
    "        pre_pop.sort(key=lambda indiv: indiv[2], reverse = True)\n",
    "        sizePre = int(len(pre_pop)/2)\n",
    "        next_pop = pre_pop[:sizePre] + offs_pop\n",
    "    #random.shuffle(next_pop)\n",
    "\n",
    "    return next_pop"
   ]
  },
  {
   "cell_type": "code",
   "execution_count": 79,
   "id": "8c3e9a71",
   "metadata": {},
   "outputs": [],
   "source": [
    "from tqdm import tqdm\n",
    "import random\n",
    "def GA(size_pop, num_gens, rmp,opt):\n",
    "    population = Generate_Eval(sizePop=size_pop)\n",
    "    logg = []\n",
    "    n_offsT = int(size_pop/4)\n",
    "\n",
    "    t = 0\n",
    "    for t in range(num_gens):\n",
    "        offs_pop = []\n",
    "        num_cross = 0\n",
    "        while num_cross < n_offsT:\n",
    "            p1, p2 = chooseParents(population)\n",
    "            c1, c2 = cross_SBX(p1[0], p2[0])\n",
    "                \n",
    "            if np.random.random_sample() < rmp:\n",
    "                c1 = mutation(c1)\n",
    "            if np.random.random_sample() < rmp:\n",
    "                c2 = mutation(c2)\n",
    "            num_cross +=1\n",
    "            #update fitness, f_cost\n",
    "            cost_fitness_c1 = Factorial_Cost(c1)\n",
    "            cost_fitness_c2 = Factorial_Cost(c2)\n",
    "            offs_pop.append([c1,cost_fitness_c1[0],cost_fitness_c1[1]])\n",
    "            offs_pop.append([c2,cost_fitness_c2[0],cost_fitness_c2[1]])\n",
    "            \n",
    "            \n",
    "        population = update_new_pop(population, offs_pop,opt)\n",
    "        \n",
    "        best = population[0][1]\n",
    "        \n",
    "        \n",
    "        logg.append( best)\n",
    "        random.shuffle(population)\n",
    "        t += 1\n",
    "    \n",
    "    return logg"
   ]
  },
  {
   "cell_type": "code",
   "execution_count": 80,
   "id": "2e5611aa",
   "metadata": {},
   "outputs": [],
   "source": [
    "history1 = GA(400,2000,0.5,1)\n",
    "# history2 = GA(400,2000,0.5,2)"
   ]
  },
  {
   "cell_type": "code",
   "execution_count": 81,
   "id": "43c8ec9b",
   "metadata": {},
   "outputs": [],
   "source": [
    "def show(his):\n",
    "    best = np.array(his).min()\n",
    "    plt.plot(his)\n",
    "    plt.title('TSP best: {best}'.format(best=best))\n",
    "    plt.show()"
   ]
  },
  {
   "cell_type": "code",
   "execution_count": 82,
   "id": "7abf2415",
   "metadata": {},
   "outputs": [
    {
     "data": {
      "image/png": "[encoded data removed]",
      "text/plain": [
       "<Figure size 432x288 with 1 Axes>"
      ]
     },
     "metadata": {
      "needs_background": "light"
     },
     "output_type": "display_data"
    }
   ],
   "source": [
    "show(history1)"
   ]
  },
  {
   "cell_type": "code",
   "execution_count": 46,
   "id": "771d21e4",
   "metadata": {},
   "outputs": [
    {
     "ename": "NameError",
     "evalue": "name 'history2' is not defined",
     "output_type": "error",
     "traceback": [
      "\u001b[0;31m---------------------------------------------------------------------------\u001b[0m",
      "\u001b[0;31mNameError\u001b[0m                                 Traceback (most recent call last)",
      "\u001b[0;32m<ipython-input-46-2a85257bcb95>\u001b[0m in \u001b[0;36m<module>\u001b[0;34m\u001b[0m\n\u001b[0;32m----> 1\u001b[0;31m \u001b[0mshow\u001b[0m\u001b[0;34m(\u001b[0m\u001b[0mhistory2\u001b[0m\u001b[0;34m)\u001b[0m\u001b[0;34m\u001b[0m\u001b[0;34m\u001b[0m\u001b[0m\n\u001b[0m",
      "\u001b[0;31mNameError\u001b[0m: name 'history2' is not defined"
     ]
    }
   ],
   "source": [
    "show(history2)"
   ]
  },
  {
   "cell_type": "code",
   "execution_count": null,
   "id": "92a5407d",
   "metadata": {},
   "outputs": [],
   "source": []
  }
 ],
 "metadata": {
  "kernelspec": {
   "display_name": "Python 3",
   "language": "python",
   "name": "python3"
  },
  "language_info": {
   "codemirror_mode": {
    "name": "ipython",
    "version": 3
   },
   "file_extension": ".py",
   "mimetype": "text/x-python",
   "name": "python",
   "nbconvert_exporter": "python",
   "pygments_lexer": "ipython3",
   "version": "3.8.8"
  }
 },
 "nbformat": 4,
 "nbformat_minor": 5
}
