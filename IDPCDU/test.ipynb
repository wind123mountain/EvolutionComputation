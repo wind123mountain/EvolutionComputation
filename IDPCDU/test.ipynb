{
 "cells": [
  {
   "cell_type": "code",
   "execution_count": 1,
   "id": "153da417",
   "metadata": {},
   "outputs": [],
   "source": [
    "import numpy as np\n",
    "import matplotlib.pyplot as plt\n",
    "import pandas as pd\n",
    "import random\n",
    "import os\n",
    "from scipy.stats import rankdata"
   ]
  },
  {
   "cell_type": "code",
   "execution_count": 2,
   "id": "cc8573b7",
   "metadata": {},
   "outputs": [
    {
     "name": "stdout",
     "output_type": "stream",
     "text": [
      "0 idpc_10x10x1000.idpc\n",
      "1 idpc_10x20x2713.idpc\n",
      "2 idpc_10x5x425.idpc\n",
      "3 idpc_15x15x3375.idpc\n",
      "4 idpc_15x30x12111.idpc\n",
      "5 idpc_15x7x1504.idpc\n",
      "6 idpc_20x10x2492.idpc\n",
      "7 idpc_20x20x8000.idpc\n",
      "8 idpc_20x40x26104.idpc\n",
      "9 idpc_25x12x4817.idpc\n",
      "10 idpc_25x25x15625.idpc\n",
      "11 idpc_25x50x57147.idpc\n",
      "12 idpc_30x15x10025.idpc\n",
      "13 idpc_30x30x27000.idpc\n",
      "14 idpc_30x60x89772.idpc\n",
      "15 idpc_35x17x13934.idpc\n",
      "16 idpc_35x35x42875.idpc\n",
      "17 idpc_35x70x123585.idpc\n",
      "18 idpc_40x20x18485.idpc\n",
      "19 idpc_40x40x64000.idpc\n",
      "20 idpc_40x80x130681.idpc\n",
      "21 idpc_45x22x43769.idpc\n",
      "22 idpc_45x45x91125.idpc\n",
      "23 idpc_45x90x322081.idpc\n"
     ]
    }
   ],
   "source": [
    "sc = \"Datasets/IDPCDU_Edges/set1/\"\n",
    "TaskNames = os.listdir(sc)\n",
    "TaskNames.sort()\n",
    "\n",
    "for i in range(24):\n",
    "    print(i, TaskNames[i])"
   ]
  },
  {
   "cell_type": "code",
   "execution_count": 3,
   "id": "68c2bc88",
   "metadata": {},
   "outputs": [],
   "source": [
    "from build_g_domain import AlgorithmV1 \n",
    "\n",
    "def Load_data(taskIDs):\n",
    "    Tasks = [0, 0]\n",
    "    MAX_DIM = 0\n",
    "    NUM_TASK = 2\n",
    "    MAX_NODE = 0\n",
    "\n",
    "    for i in range(2):\n",
    "        path = sc + TaskNames[taskIDs[i]] \n",
    "        Tasks[i] = AlgorithmV1(path,name=TaskNames[taskIDs[i]])\n",
    "        MAX_DIM = max(MAX_DIM, Tasks[i].NUM_DOMAIN)\n",
    "        MAX_NODE = max(MAX_NODE, Tasks[i].NUM_NODE)\n",
    "\n",
    "    return Tasks, NUM_TASK, MAX_DIM,MAX_NODE"
   ]
  },
  {
   "cell_type": "code",
   "execution_count": 4,
   "id": "d0e0e513",
   "metadata": {},
   "outputs": [],
   "source": [
    "Tasks, NUM_TASK, MAX_DIM,MAX_NODE = Load_data([5,6])"
   ]
  },
  {
   "cell_type": "code",
   "execution_count": 5,
   "id": "fb9b270e",
   "metadata": {},
   "outputs": [],
   "source": [
    "def GeneratorIndiv(dims=MAX_DIM, edge_dim = MAX_NODE):\n",
    "    domain = np.random.permutation(range(1,dims+1))\n",
    "    edge = np.random.randint(edge_dim, size=dims)\n",
    "    indiv = np.array([domain,edge])\n",
    "\n",
    "    fac_cost = []\n",
    "    for task in Tasks:\n",
    "        # print(task.Cost(indiv))\n",
    "        fac_cost.append(task.Cost(indiv))\n",
    "    \n",
    "    return indiv, fac_cost"
   ]
  },
  {
   "cell_type": "code",
   "execution_count": 6,
   "id": "65e59695",
   "metadata": {},
   "outputs": [],
   "source": [
    "def Generate_Eval(sizePop, d = MAX_DIM):\n",
    "    population = []\n",
    "    pop_cost = []\n",
    "    for i in range(sizePop):\n",
    "        pi, f_cost = GeneratorIndiv(d)\n",
    "        population.append(pi)\n",
    "        pop_cost.append(f_cost)\n",
    "    population,pop_cost = np.asarray(population),np.asarray(pop_cost)\n",
    "    rank = rankdata(pop_cost,axis=0)\n",
    "    return population,pop_cost,rank"
   ]
  },
  {
   "cell_type": "code",
   "execution_count": 7,
   "id": "e135f379",
   "metadata": {},
   "outputs": [],
   "source": [
    "def heSo(n,m,TH=0.4):\n",
    "    # a1 + b1 = 1\n",
    "    # a1*m+b1 = TH\n",
    "    # a2*m + b2= TH\n",
    "    # a2*n + b2 = 0\n",
    "    a1 = (1-TH)/(1-m + 1e-6)\n",
    "    b1 = 1 - a1\n",
    "    a2 = TH/(m-n + 1e-6)\n",
    "    b2 = (TH-a2*m)\n",
    "    return a1,b1,a2,b2\n",
    "def fm(a1,b1,a2,b2,n,m,r,TH=0.4):\n",
    "    if r >= 1 and r <= m:\n",
    "        return a1*r+b1\n",
    "    else:\n",
    "        return a2*r+b2"
   ]
  },
  {
   "cell_type": "code",
   "execution_count": 8,
   "id": "caf2dc5b",
   "metadata": {},
   "outputs": [],
   "source": [
    "def abilitiVector(rank,TH,n,m):\n",
    "    a1,b1,a2,b2 = heSo(n,m,TH)\n",
    "    abiVector =[]\n",
    "    for x in range(len(rank)):\n",
    "        df =[]\n",
    "        for item in rank[x]:\n",
    "            df.append(fm(a1,b1,a2,b2,n,m,item,TH))\n",
    "        abiVector.append(df)\n",
    "    return np.array(abiVector)"
   ]
  },
  {
   "cell_type": "code",
   "execution_count": 9,
   "id": "a53ef0b8",
   "metadata": {},
   "outputs": [],
   "source": [
    "def mutation(individual, e = 0.15):\n",
    "    n = len(individual)\n",
    "    res = np.array(individual)\n",
    "\n",
    "    index1 = np.random.randint(n)\n",
    "    index2 = np.random.randint(n)\n",
    "    while index1 == index2:\n",
    "        index2 = np.random.randint(n)\n",
    "\n",
    "    res[index1] -= e\n",
    "    res[index2] += e\n",
    "\n",
    "    return res"
   ]
  },
  {
   "cell_type": "code",
   "execution_count": 10,
   "id": "8f83eafa",
   "metadata": {},
   "outputs": [],
   "source": [
    "def paradox_mutationItem(ind):\n",
    "    indiv = np.copy(ind)\n",
    "    n = len(indiv)\n",
    "    index1 = 0\n",
    "    index2 = np.random.randint(n)\n",
    "\n",
    "    while index1 < index2:\n",
    "        temp = indiv[index1]\n",
    "        indiv[index1] = indiv[index2]\n",
    "        indiv[index2] = temp\n",
    "        index1 += 1\n",
    "        index2 -= 1\n",
    "\n",
    "    return indiv"
   ]
  },
  {
   "cell_type": "code",
   "execution_count": 11,
   "id": "8fd0aa3a",
   "metadata": {},
   "outputs": [],
   "source": [
    "def paradox_mutation(indiv):\n",
    "    res = []\n",
    "    for item in indiv:\n",
    "        res.append(paradox_mutationItem(item))\n",
    "    return res"
   ]
  },
  {
   "cell_type": "code",
   "execution_count": 12,
   "id": "ccd12b98",
   "metadata": {},
   "outputs": [],
   "source": [
    "def cut_only_item(p1, p2):\n",
    "    index = np.random.randint(p1.shape[0])\n",
    "    o1 = list(p1[:index]) + list(p2[index:])\n",
    "    o2 = list(p2[:index]) + list(p1[index:])\n",
    "    return o1,o2\n",
    "def cut_only(p1,p2):\n",
    "    a,b = cut_only_item(p1[0],p2[0])\n",
    "    c,d= cut_only_item(p1[1],p2[1])\n",
    "    return np.array([a,c]),np.array([b,d])"
   ]
  },
  {
   "cell_type": "code",
   "execution_count": 13,
   "id": "f30808a2",
   "metadata": {},
   "outputs": [],
   "source": [
    "def mutation_swap(individual):\n",
    "\n",
    "    n = len(individual)\n",
    "    res = np.array(individual)\n",
    "\n",
    "    index1 = np.random.randint(5)\n",
    "    index2 = np.random.randint(n)\n",
    "    while index1 == index2:\n",
    "        index2 = np.random.randint(n)\n",
    "\n",
    "    temp = res[index1]\n",
    "    res[index1] = res[index2]\n",
    "    res[index2] = temp\n",
    "\n",
    "    return res"
   ]
  },
  {
   "cell_type": "code",
   "execution_count": 14,
   "id": "01693681",
   "metadata": {},
   "outputs": [],
   "source": [
    "def cross_pmx_item(p1, p2):\n",
    "    n = len(p1)\n",
    "    l = int(n/3)\n",
    "    \n",
    "    index1 = np.random.randint(l)\n",
    "    index2 = np.random.randint(l+l, 3*l)\n",
    "\n",
    "    o1 = np.array(p2)\n",
    "    o2 = np.array(p1)\n",
    "\n",
    "    pos1 = np.full(n+1, -1, dtype=int)\n",
    "    pos2 = np.full(n+1, -1, dtype=int)\n",
    "    for i in range(index1, index2+1):\n",
    "        pos1[o1[i]] = i\n",
    "        pos2[o2[i]] = i\n",
    "        \n",
    "    for i in range(n):\n",
    "        if index1 <= i and i <= index2: continue\n",
    "\n",
    "        id1 = i\n",
    "        while True:\n",
    "            if pos1[p1[id1]] == -1:\n",
    "                o1[i] = p1[id1]\n",
    "                break\n",
    "            id1 = pos1[p1[id1]]\n",
    "        \n",
    "        id2 = i\n",
    "        while True:\n",
    "            if pos2[p2[id2]] == -1:\n",
    "                o2[i] = p2[id2]\n",
    "                break\n",
    "            id2 = pos2[p2[id2]]\n",
    "    \n",
    "    return o1, o2\n",
    "\n",
    "def cross_pmx(p1,p2):\n",
    "    a,b = cross_pmx_item(p1[0],p2[0])\n",
    "    c,d= cut_only_item(p1[1],p2[1])\n",
    "    return np.array([a,c]),np.array([b,d])"
   ]
  },
  {
   "cell_type": "code",
   "execution_count": 15,
   "id": "608ea6dc",
   "metadata": {},
   "outputs": [],
   "source": [
    "def Offspring_Generation(pop,abiVector,task,Pa,Pb,m):\n",
    "    n = pop.shape[0]\n",
    "    x_star = pop[abiVector[:,task].argmax()]\n",
    "    offs_gen = []\n",
    "    abi_gen = []\n",
    "    for indiv in range(int(m/2)):\n",
    "        index1 = np.random.randint(n)\n",
    "        while True:\n",
    "            index2 = np.random.randint(n)\n",
    "            if index1 != index2: break\n",
    "        p1,p2 = pop[index1],pop[index2]\n",
    "\n",
    "        if np.random.random_sample() < Pa:\n",
    "            c1,c2 = cross_pmx(p1,p2)\n",
    "\n",
    "\n",
    "            if np.random.random_sample() < Pb:\n",
    "\n",
    "\n",
    "                x1 = mutation_swap(c1[0])\n",
    "                x2 = mutation_swap(c2[0])\n",
    "\n",
    "\n",
    "                x3 = mutation_swap(c1[1])\n",
    "                x4 = mutation_swap(c2[1])\n",
    "\n",
    "                c1 = np.array([x1,x3])\n",
    "                c2 = np.array([x2,x4])\n",
    "        else:\n",
    "            c1 = paradox_mutation(p1)\n",
    "            c2 = paradox_mutation(p2)\n",
    "            c1 = np.array(c1)\n",
    "            c2 = np.array(c2)\n",
    "\n",
    "\n",
    "        if np.random.random_sample() < 0.5:\n",
    "            a1 = abiVector[index1]\n",
    "            a2 = abiVector[index2]\n",
    "        else:\n",
    "            a1 = abiVector[index2]\n",
    "            a2 = abiVector[index1]\n",
    "        \n",
    "        offs_gen.append(c1)\n",
    "        offs_gen.append(c2)\n",
    "        abi_gen.append(a1)\n",
    "        abi_gen.append(a2)\n",
    "    # return offs_gen,abi_gen\n",
    "    return np.array(offs_gen), np.array(abi_gen) "
   ]
  },
  {
   "cell_type": "code",
   "execution_count": 16,
   "id": "17e39602",
   "metadata": {},
   "outputs": [],
   "source": [
    "MAX = np.inf"
   ]
  },
  {
   "cell_type": "code",
   "execution_count": 17,
   "id": "ffe31313",
   "metadata": {},
   "outputs": [],
   "source": [
    "def updateAbility(pop_cost,TH,n,m):\n",
    "    rank = rankdata(pop_cost,axis=0)\n",
    "    abiVector = abilitiVector(rank,TH,n,m)\n",
    "    return abiVector"
   ]
  },
  {
   "cell_type": "code",
   "execution_count": 18,
   "id": "54f7ce64",
   "metadata": {},
   "outputs": [],
   "source": [
    "from tqdm import tqdm"
   ]
  },
  {
   "cell_type": "code",
   "execution_count": 19,
   "id": "425ce5fc",
   "metadata": {},
   "outputs": [],
   "source": [
    "def selectNewPop(pop,pop_cost,off_gen,off_fc,k):\n",
    "    tmp = np.arange(off_gen.shape[0])\n",
    "    random.shuffle(tmp)\n",
    "    new_pop = []\n",
    "    new_cost = []\n",
    "    for task in range(k):\n",
    "        index = pop_cost[:,task].argmin()\n",
    "        new_pop.append([pop[index]])\n",
    "        new_cost.append([pop_cost[index]])\n",
    "    new_pop.append(off_gen[tmp[:-2]])\n",
    "    new_cost.append(off_fc[tmp[:-2]])\n",
    "    return np.concatenate(new_pop), np.concatenate(new_cost)"
   ]
  },
  {
   "cell_type": "code",
   "execution_count": 20,
   "id": "ee08c175",
   "metadata": {},
   "outputs": [],
   "source": [
    "def Select_Eval(offs_gen,abi_gen,task,k):\n",
    "    size_gen = offs_gen.shape[0]\n",
    "    tmp = np.arange(size_gen)\n",
    "    random.shuffle(tmp)\n",
    "    \n",
    "    new_gen = []\n",
    "    new_fc = []\n",
    "    for x in tmp:\n",
    "        indiv = offs_gen[x]\n",
    "        abi_x = abi_gen[x]\n",
    "        fc = []\n",
    "        for js in range(k):\n",
    "            if js == task or np.random.random_sample() <= abi_x[js]:\n",
    "                # print('indiv',indiv)\n",
    "                cost = Tasks[js].Cost(indiv)\n",
    "            else:\n",
    "                cost = MAX\n",
    "            fc.append(cost)\n",
    "        new_fc.append(fc)\n",
    "        new_gen.append(indiv)\n",
    "    return np.array(new_gen),np.array(new_fc)"
   ]
  },
  {
   "cell_type": "code",
   "execution_count": 21,
   "id": "bc126b6d",
   "metadata": {},
   "outputs": [],
   "source": [
    "def SREMTO(n,TH,Pa,Pb,epochs=200):\n",
    "    population,pop_cost,rank = Generate_Eval(n)\n",
    "    k = len(Tasks)\n",
    "    m = int(n/k)\n",
    "    abiVector = abilitiVector(rank,TH,n,m)\n",
    "    \n",
    "    log = []\n",
    "    KTI = []\n",
    "    # per = int(m*3/5)\n",
    "    # print('per',per)\n",
    "    for epoch in tqdm(range(epochs)):\n",
    "        off_gen = []\n",
    "        off_fc = []\n",
    "        for task in range(k):\n",
    "            # print(abiVector[:,task])\n",
    "            index = abiVector[:,task].argsort()[-m:][::-1]\n",
    "            # print(index)\n",
    "            if task == 0:\n",
    "                setA = set(index)\n",
    "            elif task == 1:\n",
    "                setB = set(index)\n",
    "            # print(population[index[:per]])\n",
    "            # group = [population[index[:per]],pop_cost[index[:per]],rank[index[:per]],abiVector[index[:per]]]\n",
    "            group = [population[index],pop_cost[index],rank[index],abiVector[index]]\n",
    "\n",
    "            \n",
    "            offs_gen,abi_gen = Offspring_Generation(group[0],group[3],task,Pa,Pb,m)\n",
    "            \n",
    "            new_gen,new_fc = Select_Eval(offs_gen,abi_gen,task,k)\n",
    "\n",
    "            off_gen.append(new_gen)\n",
    "            off_fc.append(new_fc)\n",
    "            \n",
    "            # off_gen.append(new_gen)\n",
    "            # off_gen.append(population[index[per:]])\n",
    "            # off_fc.append(new_fc)\n",
    "            # off_fc.append(pop_cost[index[per:]])\n",
    "        KTI.append(len(setA.intersection(setB))/m)\n",
    "\n",
    "        \n",
    "        \n",
    "        off_gen = np.concatenate(off_gen)\n",
    "        off_fc = np.concatenate(off_fc)\n",
    "        # return off_gen,off_fc\n",
    " \n",
    "        \n",
    "        population = np.concatenate([population,off_gen],axis=0)\n",
    "        pop_cost = np.concatenate([pop_cost,off_fc],axis=0)\n",
    "        \n",
    "        #update\n",
    "        # tmp_pop = []\n",
    "        # tmp_cost = []\n",
    "        listIndex = []\n",
    "        for task in range(k):\n",
    "            index = pop_cost[:,task].argsort()\n",
    "            if task == 0:\n",
    "                listIndex.extend(index[:m])\n",
    "            elif task == 1:\n",
    "                iter = 0\n",
    "                for i in index:\n",
    "                    if iter < m and i not in listIndex:\n",
    "                        # print(i)\n",
    "                        listIndex.extend([i])\n",
    "                        iter +=1\n",
    "        population = population[listIndex]\n",
    "        pop_cost = pop_cost[listIndex]\n",
    "        abiVector = updateAbility(pop_cost,TH,n,m)\n",
    "\n",
    "        # population,pop_cost = selectNewPop(population,pop_cost,off_gen,off_fc,2)\n",
    "        # abiVector = updateAbility(pop_cost,TH,n,m)\n",
    "        \n",
    "        best = []\n",
    "        for task in range(k):\n",
    "            cost = pop_cost[:,task].min()\n",
    "            # cost = pop_cost[index,task]\n",
    "            best.append(cost)\n",
    "        log.append(best)\n",
    "    return np.array(log),KTI"
   ]
  },
  {
   "cell_type": "code",
   "execution_count": 22,
   "id": "d6865fc0",
   "metadata": {},
   "outputs": [
    {
     "name": "stderr",
     "output_type": "stream",
     "text": [
      "100%|██████████| 100/100 [00:02<00:00, 41.46it/s]\n",
      "100%|██████████| 100/100 [00:02<00:00, 40.26it/s]\n",
      "100%|██████████| 100/100 [00:02<00:00, 38.70it/s]\n"
     ]
    }
   ],
   "source": [
    "log_seeds = []\n",
    "\n",
    "\n",
    "for i in range(3):\n",
    "    np.random.seed(i)\n",
    "    random.seed(i)\n",
    "    Tasks[0].best = np.inf\n",
    "    Tasks[0].indivi_best = []\n",
    "    Tasks[1].best = np.inf\n",
    "    Tasks[1].indivi_best = []\n",
    "\n",
    "    log,KTI = SREMTO(100,0.7,0.7,0.6,epochs=100)\n",
    "    # population,pop_cost,rank,abiVector =  SREMTO(100,0.7,0.7,1,epochs=1000)\n",
    "    log_seeds.append(log)"
   ]
  },
  {
   "cell_type": "code",
   "execution_count": 23,
   "id": "28f6cdd8",
   "metadata": {},
   "outputs": [
    {
     "data": {
      "image/png": "[encoded data removed]",
      "text/plain": [
       "<Figure size 432x288 with 1 Axes>"
      ]
     },
     "metadata": {
      "needs_background": "light"
     },
     "output_type": "display_data"
    }
   ],
   "source": [
    "plt.plot(range(len(KTI)),KTI)\n",
    "plt.show()"
   ]
  },
  {
   "cell_type": "code",
   "execution_count": 24,
   "id": "4ca445b6",
   "metadata": {},
   "outputs": [],
   "source": [
    "k = len(Tasks)"
   ]
  },
  {
   "cell_type": "code",
   "execution_count": 25,
   "id": "ee037843",
   "metadata": {},
   "outputs": [],
   "source": [
    "def show(log,stt):\n",
    "    plt.figure(figsize=(10, 50))\n",
    "    for i in range(k):\n",
    "        name = str(Tasks[i].NUM_NODE) + ' x '+ str(Tasks[i].NUM_DOMAIN)\n",
    "        plt.subplot(12,2,i+1)\n",
    "        best = log[:,i].min()\n",
    "        plt.plot(log[:,i])\n",
    "        plt.title('IDPCU {i} best: {best}'.format(i=name.upper(),best=best))\n",
    "    plt.show()"
   ]
  },
  {
   "cell_type": "code",
   "execution_count": 26,
   "id": "2b2f98ac",
   "metadata": {},
   "outputs": [
    {
     "data": {
      "image/png": "[encoded data removed]",
      "text/plain": [
       "<Figure size 720x3600 with 2 Axes>"
      ]
     },
     "metadata": {
      "needs_background": "light"
     },
     "output_type": "display_data"
    }
   ],
   "source": [
    "show(log,'12')"
   ]
  },
  {
   "cell_type": "code",
   "execution_count": 27,
   "id": "0ffc1da3",
   "metadata": {},
   "outputs": [],
   "source": [
    "log_seeds = np.concatenate(log_seeds)"
   ]
  },
  {
   "cell_type": "code",
   "execution_count": 28,
   "id": "1197ae2e",
   "metadata": {},
   "outputs": [
    {
     "data": {
      "text/plain": [
       "array([18., 22.])"
      ]
     },
     "execution_count": 28,
     "metadata": {},
     "output_type": "execute_result"
    }
   ],
   "source": [
    "log_seeds.min(axis=0)"
   ]
  },
  {
   "cell_type": "code",
   "execution_count": 29,
   "id": "36a7350e",
   "metadata": {},
   "outputs": [
    {
     "data": {
      "text/plain": [
       "array([18.        , 22.91333333])"
      ]
     },
     "execution_count": 29,
     "metadata": {},
     "output_type": "execute_result"
    }
   ],
   "source": [
    "np.average(log_seeds,0)"
   ]
  },
  {
   "cell_type": "code",
   "execution_count": 30,
   "id": "b538d820",
   "metadata": {},
   "outputs": [
    {
     "data": {
      "text/plain": [
       "array([18., 25.])"
      ]
     },
     "execution_count": 30,
     "metadata": {},
     "output_type": "execute_result"
    }
   ],
   "source": [
    "log_seeds.max(axis=0)"
   ]
  },
  {
   "cell_type": "code",
   "execution_count": 31,
   "id": "6a40cde8",
   "metadata": {},
   "outputs": [
    {
     "name": "stdout",
     "output_type": "stream",
     "text": [
      "2\n"
     ]
    }
   ],
   "source": [
    "import random\n",
    "\n",
    "random_number = random.randint(1, 2)\n",
    "print(random_number)"
   ]
  },
  {
   "cell_type": "code",
   "execution_count": null,
   "id": "355ed834",
   "metadata": {},
   "outputs": [],
   "source": []
  }
 ],
 "metadata": {
  "kernelspec": {
   "display_name": "Python 3",
   "language": "python",
   "name": "python3"
  },
  "language_info": {
   "codemirror_mode": {
    "name": "ipython",
    "version": 3
   },
   "file_extension": ".py",
   "mimetype": "text/x-python",
   "name": "python",
   "nbconvert_exporter": "python",
   "pygments_lexer": "ipython3",
   "version": "3.9.7"
  }
 },
 "nbformat": 4,
 "nbformat_minor": 5
}
