{
 "cells": [
  {
   "cell_type": "code",
   "execution_count": 2,
   "metadata": {},
   "outputs": [],
   "source": [
    "import numpy as np\n",
    "import json\n",
    "import os\n",
    "import random\n",
    "from build import GraphDomain\n",
    "from GA import *"
   ]
  },
  {
   "cell_type": "code",
   "execution_count": 2,
   "metadata": {},
   "outputs": [
    {
     "name": "stdout",
     "output_type": "stream",
     "text": [
      "0 idpc_100x100x1000000.idpc\n",
      "1 idpc_100x200x2296097.idpc\n",
      "2 idpc_100x50x461319.idpc\n",
      "3 idpc_50x100x285357.idpc\n",
      "4 idpc_50x25x38961.idpc\n",
      "5 idpc_50x50x125000.idpc\n",
      "6 idpc_60x120x434337.idpc\n",
      "7 idpc_60x30x99470.idpc\n",
      "8 idpc_60x60x216000.idpc\n",
      "9 idpc_70x140x923343.idpc\n",
      "10 idpc_70x35x120810.idpc\n",
      "11 idpc_70x70x343000.idpc\n",
      "12 idpc_80x160x1490468.idpc\n",
      "13 idpc_80x40x175762.idpc\n",
      "14 idpc_80x80x512000.idpc\n",
      "15 idpc_90x180x1644367.idpc\n",
      "16 idpc_90x45x260195.idpc\n",
      "17 idpc_90x90x729000.idpc\n"
     ]
    }
   ],
   "source": [
    "sc = \"Datasets/IDPCDU_Edges/set2/\"\n",
    "TaskNames = os.listdir(sc)\n",
    "TaskNames.sort()\n",
    "for i in range(len(TaskNames)):\n",
    "    print(i, TaskNames[i])"
   ]
  },
  {
   "cell_type": "code",
   "execution_count": 3,
   "metadata": {},
   "outputs": [],
   "source": [
    "def Load(index):\n",
    "    path = sc + TaskNames[index]\n",
    "    name = TaskNames[index].split('.')[0]\n",
    "    task = GraphDomain(path=path, name=name)\n",
    "    return task"
   ]
  },
  {
   "cell_type": "code",
   "execution_count": null,
   "metadata": {},
   "outputs": [],
   "source": [
    "import json\n",
    "import time\n",
    "\n",
    "# Task: 0 -> 17\n",
    "for i in range(4,5):\n",
    "    history = dict()\n",
    "\n",
    "    task = Load(i)\n",
    "    total_time = 0\n",
    "\n",
    "    for j in range(30):\n",
    "        np.random.seed(j)\n",
    "        random.seed(j)\n",
    "        task.best = np.inf\n",
    "\n",
    "        ga = GA(100, 500, 0.7, 0.1, task=task)\n",
    "\n",
    "        start_time = time.time()\n",
    "        log = ga.run()\n",
    "        end_time = time.time()\n",
    "    \n",
    "        history[j] = log\n",
    "        total_time += end_time - start_time\n",
    "\n",
    "    path = 'Result/GA_result/set2/' + TaskNames[i] + '.json'\n",
    "    with open(path, \"w\", encoding=\"utf-8\") as outfile:\n",
    "        json.dump(history, outfile)\n",
    "\n",
    "    with open('Result/GA_result/set2/runtime_'+TaskNames[i], 'w') as outfile:\n",
    "        outfile.writelines(TaskNames[i] + '\\n')\n",
    "        outfile.writelines('total_time: {} secsonds\\n'.format(total_time))\n",
    "        outfile.writelines('average_time: {} secsonds'.format(total_time/30))\n"
   ]
  },
  {
   "cell_type": "code",
   "execution_count": 5,
   "metadata": {},
   "outputs": [
    {
     "name": "stdout",
     "output_type": "stream",
     "text": [
      "0   idpc_10x10x1000.idpc   \t 7.0 \t 11.8\n",
      "1   idpc_10x20x2713.idpc   \t 12.0 \t 12.0\n",
      "2   idpc_10x5x425.idpc   \t 7.0 \t 7.0\n",
      "3   idpc_15x15x3375.idpc   \t 16.0 \t 16.666666666666668\n",
      "4   idpc_15x30x12111.idpc   \t 16.0 \t 16.966666666666665\n",
      "5   idpc_15x7x1504.idpc   \t 10.0 \t 10.8\n",
      "6   idpc_20x10x2492.idpc   \t 15.0 \t 21.766666666666666\n",
      "7   idpc_20x20x8000.idpc   \t 21.0 \t 21.766666666666666\n",
      "8   idpc_20x40x26104.idpc   \t 22.0 \t 22.0\n",
      "9   idpc_25x12x4817.idpc   \t 27.0 \t 27.7\n",
      "10   idpc_25x25x15625.idpc   \t 26.0 \t 26.866666666666667\n",
      "11   idpc_25x50x57147.idpc   \t 26.0 \t 26.833333333333332\n",
      "12   idpc_30x15x10025.idpc   \t 33.0 \t 33.8\n",
      "13   idpc_30x30x27000.idpc   \t 32.0 \t 32.06666666666667\n",
      "14   idpc_30x60x89772.idpc   \t 32.0 \t 32.0\n",
      "15   idpc_35x17x13934.idpc   \t 38.0 \t 38.0\n",
      "16   idpc_35x35x42875.idpc   \t 37.0 \t 37.0\n",
      "17   idpc_35x70x123585.idpc   \t 37.0 \t 37.0\n",
      "18   idpc_40x20x18485.idpc   \t 42.0 \t 42.0\n",
      "19   idpc_40x40x64000.idpc   \t 42.0 \t 42.13333333333333\n",
      "20   idpc_40x80x130681.idpc   \t 42.0 \t 42.0\n",
      "21   idpc_45x22x43769.idpc   \t 47.0 \t 47.0\n",
      "22   idpc_45x45x91125.idpc   \t 47.0 \t 47.13333333333333\n",
      "23   idpc_45x90x322081.idpc   \t 46.0 \t 46.86666666666667\n"
     ]
    }
   ],
   "source": [
    "sc = \"Datasets/IDPCDU_Edges/set1/\"\n",
    "TaskNames = os.listdir(sc)\n",
    "TaskNames.sort()\n",
    "\n",
    "for i in range(24):\n",
    "    path = 'Result/GA_result/set1/' + TaskNames[i] + \".json\"\n",
    "    log = {}\n",
    "    with open(path, \"r\", encoding=\"utf-8\") as infile:\n",
    "        log = json.load(infile)\n",
    "\n",
    "    avg = 0\n",
    "    best = np.inf\n",
    "    for j in range(30):\n",
    "        avg += log[str(j)][\"499\"]\n",
    "        best = min(best, log[str(j)][\"499\"])\n",
    "\n",
    "    print(i, \" \", TaskNames[i], \"  \\t\", best, \"\\t\", avg/30)\n"
   ]
  },
  {
   "cell_type": "code",
   "execution_count": null,
   "metadata": {},
   "outputs": [],
   "source": [
    "import matplotlib.pyplot as plt\n",
    "\n",
    "path = 'Result/GA_result/set1/' + TaskNames[19] + \".json\"\n",
    "log = {}\n",
    "with open(path, \"r\", encoding=\"utf-8\") as infile:\n",
    "    log = json.load(infile)\n",
    "    \n",
    "for i in range(30):\n",
    "    x = np.array(range(500))\n",
    "    y = np.array(list(log[str(i)].values()))\n",
    "\n",
    "    plt.plot(x, y)\n",
    "    plt.title('seed ' + str(i) + ': best = ' + str(log[str(i)][\"499\"]))\n",
    "    plt.show()"
   ]
  },
  {
   "cell_type": "code",
   "execution_count": 6,
   "metadata": {},
   "outputs": [
    {
     "name": "stdout",
     "output_type": "stream",
     "text": [
      "0   idpc_100x100x1000000.idpc        \t 102.0 \t 102.0\n",
      "1   idpc_100x200x2296097.idpc        \t 102.0 \t 102.0\n",
      "2   idpc_100x50x461319.idpc        \t 102.0 \t 102.06666666666666\n",
      "3   idpc_50x100x285357.idpc        \t 52.0 \t 52.0\n",
      "4   idpc_50x25x38961.idpc        \t 53.0 \t 53.0\n",
      "5   idpc_50x50x125000.idpc        \t 52.0 \t 52.1\n",
      "6   idpc_60x120x434337.idpc        \t 62.0 \t 62.0\n",
      "7   idpc_60x30x99470.idpc        \t 62.0 \t 62.1\n",
      "8   idpc_60x60x216000.idpc        \t 62.0 \t 62.0\n",
      "9   idpc_70x140x923343.idpc        \t 72.0 \t 72.0\n",
      "10   idpc_70x35x120810.idpc        \t 72.0 \t 72.23333333333333\n",
      "11   idpc_70x70x343000.idpc        \t 71.0 \t 71.96666666666667\n",
      "12   idpc_80x160x1490468.idpc        \t 82.0 \t 82.0\n",
      "13   idpc_80x40x175762.idpc        \t 82.0 \t 83.16666666666667\n",
      "14   idpc_80x80x512000.idpc        \t 82.0 \t 82.13333333333334\n",
      "15   idpc_90x180x1644367.idpc        \t 92.0 \t 92.0\n",
      "16   idpc_90x45x260195.idpc        \t 93.0 \t 93.03333333333333\n",
      "17   idpc_90x90x729000.idpc        \t 92.0 \t 92.0\n"
     ]
    }
   ],
   "source": [
    "sc = \"Datasets/IDPCDU_Edges/set2/\"\n",
    "TaskNames = os.listdir(sc)\n",
    "TaskNames.sort()\n",
    "\n",
    "for i in range(18):\n",
    "    path = 'Result/GA_result/set2/' + TaskNames[i] + \".json\"\n",
    "    log = {}\n",
    "    with open(path, \"r\", encoding=\"utf-8\") as infile:\n",
    "        log = json.load(infile)\n",
    "\n",
    "    avg = 0\n",
    "    best = np.inf\n",
    "    for j in range(30):\n",
    "        avg += log[str(j)][\"499\"]\n",
    "        best = min(best, log[str(j)][\"499\"])\n",
    "\n",
    "    print(i, \" \", TaskNames[i], \"       \\t\", best, \"\\t\", avg/30)"
   ]
  },
  {
   "cell_type": "code",
   "execution_count": null,
   "metadata": {},
   "outputs": [],
   "source": [
    "import pandas as pd\n",
    "import json\n",
    "\n",
    "res = {}\n",
    "\n",
    "for i in range(24):\n",
    "    path = 'Result/GA_result/set1/' + TaskNames[i] + \".json\"\n",
    "    log = {}\n",
    "    with open(path, \"r\", encoding=\"utf-8\") as infile:\n",
    "        log = json.load(infile)\n",
    "    df = pd.DataFrame.from_dict(log)\n",
    "    df.to_csv (r'Result/GA_result/set1/'+TaskNames[i]+'.csv', index_label='generation', header=True)\n",
    "    \n",
    "    avg = 0\n",
    "    best = np.inf\n",
    "    for j in range(30):\n",
    "        avg += log[str(j)][\"499\"]\n",
    "        best = min(best, log[str(j)][\"499\"])\n",
    "\n",
    "    res[i] = {\"Datasets\": TaskNames[i], \"BEST\": best, \"AVG\": avg/30}\n",
    "\n",
    "\n",
    "df = pd.DataFrame.from_dict(res, orient='index')\n",
    "df.to_csv (r'Result/GA_result/set1/Result_set1.csv', index_label='ID', header=True)\n"
   ]
  }
 ],
 "metadata": {
  "interpreter": {
   "hash": "916dbcbb3f70747c44a77c7bcd40155683ae19c65e1c03b4aa3499c5328201f1"
  },
  "kernelspec": {
   "display_name": "Python 3.8.10 64-bit",
   "language": "python",
   "name": "python3"
  },
  "language_info": {
   "codemirror_mode": {
    "name": "ipython",
    "version": 3
   },
   "file_extension": ".py",
   "mimetype": "text/x-python",
   "name": "python",
   "nbconvert_exporter": "python",
   "pygments_lexer": "ipython3",
   "version": "3.8.10"
  },
  "orig_nbformat": 4
 },
 "nbformat": 4,
 "nbformat_minor": 2
}
