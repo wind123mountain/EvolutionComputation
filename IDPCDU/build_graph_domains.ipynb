{
 "cells": [
  {
   "cell_type": "markdown",
   "metadata": {},
   "source": [
    "### **Build Graph Domain**"
   ]
  },
  {
   "cell_type": "code",
   "execution_count": null,
   "metadata": {},
   "outputs": [],
   "source": [
    "import numpy as np\n",
    "from queue import PriorityQueue\n",
    "\n",
    "class GraphDomain:\n",
    "\n",
    "    NUM_NODE = 0\n",
    "    NUM_DOMAIN = 0\n",
    "    START_NODE = -1\n",
    "    END_NODE = -1\n",
    "\n",
    "    adj = {}\n",
    "    distance = {}\n",
    "    pre_node = {}\n",
    "    domain_start_nodes = {}\n",
    "\n",
    "    def __init__(self, path, pad = 1):\n",
    "        self.pad = pad\n",
    "        self.load_data(path)\n",
    "        self.build_graph()\n",
    " \n",
    "        \n",
    "    def load_data(self, path):\n",
    "        f = open(path, 'r')\n",
    "\n",
    "        l1 = f.readline()\n",
    "        l1 = l1.strip()\n",
    "        l1 = l1.split(' ')\n",
    "        self.NUM_NODE = int(l1[0])\n",
    "        self.NUM_DOMAIN = int(l1[1])\n",
    "\n",
    "        l2 = f.readline()\n",
    "        l2 = l2.strip()\n",
    "        l2 = l2.split(' ')\n",
    "        self.START_NODE = int(l2[0])\n",
    "        self.END_NODE = int(l2[1])\n",
    "\n",
    "        # fomat edge: start, end, weight, domain\n",
    "        edges = f.readlines()\n",
    "\n",
    "        f.close()\n",
    "\n",
    "        #setup\n",
    "        for d in range(self.pad, self.pad+self.NUM_DOMAIN):\n",
    "            self.adj[d] = {}\n",
    "            self.distance[d] = {}\n",
    "            self.domain_start_nodes[d] = []\n",
    "            self.pre_node[d] = {}\n",
    "            for v in range(self.pad, self.pad+self.NUM_NODE):\n",
    "                self.adj[d][v] = list()\n",
    "                self.distance[d][v] = np.full((self.NUM_NODE+self.pad,), np.inf)\n",
    "                self.pre_node[d][v] = np.full((self.NUM_NODE,), -1)\n",
    "        \n",
    "        for e in edges:\n",
    "            e = e.strip()\n",
    "            e = e.split(' ')\n",
    "            #u = e[0], v = e[1], w = e[2], d = e[3]\n",
    "            self.adj[int(e[3])][int(e[0])].append((int(e[1]), int(e[2])))\n",
    "            \n",
    "        \n",
    "\n",
    "    def Dijkstra(self, domain, start, to_show=False):\n",
    "        if(to_show):\n",
    "            dis = np.full((self.NUM_NODE+self.pad,), np.inf)\n",
    "        else:\n",
    "            dis = self.distance[domain][start]\n",
    "        # pre = np.full((self.NUM_NODE+self.pad,), -1)\n",
    "        pre = self.pre_node[domain][start]\n",
    "        dis[start] = 0\n",
    "        pre[start] = start\n",
    "\n",
    "        PQ = PriorityQueue()\n",
    "        PQ.put((dis[start], start))\n",
    "\n",
    "        while not PQ.empty():\n",
    "            curr = PQ.get()\n",
    "            u = curr[1]\n",
    "            d = curr[0]\n",
    "\n",
    "            for e in self.adj[domain][u]:\n",
    "                if e[1] + d < dis[e[0]]:\n",
    "                    dis[e[0]] = e[1] + d\n",
    "                    pre[e[0]] = u\n",
    "                    PQ.put((dis[e[0]], e[0]))\n",
    "        \n",
    "        # return pre\n",
    "    \n",
    "\n",
    "    def build_graph(self):\n",
    "        for d in range(self.pad, self.NUM_DOMAIN+self.pad):\n",
    "            for v in range(self.pad, self.NUM_NODE+self.pad):\n",
    "                self.Dijkstra(d, v)\n",
    "                if len(self.adj[d][v]) != 0:\n",
    "                    self.domain_start_nodes[d].append(v)\n",
    "    "
   ]
  },
  {
   "cell_type": "code",
   "execution_count": null,
   "metadata": {},
   "outputs": [],
   "source": [
    "test = GraphDomain('test.txt')"
   ]
  },
  {
   "cell_type": "code",
   "execution_count": null,
   "metadata": {},
   "outputs": [
    {
     "data": {
      "text/plain": [
       "{1: {1: [(5, 5), (2, 1)],\n",
       "  2: [(7, 2), (3, 2)],\n",
       "  3: [],\n",
       "  4: [],\n",
       "  5: [],\n",
       "  6: [(8, 1)],\n",
       "  7: [],\n",
       "  8: [(6, 2)],\n",
       "  9: []},\n",
       " 2: {1: [(2, 3)],\n",
       "  2: [(7, 1), (9, 2)],\n",
       "  3: [],\n",
       "  4: [],\n",
       "  5: [(4, 2), (1, 2), (6, 2)],\n",
       "  6: [],\n",
       "  7: [(6, 1), (5, 2)],\n",
       "  8: [(9, 1), (9, 5)],\n",
       "  9: []},\n",
       " 3: {1: [(2, 2), (5, 1), (6, 5)],\n",
       "  2: [(4, 1)],\n",
       "  3: [(2, 2), (6, 1), (9, 1)],\n",
       "  4: [],\n",
       "  5: [(4, 3)],\n",
       "  6: [(8, 4), (9, 2)],\n",
       "  7: [(3, 1), (8, 5)],\n",
       "  8: [],\n",
       "  9: [(3, 3)]}}"
      ]
     },
     "metadata": {},
     "output_type": "display_data"
    }
   ],
   "source": [
    "test.adj"
   ]
  },
  {
   "cell_type": "code",
   "execution_count": null,
   "metadata": {},
   "outputs": [
    {
     "data": {
      "text/plain": [
       "{1: {1: array([inf,  0.,  1.,  3., inf,  5., inf,  3., inf, inf]),\n",
       "  2: array([inf, inf,  0.,  2., inf, inf, inf,  2., inf, inf]),\n",
       "  3: array([inf, inf, inf,  0., inf, inf, inf, inf, inf, inf]),\n",
       "  4: array([inf, inf, inf, inf,  0., inf, inf, inf, inf, inf]),\n",
       "  5: array([inf, inf, inf, inf, inf,  0., inf, inf, inf, inf]),\n",
       "  6: array([inf, inf, inf, inf, inf, inf,  0., inf,  1., inf]),\n",
       "  7: array([inf, inf, inf, inf, inf, inf, inf,  0., inf, inf]),\n",
       "  8: array([inf, inf, inf, inf, inf, inf,  2., inf,  0., inf]),\n",
       "  9: array([inf, inf, inf, inf, inf, inf, inf, inf, inf,  0.])},\n",
       " 2: {1: array([inf,  0.,  3., inf,  8.,  6.,  5.,  4., inf,  5.]),\n",
       "  2: array([inf,  5.,  0., inf,  5.,  3.,  2.,  1., inf,  2.]),\n",
       "  3: array([inf, inf, inf,  0., inf, inf, inf, inf, inf, inf]),\n",
       "  4: array([inf, inf, inf, inf,  0., inf, inf, inf, inf, inf]),\n",
       "  5: array([inf,  2.,  5., inf,  2.,  0.,  2.,  6., inf,  7.]),\n",
       "  6: array([inf, inf, inf, inf, inf, inf,  0., inf, inf, inf]),\n",
       "  7: array([inf,  4.,  7., inf,  4.,  2.,  1.,  0., inf,  9.]),\n",
       "  8: array([inf, inf, inf, inf, inf, inf, inf, inf,  0.,  1.]),\n",
       "  9: array([inf, inf, inf, inf, inf, inf, inf, inf, inf,  0.])},\n",
       " 3: {1: array([inf,  0.,  2., 10.,  3.,  1.,  5., inf,  9.,  7.]),\n",
       "  2: array([inf, inf,  0., inf,  1., inf, inf, inf, inf, inf]),\n",
       "  3: array([inf, inf,  2.,  0.,  3., inf,  1., inf,  5.,  1.]),\n",
       "  4: array([inf, inf, inf, inf,  0., inf, inf, inf, inf, inf]),\n",
       "  5: array([inf, inf, inf, inf,  3.,  0., inf, inf, inf, inf]),\n",
       "  6: array([inf, inf,  7.,  5.,  8., inf,  0., inf,  4.,  2.]),\n",
       "  7: array([inf, inf,  3.,  1.,  4., inf,  2.,  0.,  5.,  2.]),\n",
       "  8: array([inf, inf, inf, inf, inf, inf, inf, inf,  0., inf]),\n",
       "  9: array([inf, inf,  5.,  3.,  6., inf,  4., inf,  8.,  0.])}}"
      ]
     },
     "metadata": {},
     "output_type": "display_data"
    }
   ],
   "source": [
    "test.distance"
   ]
  },
  {
   "cell_type": "code",
   "execution_count": null,
   "metadata": {},
   "outputs": [
    {
     "data": {
      "text/plain": [
       "array([-1,  1,  1,  2, -1,  1, -1,  2, -1, -1])"
      ]
     },
     "metadata": {},
     "output_type": "display_data"
    }
   ],
   "source": [
    "test.Dijkstra(1, 1, to_show=True)"
   ]
  },
  {
   "cell_type": "code",
   "execution_count": null,
   "metadata": {},
   "outputs": [
    {
     "name": "stdout",
     "output_type": "stream",
     "text": [
      "{1: [1, 2], 2: [2, 7], 3: [7, 3, 9]}\n"
     ]
    },
    {
     "data": {
      "text/plain": [
       "({1: [1, 2], 2: [2, 7], 3: [7, 3, 9]}, 4.0)"
      ]
     },
     "metadata": {},
     "output_type": "display_data"
    }
   ],
   "source": [
    "test.show_path([(1, 1, 2), (2, 2, 7), (3, 7, 9)])"
   ]
  },
  {
   "cell_type": "markdown",
   "metadata": {},
   "source": [
    "### **Encoding Version 1**\n",
    "\n",
    "####     Gene has  two parts:\n",
    "*   Priority of the Domain\n",
    "*   End node of the domain"
   ]
  },
  {
   "cell_type": "code",
   "execution_count": 9,
   "metadata": {},
   "outputs": [],
   "source": [
    "t = [[1], [3]]"
   ]
  },
  {
   "cell_type": "code",
   "execution_count": 10,
   "metadata": {},
   "outputs": [
    {
     "data": {
      "text/plain": [
       "[[1, 8, 5], [3, 2, 5]]"
      ]
     },
     "execution_count": 10,
     "metadata": {},
     "output_type": "execute_result"
    }
   ],
   "source": [
    "t[0].append(8)\n",
    "t[0].append(5)\n",
    "t[1].append(2)\n",
    "t[1].append(5)\n",
    "\n",
    "t"
   ]
  },
  {
   "cell_type": "code",
   "execution_count": 11,
   "metadata": {},
   "outputs": [
    {
     "data": {
      "text/plain": [
       "array([[1, 8, 5],\n",
       "       [3, 2, 5]])"
      ]
     },
     "execution_count": 11,
     "metadata": {},
     "output_type": "execute_result"
    }
   ],
   "source": [
    "import numpy as np\n",
    "\n",
    "np.array(t)"
   ]
  },
  {
   "cell_type": "code",
   "execution_count": 13,
   "metadata": {},
   "outputs": [
    {
     "data": {
      "text/plain": [
       "3"
      ]
     },
     "execution_count": 13,
     "metadata": {},
     "output_type": "execute_result"
    }
   ],
   "source": [
    "len(t[0])"
   ]
  },
  {
   "cell_type": "code",
   "execution_count": 64,
   "metadata": {},
   "outputs": [],
   "source": [
    "import numpy as np\n",
    "\n",
    "\n",
    "class EncodingV1(GraphDomain):\n",
    "\n",
    "\n",
    "##################################### Version 1 ########################################\n",
    "#                                 Encoding Version 1                                   #\n",
    "# Gene has  two parts:\n",
    "#    Priority of the Domain\n",
    "#    End node of the domain\n",
    "\n",
    "    def Decode(self, indiv):\n",
    "        if len(indiv[0]) == self.NUM_DOMAIN: return indiv\n",
    "\n",
    "        result = [[], []]\n",
    "        for i in range(len(indiv[0])):\n",
    "            if indiv[0][i] <= self.NUM_DOMAIN:\n",
    "                result[0].append(indiv[0][i])\n",
    "                result[1].append(indiv[1][i])\n",
    "        return np.array(result)\n",
    "\n",
    "    def Cost(self, indiv):\n",
    "        indiv = self.Decode(indiv)\n",
    "\n",
    "        path = []\n",
    "        weight = np.inf\n",
    "        domains = np.argsort(-np.array(indiv[0])) + 1\n",
    "        curr_domain = domains[0]\n",
    "        end_domains = []   #(domain, weight, index in path)\n",
    "        start_node = self.START_NODE\n",
    "\n",
    "        for next_domain in domains[1:]:\n",
    "            start_node_set = []\n",
    "            for v in self.domain_start_nodes[next_domain]:\n",
    "                if self.distance[curr_domain][start_node][v] != np.inf:\n",
    "                    start_node_set.append(v)\n",
    "\n",
    "            dis_to_end = self.distance[curr_domain][start_node][self.END_NODE]\n",
    "            if  dis_to_end != np.inf :\n",
    "                end_domains.append(curr_domain, weight+dis_to_end, len(path))\n",
    "\n",
    "            if len(start_node_set) == 0:\n",
    "                if len(end_domains) == 0:\n",
    "                    continue\n",
    "                else:\n",
    "                    break\n",
    "\n",
    "            end_node = start_node_set[int(indiv[1][curr_domain-1])%len(start_node_set)]\n",
    "            weight += self.distance[curr_domain][start_node][end_node]\n",
    "            path.append((curr_domain, start_node, end_node))\n",
    "            curr_domain = next_domain\n",
    "            start_node = end_node\n",
    "\n",
    "        dis_to_end = self.distance[curr_domain][start_node][self.END_NODE]\n",
    "        if  dis_to_end != np.inf :\n",
    "            end_domains.append(curr_domain, weight+dis_to_end, len(path))\n",
    "        \n",
    "        if len(end_domains) == 0:\n",
    "            return path, np.inf\n",
    "        else:\n",
    "            endDomain = min(end_domains, key=lambda tup: tup[1])\n",
    "            path[endDomain[2]] = (endDomain[0], path[endDomain[2]][1], self.END_NODE)\n",
    "            \n",
    "            return path[:endDomain[2]+1], endDomain[1]\n",
    "\n",
    "\n",
    "    def show_path(self, indiv):\n",
    "        path, weight = self.Cost(indiv)\n",
    "\n",
    "        res = {}\n",
    "        for pi in path:\n",
    "            path_i = []\n",
    "            domain = pi[0]\n",
    "            start = pi[1]\n",
    "            end = pi[2]\n",
    "            pre = self.pre_node[domain][start]\n",
    "            curr = end\n",
    "            while(pre[curr] != curr):\n",
    "                path_i.append(curr)\n",
    "                curr = pre[curr]\n",
    "            path_i.append(start)\n",
    "            res[domain] = path_i[::-1]\n",
    "\n",
    "        if(weight != np.inf):\n",
    "            print(res)\n",
    "        else:\n",
    "            print('Error path: Not find path to end node!')\n",
    "        return res, weight\n",
    "\n",
    "        "
   ]
  },
  {
   "cell_type": "markdown",
   "metadata": {},
   "source": [
    "### **Encoding Version 2 - Encode Priority**"
   ]
  },
  {
   "cell_type": "code",
   "execution_count": null,
   "metadata": {},
   "outputs": [],
   "source": [
    "import numpy as np\n",
    "\n",
    "\n",
    "class EncodePriority(GraphDomain):\n",
    "\n",
    "##################################### Version 2 ########################################\n",
    "#                                 Encode Priority                                      #\n",
    "\n",
    "\n",
    "    def Decode(self, indiv):\n",
    "        if len(indiv) == self.NUM_DOMAIN: return indiv\n",
    "        result = []\n",
    "        for i in indiv:\n",
    "            if i <= self.NUM_DOMAIN:\n",
    "                result.append(i)\n",
    "        return np.array(result)\n",
    "\n",
    "\n",
    "    def Cost(self, indiv):\n",
    "        indiv = self.Decode(indiv)\n",
    "        domains = np.argsort(-np.array(indiv)) + 1\n",
    "\n",
    "        dis = np.full((self.NUM_NODE+1,), np.inf)\n",
    "        dis[self.START_NODE] = 0\n",
    "\n",
    "        for d in domains:\n",
    "            for u in self.domain_start_nodes[d]:\n",
    "                if (dis[u] != np.inf):             \n",
    "                    for i in range(1, 1+self.NUM_NODE):\n",
    "                        if dis[u] + self.distance[d][u][i] < dis[i]:\n",
    "                            dis[i] = dis[u] + self.distance[d][u][i]\n",
    "        \n",
    "        return dis[self.END_NODE]\n",
    "\n",
    "\n",
    "    def show_path(self, indiv):\n",
    "        # find path                  \n",
    "        indiv = self.Decode(indiv)\n",
    "        domains = np.argsort(-np.array(indiv)) + 1\n",
    "\n",
    "        dis = np.full((self.NUM_NODE+1,), np.inf)\n",
    "        end_domain = np.full((self.NUM_NODE+1,), -1)            #end domain of shortest path to the node\n",
    "        pre = np.full((self.NUM_DOMAIN+1, self.NUM_NODE+1, 2), -1)\n",
    "        dis[self.START_NODE] = 0\n",
    "        end_domain[self.START_NODE] = 0\n",
    "\n",
    "        for d in domains:\n",
    "            for u in self.domain_start_nodes[d]:\n",
    "                if (dis[u] != np.inf):             \n",
    "                    for i in range(1, 1+self.NUM_NODE):\n",
    "                        if dis[u] + self.distance[d][u][i] < dis[i]:\n",
    "                            dis[i] = dis[u] + self.distance[d][u][i]\n",
    "                            end_domain[i] = d\n",
    "                            pre[d][i][0] = end_domain[u]\n",
    "                            pre[d][i][1] = u\n",
    "\n",
    "        # show path\n",
    "        res = []\n",
    "        curr = (end_domain[self.END_NODE], self.END_NODE)\n",
    "\n",
    "        while curr[1] != self.START_NODE:\n",
    "            domain = curr[0]\n",
    "            start_node = pre[curr[0]][curr[1]][1]\n",
    "            path = []\n",
    "\n",
    "            pre_node_in_domain = self.pre_node[domain][start_node]\n",
    "            curr_node = curr[1]\n",
    "            while(pre_node_in_domain[curr_node] != curr_node):\n",
    "                path.append(curr_node)\n",
    "                curr_node = pre_node_in_domain[curr_node]\n",
    "            path.append(start_node)\n",
    "\n",
    "            res.append({domain: path[::-1]})\n",
    "\n",
    "            curr = pre[curr[0]][curr[1]]\n",
    "            \n",
    "        if(dis[self.END_NODE] != np.inf):\n",
    "            print(res)\n",
    "        else:\n",
    "            print('Error path: Not find path to end node!')\n",
    "        return res, dis[self.END_NODE]\n",
    "        "
   ]
  }
 ],
 "metadata": {
  "interpreter": {
   "hash": "b0fdbd91fa1014f333c33329988a7a04d464deba86e034a82d46dbd46f2ee1d2"
  },
  "kernelspec": {
   "display_name": "Python 3.8.8 64-bit ('base': conda)",
   "language": "python",
   "name": "python3"
  },
  "language_info": {
   "codemirror_mode": {
    "name": "ipython",
    "version": 3
   },
   "file_extension": ".py",
   "mimetype": "text/x-python",
   "name": "python",
   "nbconvert_exporter": "python",
   "pygments_lexer": "ipython3",
   "version": "3.8.8"
  },
  "orig_nbformat": 4
 },
 "nbformat": 4,
 "nbformat_minor": 2
}
