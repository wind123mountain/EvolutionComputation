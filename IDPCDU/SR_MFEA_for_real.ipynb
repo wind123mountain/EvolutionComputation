{
 "cells": [
  {
   "cell_type": "code",
<<<<<<< HEAD
   "execution_count": 9,
=======
   "execution_count": 24,
>>>>>>> a12e0a89cea650257c56a2671e8fe83a107a176a
   "id": "153da417",
   "metadata": {},
   "outputs": [],
   "source": [
    "import numpy as np\n",
    "import matplotlib.pyplot as plt\n",
    "import pandas as pd\n",
    "import random\n",
    "import os\n",
    "from scipy.stats import rankdata"
   ]
  },
  {
   "cell_type": "code",
<<<<<<< HEAD
   "execution_count": 10,
=======
   "execution_count": 25,
>>>>>>> a12e0a89cea650257c56a2671e8fe83a107a176a
   "id": "cc8573b7",
   "metadata": {},
   "outputs": [
    {
     "name": "stdout",
     "output_type": "stream",
     "text": [
      "0 idpc_10x10x1000.idpc\n",
      "1 idpc_10x20x2713.idpc\n",
      "2 idpc_10x5x425.idpc\n",
      "3 idpc_15x15x3375.idpc\n",
      "4 idpc_15x30x12111.idpc\n",
      "5 idpc_15x7x1504.idpc\n",
      "6 idpc_20x10x2492.idpc\n",
      "7 idpc_20x20x8000.idpc\n",
      "8 idpc_20x40x26104.idpc\n",
      "9 idpc_25x12x4817.idpc\n",
      "10 idpc_25x25x15625.idpc\n",
      "11 idpc_25x50x57147.idpc\n",
      "12 idpc_30x15x10025.idpc\n",
      "13 idpc_30x30x27000.idpc\n",
      "14 idpc_30x60x89772.idpc\n",
      "15 idpc_35x17x13934.idpc\n",
      "16 idpc_35x35x42875.idpc\n",
      "17 idpc_35x70x123585.idpc\n",
      "18 idpc_40x20x18485.idpc\n",
      "19 idpc_40x40x64000.idpc\n",
      "20 idpc_40x80x130681.idpc\n",
      "21 idpc_45x22x43769.idpc\n",
      "22 idpc_45x45x91125.idpc\n",
      "23 idpc_45x90x322081.idpc\n"
     ]
    }
   ],
   "source": [
    "sc = \"Datasets/IDPCDU_Edges/set1/\"\n",
    "TaskNames = os.listdir(sc)\n",
    "TaskNames.sort()\n",
    "\n",
    "for i in range(24):\n",
    "    print(i, TaskNames[i])"
   ]
  },
  {
   "cell_type": "code",
<<<<<<< HEAD
   "execution_count": 11,
=======
   "execution_count": 26,
>>>>>>> a12e0a89cea650257c56a2671e8fe83a107a176a
   "id": "68c2bc88",
   "metadata": {},
   "outputs": [],
   "source": [
    "from build_real import GraphDomain \n",
    "\n",
    "def Load_data(taskIDs):\n",
    "    Tasks = [0, 0]\n",
    "    MAX_DIM = 0\n",
    "    NUM_TASK = 2\n",
    "\n",
    "    for i in range(2):\n",
    "        path = sc + TaskNames[taskIDs[i]] \n",
    "        Tasks[i] = GraphDomain(path,name=TaskNames[taskIDs[i]])\n",
    "        MAX_DIM = max(MAX_DIM, Tasks[i].NUM_DOMAIN)\n",
    "\n",
    "    return Tasks, NUM_TASK, MAX_DIM\n"
   ]
  },
  {
   "cell_type": "code",
<<<<<<< HEAD
   "execution_count": 54,
=======
   "execution_count": 27,
>>>>>>> a12e0a89cea650257c56a2671e8fe83a107a176a
   "id": "d0e0e513",
   "metadata": {},
   "outputs": [],
   "source": [
<<<<<<< HEAD
    "Tasks, NUM_TASK, MAX_DIM = Load_data([2,3])"
=======
    "Tasks, NUM_TASK, MAX_DIM = Load_data([12,13])"
>>>>>>> a12e0a89cea650257c56a2671e8fe83a107a176a
   ]
  },
  {
   "cell_type": "code",
<<<<<<< HEAD
   "execution_count": 55,
=======
   "execution_count": 28,
>>>>>>> a12e0a89cea650257c56a2671e8fe83a107a176a
   "id": "fb9b270e",
   "metadata": {},
   "outputs": [],
   "source": [
    "\n",
    "def GeneratorIndiv(dims=MAX_DIM):\n",
    "    indiv = np.random.sample(dims)\n",
    "\n",
    "    fac_cost = []\n",
    "    for task in Tasks:\n",
    "        fac_cost.append(task.Cost(indiv))\n",
    "    \n",
    "    return indiv, fac_cost"
   ]
  },
  {
   "cell_type": "code",
<<<<<<< HEAD
   "execution_count": 56,
=======
   "execution_count": 29,
>>>>>>> a12e0a89cea650257c56a2671e8fe83a107a176a
   "id": "65e59695",
   "metadata": {},
   "outputs": [],
   "source": [
    "def Generate_Eval(sizePop, d = MAX_DIM):\n",
    "    population = []\n",
    "    pop_cost = []\n",
    "    for i in range(sizePop):\n",
    "        pi, f_cost = GeneratorIndiv(d)\n",
    "        population.append(pi)\n",
    "        pop_cost.append(f_cost)\n",
    "    population,pop_cost = np.asarray(population),np.asarray(pop_cost)\n",
    "    rank = rankdata(pop_cost,axis=0,method='ordinal')\n",
    "#     skill_factor = np.argmin(rank,axis = 1)+1\n",
    "#     fitness = 1/np.min(rank,axis = 1) \n",
    "#     return population,pop_cost,rank,skill_factor,fitness\n",
    "    return population,pop_cost,rank"
   ]
  },
  {
   "cell_type": "code",
<<<<<<< HEAD
   "execution_count": 57,
=======
   "execution_count": 30,
>>>>>>> a12e0a89cea650257c56a2671e8fe83a107a176a
   "id": "e135f379",
   "metadata": {},
   "outputs": [],
   "source": [
    "def heSo(n,m,TH=0.4):\n",
    "    # a1 + b1 = 1\n",
    "    # a1*m+b1 = TH\n",
    "    # a2*m + b2= TH\n",
    "    # a2*n + b2 = 0\n",
    "    a1 = (1-TH)/(1-m)\n",
    "    b1 = 1 - a1\n",
    "    a2 = TH/(m-n)\n",
    "    b2 = (TH-a2*m)\n",
    "    return a1,b1,a2,b2"
   ]
  },
  {
   "cell_type": "code",
<<<<<<< HEAD
   "execution_count": 58,
=======
   "execution_count": 31,
>>>>>>> a12e0a89cea650257c56a2671e8fe83a107a176a
   "id": "7253ae3a",
   "metadata": {},
   "outputs": [],
   "source": [
    "def fm(a1,b1,a2,b2,n,m,r,TH=0.4):\n",
    "    if r >= 1 and r <m:\n",
    "        return a1*r+b1\n",
    "    elif r == m:\n",
    "        return TH\n",
    "    elif r >= m+1:\n",
    "        return a2*r+b2"
   ]
  },
  {
   "cell_type": "code",
<<<<<<< HEAD
   "execution_count": 59,
=======
   "execution_count": 32,
>>>>>>> a12e0a89cea650257c56a2671e8fe83a107a176a
   "id": "caf2dc5b",
   "metadata": {},
   "outputs": [],
   "source": [
    "def abilitiVector(rank,TH,n,m):\n",
    "    a1,b1,a2,b2 = heSo(n,m,TH)\n",
    "    abiVector =[]\n",
    "    for x in range(len(rank)):\n",
    "        df =[]\n",
    "        for item in rank[x]:\n",
    "            df.append(fm(a1,b1,a2,b2,n,m,item,TH))\n",
    "        abiVector.append(df)\n",
    "    return np.array(abiVector)"
   ]
  },
  {
   "cell_type": "code",
<<<<<<< HEAD
   "execution_count": 60,
=======
   "execution_count": 33,
>>>>>>> a12e0a89cea650257c56a2671e8fe83a107a176a
   "id": "28378a94",
   "metadata": {},
   "outputs": [],
   "source": [
    "import math\n",
    "\n",
    "def cross_SBX(p1, p2, nc = 1):\n",
    "    u = np.random.random_sample()\n",
    "    if u < 0.5:\n",
    "        beta = math.pow(2*u, 1/(nc+1))\n",
    "    else:\n",
    "        beta = math.pow(0.5/(1-u), 1/(nc+1))\n",
    "\n",
    "    c1 = 0.5*((1+beta)*p1 + (1-beta)*p2)\n",
    "    c2 = 0.5*((1-beta)*p1 + (1+beta)*p2)\n",
    "\n",
    "    return c1, c2"
   ]
  },
  {
   "cell_type": "code",
<<<<<<< HEAD
   "execution_count": 61,
=======
   "execution_count": 34,
>>>>>>> a12e0a89cea650257c56a2671e8fe83a107a176a
   "id": "d4f04a7d",
   "metadata": {},
   "outputs": [],
   "source": [
    "def Diff_Mutation(y1,y2,y3,y4):\n",
    "    F = np.random.random_sample()\n",
    "    return y1 + F * (y4 - y1 + y2 - y3)"
   ]
  },
  {
   "cell_type": "code",
<<<<<<< HEAD
   "execution_count": 62,
=======
   "execution_count": 35,
>>>>>>> a12e0a89cea650257c56a2671e8fe83a107a176a
   "id": "5719107c",
   "metadata": {},
   "outputs": [],
   "source": [
    "def Poly_Mutation(p,nm = 1):\n",
    "    u = np.random.random_sample()\n",
    "    if u <= 0.5:\n",
    "        phi = np.power(2*u,1/(nm+1)) -1\n",
    "        return p + phi*p\n",
    "    else:\n",
    "        phi = 1 - np.power(2-2*u,1/(nm+1))\n",
    "        return p + phi*(1-p)"
   ]
  },
  {
   "cell_type": "code",
<<<<<<< HEAD
   "execution_count": 63,
=======
   "execution_count": 36,
>>>>>>> a12e0a89cea650257c56a2671e8fe83a107a176a
   "id": "a53ef0b8",
   "metadata": {},
   "outputs": [],
   "source": [
    "def mutation(individual, e = 0.15):\n",
    "    n = len(individual)\n",
    "    res = np.array(individual)\n",
    "\n",
    "    index1 = np.random.randint(n)\n",
    "    index2 = np.random.randint(n)\n",
    "    while index1 == index2:\n",
    "        index2 = np.random.randint(n)\n",
    "\n",
    "    res[index1] -= e\n",
    "    res[index2] += e\n",
    "\n",
    "    return res"
   ]
  },
  {
   "cell_type": "code",
<<<<<<< HEAD
   "execution_count": 64,
=======
   "execution_count": 37,
>>>>>>> a12e0a89cea650257c56a2671e8fe83a107a176a
   "id": "8f83eafa",
   "metadata": {},
   "outputs": [],
   "source": [
    "def paradox_mutation(indiv):\n",
    "    n = len(indiv)\n",
    "    index1 = 0\n",
    "    index2 = np.random.randint(n)\n",
    "\n",
    "    # if index1 > index2:\n",
    "    #     temp = index1\n",
    "    #     index1 = index2\n",
    "    #     index2 = temp\n",
    "\n",
    "    while index1 < index2:\n",
    "        temp = indiv[index1]\n",
    "        indiv[index1] = indiv[index2]\n",
    "        indiv[index2] = temp\n",
    "        index1 += 1\n",
    "        index2 -= 1\n",
    "\n",
    "    return indiv"
   ]
  },
  {
   "cell_type": "code",
<<<<<<< HEAD
   "execution_count": 65,
=======
   "execution_count": 38,
>>>>>>> a12e0a89cea650257c56a2671e8fe83a107a176a
   "id": "e8dc3e6f",
   "metadata": {},
   "outputs": [],
   "source": [
    "def Offspring_Generation(pop,abiVector,task,Pa,Pb,m):\n",
    "    n = pop.shape[0]\n",
    "    x_star = pop[abiVector[:,task].argmax()]\n",
    "    offs_gen = []\n",
    "    abi_gen = []\n",
    "    for indiv in range(int(m/2)):\n",
    "        index1 = np.random.randint(n)\n",
    "        while True:\n",
    "            index2 = np.random.randint(n)\n",
    "            if index1 != index2: break\n",
    "        p1,p2 = pop[index1],pop[index2]\n",
    "\n",
    "        if np.random.random_sample() < Pa:\n",
    "            c1,c2 = cross_SBX(p1,p2)\n",
    "\n",
    "            # if np.random.random_sample() < Pb:\n",
    "            #     c1 = Diff_Mutation(c1, p1, p2, Tasks[task].indvi_best)\n",
    "            #     c2 = Diff_Mutation(c2, p2, p1, Tasks[task].indvi_best)\n",
    "            if np.random.random_sample() < Pb:\n",
    "                c1 = Diff_Mutation(c1, p1, p2, Tasks[task].indvi_best)\n",
    "                c2 = Diff_Mutation(c2, p2, p1, Tasks[task].indvi_best)\n",
    "        else:\n",
    "            c1 = paradox_mutation(p1)\n",
    "            c2 = paradox_mutation(p2)\n",
    "\n",
    "\n",
    "        if np.random.random_sample() < 0.5:\n",
    "            a1 = abiVector[index1]\n",
    "            a2 = abiVector[index2]\n",
    "        else:\n",
    "            a1 = abiVector[index2]\n",
    "            a2 = abiVector[index1]\n",
    "        \n",
    "        offs_gen.append(c1)\n",
    "        offs_gen.append(c2)\n",
    "        abi_gen.append(a1)\n",
    "        abi_gen.append(a2)\n",
    "    return np.array(offs_gen), np.array(abi_gen) "
   ]
  },
  {
   "cell_type": "code",
<<<<<<< HEAD
   "execution_count": 66,
=======
   "execution_count": 39,
>>>>>>> a12e0a89cea650257c56a2671e8fe83a107a176a
   "id": "17e39602",
   "metadata": {},
   "outputs": [],
   "source": [
    "MAX = np.inf"
   ]
  },
  {
   "cell_type": "code",
<<<<<<< HEAD
   "execution_count": 67,
=======
   "execution_count": 40,
>>>>>>> a12e0a89cea650257c56a2671e8fe83a107a176a
   "id": "dc5e1848",
   "metadata": {},
   "outputs": [],
   "source": [
    "def Select_Eval(offs_gen,abi_gen,task,k):\n",
    "    size_gen = offs_gen.shape[0]\n",
    "    tmp = np.arange(size_gen)\n",
    "    random.shuffle(tmp)\n",
    "    \n",
    "    new_gen = []\n",
    "    new_fc = []\n",
    "    for x in tmp:\n",
    "        indiv = offs_gen[x]\n",
    "        abi_x = abi_gen[x]\n",
    "        fc = []\n",
    "        for js in range(k):\n",
    "            # print(\"js\",js)\n",
    "            # print(\" abi_x[js]\", abi_x[js])\n",
    "            if js == task or np.random.random_sample() <= abi_x[js]:\n",
    "                cost = Tasks[js].Cost(indiv)\n",
    "            else:\n",
    "                cost = MAX\n",
    "            fc.append(cost)\n",
    "        new_fc.append(fc)\n",
    "        new_gen.append(indiv)\n",
    "    return np.array(new_gen),np.array(new_fc)"
   ]
  },
  {
   "cell_type": "code",
<<<<<<< HEAD
   "execution_count": 68,
=======
   "execution_count": 41,
>>>>>>> a12e0a89cea650257c56a2671e8fe83a107a176a
   "id": "ffe31313",
   "metadata": {},
   "outputs": [],
   "source": [
    "def updateAbility(pop_cost,TH,n,m):\n",
    "    rank = rankdata(pop_cost,axis=0,method='ordinal')\n",
    "    abiVector = abilitiVector(rank,TH,n,m)\n",
    "    return abiVector"
   ]
  },
  {
   "cell_type": "code",
<<<<<<< HEAD
   "execution_count": 69,
=======
   "execution_count": 42,
>>>>>>> a12e0a89cea650257c56a2671e8fe83a107a176a
   "id": "54f7ce64",
   "metadata": {},
   "outputs": [],
   "source": [
    "from tqdm import tqdm"
   ]
  },
  {
   "cell_type": "code",
<<<<<<< HEAD
   "execution_count": 70,
   "id": "d2fb3486",
   "metadata": {},
   "outputs": [],
   "source": [
    "a = [1,2,3]\n",
    "b = [2,3,4]\n",
    "listIndex = []"
=======
   "execution_count": 43,
   "id": "425ce5fc",
   "metadata": {},
   "outputs": [],
   "source": [
    "def selectNewPop(pop,pop_cost,off_gen,off_fc,k):\n",
    "    tmp = np.arange(off_gen.shape[0])\n",
    "    random.shuffle(tmp)\n",
    "    new_pop = []\n",
    "    new_cost = []\n",
    "    for task in range(k):\n",
    "        index = pop_cost[:,task].argmin()\n",
    "        new_pop.append([pop[index]])\n",
    "        new_cost.append([pop_cost[index]])\n",
    "    new_pop.append(off_gen[tmp[:-2]])\n",
    "    new_cost.append(off_fc[tmp[:-2]])\n",
    "    return np.concatenate(new_pop), np.concatenate(new_cost)"
>>>>>>> a12e0a89cea650257c56a2671e8fe83a107a176a
   ]
  },
  {
   "cell_type": "code",
<<<<<<< HEAD
   "execution_count": 71,
   "id": "1bc5af55",
   "metadata": {},
   "outputs": [],
   "source": [
    "listIndex.extend(a)"
   ]
  },
  {
   "cell_type": "code",
   "execution_count": 72,
   "id": "9df6d290",
   "metadata": {},
   "outputs": [],
   "source": [
    "for x in b:\n",
    "    if x not in listIndex:\n",
    "        listIndex.append(x)"
   ]
  },
  {
   "cell_type": "code",
   "execution_count": 73,
   "id": "fc93e997",
   "metadata": {},
   "outputs": [
    {
     "data": {
      "text/plain": [
       "[1, 2, 3, 4]"
      ]
     },
     "execution_count": 73,
     "metadata": {},
     "output_type": "execute_result"
    }
   ],
   "source": [
    "listIndex"
   ]
  },
  {
   "cell_type": "code",
   "execution_count": 74,
=======
   "execution_count": 44,
>>>>>>> a12e0a89cea650257c56a2671e8fe83a107a176a
   "id": "bc126b6d",
   "metadata": {},
   "outputs": [],
   "source": [
    "def SREMTO(n,TH,Pa,Pb,epochs=200):\n",
    "    population,pop_cost,rank = Generate_Eval(n)\n",
    "    k = len(Tasks)\n",
    "    m = int(n/k)\n",
    "    abiVector = abilitiVector(rank,TH,n,m)\n",
    "    \n",
    "    log = []\n",
    "    KTI = []\n",
    "    for epoch in tqdm(range(epochs)):\n",
    "        off_gen = []\n",
    "        off_fc = []\n",
    "        for task in range(k):\n",
    "            index = abiVector[:,task].argsort()[-m:]\n",
    "            if task == 0:\n",
    "                setA = set(index)\n",
    "            elif task == 1:\n",
    "                setB = set(index)\n",
    "            group = [population[index],pop_cost[index],rank[index],abiVector[index]]\n",
    "            \n",
    "            offs_gen,abi_gen = Offspring_Generation(group[0],group[3],task,Pa,Pb,m)\n",
    "            \n",
    "            new_gen,new_fc = Select_Eval(offs_gen,abi_gen,task,k)\n",
    "            \n",
    "            off_gen.append(new_gen)\n",
    "            off_fc.append(new_fc)\n",
    "        KTI.append(len(setA.intersection(setB))/n)\n",
    "\n",
    "        \n",
    "        \n",
    "        off_gen = np.concatenate(off_gen)\n",
    "        off_fc = np.concatenate(off_fc)\n",
    " \n",
    "        \n",
    "        # population = np.concatenate([population,off_gen],axis=0)\n",
    "        # pop_cost = np.concatenate([pop_cost,off_fc],axis=0)\n",
    "        \n",
<<<<<<< HEAD
    "        #update\n",
    "        # tmp_pop = []\n",
    "        # tmp_cost = []\n",
    "        listIndex = []\n",
    "        for task in range(k):\n",
    "            index = pop_cost[:,task].argsort()\n",
    "            if task == 0:\n",
    "                listIndex.extend(index[:m])\n",
    "            elif task == 1:\n",
    "                iter = 0\n",
    "                for i in index:\n",
    "                    if iter < m and i not in listIndex:\n",
    "                        # print(i)\n",
    "                        listIndex.extend([i])\n",
    "                        iter +=1\n",
    "        population = population[listIndex]\n",
    "        pop_cost = pop_cost[listIndex]\n",
=======
    "        # #update\n",
    "        # tmp_pop = []\n",
    "        # tmp_cost = []\n",
    "        # for task in range(k):\n",
    "        #     index = pop_cost[:,task].argsort()[:m]\n",
    "        #     tmp_pop.append(population[index])\n",
    "        #     tmp_cost.append(pop_cost[index])\n",
    "        # population = np.concatenate(tmp_pop)\n",
    "        # pop_cost = np.concatenate(tmp_cost)\n",
    "        # abiVector = updateAbility(pop_cost,TH,n,m)\n",
    "\n",
    "        population,pop_cost = selectNewPop(population,pop_cost,off_gen,off_fc,2)\n",
>>>>>>> a12e0a89cea650257c56a2671e8fe83a107a176a
    "        abiVector = updateAbility(pop_cost,TH,n,m)\n",
    "        \n",
    "        best = []\n",
    "        for task in range(k):\n",
    "            index = pop_cost[:,task].argmin()\n",
    "            indiv = population[index]\n",
    "            cost = Tasks[task].Cost(indiv)\n",
    "            best.append(cost)\n",
    "        log.append(best)\n",
    "    return np.array(log),KTI"
   ]
  },
  {
   "cell_type": "code",
<<<<<<< HEAD
   "execution_count": 75,
=======
   "execution_count": 45,
>>>>>>> a12e0a89cea650257c56a2671e8fe83a107a176a
   "id": "d6865fc0",
   "metadata": {},
   "outputs": [
    {
     "name": "stderr",
     "output_type": "stream",
     "text": [
<<<<<<< HEAD
      "100%|██████████| 500/500 [00:28<00:00, 17.57it/s]\n"
=======
      "100%|██████████| 500/500 [02:05<00:00,  3.97it/s]\n"
>>>>>>> a12e0a89cea650257c56a2671e8fe83a107a176a
     ]
    }
   ],
   "source": [
    "log_seeds = []\n",
    "\n",
    "\n",
    "for i in range(1):\n",
    "    np.random.seed(0)\n",
    "    random.seed(0)\n",
    "    Tasks[0].best = np.inf\n",
    "    Tasks[0].indivi_best = []\n",
    "    Tasks[1].best = np.inf\n",
    "    Tasks[1].indivi_best = []\n",
    "\n",
<<<<<<< HEAD
    "    log,KTI = SREMTO(100,0.9,0.7,1,epochs=500)\n",
=======
    "    log,KTI = SREMTO(100,0.7,0.7,1,epochs=500)\n",
>>>>>>> a12e0a89cea650257c56a2671e8fe83a107a176a
    "    # population,pop_cost,rank,abiVector =  SREMTO(100,0.7,0.7,1,epochs=1000)\n",
    "    # log_seeds.append(log)"
   ]
  },
  {
   "cell_type": "code",
<<<<<<< HEAD
   "execution_count": 76,
=======
   "execution_count": 46,
   "id": "8ae2ecaf",
   "metadata": {},
   "outputs": [
    {
     "data": {
      "text/plain": [
       "[0.21, 0.21, 0.2, 0.19, 0.24, 0.17, 0.2, 0.21, 0.23, 0.18]"
      ]
     },
     "execution_count": 46,
     "metadata": {},
     "output_type": "execute_result"
    }
   ],
   "source": [
    "KTI[-10:]"
   ]
  },
  {
   "cell_type": "code",
   "execution_count": 47,
>>>>>>> a12e0a89cea650257c56a2671e8fe83a107a176a
   "id": "28f6cdd8",
   "metadata": {},
   "outputs": [
    {
     "data": {
<<<<<<< HEAD
      "image/png": "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",
=======
      "image/png": "iVBORw0KGgoAAAANSUhEUgAAAYAAAAD4CAYAAADlwTGnAAAAOXRFWHRTb2Z0d2FyZQBNYXRwbG90bGliIHZlcnNpb24zLjMuNCwgaHR0cHM6Ly9tYXRwbG90bGliLm9yZy8QVMy6AAAACXBIWXMAAAsTAAALEwEAmpwYAABy2klEQVR4nO29ebwdRZk3/n36nHOXrGSFkAQSIIAZdiKMCkJAFFwGwdHBUcaZ0R/iiNvoOKgzvjrOqwyuM46C6KCOg7jCKyOLIIuArAFCIIQlhJCV7NvNcu89p+v3R3d1P11dVd191pt76ptPPvecPtW1dFc9Tz1rkRACDg4ODg7dB6/THXBwcHBw6AwcA3BwcHDoUjgG4ODg4NClcAzAwcHBoUvhGICDg4NDl6Lc6Q4UwdSpU8WcOXM63Q0HBweH/QqPPfbYZiHENPX6fsUA5syZg0WLFnW6Gw4ODg77FYjoZd11pwJycHBw6FI4BuDg4ODQpXAMwMHBwaFL4RiAg4ODQ5fCMQAHBweHLoVjAA4ODg5dCscAHBwcHLoUjgE4ODg4WLBm2x7c/dzGTnejJXAMwMHBwcGCN33zXvzNDx/tdDdaAscAHBwcHCzYPVTrdBdaBscAHBwcHLoUjgE4ODg4dCkcA3BwcHDoUjgG4ODg4NClcAzAwcHBoUvhGICDg4NDl8IxAAcHB4ccEEJ0ugtNh2MADg4ODjkwCum/YwAODg4OeTAK6b9jAPs7Bqs1nPute/Hrx9bgtH+7C2u27Yl+W7x6OxZ+7R4MDFYL1fmX338Iv3psDX67ZB0u/O4fm93l/Q6+L/C2b9+P25e+0umujHrs2jeMM796N5as2Z5ZdseeYbz+yrvxzLqdre8YAH8UigCOAeznWL5xAM++sguf/OWTWLNtL3712JrotytvexYvbd6NJ1dvL1TnAy9uwad++SQu++kTeHzVdvj+6Jv4RbBnuIan1u7Ax3++uNNdGfVYtHIbVm7Zg6/f/nxm2fuWb8KqrXvwn3e/0IaeORWQwwjEXiVPSaXU2Cvlhi6i4O9QzW+ozv0d1OkOdCEox0OXU5XyFG4CnATgMOKwR2EAZS9eDHK+Fpm3w7W4cMULpsdgtbsZgHwio3D9jziIApp2SZAdg64fuRgAEZ1LRM8R0XIiulzz+3uIaEn4/wEiOj68fhQRLWb/dxLRx8PfvkBEa9lvb27qyLoEKQbQoAQwzHb75RKlrnUjpFQ0GneAIw1+ONW8Nu3qi2A0vv9yVgEiKgH4DoBzAKwB8CgR3SSEeIYVewnAGUKIbUR0HoBrAJwqhHgOwAmsnrUAbmT3fVMI8bWmjKRLsWcoaeCtlOKFI9dQkbU0xHb7UpoYchKAQ5tRhPy3i1mMQvqfSwI4BcByIcQKIcQQgJ8BOJ8XEEI8IITYFn59CMAsTT1nA3hRCPFyIx12SCKtAmpMApD6fqLYntD1DCAc/ihc/yMORZ5xpAJqk7AwGiWAPNRiJoDV7Pua8JoJ7wdwq+b6RQCuV65dFqqNriWiSbrKiOgSIlpERIs2bdqUo7vdBdUIzG0A9UAS+7JHKHlOBQSwhT/61v+IgyhA1CMjcAv7k2ivTe20E3kYgO75ap8FES1EwAD+UbneA+DPAPySXb4KwOEIVETrAXxdV6cQ4hohxAIhxIJp06bl6G53IW0DaJAB1CQD8CIJoNuNwKNx5zfykT2P2+0FJEbhMsjDANYAmM2+zwKwTi1ERMcB+AGA84UQW5SfzwPwuBBig7wghNgghKgJIXwA30eganIoCNUG0KgROJIAShQxk253A/UjAcAxglajyBOWZdsnAYy+95+HWjwKYB4RzQ138hcBuIkXIKJDANwA4GIhhC6C491Q1D9ENIN9vQDA00U67hBgt8oAmqQCqpQ8ZwQOIdUSThBoPeJdfZ6y7dUBjcZ4yEwGIISoArgMwO8ALAPwCyHEUiK6lIguDYt9HsAUAN8NXToXyfuJaAwCD6IblKqvJKKniGgJgIUAPtH4cPYfvLJjH/YNN37Y9MC+JANolEit2DwAACh5FBmUh2s+hms+1u/Y21jlbYYQAqu3xqkxBgar2Lp7qHA97Vr4NV9g7fbgGW/cmW9+rN66Z7/JUqm+D0MpAPloeiwBUI56szEwWMWWgUFzezmec9H34ft5nknrkEtfIIS4RQhxpBDicCHE/w2vXS2EuDr8/AEhxCQhxAnh/wXs3j1CiClCiB1KnRcLIY4VQhwnhPgzIcT6Zg5spONPv3InLvvp4w3Xo9oAGtFXL123A5/4+ZMAgIrHVEBVH5+94Sm85it3pVROIxn/89DLOP3KOK/M66+8Gyd96Y7C9chn2moye+Vtz+J1V9yFDTv34ZQv34n/778XWcs/tGILTr/ybtzw+NoW96w5+M3idTj9yrvxwPLNmWVzqfXDF/Lrx9fg9CvvxtNrd9jLZ+Csr92Dk//198bfszYCi1dvx+lX3o3rHl6Vu83v3rMcp195N1ZsGsh9TzPhIoE7gGqoU//9so0N16US/EYYwPrt+6LP5ZIX2ROGqj7uWBaYbwaH9x910CMrA8/klzbvBoC6dv8AYwAt3mnf+0JAGDeHu9D7XrATyuc37AIQEJ79Ac+sD5K2LbEQ6iKPWNXJr2pwJ71xl3n3r2tPhXwfT6zanrvNPy4PzKXrd+zLKNkaOAbQAfB0C41CXTCN0KgxPaXoc9mj2AZQ8wvpZkcb2qVhkY92P9HoFIacX6rUysHVOllQd+StnppZ76UWdqgeO1ynlpVjAB1AM42q6pxsRALo4wygRAkjcOSf3YWZV9qlApLMddQzAEt68mJG4OT3Vm9Ost6LlOyLuGJ32rPIMYAOYLAW7ICaMWFVtYROT5mXKfDu8DgALgF0If2P3UBbvFblfKiNUg7Q3xNkntljMW5LgpiLASjEs9XxAFnrSEr2dWXk7dC6cgygA5ASQDNymKgEX6enzuvFwstVSkkjcDdHw7bLy0ZKVzV//7GzFMHYIhJAgUAwiZargDJ+r/pxFP3+AscAOgC5U2jGPFEnpY5W5ZUAeLlyyUu4gUYpkUcBByhK0NvlBhpJAKOT/kdOBTYbQIRcEoByS6slgIyJUA1/LxVRAXV4OTkG0AFICaAZEzatAkrPqLwEr8YmeNmjKLMolwA6PWGbgWpBit42CSCcD9VRygHkc8xjBM5ZYeJrp/fdVakCKpCQsYjRuxVwDKADiFVAza+b0za5PvLSE848KiUPXsIInC6zv6KoEb5tEkD4tyiD2l8gp44tliR2NshGTXlOrTYCZ839eozAEp3yrnMMoAOQuXWaYQNQ56RukuZWATG6WPIo2p4M1QRTAe3/KJrdtN1Mb7Qagf0cEoAk6nmkY9WbuuNeQA24gXYKjgF0AHIHWmoGA1BIsu5M39wqIOVeuWC5G+hooE3FJYD2DFrSjVoT40RGEvxIAjAzAFkmz8pQdfKd9gKKGEARLyBnA+gs9g3X8M07nsdgtfG8PCoefHEL7nhmQ+o6P3SlUaQlgHQZee2e5zbiMzc8FeWbSZcTiXvk9z8u3xwZrkeiEfiVHfvw/XtX5GZ0Wemtdw9W8a3fP4+r7nkRq7bswTfv0OU3bD4iG0CDXkD3v7AZdy5LzzuJ3z+zIVc6hqK49an1eOSlrcbfYwmgit8uWYfHXk6XzTK0cqiqsk57AQ3X6vcC6pTMkHkk5GjHd+9ejv+4azmmjOvBX71mTlPrfvf3HwIArLziLYnrw1ICaIKoWEQF9K3fv4DFq7dj/ozxuFgzVr74hBAR43guDHHXtTcS8MGfLMKTa3bgnPkHYs7UsZnls1RAX/3dc/jRAysBAP9227PN6GIuyNkw1KAE8N7/ehhAet5JfCDMMWT6vV586LrHrfVKBj1Y9fHV3z2HPzl4Ak4+dHKijJRC82yO1Lneagkga4NRrSMOoNMbqq6XALbUmR+mETTVBqBMIN0GSupVI5WOgcDIcn0VD74Q2gk/EhnA9r3DAPJL01nnG3RiTgAx0Rsepem3+dwZHPaxa1/aGBwd85ijvpQRuJHO5UC2DaB+yb5Ty6rrGYA8UrG/Usoo2Tw00w00TyCYvFTKyO8v66p4Hnxfz0w6vWPRQRKNvAJVlg1gb4cynkpXwNF6BCefT0M1H7s1AWENqYBa7gVk/12qSYuMIa67M+vKMYAwLH1MT/u0YU11Ay2gApJGZzMDiANZfCEMMQWNdLY1kH3KK1FlMoAmnNNQF6QEkJMBxMHZI/ClaMDn01DVx4CGARTxAkoZgVssA2Q9Z+kGWoT+R++wQ6/QMYBwsfdV2vco2q0Cio80DGAiMDyboRAmCWDkoejiyVIB7c0TqdoCyA1BozYAiZEWUMal00ACSD/nIl5AbZcAMh5nVVG15oEs6SSADkG6pLUzEGOohUZgbSqIcGJKAm8igHISlj2zDaAe8bbVKBqlnCUB5EpV0AIUVQFFu2UDudzdoXGYEE0dYZYAIkJYhxG41TQ0WwKo31VatWe0C13PAORur52bpaa6gSrfbSog7tevQ6QC8ggCI1Pdo4PstymASl1cI1UFVNQInLVr1BHYViHPxkD2dzjcSg8MVlObjCympiur1t8q5DUC19MPpwLqEGRYejs58HATs4GqC8iWDVTuUEwSgLxc2U9tAKZ3qF7POpCnYxJAQRtAVsoInZG1VRjOEbsguyuff80XqZiMIm6g6ntt9dTMGwlczAZQXG3UTHQ9A5ASQDsP1pYEuBnGu7QEkC6TWwJgkYw8ECzZ3sjjAHG+fn3f1HEM1ewEvlM2ALnrzWsDyNq0tFMCyBNdLd8P77fqClpAA9QyCYDPI/45OxdQIzaA/P1rJnIxACI6l4ieI6LlRHS55vf3ENGS8P8DRHQ8+20lET1FRIuJaBG7PpmI7iCiF8K/k5ozpGKQ4n4786/IxdKMkP8igWCRDSBDBRQYgYWBmTTQ2RYhIixGBpD8PtJVQHlTVWSpXQY0fvatQp4+6+amKqUUkcRT77tJc5N3gfcnq3opudWzmRyxEgARlQB8B8B5AOYDeDcRzVeKvQTgDCHEcQC+BOAa5feFQogThBAL2LXLAdwphJgH4M7we9uxJ7IBtO8FSLG3GVkfc50IphqBDYtVLqhyqALSxxSMPA6gMjgV8rqXk8B2yiAnUVQFxKUy/n7aqQLK8qwC9HNTlVJiN9DsNtUNVLOIqJoSJW/99aiAorpHsBH4FADLhRArhBBDAH4G4HxeQAjxgBBiW/j1IQCzctR7PoAfh59/DODtuXrcZEhifNezGzHn8ptzh/6f840/4B9/taSuNuUClxPmwRe3YM7lN2OdIUePii/fsgxfuGkpgPSu5P89sRZzLr85sfjl3JIEnhOYFZsGMOfym/Hk6u2xCsgSCFbzBeZcfjN+9MeXcvW1HVCPbLzomgfxvmsfYb/H4wLMuYC27R7CnMtvbl1HM6DLBXTW1+7Bk6u3p8re+MQa/PudLwBIvie+qdhVkAF89Pon8Pbv/LHQPU+t2YE5l9+M13zlrsyyOgKqMoC8SQfnXH4zfr5otXJvZhdywTeofXT1L98YrJ+n1uyozw1UyHbq62ujyMMAZgLgT3pNeM2E9wO4lX0XAG4noseI6BJ2/UAhxHoACP9O11VGRJcQ0SIiWrRp06Yc3a0Pz28YAAA8/vK2jJIBXtg4kJqAeSF3OdJP+6ePrAIAPLrSnEiLY/Gq7Xh67Q4A6Um5auseAMD6HTEzSamAGAO469mNAIDfLF4XRwJbjMCSeF7Rxhw5WVDH99CKrfjD8/FcUXdXpvX5PMt51AlICYUzqBWbd2P5xoFU2W/fuTz6zMfHpZuiksxNT67DYg2zseHGJ9bmLqt77ikVUGSvstWTz9ZTL3g1CRWQpv7fh0n3frtkXXSUZ10SQIck6zzhrzphTNtbIlqIgAGcxi6/TgixjoimA7iDiJ4VQtybt4NCiGsQqpQWLFjQsqc0HEXxtf5FyJ1CvSqgwZofEYs8RlmVQJp2wPL3kiUQbEQeCKNIOCqkpkA+K9Mzq+cgj2ZCtq56KemeucdiSKoGBtCeuZzff1pHQNMqIHPZuIz+t2aNljedkABsZSk2AtcjioxYGwCCHf9s9n0WgHVqISI6DsAPAJwvhNgirwsh1oV/NwK4EYFKCQA2ENGM8N4ZADbWM4BmQVXL2NCoHtxvkAEMV/2U2sPaniSQfloFlCwX/F4pmQPBOq0f1yEOBDPsDKWuPEPcLhU4yq+VUCN4dd3lKYe5BMDfbTtoSpE5nMcGkMct0tRks+xTCRUQexU6PT3fTNTlBqpps53IM+MfBTCPiOYSUQ+AiwDcxAsQ0SEAbgBwsRDieXZ9LBGNl58BvBHA0+HPNwF4X/j5fQB+08hAGoX0zc9jjGnUT1zuVOsN1R+qFTugpZ5AMJMKaCSeDRwzONPvcucfwNT3Tp/k5BlyNekIG48h4ZIPl+7qJYhFmHyROay1AezTG4FtXTARy1bYAPiztUkAHhHLBVSHBNChrB2ZKiAhRJWILgPwOwAlANcKIZYS0aXh71cD+DyAKQC+GxqyqqHHz4EAbgyvlQH8VAhxW1j1FQB+QUTvB7AKwDubOrKCkL7XeXY0jXpX8J1CPdb/oaof5S7Kc7ecj7JdoxdQeDnKBaQpFonoRTrcYmR6ASkSgmmBNiMwrxFEbqAKUdUNi6urEiqgGlcB2dsTQmiTru0eqmJCXyVHj5naIwd0/THbAIqrgJolnJo8f/SBkcE1Qp1eQB0OBMuVAlMIcQuAW5RrV7PPHwDwAc19KwAcb6hzC4Czi3S2lZCicx4XvEYDbDjRryf+YKjq59KVqu0VzQWkm5QjUQUku5mlAsokiB1na/pcQLphcWZlMgJnzY2aLyJGorqP5mUAwwXmg94GkJSmI3WdpR6jBNCk95cI/uLj01QvixLxXEAFnolST7sxMpSeIwBy0eUJaGmUAXAiWmQHJTGcQwWUCGaRuwxpA8iMBCb4Ql/3SGQAWbmA1C6bpK5OieEScSqIZP90BI8nEuTvZLiABMAlB67WLBJA1rAKaHBYKRP8tRFR03tqngoo/lxLSACaNsO/BKrLDVTXTjvhGECIWALIfhFNZQB1UJ2hqs/02vr+VmsiZfSsZkgAUSCYRxDhv1S9/sjTAcmu5M0FZOp6pxahROwFlG0DMDGAIl5A/D4+p4vM7zzrJe5P8nulRKmU0PFmxVyPmdE35/2ZAsF064FLAPujG6hjACHkRM46MByANo95EfAJXI8EMFjL9gLiKhxV920ao9wZlyyBYCPRDVQ1ckfX2Y4sT06XTo9Ntp4yAmvKlgxG4LxpJIDk3KuXARTZwKjPd9KYnlSwmp9jF93q95T0AsqSAJgNoJ5cQMomrd3oagag21kNVbOJuxRbe8r1Pb6kBFDszQshMFzzM3WlVZ9LACLRltkNNNhZeoQwF5DOBhD2YwSJANE4lWFxxpDYyZmYZofVW3I+qu9H1y+jBFDLLwFw4s3VPkWcHIqoBNXuTB7bk2orfmfmeowqvCYxBl5NViCY/JkoVgHV041OpVjpKgaweuserNm2J/r++KptqTJ5cppIw1UfYwCPrtxqnJimnOdAvh3U02t3YNe+4bC8CIO0krt7FQ+t2BKl6K35QTlZVLdLHKrVsOjlrfAoMDCabQCxquyWp9YX2nHWg80Dg/h/T6zFthwHtT+0YkviHSxdtxNAMH7dQh6s1hJzoJX2jUUrt0b1P/byNu1zi+M0FEkm/PrEqm3YFyaqy6cCsvdpX9XHojD6nBPiO5eZQ3J27BnGsvU7o++6zYT6XKP+KB2aNKYHj728DTv3xXYA7tywfsdevLxld/TbkjXbsWeoalQBtcIN9MVNcRQ2r3/Dzn1YwX4jitfyM+t2YseepG1Dh0de2hozvFS0usDDK7a0nDF0FQM4/cq7cdq/3Q0gYAbvuOrBVJk8Ok15aLiUAP64fDPeefWD+N69K7Tl1XdYxAhcrfl467fvxwd+HCRSlQs8UgEZ7rvi1mfxxKrtYfsiarMnTPWsGu/+56FVeGjFVgzXBDwvqUJK9If1/e+uexx/fHGztf+N4nt/eBEf//liXJsj99AP7n8JP3xgZfRdpsVQxyI/feGmpbjwuw9ERKZV9H/Ryq3486sfxLfvegHLNw7gHVc9gH+9+ZlUOdl+ygYAYO32vbjguw/gczcGYTRmIzBndPZ+ffW2Z/HnVz+IJ1dvT5we9svH1hgZ+0Xffwjn/ft90Xd1/vZXSvjyzctw4XcfSKWwUJ/voVPGAAB+FqZCCcrEUttrvnIXzvjqPQCAnfuG8Wf/+Ud89PonjO+pFW6g/3FXnHKDS72nfvlOnPX1P0QPmRuBH1m5FRdcZc+pdO/zm/Cu7z0Yb1KUvl//yGr8xTUP4danX2lkKJnoKgbAoeYhl6j5InMnqKpt1m4L8u7w3QKHSkhNIru2P+G9ckcVM4AMDqC0L/ss4wdsjI5CCSCPG+hgi1MnS++UvDn6V2jege8nGYD8vHh1kE9J6rxbpVtev2MfgCB/1I69gSTzVJjLKdFPgwpICIHte4L7lq4L7ksEghkkSpvfelBXQHw27hqMJLszj5qWqodD7v4jpwnW9pieEvoqXpRX65Vw3Kb+/PNbg6TCe4fSfVaX4OBwUGYxS1poG1sj4PVT4rqmbLQMRYLhrti0O12YYcPO5LNR+/7S5uAZrt66B61E1zIAW8xPllpD9SuPImgNlarztYjRTk469bzYPP7SvH3Zx/6eUma7kQ1AO+H16olWIcvFM10+fa0mhKICCv5KKUhmCW2VCsiPdolxugltWgGDis5n6jtJ+HnUssmpwKazBuLxBhJicG3auN7EbyZIlVGNTZIxPSXUfIEx4RzLOldBStC8/3EksLl9Yy6gFrw+AWDquJ7oc/p3Ye2TCWreKXW83LuolehaBmCL+swkygrhlxPYM6QSMHmn5GkrWhxKpsg8/tJRHUyq6a8Ei3PQcipWYAMw5QJK191KxEQqb/n08/T9JDOTXZZ1y8XYKgmAE+9SlPLZLF2p0hm3+ch0RSVDLiC+c9fbcHhZRnjDwpWQKJteayV8VlJq4gwnSCESbzLkcatRP5UOlYiCexKeNvr3zdUvrQ4ES6aAFhGt0EtUwd/CDEDJO6XeLr/mORu5EXQxAzD/lqmWkbsU5W/J8DTViVP1RbT7yWyrFu8eefk83hIS3AbQV8mWAAhSatD0x0/vTlsJSaTyLjAtYRVCyekSEtpwLLYFrqIeT6GIeFNMwHXjMamA+LuQfTVlA60miKm5L0DSDiTfa0/JLKEAQF85mD+SAfC+ygjySAJQ1Hbq8/W8gCEmGJFBAuBfzW682suFoXqMSWara1ZeKs4AkgQoFaviJIDWwqoCyiDKau6Z+MSpnCogX0Q7cVNUblRWqg+U06y47jELvoj7KHdn2TaAbCMw0PoQ9iiNRc6GdEZ11Z4R7dqU0P08Qa31MDxVfRO0Zd5Nqs+YS2Mydw+faSanAtuOFWA5khCPXe7wTc+7N5y3sQooLlcpUWJuqyogHY2UDgdqGZvdzPSeWuEF5DMJQH9CXrp/eVBSGIBad7vcrLuWAdiQrQIKXo6a/MmUnyWtNxdMFZNP2pB1q+cW5Jn0PtsB9+eQADyynAegIU6tRJxiPV872p21LxL9jvztDbYce3/qlwCIKFJF6erJE/wk6UZN6OcXZx662hKZLvkcDT9XpARg6It0IpBOFMMpFZBAf0+QYkzNmqt7h2XPSzItg8qvZllPWdeLIhk0GKsIheb3yAZQsO1Kya4CktAl62smupYB2Ohu9pmxwV8190eCAYj0pJao+iKXMTZoKyQeSt8KMwDFBpBlBDbbAMw7s1agFsUy5GtH55de84U2p4uqbsij3qknX1AsAcQ6el1bxhQHvkhtMvh5uAkVUOI8AHsbw5o6IgZgGGdfJAHUwjpUFVA8x1IqIE2dcq6p/bMxgFYfCJNUAYnIbiP7mZBsmiQB2FRerUQXMwDzE87KCMpVQDxiljN1WxIp3xfRQspqSyUKEQMoMOF8FgjVJxmPpV3Pch5Au1VAsZqtWHkO1Z4RqVoUaSrPLq6eXWYsAaSlR7Wf+vuTTETta9IIbN8pC/YcuYFd1qfzzOGQEoCMhufPuxyqgOQ6UCUAXX/KJU/Z3evLmiSexNiaNBlVFZBqA+CpMmTJohH96sbetJ5bnaC8axmAbSFn5QNSF5wkTkkVkLmtmhDoDxdSMn2vua3osJCwMVk2VzpoEXvB5JEAiIL6dTWrBLblKqACaa8BfXriYPxpAhJJcFItk2MR16cCCv56RNF49G6gpp1tLMFJlUBiR5ww7Mr5YphPCXUR87+PJAAy9g/gRmCNBBBSfvlc9w6rXkDp+jzFCGzKBZRIoW6SAJo0FVWPMckAZJ942gzVEYTDtsZSm0JD350RuEWwEa7crpkIJiPX8erqTzGAmsCYUE+alb0xWhyKEZgb8LLgi3ixj8kjAUgbQA41RYs1QLEKyKIe4dClJzYF96nJu3Kp0+oYMJ8fVct4bN4tkjlEEgAniDU+H+PYhiwvoLgOkVYBGY3AoQQQEkFOvKVni3yueWwAJU9P3NW+Z3k32fpcFCYJQIIng7Rl2LXlVNLZBTnalRuoaxmAbbdnIo7X3Psi7nthU+oMVp0baMLtUGmqJkQkSj/w4hb875PBEcuy2tuXvoL/fnBlop86N9Cr//BiFGVqA1dTSdXTLUvW40eG9AqxDSD9m80I/MqOfXj/jx7FDy1pG4aqPj5zw5JEJOT2PUP49K+eTPmNA7ERWD6HLQOD+PSvnoxy4gwrimWdKP7Yy9vw3v96ONVnea9Q2rCh5gus3b4Xn7nhKTy8Ygu+eUd0Aip+cN8K3P3cRizfuAtf/N+l+MPzm/C9P7wYMenrH1mFh1cEuXc27BzEvc9vStRtznMf2wB2D9bw6V89mcifs27Hviinz7AvUClRKMXpmEz8mScvU43AWbtsqQLiBlzJAORz3T1YxYad+/CZG5YkUphzlD0Pu4eq+MdfLcGWgUHGjJVNE++rUQWkvazFE6u24Ru3P4dbnlqP6x5+OfHbdQ+/jNueXh/VmZIAGGGXDF23abRlVU2vo+Tv8isB+MmDK3H70takhMh1IthohG5+95Y9DFZ9bTARAHz5lmcBABf/6aHRtZrGQAfYRdYaswHcFBJ/fs8lP3kMAPBXr5mTEv25G+gVtz6bqDcg3Ol+1wRPBRG0+/NFqwEA//SWV6XKexY3UJU38jKLV2/Hnc9uxB+e34S/ed3cdEcA3PXsBlz/yGps2z2Mqy8+GQDwrd+/gF8sWoP5Mybgr5X7agqR/urvnsMvFq3BSYdMwkWnHIJ9wwoD0DDvtdv3Jr7H6rOwDcUG8JbjZuDmJeu1/R+s+vjkLxbjoRVbcX2Yw+YT5xwJAPjXm5cBAI6YPg7LNw7gh39cCQD4l/P/JLr/3+98Ifr8V9c+gpVXvCX6biNs8ren1u5IpJG48KSZuOHxtbjjmQ1YMGdyqIMnEEhbn84dlo89igMwEFM5j+Rz55slyTyGq0GZwaqP//Obpbht6Ss448jpiTrlUvE84LfsWZviW/IYgYtIABd894HE97885ZDo8/WPrMb1j6zGyiveorUB7GNGYDlWHQMYtGQWThF8Q9+JCP/8m6UAkJgrzULXSgC6yRIZwDIMjqonhd4LyNwWD5fP6lPMAGR7kiBqdlOGSDRfxPXo2lUR5wJK/5YKBPM5QQk+5zGI6VQRukhqNdZC1i2fdfpM2cymjeK37P/n3pxmihK7B6sp1YYKNcgnr9rI5t6o++3UuZPxjXedgCljexKRuRXPy2UD4JDPt1K2B8VFx4pqCJ4klHJXPFxL7vp1dfL0KYKpokxGYG5IbyZMVfqCewEF17iNcJiNVYWNjtjiHGz9aTa6lgHodhFZ4q+EurvXMQBd7hn+m9yJJ+q1LFjVDVTbf0sqCkm3+3KcYaDzNJFIBynpP5uR9Knm7eh8nlW/ee5RA6TF7DxHFKrdVAPBbGlCdg1WU+6NKjPuV5hsnkOGgHxeQBzSP31sbzlmAL6PUokiJp6nDQHGADLWgHy+QzU/9aylAVm6l9Z8Hs6UDG2ST5jr17kqKmUkTairtF1riDGY7vR9HgkcMj82bjlWndrYRkfUOZNWASXneauQiwEQ0blE9BwRLSeiyzW/v4eIloT/HyCi48Prs4nobiJaRkRLiehj7J4vENFaIloc/n9z84aVDd1kqWgOyM66d7jmRy+ab8CtRmBfoFLyMn2BgZjgSuKo5gJK9N9A3IUQ0a5MJU66ietpPE2ivluMV3kWoBxyIpgm/KxLplf1kxKPvE32UWUAefT4psUX53Qy37t7sJoZ4dqvMHeur7fB5t6o+00+g3G95UgSqvoCZc8z7pRN0kiUF8mzG4G50VM9GU/eK3fDaZfh+Lucz+oaiO0SQnsdMDsENLJrNts80iogLv3IA6SkKihPncFvye+m591qN9BMGwARlQB8B8A5ANYAeJSIbhJC8ITmLwE4QwixjYjOA3ANgFMBVAF8UgjxOBGNB/AYEd3B7v2mEOJrzRxQXuh2EVk+0BL85fEgI67CsOksa+Gk6il52OvHi8iqAgq/21I4qAmmeB2ybhmlKaHzVJBtmaJqE98LMgDdLj+Odk6XV43AccyFXgWUFVcBmIOMbIxIYvdgNaEDlvdzQqaq2XbuzXfCljHNMfQMX6qaxnEJoOaj7BGGjWlJzAzAI2bwNDxGafQdqvoYUIz2pZL0AvKjsnEvSFtnic3Z4FxdvQrIjzZCdm+peqFzQACCZx8xAJlDqsYZQPBZF9FvoyNZXj8jSQV0CoDlQogVQoghAD8DcD4vIIR4QAixLfz6EIBZ4fX1QojHw8+7ACwDMLNZnW8EupeTWwXE7q36fvSySgkbACeMyv2hWKkeKakjAKqLqc1FtVIyLfqYaam7U935xqaspkCWCigHAwj/isR95nbjXEDBd9UmMrBPZQDZfTDZALJyOgFBCoSsJGe9yjPesTevBGC47uslAEmYxvaWmApIoFyiVIStrQ0hgvVQ9rxIijURL+71oj57qYKU70CX00giVgGp/dOrgEyBb4lxNBALbDofxBc8G2hwja9BKZHbTngz1ZsoqzKA8O9ISAUxE8Bq9n0N7ET8/QBuVS8S0RwAJwJ4mF2+LFQbXUtEk3SVEdElRLSIiBZt2rRJV6QuaI3A4WzUzX3Tjj4IBEvr6/huJy3O+iiRhgGkGIWIdlxRMjhLGmc1xzhvP1IBKcRJN/Ftc84WCJYnTYKsW5cqQ0d4VZVAlgrI5nkhob5f+d1mjJbQqYBUQqc+4+25GYB5Z6sjJpEKqK8SMfJqTaDsSRuAeUOhXvP94CS4rMyokQqo6qeevXRCiFRAmqymEvJVJ4zAIqcKyKiu0V7OBROT9kUsaelUQDEDSM87uw0g3Y7u91YLAnkYgG41aPtFRAsRMIB/VK6PA/BrAB8XQsgDRa8CcDiAEwCsB/B1XZ1CiGuEEAuEEAumTZuWo7t6qN4qul2ETQIwnbRUZV5A/KWaUkFIn24vVAEl+qjMiiHmRaEagXWoGFRAvoiJs8p0dmn007YdsM1bIeliqJ+6smr+qy6VRvSb4gWUZQRW3UJ1SDFa5f2pemmOgcGq1UURSEtiO/aYzzNOzkt9GR4JzCEZ/rjeUsTIa75AuWT2AtLHBgTeNyWimAEYjcCxGiTFACIvoOQ7s7WdsoP56bWk9sdEVxsJnjJJAEKIaEMg5wm3m8kNh07ytNsAsp5NKEXlzYFSJ/IwgDUAZrPvswCsUwsR0XEAfgDgfCHEFna9goD4XyeEuEFeF0JsEELUhBA+gO8jUDW1DCpB1nsBUaqshCnNbtUXWs8FfcRlXKbsUYpQ6BhA2g3UPKlMhIvbKdQyOgOl7awEm/ta0jhuYABI7qaAWL2jYzyRj77CAOR31Qag6ud1UFUFkauptOUYxt9T8qIUCBwqsRxSDII2CWAP62/NFykGDZiDn3RG4OHQBmDyAtLRExkpXfIomh9GLyCpAqr5qWdfilRAoWuk5ewIOQ/4fCRKe3vxPurqSdavvZwLJkN9QgIIryUkgGGzCsimEk3bOJK/y5+zzgxvFHkYwKMA5hHRXCLqAXARgJt4ASI6BMANAC4WQjzPrhOA/wKwTAjxDeWeGezrBQCerm8I+aCqcPReQFIFpJMA9AS9WvOjiadTa6jX5QIqeWTVpwPBpIqNwEkvIB1MDMAXIvLfV8vodj42CUCdkCZbhzHVhEUC0DKAFOFPXh8YrCWIZh6Xy0wVkGH8Y3tLWqO5+h5VqWr7HjMD4PX5QmBCXyVVxhdCSwhiG0AZe4drESEvl4LZYtrtq5DroeTFEoDJBsDjAFQJoKKogGqpucK+yEAwRQVUi9Jz6NtVP3M0ogKy2gAsbqCRCkgz323xMClHBIMROOtskkaRyQCEEFUAlwH4HQIj7i+EEEuJ6FIiujQs9nkAUwB8N3TpXBRefx2AiwGcpXH3vJKIniKiJQAWAvhEE8eVwI49w4loUB69C8S6fzUQjJ+kxUUxfu/mgUGWwjb+y3fAgkkcktN7RNqzXzmGNRJAVh5/HTYPDEVjUj1cdDsfm+HJlgsoIQFU/YSqTT6/2AicZpY2BiAlrSjYrCYZwDDG9RYLaK/5+uRwkReQgZGO6ytrw/vV97ZpYDDx3WYEXr11TzQuXwAT+tJjCXTj5sArOf6BwSqGfYGS50X5nFTI58afmdS9BwwgvqYD93tXjcBlxQg8rDxjnRFYtVvpJIB9wzVs2R2r0UwH1td8P+3i6wts3LkPQgTPeEP4WcUqw+Hrvi+sNgAZFKiVAMJ5ps9Qa95IceSNIakXuVaOEOIWALco165mnz8A4AOa++6HwZVVCHFxoZ42gK/e/ix+8eia6Lt6SHilRBiqMRtA+DL+/hdP4sYn1mLlFW9JiqDs86X/83h8Pbz82RufjtIEAMCDKzbjbf95P379odfiqIPGAwgWy+SxPdi4KyYW6hwYqvpxkFR4zebmKPMLqVi2fmeUd6YUqp7kItVLAMYmrLpLVQJ459UPYtHL2/Dbj5yGt377fvzob15tJfI6G4D87YlV23HKl+/EsTMnAIh3V7sHaxjbW8LW3eY+q7jpyXVYuSW+QfY7KxBsbI+eAajP5IlV23P35c+vfhAAsODQSRBCYPLYHqzYnBzM7c+8gp889HLq3hIlGcDuwSpqvo+Kp/cC8n2Bt/3n/QCA8YyZ1UJGnUcFxCWAlApIcQPldfzddY8nypJGAgjuCf7yrr/12/dj+cYBAMFm5hM/f1Lbt/+4azmmT+jDe1mqln+77Vl8794V+MqFx2LzrkF8/Y7ntelP/oOl6OAQAqnzADix3xwyex0D+NyNT2FdmKvr1o+djlfNmBCP07Djj76HMnIep4ZG0BWRwB5RQpRSVUAygEoNBLvxibVRGb6bqQmBY2ZOwHf+8qSEHl/WyYk/ANy+dAMAYNHKrZGI63mE//zLE/Gaw6Yk+sWRUAFZ3EAvevVs3Ph3r8U4jfrg5EMD56qXQqIytreEX136Wlz558cF42L1je8r475PL9QSwKMOHK/to4kxDlV9LHp5GwDg0TBR2V3Pbox+1xmPbTECQLDY5Fe5C9y1r4pxvelxy/GcdMgBAIDjZk3E/7z/VMydOhYAsGTNjlQbWTaA3kpJuyPLE3ym4od//eroHQDAope3oSYE5h88AVe95yScd8xB0W8bdg7qqoiIdZSGuRZIniWDDYATnV6mNotsAESRusOkApIbkKGqj8Gqn3hWlSgQTCTK6iBVmjxtRuBRJwMd4/Yl8dfh3afMxlfZc+RrFojzQL2yYx9eCRMQvqIkUDxgTMXo+abLBaQbl05Vs461s3j1dqXe4O/l5x2Nif0VTVxA8Hcwh1NDI+gaBsCRYgAlL/FXGwGbMAIHQVdvOW5GQpQ20QG50+rvKcXGWAKOmD4e7zh5FrtfYQBMBcSvqRjXW8aJh0zSEi7JALbvDUTosb1lHD/7APzZ8QcDSOopD582DrMnj9HXMyeoJ+0Gyj8zBmBY/JG6BcnnCRjcbw2islRl7B6sYlxv0u3y0CljAADzZ0zAjIn9AIJ3e9q8qdqFzlV3HplVYD0lKuzuZ1JPLZgzCW877uDENd8PfM7PO3ZG9N5skISJ++7LKHOitLGbvx+eN0qqOuUh7fKaDnKswzUfQzU/YX8pR6kgzOlKJCI3UDbZ+HzPm9Zh2vg+vHPBbOPvcp7wNa/q5s86ejomj+nR3u+LdDbQrHTxOqiqV/l833nyLEwZ12N8VnmcGhpBVzAAVacb7Hji75ENwMIAuEdDsFCDz+P6uC5V/xKlnrCvUorVHWFbyfQRyft4Cl3p4ambfCZxGgAm9ge7Y2mIlARJl+5BPicdAdTloQcsKiDDIhEaYq9G4nKYIo+lBDAwWE0R2fHsnUgJTY5N94xiFZCwGsB7wmyxKmpCf3wmED9/FWXPS+m/hYj7Z+uHRMwA5LwN8vNIY67J2A0kz6SVXmJlbgTWvL4gniQmgkNVP+HKrLqB5vFg4eMM5nvwOa9QZVNXAvFGZNiPmYtqQyh7ZIyh4RKAhOkcb1uiRdMJYB4Z3pVsq8U2gK5kADLwRUISiUqBQLDIA6OHSwAmBhBKAJwBaBa6SkSGqn4cCBaKzLqdNUV1pds+YExAgHbsGUbZo0j0l2WrGgagIz6yfVsgGO+/6aSzONJTaK6l+5/ylPKT13cPVjFWYQDSk4YoNuxL4qRb5pGHEfP40KGn5GnjDFSnAg4TA/A8TdZQEW8ssggbwBgAI9pVXwaC2Q2NXHVZE8F9nkfRRkMrBXMVXyQBxEQvFQhmiQzUGYGHqn4q91MWshhllDyxJozxCSWPjGlURAEJwOaMkNJCiPi6zl4jvzoJoAlQ50jVpAIq6/Wfvi8Sej8eHj6+L+lNoYNUAfWUPeaPH/zGJ55O3WM6EzgxPs0nCUmAdg1WMa6vzJhFuqwkJLo1Ja+p/VHzIvG+S+xVfN2BbKYQ/abaHFJeQNXEOwCS7yRiACXJ+HQSgIjasuUB6il7GNQsSKlD10EyYBUlCvT0fHPCGZCNEfE6AKYC8gN30SAVRHpXmXR8SKqA5NjVzJcckoD2lD0M1wQGh/2ELSH2ApJ6fPOmSDcPh6p+xODrlQB0myjZdzmX1BgVj9IxOVF9iNc6twH0auI1bAxA3YRGJ7x58fkbOjgG0ASoi9r3RYKQZdkAqsoC5wxgbA4bgNw1+r6IbAlSbLepgLgbqJw/ehWQRQLoj3WbXFrR0blYAkj/Ji9ZU0Gwn7hxOQ5SinfKvJZ40ZuJTlw2qccdGKwmxgUg4Usv32kkAWjGxiUQG92tlLxUGgjAHFcCWBhApL7hTgRx//LkgEmrgIKUH6ZsoPxRJiQAPw4Es8UByGcuVR27B6uJeirMGK3ekzUGIJjvVY0R2Ias5zTEpBGTBFD2KEWgJZI2gLDOqq9V96iSaLKfar2xCkhnsI+9gJwKqGHoUs4mVEDlpA0gnS5YQA0EU32wdfepqAmRkgB4NkTd7kX1AtJ5INhsAJwA8Z0xEaWInc0GoDuMXO0zX7RcTyoZwO7BalxeIwHkMQLHBsbg2ewZqiXsMAAwIZR6CJRWAekkABZcZlUBlT3tjqzm64/PBICJ/WnjIjc08zMchIglEJskImEyAseBYMnyQrPp4fclGIDFEWJMmOto91A1YQRWI4FN9QD68wCGWFBlTvqfWtvq+40kgJrZCOx5lHgeHL5gcQCIVUBjetLEvogEILvgEaXORQ4bA+AkgKZAnRTpQLCkDUClsVK0lvBFLKInvYAyGACTJPQSQFLSGKxqcgHpGED4V6fG5DpodYeiMgydDSDekcZj4OBfTTaAXSED4Hl0kl5A+VVAg2xB7w5tKyYjMBHQKyWAUrYNQGfw4+gtG2wAIiYuqipBt1PkbagSgGeR5kz1cKIt3UA9Io0XUPw5qQJCZARWXR45pCOEPFNiYDDJANRAMCBtCI7GG/7hjI5nWc0rAeQ1AnMpXs2vYzICB8FjYJHAcZ3quRqAXQLQeSICwRzVqYDkNycBNAEpFZBCaOWkVAPBJKq+gJoMTk48VQVkkwISDECjA/VF0nA2XGOMh6mA1HwxNrXBRCYBqITSzADSZfIYgRMqII0EEDAAkSpr8/xQd2v8sBFZrzounQooGo9mxouofbsNII8KSE3wpyMsZgbAjcDZHECWKTMVUM2XR0Km8+8n3EC57cGP3UBN3l78mtz9DuyrJp5vFI/gmyUAlcHy58OfbV4JIOs58cykPKo8UYfBCCz7EEcCcwkgzQBUW5StnzzqXKsCEk4F1DSo0h0XB4H45ZS88GB1jd6Z72Rk0AyQlgBs58UmJYDgmmoE5u0M6SSAqp861pH0wdYAAr1/WSOtAGm9pI4pRRs2SRgsniUJIzCbuNIIPrCvqt3ZmXy/dRkph9iClgxA3XmNYxKAZJaSJumeVZxwzq5TVok7778p26rq6QMkNyS8PSHi7znof1Q399yJj4S0P8+KKRDMYgOQxJTbAHRuoFwCUBPCRY4G4Xc+17h01TQbQDVbAigRad+TmqMqsgHUTDYAsxuoTQWk9QIK/7ZaBVQsicp+CnWS3PP8xsQL58Y0jwgDg1XcvGR99HvVF7jpyTgBqkkFJATwx+Wbjf3whcADL26O2gKSO1LuZw0EOcbVBGVDNT84T5ilcIiGp1kzpVC8rfoiNUHVSRnbAOJrwbMTZiMwW0smFZDMoLl7KGYAsuzGXfuiKElVenpi9bbUeFZvDSI7q76I0lioNgD+biMGEC3mVJX48QMrMWVsT5gOIf27WpcKfmBLmgGk77GpmXTGYRPkHOTHOFZ9gUq4q6z6Ajc+sQZjesqolAh9zGWzR/ECkjYAmxfQopXB+5DEb5eqAtJIOzqDK6A/EnJvqNLzKH90tcF5B9t2D+HRlVsTNgDJl1QJwKQCksVkn//fE2vxkbOOwFDV19oMTBHpAPD7ZzbglLmTI5Usn48lIry8ZQ9ue/oVzJrUj/uXb8a2MG5HMsU8KsF60CUSQPLpXXnbcwk9/7EzJwIA5k4dA88j/OiBlfjwT+PcJcvW78SvHotzCfFAsCPD3D5A8FJ/cP9Lxn5UfRGliZg1KYhQTZ4iltydDDPfZVlsqOqncv7IGo48cHziumROkkCohiuTCmj25DHoKXkoe4SPnT0PAHD6kcFZDI2ogHYP1lJufu/9QXw+kLrm33HVgzChWhORznhMpYR508cBCMRwPq6YAYQXNDvGZ1/ZhUt+8lhCBfTG+Qcmykwf32tkANytWCUMZY9w/KyJiWs24i5/OnzaOMya1I8DJ/Qay6pG4GooQQYbmSD1xid+/iQ++JPH8Lc/WoS/ZM86oQISmmygGs3Djx9cCQA4InzWe4ZqCXfIgw/oT92julzKfEHyNSQYQLjbLZe8TO8hCZPR/oM/eQyX/OSxKIkcTzOh2iV0RmAuQck2VmzejXtf2IxqTWDK2LRx3xYI9vNFq/HR65+IvsdHXBKOmD4Oq7buwd//YjG+9NtncMWtz0a5uyRTLNt2Jg2gKyQAnV5Xvtzn/vVc9JZL+OQbjwp2QPRkqqyq1pFn+gLAGUdOw4tffjNO+b+/hy/MEaFAHOr/xvkHRomhykouoUTAmUh6KwkhAgmgrEy0cHwfe8M8XHbWEUY9q+q7nFIBhfeddMgkLPvSudG1Dy88Amu2BdkS86aC4Ndl1shhdsCN/PnlLXEWxjxS/5ieEiaN6UHVF5GnUU/Zwx1/f0ZU5jeLg3wwhHhh2yQAiZoQ0c70mr9agPP+/T4sW78TnzznSHzk7Hn4zt3LjffJ8apMwvMIv7nsNMy5/Obomo0ByPuPn30A7v/Hs/Cmb95rzAUUqYCkiiJUAVVCFZANSRVQQCD7KiwQzPAyXnv4FLx6zmR8/76XorQTErMnjcF7Tj0E1z0c58KqaaJuAeYFpGyAgPDchWq+c5RNKqAXNyXzB1VZJHDKLkFpN9D+Skl7QNCOvcOo+gL9PWWsvOItAICFX7sHL23ebdwgSLy0OZmAUNb7lQuPxQFjevBf969IrYHdMotARt31oiskAN0cUY2xNtFbvcTjAOQ90pBjE12lsZAvmqQRWCSTzvmx2yghEOmFCFJKmPqn679cdCnipDwYdUzJwzrkztBiAzDYA6QEwG0acqbzseTR+/ZVSqFKy4/Ee9u4ehUVkI0uyoyYKuQOUBf8I+8zGYF1dgzehrphUO+3EXKdEbhaS+7kTVBVQFE20CjoKd1vIYKdKN+08GfvUXpupnbbkY3DvN5MQVk65FWNcDtNyi5R0kgAMG8auGsoEBu9TTYi3gdeR2xfCwLRar7+QCBAq91tCrqCAegmmRQx1YWiWzeqJV7u5Dk8inWppgksCTgXW7mO2PeTSefUCFOpVkmrgLJWQcgAlAmakhQsq8loA2CEgtMMfn0gFGMTft7hb3wsecL/vdBgV/VFxABUwszH1RNJAPH9JvBdGe+PvCWPCkjti24nbY82ThJQm5FTEmI5hQJvteBIyCzjaMoLSChGYA3jksnyEio2ZTOjPiPVbVmdY3oGkJ8s5YmXAJJBZjoJQF2z3LVXTdci8y1JSCaXJQEkswkk323JI2vktOmIzkbRtQxAvgxVh6grq7r+cRWQBFFIwIVAr6qiCSEPxUi4WSpxAMOKCx1PVSwJnrrLyloDkpBVUjvlZDlbEJTZC4h9VnY4cfvA2J5SuEP1o2uAKgHY25Z9LnseqrVYAki5elJ8n3rKm+1ZBSogTfsh+zMGC/mxCkgtoxtTVrBZomwOCUANwCp72VuChApIBJJDkAvIzAB8IQOXSFtPkFJBYQDV9G4bYBuK8L1w/XkRBmBi6GrvAyZn6JNHiYBMIFjLune3Z6iWiNcAYjtHvRIAEDMyUwI9k0quUXQFA9DthoaqvpbY63YUqiuW7+vVJwLBQjKpCmo+UpNHDQRSJwk/ISne8SoMQNsa669BPaE+F5sEYNoZqnr/ckRAkvdPCo1mUpqSQUrcnmHMG6P0oxyKy8M1vQqIjys+5U2kflNRq+njAORjMbqBMluN2hedVGN7zupO1MawovMAwr/y2Qa5gMz3AckIZKnC4oFg2qA8EXiD6SQsACAvLQGp0rOUeOW49oU67kksHXPWTpojpwAQpCEJ35Hap5JHiecBhOPXSI0D+6pRtLWEtHPwfuv6lZAA/ORck4xXVU/F/TEOrSF0BQPQLerhmq9dJDoCoRqBVe4NyGi+4DczAwgMUbyJcoIBJJPOVf04d5AQsTidUgFlLAKjgVK5z2acNKqAFIalGl0lJocMQDLTWAJgKjDDJOfXg8yNwYlm8nmohJkvWLlQ89gAhmv6TYGsz0SYEoFgZVUCSA/KJgGoc8emslIjgeXpUTytswl8ly03HjwQTPcuZJwCX0+9igSgvgv1RCv1+UrpmkesZ+2kOUzjVK/W/NijTt3QSVfpRPmECii+PjAYMADeblXD/HVSTHJzp8xTzy4BOBVQA9DNp+GaPve7ruxe1QtIYyyUbmM2Q07NT+Z7AdJG4MQk8fUSQFoFZF/s0e5UtQFYjMAphD+lD7JPMoCI4Crl5A5vr8IAetlY8tgAiAJDZI3ZAFTVFh+mGsRjG+KwL7TPMssGwFOLqM9Y506ZlXE02baFASgqIHl6lEwGZ4OqAkoFgmlVQMHGJyEB8F2vpv9pCYBY6XhzxRmAKTe/DnniJYDQA83AAAKpUpXcYrULZ9gDg9VQBRyXlUQ7ERWtUzsrmyX+jnR5lDicCqgBNFMF5IWEXt3FyfS7NT9tA5BivXQXtKmAhhUjsJy0NV8YJYAsmHanKRWQZeFJrXL6gJZkO5EKyCABSCIVG4H1KiCTN5XUQQ/X/Ii4pFRbYV+JEbQ8zGWoWkssbBExDdK2I5GIA8ihArK6gZbyq/dUzzWuAsraFPAuyI1GQgWkNQJrbACKEVjd+arDV4MN5dqa0M8P8Wm+Coh71Kn5nMqePhJYpzaUKiBuM6hqVEC6d5yyAbAycp6aGIAQ+c9IKIJcT5qIziWi54hoORFdrvn9PUS0JPz/ABEdn3UvEU0mojuI6IXw76TmDCkNkwpId123cPYmGACFRDxZRjKGmhDoVQj0mJ4ySh6h5vvhi2d9U1RAfJJIrw4gVAGZbAD1qoCUt2+TAHRGYOn5xNuRC8MkAeyrSgkg7TXDbzEduuERIpe5YYMKSFJNQvye8kSWDis2AGmniGwAFjdQOZ6UG2hBBqDaAGwb3DQDqEXfszbGqseW7yNxJKTuccm5a5QAKP5umkpqHIBWBVTABmCas3z+VMJIeDkH9ilqKVMuoMhRhDWxazCI0OXzJFIBlYoxAF6H3HzZAuBaoQXKfNJEVALwHQDnAZgP4N1ENF8p9hKAM4QQxwH4EoBrctx7OYA7hRDzANwZfm8JTF5Aurmj9QJiKiCiZC4gicgG4KeJwJieEkpEoRE4qWZIMADmJQPEXkPys5yQ/aoKKMMMXDMQp3QksLmOSDXAJJSAqSVVVlJFoE7WKeOkDSDpBcR7wImlmQEEHhvDoQqoUqK0Tp21HcUvhNdsm6hgTjAGoPTRqAIS8RGjuVRAhbyALCogyQAiG0CoEvO8zDnBH0MQCOaHh9SE10xGYEraF7LcQFWo72qvRgVULA4gWTbI4Cki12MgWC88ECwllWjcQIFYtcPb2LE3ZAAaSTEhAWSpZUVysynbsB2jmTc9RhHkiQQ+BcByIcQKACCinwE4H8AzsoAQ4gFW/iEAs3Lcez6AM8NyPwZwD4B/rHMcVujexa1Pv6Itm+UGOlwT2LF3ODWRiYD/DfMFzZk6JvHb1HG92L5nOJQAzIFbdzyzIdGvDTv34XdLNwAIFt9gVa8Cyt7t6dUTKQZgkwDCv3yHUvY83P3cJvzqsTX4n4dexuLV23HQhL4gl4uyyiIJQNoAEKu2JO57fjP+8NwmXPeBU/Hu7z+k7wcFu8haGAiWpS6QBErmsLctoaGqr03pK9+1qS2bEVhHEK0J5zKitRP9MtgASh6lpLv0vfHnXz++JmDcoerIo4CZP/LSVnz5lmV454JZeODFLZEKiKsKk26gcWp1gv5ZqwkH5TM9gHkBFXMDTX5fs20vzvzaPQkiP6anHLi5mqSSEmnfexwrFF+TZ2urbqNAtgTAIWMq1PK6dO/jesuJTLrNRB4GMBPAavZ9DYBTLeXfD+DWHPceKIRYDwBCiPVENF1XGRFdAuASADjkkENydDeNvIaioL30NV1GPpsBlato/uFNR+HCk2binG/cG0kA/F6dKCnxwsY4nL3mo+44AJOBUn0stoWn7gz/4U1H4Y5nNmDx6u341C+fjMrJKFRVBSQTtqkSADeMPbhiCwDglZ378Mz6nQCCHDzHzToAv1+2Iaq/7BGqoReQbcdJBBwzcwI+9cYj8a4Fs4OLljU0VPUxsd+sFjTtTHUMYOYB/bjgxJn40JmHp8r3Wp5zOl2H+eVKdUpMPGQuHbsX0KvnTMKfHDwxcW3BnMl4x0mzovp8IfCZG5bgxU27o2R9c6aMiZKXSfSwZ8IlgDlTx+KlzbtTu21VRfSti07ADY+vxfGzDmB1pp/Pzy75Uzz60las3LIHh04Zg2/c8XzQpjKJN+6K02YcP2si5h88Ebv2DePhl7YaE8d5RLjk9YdhsFpDf6WEDTsH8ZOHXo50+0SEr1x4LL71++cjiUX3CnvKHn77kdPw9Nod+Pc7X9A3FkL1JJLvUM1UCgTnL7SKAeRhtbrHpu0JES1EwADkTj73vSYIIa4RQiwQQiyYNm1akVsj8An76XOPyl1WQkoA7z9tbnRNJwFI8EX84YVHYMbE/mhR+b5ZBaRC7ujmTR8HIURkIE4RiQxx37Q7VYmElZgyI3B/pYQPLzzC+CLlWDmk2krqqeWvNd/HCbMPSJTlKrfPvPlojGNZTOUOtBraAHTEgh+EQkS47Kx5mD6hzzg2iT1DtcQzkLXIV2Q6OJyfCCaZaMkjfOpNR2l3lqqNiMMU1AYAh0xOSpaRG6jWC8g8Jz5y1rzUvPvQmYfj5EMnAQieGc+LJKELBOM7YaLYiE0APnnOkam21c3LjIn9+PDCI5IulJp5eOrcyfjI2fPw9Xcdj4+ePQ+vOWxKMHbLOP/2tLn4yoXHBrmjlPO1zzvmoOhz2SP0VUr4hzcdjcvOmoe5U8cCSKqA3n3KIThx9qTIa0krAZQ9HDNzIi465ZDMTWdgL0tvBNXkeUC83luhAsrDANYAmM2+zwKwTi1ERMcB+AGA84UQW3Lcu4GIZoT3zgCwsVjX84MTa1OUroTNBsBVL7aJp4sDKHlB/hopRtvakxhkuW4SgWCFI4GDv1k2ACsDCH+qMdFVTfTF61U3MhEDkOcjh52q1tJusztZqutKyUswGqLAYFfzA5WYTmrR2Rei3yz7j73DNe27k8zP5CVlUwHpwG04KpFNqYBgniu2QDDblFCJOJBMa14KJTi1Dum6mPQCij/LnDZA8Ex0RyTKNaTWzevRMXUTQ7PRWXlWdFkxAgPBeGU7aY++4K+qAqqU4wOBdFOBjyGbASjxQCXJANJrKpXRtonIwwAeBTCPiOYSUQ+AiwDcxAsQ0SEAbgBwsRDi+Zz33gTgfeHn9wH4Tf3DsEOXHMwEvReQH3qf8N1h8m3wyaVjMpIo1gy6PxUljzAU7pYrJQ++iEV81QicF1n6ZasKKPzLGZjOYCV9xVMSQBjqH3lghD9X/XTupJ37huM+h2OXKHkIA8ECG0DW+1Rhk6L3Dde0zyCWAAwMgHlvyf7YGI0tbXCKSSdiGpJl1UAwuUEoZ3gBqb78QEwsZb2quzIQqy1sGxg5x4LzJzTST7g2bIwvjxE49tAyl5VqR6ky5Gt0bG85mpOq1K+qY6JAQHYinG7dFjECqxvBaE1p1kOUz6oTRmAhRJWILgPwOwAlANcKIZYS0aXh71cD+DyAKQC+G77Yaqi20d4bVn0FgF8Q0fsBrALwziaPLQJfU1kEQ0cD9w0HqgHT+aVAkjvrRPyyR1HIPZ88pgncXyklJQC//kAwCZUBmBavDgmPBS+erCrk+EwqIPncIgnAFyiH+etldTv3MgYQSj9R2xSngtAdj5kF2xIaVOqTxvMo62aOXEDxYjW3oztPVsKmplPfV5wNVEoAcT59G2Hk7p4S/DhD6emmVjFYDTZCXBJS1WI89YZNAlDRm2AABYzAFk4XnYcRBg5yAtpb8dBfKWHH3uEoP5Fap3oWR0/Zi9agTgXUW+KSnb3fNV+/Eaz5AhPH9mBreI4BwFRAHTICQwhxC4BblGtXs88fAPCBvPeG17cAOLtIZ+tFQgLI2D3rOPeeoeDoOz7ZdNHBURtGFZBIuX+ZdpV9lVJ0lGKvVAEZbQD5kGUDsDFHXjISkTXiqtw5qvpKyRSlBCAXV7XmR6kLJKHnKqCespdy6yx5HoZroQ1A02c1gKsItMFeGRJAlcUB5Nm9qgycw0b81PclCXEqEMyznwegUwHx3bqOgQPA4HANhCTzUJ9JL5MA1JPaAPP4eABcI15AHPGBSIRh30fJjwv3lUtGCUCVcOU84uvDZATOCzUQjL+P8X3lBANQT7VrJoptn/ZTmPyWddCqgELjIK9nj5ogjr0c3UTwvKCMyf1LRX9PXIdUg9TrBSSRFWSUxwsouM8iAfjBxFYnq3zukQ2ARTirXiu7UiogLgHIQDAfQzW7G6jWBpCxiLgBMjYCJ3faKhISQKjisLVjU+HZ7DTq3OS59YlUBmCRAHQqIGZoL4XMWK1jsOrD85K7btUuIt9HzaACkr+n1I9ltkabEAgGxEyt7HkQInlYfV+lFK2jlG0lmt/JQLCK4vGkgv+eRatTtkD2WT1cXj3XupnoCgbAX7DNA0MtK7GvGnib8LWZUgEp/vEqpOFSdf8yLVROJCqlpBE4HQeQjwP0qmkGVD1szt2n6XAYIHZzVSer3D1Jl1opzg7X/FTump17kxIAZwDy9KZqLVQBFTwqL2sPlagvLJzpBcRsAJII2NqxMQCTQdIjsw0g6BsxFZDdBkAaCYDbrSi0V6lVVEMPtnKiXb0KqFrzMV7DAEzEnT/3XDaASMozl5GENDawxm+lr+KhP1xHqcy+kQ0gqQLMOv+Yqwiz5lkqHTT7MqEvebawfDetUAF1BQPQZd0zQacCkrpmXo/NBmA6VUwmDbPpLSX4Ll8SwfhAmPokgEZsAMn7gr86lzUZ6KZO1p6IASQP5dBJAAkjcDlpBJb5ZuSBMFoVkKXvWWtI6wUkGYDByyOpAvIy27HZANJtB+14lFbr8LnsESXdQC2KQfW0t/TvCN2V0795ZJcAerIkAE9KLcnrWZk0VajSmQ7yXerWfF8lVgFV1RPCwuZVCYCrqbI2XVmSpikOANBIAC00AncJA4g/Z1nnTRGUlZKXeEmqCogTPG2SudANVO2PsR9cbVWOVUCqNxKQ3wbQbBWQzg1U6jbVySrrlpGOkgEMR0cYxmV3MRtAIL5zv/74WQ7VRO4+54XeCyipaw/KxZ+5CkiWsXkB2WwA6baDv0TpeA+VgMhnmxUJ7JF9HcQqIN29dhtAJacNQB1LpVSMAeSB7djJvtAIDKTTvasqzigQsJx83jZkSwBmA/+YHoMKqFNG4P0dycCVDAZgWBhpCSB5aLXIZAAe1u/YZ22Dgy+snnKgPtq6Zyjsh1I4J6VTvViyfNATZdmCtbqB+gFBH/b1EoBEtSbw9Nod2DwwiIqX3OU//vK2uD4h0hKAJ4+E1Pvt23ZfmSogjQ0gjgROEqlYmokXZ8QAbBKAgQHoXqNsW6Zo4FDntZQAKhlHQuqMwCqefWWXVopQ71XnVEIC6NEwgBwqoKJqvSzoGEpfObYB6NJDA8CmMKqYu4FKZGkSTO9/92AVwzU/sAUmXHzN9gX1UKNmojskgAIMwPR72UsmHTt17pTE7/zlyB3S0QeNj64NVmtYsmZH0J88EgBnAOHE++nDqwJvJGWCZFX3p4dN1reh3GjzAuJlZfN6N9BgAqseQuqC2TVYxVu/fT8Gqz5KJUrkW1q7fW/0eUJfBQvmTGJjmYJSaNTbN6xXAc2aFETMLpijGXfGLkqbuyf8y4fAicEwizKVnidnHJmMWj/xkAOiz/MOHBd9PvOouJyOqCTaNviry888G6htTkgpyoSqL/DU2h1Yum5H5r1qn+VzWXj0dG0bU8f1AgBOnzc1cZ3Pd54a2ogCtJCrVGTSubnTxuLUMJp41qT+RHnZ7y/+b5DuTHZNPfxGYvbk5P0AMGOiPvL8Dd/4A074lztCG4BelWZal04CqBMJ7sqe7mP/9AZrWY4vnn8Mnl4bLIjT503F59+WTIia2KV6hIc/e3bCD5qrNVQbwEOfORuf/OVi/HH5luhaIt8Km3g9ZS+ld80SAH7416dg256h1PV64wDiYB+DCojS9gEiwkfOOgLfvmt56h71OD4A+MqFx+K1h0/BQRP7cOnrD8d5x8wAIUiHcNUfXgQQZGbk3isS8w+egLs/dSYOVVInAAWNwCG4t03UZ1Zuz1Atkjom9ldw36cX4kAl9cR1HzgV2/cMY7DqR6kGAOCKC4/DrElj8B93vqBVDUVta/bjaioByUQrGbmAVBvA4/98TuL3f3rrfHz0+ie0kacpFZDGh/6Pl5+FKeH5Dw9+5iwAwBlfvQdDVR8HTejDfZ9eiIM0BPLOT56BvUM1bB4YTP1mgmmUj34uXttvO/5gfOqXT8IXwKVnHI5zjzkIc6eOxVEHjsfrDp+Cw6aNS9yrTkedEZg/v1s/9nrsGUxqBL7znpOwfOMApo/vxVlf/0N0XWoBaoo7uCoBPPLZs3HKl+9MtNuKSOCuYAAmneWUcDfCYdoYzZ06Fk+GSbHmTh2bPvw74QVEKQLA0xuri/OgiX2JdLhAcmGp4nHqNLIMGaC/p4T+nvQuRe1HXpdK2R+dBCBEsDh0Ie1HHzRBW7cuqGbOlLE4dEpAKD2PEkRTvsOBwarW0AggUb4IEm6gUSCYrlx8cWBwOPJ68ogwW8N4xvSUU7pdIFjcklFpGYAn6033g8/lQAJgNgDLlFDVOPKwHok5U9L9j+9VjMCahmYeEM+1GRODzxP7K9i0axCVkv75AMDhISG+74VN5s7nQKVEmDa+l333sGDOZDzy0lZUSvFcIqIU8QfS60J+5euDP79xveVU0NvUcb2YOq7XmNY8OBkw/p4w6HtI5K7iarVmo0tUQOxzxnbZJBqP6y1HL0BXR8JXXVNHkgGk67f5f6sSQEUhmPUYO4P7ikgA6XI6ibQWirY66cBUv87tz6ai4HpnnauhDZleQNo8NOlynBjsHqzFZw7X8S7kWHW2AcncAy+g9G6b1xG7ombZAOxGYNs8SAWjZeWdDhEdS5rD0yzLUSMLuj71G3z+te2nXHHtEoANpmKqCojXp767TieD2++RN/maWpaDe/Foj48TaRsAh3qqmAqbi2bS+8RLha7Xu1zUYdiMbwkVkKYc91TwiLQuoqbFr2OYNjsgf/4mCcAEm3cOYDcCJ8qxDu5iqXrzxmRweDYGQMm/HKazpUuePRKYSHOIDkPeeSDbygPdwel529DB9h5167MIA0jFBWiMwHmZlGk++L7Z8Jtal5YNV6PoCgZgM1qpsC1gOYl1OWH4hjerDd0EV9Uv0WlPHmGQMY+espeqvx6io7svO0pa31cg3jnbVECmAB9dSgnrYeiK+F0EWYsokfAvCgSzv6/dg9VIP5tzQ5yAfJ99mvgAbn9QvZuS3jjJOW7NBUT6M3Al7OkolL7nPL0rkgByePgUOb9De7+mT1HahzwMQFWxynlfhwRgeg01QzZQwOIF5ALB6oPJCKyD7cXKSZwlAWS2oVMBqRJA2OeyRwk/5YABKK+tzvVSJB00b0ZXjkdYex5pXURNXkbqId2AfYfFGUlRBpAFmxeQqQ+7mQRQj/pCvocxFgnAo7QBW5dPHgg2KLZeyGhqE6w5oVQGkJPjRceS5lEBFaBKuo2Crk/SvpJHi6K+Q/m112ADKNo/IFAJm5JCqnc4G0CD4O8qUwKw/C7VGrqXz20A9bSRYgAlxgC4BFBKSwBNUwHlTJWtK5c8G9aQ17yk938fVA7pBuwLjBuNC6uAMtaQKY+TCr5LHtgXSwD1JKCTY9VlypSEQbejT5wsp0i5NgmAyC41FrMBtF4FVPSR2lRAg5rT/VSo77sRG4AJ+4ZruW0AefJL1YuuYAB50i/Hv5t/q1kkAP5usiQAHZFQjY+RBFDyEmknesqeRkRtjgooa1LbJAA1F7rtYAsVOgnA9p4SEoAm2rQRJBJ6IRkJysHHMjBUjaTDeuiCZIC6FBHcBpA6zNyQmiKIWTG353l2FVBed2CgRSqgHHEuNlqo65NMrqhG/eqg1i3noskLqB4MVf2kCshCo1wgWIMoYgS2ifByF6PTMeatI+hP+prJBhCogFhyNJ2XirU1Sz8Kvn2dMUyCEw3PI62LqMkGoDtz2da3hmwAGb/rTwRLo0exFcjU3fXYYySD76+kxyK9gIgorQKyGIFts0J15VRRyAaQcxLJ+WCKBOZIuTlrnmlsoE/fr2Nu0gV3bw4JQM3zJatLzPEGPZVUCcBLMIBk2VaeB9AVDKCQEdjye83iBWRqT/t7AS+gciltA1BR71wsPInlQtAZgcs8UZY+TYRRAtD4StuYKCc6xY3AGV5AGjVVlhEYiBPY1bMzlAyQpwCP22Z/lb5z2ltmKkNd2giOrA2K7TwB05kEeZFHAlDbtrWg+03npNGnHEhkg5rnS6f6LDpuFXuHa0YbjkqDnBdQgyhiBLb9HEkAGbueelxNzUZgL8EAdJO7XQwgtwrIixOTmcpw6CUAGwOIfytqA8hC8kSwsC86BhCWk2kGfrVoDYD63oXclercQHkksLr+OSNUE9bZbQDZKkoToU5LAM1nAGkJoFATVhuAbq6pUPN8RRJAHW6gJmzbM5x4lkkbQLKsUwE1CE6vs17cgkMnJybQAWMq+L8XHAMAeO+fHoqp43rxlmNnWOvQzfF/eNNR0WddF/iO8rNvPjoigOUS4dP8Xk17WZHAJvAJ+Hold40Oqhvov5z/J9FvSSNwOheQWkZi9uR+fOqNR6Wu2wgY332NLZBaWYdXz5mEtxwXv09bOmgOqc465uCJAIAVm3cDqE818NbjDsb08b14z6mHGtv2NDYA/v5kf3QHrqTPjwj+Hj/7AFxx4bHaPpkIddpAS/jo2fNw3jEHactLfPMvjsf8GRNypUJP2wDS93z6TUfhoAl9eNWMILr8b143x1rnOfMPxEET+vA3r5ub2f7Co6fjwAlxJLF8p6qnW6OYPyOOjLfZKcf2lDF9fG/DUocOXcEAEt4SGQ/xXa+ejUUsR9AvP/iaaGEePm0cFv3TG7R5TBLtaSSEDy88IvpskwDe8KrpuOT1h0dMqOQRTj1sCj735lcBMGWMtHbHCNmPC06cif/+21Myy8uFKPv6V6+Zg1PChGuqfjSvCui+T5+FU+ZOTl3PowLqr5SM5/SaoBLRr73zeHzhbTEj40Zl26EjkkAeeeA4XHDizOh6PQzg4AP68cjn3oA5mvQVPBsoD34qecnIYEn45TOW/bjk9Yfh2S+dhw+deXiqj7/58Otw0SmHaPtkDNrTjO/vzzkSV733ZPMAAVxw4izc8rHTrWUk8ngBnXrYFDz02bMjCfD/vO1P8M9vDfJzDWpUitPG9+Khz56No1iCRhOmj+/Dw5+NaYAc8/jeOF1LUclHh4+ePS/6nGQAyXInzD4Aj3zuDXjt4ckEes1AVzAA09FrxvL8ZdTxorPa0KmI1HBvWUamfbDpAev2AgrbyJt+VzaTNPimrxlVQIUO+zb/JndC9ah/1AhSNS+OzqZgswEQUSIhXT2BYDbIrqleQOock88/OjxEyU5q0zHrYGYA+frdCOpVAcm0IHnUPEUg2+eSVKNGYCCpzrVJAM1gNibkmq5EdC4RPUdEy4nocs3vRxPRg0Q0SESfYtePIqLF7P9OIvp4+NsXiGgt++3NTRuVgiLpoIHiDCPdnv13247SV/TOESMoePZtHui8G2yIfLk1UYuqBKBzAy1iILWqgMJ61JOT8kBloETJd5zXC0gyISJgHNsZNoMwqP2T9SZdjZPlehQJYPdgQAQlk+SPPs9rMM23Zo9PhzwqIB3GtogB6LLBNuoGqoKP2ZbzqdnIXEFEVALwHQDnAFgD4FEiukkI8QwrthXARwG8nd8rhHgOwAmsnrUAbmRFvimE+FoD/c+FIgfCAMkF0swX7VH6JCCJirJzK0c63SSBbYUKKO8JTFKvr3OHS+ZK10dcFpFU8iSD06WCLgqPKKEW1PVRtwAlE/KIMI5LAE0mkHEgmNp+8p1Jo7ScL9J1WO6KTamHTTBtCtpA/9NeQDnblOo7XVxJI9Bt6Jq9K7epgFqJPCv/FADLhRArhBBDAH4G4HxeQAixUQjxKIBhXQUhzgbwohDi5bp7WycSBD2PCqhRTm8w1vPzXVWoKh5VArBNuHrdw2yRvTpIos5VOXIovWW9OFsv8kgAuhOnsqA+KjW/faKsJR2058WEmauimr14E7mAEteT5XojCSB5zGEsARRkAJ2UAJTB5W1TMmJdZHkj0J6M1lIG0D4OkGflzwSwmn1fE14riosAXK9cu4yIlhDRtUQ0SXcTEV1CRIuIaNGmTfXlCS/iBqqWr4eYZXlr6daWbCe2AQTX5W5X6q6b6QtcVAUk0cN8/mW/E15ATWEA5t+kdFSfCki1AZhVdnHJdGdKjDBzu0GzCYOcioENIGkE5ohsAGUZ8RpIAHJXzOdcHjtFJyWA9HkX+SBVcc3yluQeWCoadQNVwdtoowCQiwHo+lPoERNRD4A/A/BLdvkqAIcjUBGtB/B13b1CiGuEEAuEEAumTct2VdShKBFvVAVkSlUbG/TSdcpL8dmywavJI2rWO99lWz0F3csqGhtApZRWC8Xfi/fNqgKSEkBdRuAkiCgzmlXXFdmHwAbAJYAmMwB2HgCH6mkWG4GDctIGIHfFhVVAHZQAUk3kbLIZKkEOmZxPt16zvAmLggpuUpuFPAxgDYDZ7PssAOsKtnMegMeFEBvkBSHEBiFETQjhA/g+AlVTS1B00jZqBDbt0k2LmV+T98p2eSAQoN+B1ZskSia3Ky4BJPX9gJqZMlm+Hi8leyBY0H4zMoF6lM2gtO+L2wD6WqkCCv4SFC8g5ZWpbqAyuEzuigurgDrpBZQyAucDd9NsBsZoDOgSzZYAONqoAcrFAB4FMI+I5oY7+YsA3FSwnXdDUf8QEY+mugDA0wXrzI2ik5a/gHo4vZEcW0RKuShrIqkCkn1phQqoViBBFwfX93M/dYlUsro6+mYjUpLZ1MUANIm+TAzKFgkcG4FVG0CTVQOM0STiADLcQHeHuYnkrrioF5BZBdR+G0DeNpsuAYRBhrol12wvII522gAyV5AQokpElwH4HYASgGuFEEuJ6NLw96uJ6CAAiwBMAOCHrp7zhRA7iWgMAg+iDypVX0lEJyB4vis1vzcNRSctNSwB6Km0rEm3u5WXVBVQK1EkQRdHIitiZKyOf1cncD3z2RoIVqqfAaRVQNn36MrId0igxLGUzVcBxX3ghw6pGxNJ+KXNSBqBoziARKqB7D6aEve1gziZDmTJQtGgwCxECeQ0+YMaZQC65ytjPdrpBZRrBQkhbgFwi3Ltavb5FQSqId29ewBM0Vy/uFBPm4BJY4qLiPW8aF1OFyDp061C7iKnh4dZywkid9tSvJ2qOci+XkRunQUXji4QrGRhmiY/bmveeUuXZOK5ZhiBOTFUYwDidNDpemIVHTC+j8cBFO6SFbpI4J6yl3LdjdyEw+/Tx/diYLAazauimyBu6OdoB3EyHcnYbsyZMgbL1u9MXJt5QD/Wbt/bsApori7qG8EGZURJAKMF11x8MuYfHOTeuPavF+CwqeNy3ZeXAdzzqTPx9Lod2D1Y1aY2AMw+3QDwqhkT8PV3Ho83zD8QAPC24w/Gzr3DOGd+kGPl7FdNx1cuPDaRdkCiXrVQvTaAMcz9kqcr/uFfvxpzp47F9+5dkSjP5/OvP/QalD0PmwcGMW+6OSzftggmj+3BN//ieJx55PRC/da3E/z9/l8twNGGNAG8L3d/6kys3LIbL24cABCM+8AJvfjC2+ZjTE+56btQWV2QCyh4Xx8+8wi8es6kRDmViV/3/52Kxau2R4yiKOE25ViSz+J/LzsN+5rsbilRrw0AAH78t6dg1qT+pvTjyj8/DguPno5jZk6Mrv3qQ6/B4lXbGzLUfuC0ubjk9YelrntE8IWImPVtHz8dW3cP1d1OHnQNA3jjn8TJqs46+sDc9+Xl9HOmjtXmcuGIVECGOt9xcixEHTihD3//Rp5AjvBuQ96WeiEPubcdAagDV73IXWnJIyw8enr4OVmeD/fkQ/XMUUXWc7/gRK3AmQldHAAQJAszgXdl7tSxmDt1LFaGyd+Ignfz1zmSjNUDafDmfTh6xni89ohkXhiVic+Y2I8Zx8aEsOiu0uRhJas5dtZE7e/NQOrE0wJdPyNHUsO8GN9XwbsWzE5cU59rPfiLV8/G9AnpfGJeGEEpecvRB01IlWk2uiIXUCNopktWLM43rUoAZrfTLEgjcN5IYAndKVy2QJZ6spW2yhXOdNqTraz2OEZmnG0lpLHZ92PmlSeduIqij9NkX2mLDaBeP9D9BKZT7OQ7GmmBYA5NgnytzXYhq1cFVK1TBTROE4FrczPskApXC5VZ2voWE9z0bzEDaFLHDCizFCGRi7DmdWXZcYoyVCMDaAPFMB3KPlpgkq64XaldcAygnZAcvp1v2AKpAioqAXB3u3iXHP9ebyRnJ5Bvt6WRADTur62AlAD4YSC6NrM8uYruKs271A54AbW8xfbClMJEl3Su1XAMoI2IbQDNrbduCSBSARXrEDd0xrtSLgEky7dzQmfBdqiKCbZcQK0emnR5rQnBchNpVEAZ77CwEdhoA2j/u+yUF1CrYHIs8dqkVky02baWHLRBU52E3FXmPdjbBlu+pZEx2gDNsgGU224DEFaVVNZTLjrnxpsYQKFamoMRslxajlKbNhUcXeMFNBIgX2wrw8iLQLqBNid7Z/w5Nb6RMVwt6g0EixZrk/ujIrYBsLa1nbaLgUXnnEkC6MRufARPn6bC5ibesjbb15RDlhtovag3O0StThtAsu00E0l7AY1c2HfGZpVLvFhbOzqeJTYOTKvHq6pYebMXUOGmG8ZIkZhbDVuyyJa12baWHJiRp7n11psMrtpMCYAzADWf+wgxegP1PSvd+yq3SVyX9hnuBVSPCqgooxpjCATrBDHuEvrfNtdiDscA2ghbKohOoF4jsA62DKojY7QB6mGVtlPCWk0QZU6oms8YQB0MtWg/+42RwIWbbhgjZLm0HE4F1CVoxo77HSfFkbD1qoDefsLBAIBJY3ty3/OqGcnoRDV9NZA8LxcA3qlEU+pwxPR8qTkaxYUn5T/LyLbjbpfPdsWLJQAJ3QbiyAOD5/cGQ0RzURvAxH593qx2bl5kSod6AglHKo5laSVUSDWdywU0SkFNJBpX/vlxGKzW8Nsl6+vmAB9/w5G49MzDE7l9bHjuX881Tk6+K5V5ZEpEeOqLb8qVauLWj52OPUM1HP/F23P1pV588pyjcNnCeXjV52/LLGuLvJXZONtqA7AcUXnYtHFY+sU3WYy3xdrtq5Sw7F/Oxcd+9gRufyY6xqMtgWAA8OyXzsXLW/bgTd+6d9RIALb1A7RORWyDYwBthHyvzVAblDwyZh3NC8+j3MQfiLNwcuhcEyURqvrCqEpQUSl56Ks08bADAzyPcvdJQve2Sm1arBWNF5CJiNhOSJNzrsic6e8pRdKcWk+r0VeJ2x4l9F+7fjjUQ6DaAacCaiNiG0Bn+9EKcLVWPWmagZFjG1GhI3rlttkAdHEAdXgBhbeYjLvm+8j6vR3oFi+gTtgIHQNoI6Qus9mnCdWbDK6Z4JO2nrN6gZETHyFhU7nEUZut7QOPBJZ2gHrUMHLOFZV+mnG+c72QZo8RNi1ahnbll+JwDKCNaDaHHwkLQxctW+9ZvSNhPDpoDwVnJ4K1EmXmBSRRnwQQ3GPKQ2OCullp5+5UMuAROi2aDpcLaJSjVYunmecE19E6gGSGyvoZwMha6rbH2q7dmmxHCHtqiizIWxqVANr5iuTzH2nzolVoppNIXjgGsB9D7j47Sf9jMZ1JAHXaAEYqbEbgVu+IKzwZXHitHgIh30/Rg9NTif3auB+3B76NPshNlJMARima/V5H0saId6VeG8D+hEg10iYJgAeC1UMgBoeD4xv7K42qgAo3XTei1BddogQasecBENG5RPQcES0noss1vx9NRA8S0SARfUr5bSURPUVEi4loEbs+mYjuIKIXwr+TGh/OyIZct81W2XRWBRSAE6WieuaRCttzbVfYfjJPU/2pO/aGDKCwF1AH03p0mxF4RKaDJqISgO8AOA/AfADvJqL5SrGtAD4K4GuGahYKIU4QQixg1y4HcKcQYh6AO8PvoxpyJ+M3iWJHDKWDSqBIT8uuNdvLqVOIjJCa4bTbBsBRT5u7B+tkAGT/3ko0a53sL+hEIFgeCeAUAMuFECuEEEMAfgbgfF5ACLFRCPEogOECbZ8P4Mfh5x8DeHuBe/dLxAS7aTU2rSYHM3QqiHYt1oqXPnynnh3inqEqABQK/AN0xzN2QgLojnneiUCwPLNhJoDV7PsaAKcWaEMAuJ2IBIDvCSGuCa8fKIRYDwBCiPVENF13MxFdAuASADjkkEMKNNsY/s/b5qOvwUhbFVe952T84P4VOGTymKbU94k3zMPW3YM4/4T8+W1aBXXOfvKcI3HkQeM705kcuPq9J+OZdTusZf77/afipw+/jAn96WUye3I/LjhxJhYcOrlVXQQQp5wAuFdM8Xr+4tWz8fiqbfi7hYcXui+lAmojcTr6oPF4+wkH4+8WHtG2NluBr7/zeGweGMws14lAsDwMQNebIpvY1wkh1oUE/g4ielYIcW/em0OGcQ0ALFiwoG0y4d+8bm7T65x/8AR8410nNK2+6RP68L2LF2QXbCFM6ZU/cva8NvekGM495iCce8xB1jInzD4AJ8w+QPtbb7mEb/7FCc3vmIIKI8DyWdejYhvfV8F333Ny4fs6GQhWLnn41kUntq/BFuEdJ8/KLoTOqE7zqIDWAODpHGcBWJe3ASHEuvDvRgA3IlApAcAGIpoBAOHfjXnrdBh56BIpve3gRKGRVBDNaN+htZDvtZ22jzwM4FEA84hoLhH1ALgIwE15KieisUQ0Xn4G8EYAT4c/3wTgfeHn9wH4TZGOO4wMdJeZrv0ol9I2gLYaCZXGuswu21ZIdVs7GUCmCkgIUSWiywD8DkAJwLVCiKVEdGn4+9VEdBCARQAmAPCJ6OMIPIamArgxNOKUAfxUCCHz8F4B4BdE9H4AqwC8s6kjc2grusVXu90oa1RAbXUTVJrqNs+cdkI+6xHFAABACHELgFuUa1ezz68gUA2p2AngeEOdWwCcnbunDg5diLLGCNzOpHlqU478tw7yvYZHdbcFLhLYoSG4DWFrUeapPxtwA60XqmRX7/nTDtmQ7q61EWYDcHAwIpqqTgPUEmiNsG181ikJwNH/lkGae3zfMQAHBwcFjSSDqxdqU22kTV2HKO+TkwAcHBxU+FFqis6JAM4I3DrEbqBtbLN9TTmMRnTboR0jAe181mpbjv63DhEDcCogh/0Fh08bBwCYPLanwz0Z3ThgTAXHHDwRQHuDs1RhY2J/pW1tdxvmTh0LAJgyrn1raXTk7XXoGD7z5qNx9qum47hZBzSlvts+fjrG9zkiw/G/l52GAyf2ordcwgsbdjU9R5UN0gvog68/DKfPm4b5B09oW9vdho+cdQROOnQSTp83rW1tOgbg0BB6y6WmTtijD3IERsWxsyZGnxfMaW3yORVSAqiUPJw2b2pb2+42lEsezjiyfcQfcCogBwcHC6QGqJNnTji0Do4BODg4GNGqU+wcRgYcA3BwcDBCupw6+j864RiAg4NDJpwEMDrhGICDg4MRI+HcaYfWwTEABwcHI6JkcI7+j0o4BuDg4GAEOfo/quEYgIODgxGRG6gzAoxKOAbg4OBghHMDHd1wDMDBwcEIaQNw9H90wjEABwcHI5wEMLrhGICDg0MmnBvo6EQuBkBE5xLRc0S0nIgu1/x+NBE9SESDRPQpdn02Ed1NRMuIaCkRfYz99gUiWktEi8P/b27OkBwcHJqFKBLY0f9RicxsoERUAvAdAOcAWAPgUSK6SQjxDCu2FcBHAbxdub0K4JNCiMeJaDyAx4joDnbvN4UQX2t0EA4ODq2BO+hndCOPBHAKgOVCiBVCiCEAPwNwPi8ghNgohHgUwLByfb0Q4vHw8y4AywDMbErPHRwcWo7YBuBEgNGIPAxgJoDV7Psa1EHEiWgOgBMBPMwuX0ZES4joWiKaZLjvEiJaRESLNm3aVLRZBweHBhCng3YYjcjDAHRSYKH5QETjAPwawMeFEDvDy1cBOBzACQDWA/i67l4hxDVCiAVCiAXTprX3sAQHh26HswGMbuRhAGsAzGbfZwFYl7cBIqogIP7XCSFukNeFEBuEEDUhhA/g+whUTQ4ODiMILhnc6EYeBvAogHlENJeIegBcBOCmPJVTsH34LwDLhBDfUH6bwb5eAODpfF12cHBoF+JUEB3thkOLkOkFJISoEtFlAH4HoATgWiHEUiK6NPz9aiI6CMAiABMA+ET0cQDzARwH4GIATxHR4rDKzwohbgFwJRGdgECdtBLAB5s4LgcHh2bAHQgzqpHrUPiQYN+iXLuafX4FgWpIxf0weJIJIS7O300HB4dOoLcUKAl6Si5mdDQiFwNwcHDoTrz9xJl4cfMAPrzwiE53xaEFcAzAwcHBiJ6yh8+c96pOd8OhRXBynYODg0OXwjEABwcHhy6FYwAODg4OXQrHABwcHBy6FI4BODg4OHQpHANwcHBw6FI4BuDg4ODQpXAMwMHBwaFLQfvTQQ9EtAnAy3XePhXA5iZ2Z3+AG3N3wI25O9DImA8VQqTy6e9XDKARENEiIcSCTvejnXBj7g64MXcHWjFmpwJycHBw6FI4BuDg4ODQpegmBnBNpzvQAbgxdwfcmLsDTR9z19gAHBwcHByS6CYJwMHBwcGBwTEABwcHhy5FVzAAIjqXiJ4jouVEdHmn+9MsENG1RLSRiJ5m1yYT0R1E9EL4dxL77TPhM3iOiN7UmV7XDyKaTUR3E9EyIlpKRB8Lr4/mMfcR0SNE9GQ45i+G10ftmCWIqERETxDRb8Pvo3rMRLSSiJ4iosVEtCi81toxCyFG9X8EB9m/COAwAD0AngQwv9P9atLYXg/gJABPs2tXArg8/Hw5gH8LP88Px94LYG74TEqdHkPB8c4AcFL4eTyA58NxjeYxE4Bx4ecKgIcB/OloHjMb+98D+CmA34bfR/WYAawEMFW51tIxd4MEcAqA5UKIFUKIIQA/A3B+h/vUFAgh7gWwVbl8PoAfh59/DODt7PrPhBCDQoiXACxH8Gz2Gwgh1gshHg8/7wKwDMBMjO4xCyHEQPi1Ev4XGMVjBgAimgXgLQB+wC6P6jEb0NIxdwMDmAlgNfu+Jrw2WnGgEGI9EBBMANPD66PqORDRHAAnItgRj+oxh6qQxQA2ArhDCDHqxwzgWwA+DcBn10b7mAWA24noMSK6JLzW0jF3w6HwpLnWjb6vo+Y5ENE4AL8G8HEhxE4i3dCCoppr+92YhRA1ACcQ0QEAbiSiYyzF9/sxE9FbAWwUQjxGRGfmuUVzbb8ac4jXCSHWEdF0AHcQ0bOWsk0ZczdIAGsAzGbfZwFY16G+tAMbiGgGAIR/N4bXR8VzIKIKAuJ/nRDihvDyqB6zhBBiO4B7AJyL0T3m1wH4MyJaiUBlexYR/Q9G95ghhFgX/t0I4EYEKp2WjrkbGMCjAOYR0Vwi6gFwEYCbOtynVuImAO8LP78PwG/Y9YuIqJeI5gKYB+CRDvSvblCw1f8vAMuEEN9gP43mMU8Ld/4gon4AbwDwLEbxmIUQnxFCzBJCzEGwXu8SQrwXo3jMRDSWiMbLzwDeCOBptHrMnbZ8t8m6/mYEHiMvAvhcp/vTxHFdD2A9gGEEO4L3A5gC4E4AL4R/J7PynwufwXMAzut0/+sY72kIxNwlABaH/988ysd8HIAnwjE/DeDz4fVRO2Zl/Gci9gIatWNG4KX4ZPh/qaRTrR6zSwXh4ODg0KXoBhWQg4ODg4MGjgE4ODg4dCkcA3BwcHDoUjgG4ODg4NClcAzAwcHBoUvhGICDg4NDl8IxAAcHB4cuxf8PaW9o4uyHsBEAAAAASUVORK5CYII=",
>>>>>>> a12e0a89cea650257c56a2671e8fe83a107a176a
      "text/plain": [
       "<Figure size 432x288 with 1 Axes>"
      ]
     },
     "metadata": {
      "needs_background": "light"
     },
     "output_type": "display_data"
    }
   ],
   "source": [
    "plt.plot(range(len(KTI)),KTI)\n",
    "plt.show()"
   ]
  },
  {
   "cell_type": "code",
<<<<<<< HEAD
   "execution_count": 77,
=======
   "execution_count": 48,
>>>>>>> a12e0a89cea650257c56a2671e8fe83a107a176a
   "id": "4ca445b6",
   "metadata": {},
   "outputs": [],
   "source": [
    "k = len(Tasks)"
   ]
  },
  {
   "cell_type": "code",
<<<<<<< HEAD
   "execution_count": 78,
=======
   "execution_count": 49,
>>>>>>> a12e0a89cea650257c56a2671e8fe83a107a176a
   "id": "ee037843",
   "metadata": {},
   "outputs": [],
   "source": [
    "def show(log,stt):\n",
    "    plt.figure(figsize=(10, 50))\n",
    "    for i in range(k):\n",
    "        name = str(Tasks[i].NUM_NODE) + ' x '+ str(Tasks[i].NUM_DOMAIN)\n",
    "        plt.subplot(12,2,i+1)\n",
    "        best = log[:,i].min()\n",
    "        plt.plot(log[:,i])\n",
    "        plt.title('IDPCU {i} best: {best}'.format(i=name.upper(),best=best))\n",
    "    plt.show()"
   ]
  },
  {
   "cell_type": "code",
<<<<<<< HEAD
   "execution_count": 79,
=======
   "execution_count": 50,
>>>>>>> a12e0a89cea650257c56a2671e8fe83a107a176a
   "id": "2b2f98ac",
   "metadata": {},
   "outputs": [
    {
     "data": {
<<<<<<< HEAD
      "image/png": "iVBORw0KGgoAAAANSUhEUgAAAlAAAADuCAYAAAD2vTlpAAAAOXRFWHRTb2Z0d2FyZQBNYXRwbG90bGliIHZlcnNpb24zLjQuMywgaHR0cHM6Ly9tYXRwbG90bGliLm9yZy/MnkTPAAAACXBIWXMAAAsTAAALEwEAmpwYAAAjeklEQVR4nO3de5xcZZ3n8c+XhHBHAgksScAAkshluG1AFGHDTUNkZHDVISsaRhTHkauuiKMOqLMzyKLibXAjCYGRCcNCxFtWZcCQ1cVgAwESQuQOnUTSkTtoBPLbP85T4VCp6u7qrq56qvN9v171qqrnPOec36nufvpXz3POcxQRmJmZmVn/bdbuAMzMzMw6jRMoMzMzswY5gTIzMzNrkBMoMzMzswY5gTIzMzNrkBMoMzMzswY5gbKOIOk0Sb9qdxxmZo2StFDSR9odhzWXE6ghJOlRScel16dJelXSC+nxiKQrJU0q1Z8oKUp1HpV0QWm5JJ0taamkFyV1S/rfkv4iLd/oj1TSVEndvcQ4S9IKSeslnVZj+XmSfi/pWUlzJG1RZzsTJD0t6e2lst1S2VvqrLNQ0p9Kx7ui7oc5RNLn/aYG6v99Kd4XJP0xfXZj6tSfKOmXkl6SdH/l98Gs3Tq9faoR8wuSptbZzkDapzMldUlaJ2lu1bLqz+IFSV+odxxDYSBfKiW9X9L/S+3RwhrLR0j6R0mrJD0v6S5JO9TZ1hbpf8Jz6X/EJwd2JJ3LCVRr3RYR2wJvAI4D/gjcIWn/qno7pHozgH+QNC2VfwM4Bzgb2BGYBNwIvGsQMd0N/B1wZ/UCSe8ELgCOBSYCewJfrLWRiOgGPgNcIWnLVPy/gCsjYnEv+z8zIrZNj8kDPooWiYh/KsW7LfAVYGFErK2zyjzgLmAn4HPA9ZLGtihcs0Z0VPtUjrn0WFir0gDbp1XAPwJzeolvh9K+v9zXwWTgKeAy4OI6y78IvA14K7A98EHgT3XqXgTsDbwROBo4v/S7sElwAtUGEfFqRDwUEX8H3Erxi1ir3m3AMmB/SXsDnwBmRMQtEbEuIl6KiGsiot4fQ39i+U5E3EztP5KZwOyIWBYRTwNfBk7rZXPfA1YDF0qaCUwGPj/Q2GqQpG+l3rD7JR1bWvAGSbMlrZa0Mn2LGpGWvUnSrWm9tZL+PZUvSqvfnb5B/nWjwVA0MFfVWT4JOAS4MCL+GBE3APcC/7XhIzdrkQ5qnxrVUPsUEfMj4kbgD03YN8Bekm5P7dAPJe1YWSDp8NQz9Iyku8s9aamn6eHUI/SIpA9I2gf4LvDW1HY9058AIuI/IuI6iuTwdSSNBs4FPhoRj0VhaUTU++w/BHw5Ip6OiOUUn+9p/YljuHAC1X7zgSOrC1N3+BHAfhQ9GMcC3RFxewtj24/iG2DF3cAuknaqVTmK+wJ9hOIb42UUf4gv9bGPf05Jza/rdb+XvAV4GBgDXAjMLzVCVwGvAG8CDgbekWKBIvH7BTAamAB8K8V7VFp+YPoGWUmsnil39ffiSGAX4IY6y/cDHo6I50tld6dys06Qc/sEcHBqP34n6QuSRtarOMD2qS+PqRiqvFJ1hvFLPgR8GBhH0VZ9E0DSeOCnFL1dOwL/HbhB0lhJ26R6J0TEdhS9Q0tSwvK3vNYDt0Pa1n+TdM8Aj+UvUlzvTUNyv5P0iVoVU7I1jo3/P2xSbZsTqPZbRfFHU7aWoqv1CuCC9A1sJ4pvT620LfBs6X3l9Xa9rPMYxTE9ByzqpR4UXep7AuOBWcCPJe3VS/01wGUR8XJKdlYA75K0C3ACcG5EvBgRa4CvA6ek9V6m6GYeFxF/iohezxuIiB36qpPMBK6PiBfqLK/+/Ejve/v8zHKSc/u0CNgf2JmiV3cG8Ok+1mmkferNWuBQinblP1P8TV/Txzr/mnp0XgS+ALw/9ZKfCiyIiAURsT4ibgK6gOlpvfUUvXxbRcTqiFhWbwcR8W8RccAAj2kCxfDtJGAP4L3ARZKOr1F32/Rc/f9hk2rbnEC133iKxqhsTESMjoh9IuKbqewPwK59bOsVYPOqss0pEoiBeIFiHLyi8vr5GnUrLqCIdQ3FN6m6ImJxRDyfuvuvAn7Na41GLSvj9Xe/foziW9AbKY5zdeo9eobi/IadU73zAQG3S1om6cO9xdUfkrYC3ked4buk+vMjve/t8zPLSbbtU0Q8HBGPpKTjXuBLFP/0e9Pv9qmPfb8QEV0R8UpEPAmcCbxDUvXfe9kTpdePURz7GIr2632Vtiu1X28Hdk3J1l9T9DatlvRTSW8eaNx9+GN6/lI65eAe4Fpqt8mVL43V/x82qbbNCVT7nQz8337UuxmYIGlKL3UepzjZu2wPij/WgVgGHFh6fyDwZETUPCdA0r4U3wA/ApwO/H06N6K/giLRqWd8Ou+oYneKb5NPAOsoGvYd0mP7iNgPICJ+HxEfjYhxwMeAf1EDV97V8R6KfywLe6mzDNhTUvlb2YGp3KwT5Nw+Veu1/WhC+9TXvult/8Bupde7UySOaynar38ttV07RMQ2lXPHIuLnEXE8RYJ6P8W5RuV9Nktl6K/P7aZzYlez8f+HTaptcwLVBiouFd1D0reAqdS5sq0sIh4A/gWYp+LS31GStpR0il67lPjfgb+RdFg6R2EScB7Ft4h6sYxScVWKgM3TNiu/F1cDp0vaN415fx6YW2c7mwGzgUsi4v707eWbwKyqpKdSfwdJ70z7GynpA8BRwM97+Rh2Bs6WtLmk9wH7UHR9r6Y4x+mrkraXtJmkvST9l7Sv90makLbxNEUD8Wp6/yTFMGKjZgJXV/WIvU5E/A5YQnHS6paSTgYOoP45U2Zt1yntk6QT0vA9qVfmC8AP62ynofYprTMy7XsEMKLSVqVlb5E0ObU1O6VtLYyI6iH7slNTW7o1RW/Z9RHxKvB94C9Te1jZz1QVUy/sIund6VyodRQ9P+W2a4KkUb3ss/qYRqRjGglslva1OUBEPESRLH9OxRQF+1D0fv2kzuauBj4vaXT6/D9Knf8Pw1ZE+DFED+BR4Lj0+jSKX/wXgBcpvnVdBexTqj+R4p/7yDrbE8VlwsuAl4CVFI3SfqU6H07LnwMepOiy3qyXGBemfZYfU0vLP0nxh/occCWwRZ3tnEdxEuHmpbItgOUUJ2tW1x8L/Jaiy/cZ4DfA8b3EeRrFEN+3Kcbafwe8o7T8DcDlQHdafhdwSlp2SfqsXgAeAs4orfe3FN+kngHen8peAI7sJZbxpBPWayz7LvDdqp/pQoru8RWV3wc//Gj3o9PbJ+DS1Da9SHFxyZfK7U/Vdhpqn9Lyi2rs+6K0bAbwSNr3aopk4j/1cRz/DNyejv3HFD3mleVvobji8Smgh+Kk8t0pep1uTW3aM2k7+6Z1RqV6TwFrU9kHgGW9xHFajWOaW1o+HvhZ+j14GPhYadnrtp0+vznpeJ4EPtnu3+lWP5Q+CDMzMzPrJw/hmZmZmTXICZSZmZlZg5xAmZmZmTXICZSZmZlZg+pOez8UxowZExMnTmzlLs2sze644461EdHxN1B2+2W26emt/WppAjVx4kS6urpauUszazNJzZoosa3cfpltenprvzyEZ2ZmZtYgJ1BmZmZmDXICZWZmZtYgJ1BmZmZmDeozgZI0R9IaSUtLZf9T0v2S7pH0A0k7DGmUZmZVarVNqfwsSSskLZN0SZ11z0vLl0qal26wambWb/3pgZoLTKsquwnYPyIOoLip62ebHJeZWV/mUtU2SToaOAk4ICL2o7jhLFV1xgNnA1MiYn9gBHDKkEdrZsNKn9MYRMQiSROryn5Revsb4L3NDGr56uf4zi8f3PD+TTtvy7nHTWrmLsysw9Vqm4CPAxdHxLpUZ02d1UcCW0l6GdgaWDVkgZrZsNSMc6A+DPyfegslnSGpS1JXT09Pvzb44rpXuG/1c9y3+jl+/eBaLvuPB5oQppltAiYBR0paLOlWSYdWV4iIlRQ9U48Dq4Fnq74UbjCQ9svMNg2DSqAkfQ54BbimXp2ImBURUyJiytix/ZuMeMrEHbnlU1O55VNTmfm2iZXtDCZUM9s0jARGA4cDnwauk6RyBUmjKYb59gDGAdtIOrXWxgbSfpnZpmHACZSkmcCJwAfC2Y2Z5aEbmB+F24H1wJiqOscBj0RET0S8DMwH3tbiOM2sww0ogZI0DfgM8O6IeKm5IVXti+LLo1M0M+uHG4FjACRNAkYBa6vqPA4cLmnr1Dt1LLC8lUGaWefrzzQG84DbgMmSuiWdDnwb2A64SdISSd8dqgArne/On8ysrE7bNAfYM01tcC0wMyJC0jhJCwAiYjFwPXAncC9FOzirLQdhZh2rP1fhzahRPHsIYukrDkB91jOzTUOdtglgo/OZImIVML30/kLgwiEKzcw2AdnPRO6UyczMzHKTfwLlITwzMzPLTPYJVIVPIjczM7NcZJ9AVU3hYmZmZtZ22SdQFeFBPDMzM8tE5yRQzp/MzMwsE9knUB7BMzMzs9zkn0B5IgMzMzPLTPYJVIWH8MzMzCwX2SdQHsIzMzOz3OSfQKVnX4VnZmZmucg/garMRO78yczMzDKRfQJlZmZmlpvsE6jKVXjugDKzMklzJK2RtLSq/CxJKyQtk3RJnXV3kHS9pPslLZf01tZEbWbDxch2B9CX14bwnEKZ2evMBb4NXF0pkHQ0cBJwQESsk7RznXW/AfwsIt4raRSw9VAHa2bDS/Y9UGZmtUTEIuCpquKPAxdHxLpUZ031epK2B44CZqc6f46IZ4Y2WjMbbjomgXL/k5n1wyTgSEmLJd0q6dAadfYEeoArJd0l6QpJ29TamKQzJHVJ6urp6RnKuM2sw2SfQCmN4XkEz8z6YSQwGjgc+DRwnbTRbHIjgUOAyyPiYOBF4IJaG4uIWRExJSKmjB07dgjDNrNOk30CZWbWgG5gfhRuB9YDY2rU6Y6Ixen99RQJlZlZv2WfQG346ugeKDPr243AMQCSJgGjgLXlChHxe+AJSZNT0bHAfS2M0cyGgfwTqMpVeM6gzKxE0jzgNmCypG5JpwNzgD3T1AbXAjMjIiSNk7SgtPpZwDWS7gEOAv6pxeGbWYfLfhqDCp8DZWZlETGjzqJTa9RdBUwvvV8CTBmayMxsU5B/D1S7AzAzMzOrkn8CJc9EbmZmZnnJPoGq8EzkZmZmlovsE6iNZnAxMzMza7M+E6haN+yU9L50o871kob0RMxK/uT+JzMzM8tFf3qg5gLTqsqWAu8BFjU7oHo8gmdmZma56HMag4hYJGliVdlyeO0E7yHlMTwzMzPLzJCfAzXYm3G+NoTnLigzMzPLw5AnUE27GafzJzMzM8uEr8IzMzMza1D+CRSeSNPMzMzy0p9pDDa6YaekkyV1A28Ffirp50MdqK/CMzMzs1z05yq8ejfs/EGTY6nJQ3hmVoukOcCJwJqI2L9UfhZwJvAK8NOIOL/O+iOALmBlRJzYgpDNbBjpgCG8gq/CM7Mqc6mao07S0cBJwAERsR9waS/rnwMsH7LozGxYyz+BShmUh/DMrCwiFgFPVRV/HLg4ItalOmtqrStpAvAu4IohDdLMhq3sEygzswZMAo6UtFjSrZIOrVPvMuB8YH3LIjOzYSX7BMpX4ZlZA0YCo4HDgU8D16nqlgmSKudN3dHXxgY7EbCZDV/ZJ1BsGMJzCmVmfeoG5kfhdooepjFVdY4A3i3pUeBa4BhJ36+1saZNBGxmw07+CZSZWf/dCBwDIGkSMApYW64QEZ+NiAkRMRE4BbglIk5tcZxm1uGyT6A2XIXnDigzK6k1Rx0wB9hT0lKK3qWZERGSxkla0M54zWx46XMeqHaTJ4Iysxp6maNuo96kiFgFTK9RvhBY2NTAzGyTkH0PlJmZmVlusk+gPIRnZmZmuck/gapcheeJDMzMzCwT2SdQFe6BMjMzs1xkn0D5HHIzMzPLTf4JlGciNzMzs8xkn0BVeCZyMzMzy0X2CZSH8MzMzCw32SdQFe5/MjMzs1x0TgLlDMrMzMwykX0C5Vu5mJmZWW7yT6A2vHIXlJmZmeUh+wSqwkN4ZmZmlovsEyiP4JlZLZLmSFojaWlV+VmSVkhaJumSGuvtJumXkpanOue0LmozGy5GtjuAvngiTTOrYy7wbeDqSoGko4GTgAMiYp2knWus9wrwqYi4U9J2wB2SboqI+1oRtJkNDx3TA+UhPDMri4hFwFNVxR8HLo6IdanOmhrrrY6IO9Pr54HlwPghDtfMhpnsEygzswZMAo6UtFjSrZIO7a2ypInAwcDiOsvPkNQlqaunp6f50ZpZx8o+gaqcAhUexDOzvo0ERgOHA58GrlOduVAkbQvcAJwbEc/VqhMRsyJiSkRMGTt27FDFbGYdqM8EqtaJmpJ2lHSTpAfS8+ihCtBDeGbWgG5gfhRuB9YDY6orSdqcInm6JiLmtzhGMxsG+tMDNReYVlV2AXBzROwN3Jzem5m1243AMQCSJgGjgLXlCqlHajawPCK+1uoAzWx46DOBqnOi5knAVen1VcBfNTessnQVnnugzKxE0jzgNmCypG5JpwNzgD1Tj/m1wMyICEnjJC1Iqx4BfBA4RtKS9JjeloMws4410GkMdomI1VBc0VLnUmGgOAkTOANg9913b3hHG4bwfA6UmZVExIw6i06tUXcVMD29/hXlmxyYmQ3AkJ9E7pMwzczMbLgZaAL1pKRdAdLzRnOtNMuGq/DcAWVmZmaZGGgC9SNgZno9E/hhc8LZWJ0rkM3MzMzapj/TGNQ6UfNi4HhJDwDHp/dDyj1QZmZmlos+TyLv5UTNY5scS03ufzIzM7Pc5D8Tua/CMzMzs8xkn0BVeAjPzMzMcpF9AuVzyM3MzCw3+SdQlZnI2xyHmZmZWUX2CVRFeAzPzMzMMpF/AuUhPDMzM8tM9gnUhpnI2xqFmZmZ2WuyT6AqPIJnZmZmucg+gfKtXMysFklzJK2RtLSq/CxJKyQtk3RJnXWnpToPSrqgNRGb2XCSfwK14ZW7oMzsdeYC08oFko4GTgIOiIj9gEurV5I0AvgOcAKwLzBD0r5DHq2ZDSt93solFx7CM7OyiFgkaWJV8ceBiyNiXaqzpsaqhwEPRsTDAJKupUi67mtWbF/88TLuW/VcszZnZk2y77jtufAv92vKtvLvgfIInpn13yTgSEmLJd0q6dAadcYDT5Ted6eyjUg6Q1KXpK6enp4hCNfMOlX2PVCeSNPMGjASGA0cDhwKXCdpz3j9RHK1vpbVbGIiYhYwC2DKlCn9boaa9Q3XzPLVMT1QHsIzs37oBuZH4XZgPTCmRp3dSu8nAKtaFJ+ZDRPZJ1BmZg24ETgGQNIkYBSwtqrOb4G9Je0haRRwCvCjVgZpZp0v+wRqw0Sa7oIysxJJ84DbgMmSuiWdDswB9kxTG1wLzIyIkDRO0gKAiHgFOBP4ObAcuC4ilrXnKMysU2V/DlQlg3L6ZGZlETGjzqJTa9RdBUwvvV8ALBii0MxsE5B9D5SZmZlZbrJPoDZchecuKDMzM8tE/gnUhiE8Z1BmZmaWh+wTqA2cP5mZmVkmsk+gPBG5mZmZ5Sb/BEqeidzMzMzykn0CVeGTyM3MzCwX2SdQvpmwmZmZ5WZQCZSkcyQtlbRM0rlNiun1+0jPvgrPzMzMcjHgBErS/sBHgcOAA4ETJe3drMCqeQjPzMzMcjGYHqh9gN9ExEvp3lK3Aic3J6zXeAjPzMzMcjOYBGopcJSknSRtTXGfqd2qK0k6Q1KXpK6enp4B7MZX4ZmZmVleBpxARcRy4CvATcDPgLuBV2rUmxURUyJiytixYwccaHgMz8zMzDIxqJPII2J2RBwSEUcBTwEPNCes13gIz8xqkTRH0hpJS0tlF0laKWlJekyvs+556eKXpZLmSdqydZGb2XAw2Kvwdk7PuwPvAeY1I6jX7SM9u//JzKrMBabVKP96RByUHguqF0oaD5wNTImI/YERwClDGqmZDTsjB7n+DZJ2Al4GPhERTzchptqcQZlZSUQskjRxgKuPBLaS9DKwNbCqaYGZ2SZhsEN4R0bEvhFxYETc3KygyuQxPDNrzJmS7klDfKOrF0bESuBS4HFgNfBsRPyi1oYGfxGMmQ1X+c9Enp49kaaZ9cPlwF7AQRTJ0VerK6Sk6iRgD2AcsI2kU2ttrFkXwZjZ8JN/ApUyKF+EZ2Z9iYgnI+LViFgPfI9iot9qxwGPRERPRLwMzAfe1so4zazzZZ9AmZn1l6RdS29PppivrtrjwOGStlZxjsCxwPJWxGdmw8dgTyIfcqpMpOkeKDMrkTQPmAqMkdQNXAhMlXQQxWUnjwIfS3XHAVdExPSIWCzpeuBOirnr7gJmtfwAzKyj5Z9AVYbw2huGmWUmImbUKJ5dp+4qirslVN5fSJFwmZkNiIfwzMzMzBrUMQmUb+ViZmZmucg+gfIQnpmZmeUm+wTKzMzMLDfZJ1C+Cs/MzMxyk38CteFOLs6gzMzMLA/ZJ1AV7oEyMzOzXGSfQPlewmZmZpab/BOoyjlQbY7DzMzMrCL7BKrCQ3hmZmaWi+wTKA/hmZmZWW7yT6DSc3gQz8zMzDKRfQJV4SE8MyuTNEfSGklLS2UXSVopaUl6TK+z7g6Srpd0v6Tlkt7ausjNbDjIPoHyEJ6Z1TEXmFaj/OsRcVB6LKiz7jeAn0XEm4EDgeVDFKOZDVPZJ1D4KjwzqyEiFgFPNbqepO2Bo4DZaTt/johnmhudmQ13HZBAFcJjeGbWP2dKuicN8Y2usXxPoAe4UtJdkq6QtE2LYzSzDpd9AuUhPDNrwOXAXsBBwGrgqzXqjAQOAS6PiIOBF4ELam1M0hmSuiR19fT0DE3EZtaR8k+g2h2AmXWMiHgyIl6NiPXA94DDalTrBrojYnF6fz1FQlVre7MiYkpETBk7duzQBG1mHSn/BCp1QXkEz8z6ImnX0tuTgaXVdSLi98ATkianomOB+1oQnpkNIyPbHYCZ2UBImgdMBcZI6gYuBKZKOojiupNHgY+luuOAKyKiMq3BWcA1kkYBDwN/09LgzazjZZ9AeSJNM6slImbUKJ5dp+4qYHrp/RJgytBEZmabgkEN4Uk6T9IySUslzZO0ZbMCe20fxbOH8MzMzCwXA06gJI0HzgamRMT+wAjglGYFZmZmZparwZ5EPhLYStJIYGtg1eBDej3hk8jNzMwsLwNOoCJiJXAp8DjFfCvPRsQvqusNdh6VDUN4Aw3UzMzMrMkGM4Q3GjgJ2AMYB2wj6dTqep5HxczMzIabwQzhHQc8EhE9EfEyMB94W3PC2phv5WJmZma5GEwC9ThwuKStVcx2eSxDcEdzD+GZmZlZbgZzDtRiilsg3Ancm7Y1q0lx1djhkG3ZzMzMrCGDmkgzIi6kmP13yMh3EzYzM7PM5H8vvPTsmcjNzMwsF9knUBU+h9zMzMxykX0C5RE8MzMzy03+CVRlJvI2x2FmZmZWkX0CVeEhPDMrkzRH0hpJS0tlF0laKWlJekzvZf0Rku6S9JPWRGxmw0n2CZSH8MysjrnAtBrlX4+Ig9JjQS/rn8MQzF1nZpuG/BOo9Oyr8MysLCIWAU8NZF1JE4B3AVc0NSgz22Rkn0BVeAjPzPrpTEn3pCG+0XXqXAacD6zvbUODvRm6mQ1f+SdQHsIzs/67HNgLOAhYDXy1uoKkE4E1EXFHXxvzzdDNrJ7sEyhfhWdm/RURT0bEqxGxHvgecFiNakcA75b0KHAtcIyk77cwTDMbBrJPoDbwGJ6Z9UHSrqW3JwNLq+tExGcjYkJETAROAW6JiFNbFKKZDRODuhdeK/gqPDOrRdI8YCowRlI3xX05p0o6iKLT+lHgY6nuOOCKiKg7rYGZWSPyT6DSs/ufzKwsImbUKJ5dp+4qYKPkKSIWAgubGpiZbRKyH8JT6oLyCJ6ZmZnlIvsEyszMzCw32SdQG4bw3AVlZmZmmcg/gUoZlNMnMzMzy0X2CZSZmZlZbrJPoDZMpOkuKDMzM8tE9gkUHsIzMzOzzOSfQJmZmZllJvsEasNJ5B7DMzMzs0zkn0C1OwAzMzOzKtknUBXugDIzM7NcZJ9AyXcTNjMzs8zkn0Cl5/B1eGZmZpaJASdQkiZLWlJ6PCfp3CbG9joewjOzMklzJK2RtLRUdpGklaV2aXqN9XaT9EtJyyUtk3ROayM3s+Fg5EBXjIgVwEEAkkYAK4EfNCes13gEz8zqmAt8G7i6qvzrEXFpL+u9AnwqIu6UtB1wh6SbIuK+IYrTzIahASdQVY4FHoqIx5q0vQ0qM5HfuGQVy1Y91+zNm1mDxo/eis9Me3O7wyAiFkmaOID1VgOr0+vnJS0HxgNOoMys35qVQJ0CzKu1QNIZwBkAu+++e8Mb3mLkZkydPJbH/vAS9658dlBBmtngvfTnV9sdQl/OlPQhoIuip+npehVTAnYwsLjO8kG1X2Y2fGmwE1RKGgWsAvaLiCd7qztlypTo6uoa1P7MrLNIuiMipgzRticCP4mI/dP7XYC1FHd/+jKwa0R8uM662wK3Av8jIub3tS+3X2abnt7ar2ZchXcCcGdfyZOZ2VCLiCcj4tWIWA98DzisVj1JmwM3ANf0J3kyM6vWjARqBnWG78zMWknSrqW3JwNLa9QRMBtYHhFfa1VsZja8DCqBkrQ1cDzgb3Bm1lKS5gG3AZMldUs6HbhE0r2S7gGOBs5LdcdJWpBWPQL4IHBMb9MdmJn1ZlAnkUfES8BOTYrFzKzfImJGjeLZdequAqan17/Ct9k0s0HKfiZyMzMzs9w4gTIzMzNrkBMoMzMzswYNeh6ohnYm9QD9na18DMV8Lp2oU2N33K3VqXFDY7G/MSLGDmUwrdBg+wWd+/N13K3VqXFD58belParpQlUIyR1DdXke0OtU2N33K3VqXFDZ8feKp36GTnu1urUuKFzY29W3B7CMzMzM2uQEygzMzOzBuWcQM1qdwCD0KmxO+7W6tS4obNjb5VO/Ywcd2t1atzQubE3Je5sz4EyMzMzy1XOPVBmZmZmWXICZWZmZtagLBMoSdMkrZD0oKQL2h1PmaQ5ktZIWloq21HSTZIeSM+jS8s+m45jhaR3tidqkLSbpF9KWi5pmaRzOiF2SVtKul3S3SnuL3ZC3KVYRki6S9JP0vtOifvRdFPeJZK6UllHxN5uObdf0JltWKe2XykOt2Gtj7k17VdEZPUARgAPAXsCo4C7gX3bHVcpvqOAQ4ClpbJLgAvS6wuAr6TX+6b4twD2SMc1ok1x7wockl5vB/wuxZd17BQ3fd02vd4cWAwcnnvcpfg/Cfwb8JNO+V1J8TwKjKkq64jY2/nIvf1KMXZcG9ap7VeKxW1Y62NuSfuVYw/UYcCDEfFwRPwZuBY4qc0xbRARi4CnqopPAq5Kr68C/qpUfm1ErIuIR4AHKY6v5SJidUTcmV4/DywHxpN57FF4Ib3dPD2CzOMGkDQBeBdwRak4+7h70cmxt0rW7Rd0ZhvWqe0XuA1rUaj90fS4c0ygxgNPlN53p7Kc7RIRq6H4Qwd2TuVZHoukicDBFN+Eso89dSEvAdYAN0VER8QNXAacD6wvlXVC3FA08L+QdIekM1JZp8TeTp36WXTMz7bT2i9wG9YGLWm/RjYp2GZSjbJOnWshu2ORtC1wA3BuRDwn1QqxqFqjrC2xR8SrwEGSdgB+IGn/XqpnEbekE4E1EXGHpKn9WaVGWTt/V46IiFWSdgZuknR/L3Vzi72dhttnkdXxdGL7BW7D2qAl7VeOPVDdwG6l9xOAVW2Kpb+elLQrQHpek8qzOhZJm1M0PtdExPxU3BGxA0TEM8BCYBr5x30E8G5Jj1IM4xwj6fvkHzcAEbEqPa8BfkDRpd0RsbdZp34W2f9sO739ArdhrdKq9ivHBOq3wN6S9pA0CjgF+FGbY+rLj4CZ6fVM4Iel8lMkbSFpD2Bv4PY2xIeKr2qzgeUR8bXSoqxjlzQ2fWtD0lbAccD9ZB53RHw2IiZExESK3+FbIuJUMo8bQNI2krarvAbeASylA2LPQCe2X5D5z7ZT2y9wG9bisFvbfg312fADeQDTKa6yeAj4XLvjqYptHrAaeJkicz0d2Am4GXggPe9Yqv+5dBwrgBPaGPfbKbol7wGWpMf03GMHDgDuSnEvBf4hlWcdd9UxTOW1K1iyj5viCrK702NZ5W+wE2LP4ZFz+5Xi67g2rFPbrxSH27DWxtqy9su3cjEzMzNrUI5DeGZmZmZZcwJlZmZm1iAnUGZmZmYNcgJlZmZm1iAnUGZmZmYNcgJlZmZm1iAnUGZmZmYN+v+6K/mYBSxaDwAAAABJRU5ErkJggg==",
=======
      "image/png": "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",
>>>>>>> a12e0a89cea650257c56a2671e8fe83a107a176a
      "text/plain": [
       "<Figure size 720x3600 with 2 Axes>"
      ]
     },
     "metadata": {
      "needs_background": "light"
     },
     "output_type": "display_data"
    }
   ],
   "source": [
    "show(log,'12')"
   ]
  },
  {
   "cell_type": "code",
<<<<<<< HEAD
   "execution_count": null,
=======
   "execution_count": 51,
>>>>>>> a12e0a89cea650257c56a2671e8fe83a107a176a
   "id": "6800b6b0",
   "metadata": {
    "scrolled": false
   },
   "outputs": [],
   "source": [
    "# for i in range(30):\n",
    "#     show(log_seeds[i],'30epochs')"
   ]
  },
  {
   "cell_type": "code",
   "execution_count": null,
   "id": "1197ae2e",
   "metadata": {},
   "outputs": [],
   "source": []
  }
 ],
 "metadata": {
  "kernelspec": {
   "display_name": "Python 3",
   "language": "python",
   "name": "python3"
  },
  "language_info": {
   "codemirror_mode": {
    "name": "ipython",
    "version": 3
   },
   "file_extension": ".py",
   "mimetype": "text/x-python",
   "name": "python",
   "nbconvert_exporter": "python",
   "pygments_lexer": "ipython3",
   "version": "3.8.8"
  }
 },
 "nbformat": 4,
 "nbformat_minor": 5
}
