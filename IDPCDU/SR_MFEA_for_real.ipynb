{
 "cells": [
  {
   "cell_type": "code",
   "execution_count": 24,
   "id": "153da417",
   "metadata": {},
   "outputs": [],
   "source": [
    "import numpy as np\n",
    "import matplotlib.pyplot as plt\n",
    "import pandas as pd\n",
    "import random\n",
    "import os\n",
    "from scipy.stats import rankdata"
   ]
  },
  {
   "cell_type": "code",
   "execution_count": 25,
   "id": "cc8573b7",
   "metadata": {},
   "outputs": [
    {
     "name": "stdout",
     "output_type": "stream",
     "text": [
      "0 idpc_10x10x1000.idpc\n",
      "1 idpc_10x20x2713.idpc\n",
      "2 idpc_10x5x425.idpc\n",
      "3 idpc_15x15x3375.idpc\n",
      "4 idpc_15x30x12111.idpc\n",
      "5 idpc_15x7x1504.idpc\n",
      "6 idpc_20x10x2492.idpc\n",
      "7 idpc_20x20x8000.idpc\n",
      "8 idpc_20x40x26104.idpc\n",
      "9 idpc_25x12x4817.idpc\n",
      "10 idpc_25x25x15625.idpc\n",
      "11 idpc_25x50x57147.idpc\n",
      "12 idpc_30x15x10025.idpc\n",
      "13 idpc_30x30x27000.idpc\n",
      "14 idpc_30x60x89772.idpc\n",
      "15 idpc_35x17x13934.idpc\n",
      "16 idpc_35x35x42875.idpc\n",
      "17 idpc_35x70x123585.idpc\n",
      "18 idpc_40x20x18485.idpc\n",
      "19 idpc_40x40x64000.idpc\n",
      "20 idpc_40x80x130681.idpc\n",
      "21 idpc_45x22x43769.idpc\n",
      "22 idpc_45x45x91125.idpc\n",
      "23 idpc_45x90x322081.idpc\n"
     ]
    }
   ],
   "source": [
    "sc = \"Datasets/IDPCDU_Edges/set1/\"\n",
    "TaskNames = os.listdir(sc)\n",
    "TaskNames.sort()\n",
    "\n",
    "for i in range(24):\n",
    "    print(i, TaskNames[i])"
   ]
  },
  {
   "cell_type": "code",
   "execution_count": 26,
   "id": "68c2bc88",
   "metadata": {},
   "outputs": [],
   "source": [
    "from build_real import GraphDomain \n",
    "\n",
    "def Load_data(taskIDs):\n",
    "    Tasks = [0, 0]\n",
    "    MAX_DIM = 0\n",
    "    NUM_TASK = 2\n",
    "\n",
    "    for i in range(2):\n",
    "        path = sc + TaskNames[taskIDs[i]] \n",
    "        Tasks[i] = GraphDomain(path,name=TaskNames[taskIDs[i]])\n",
    "        MAX_DIM = max(MAX_DIM, Tasks[i].NUM_DOMAIN)\n",
    "\n",
    "    return Tasks, NUM_TASK, MAX_DIM\n"
   ]
  },
  {
   "cell_type": "code",
   "execution_count": 27,
   "id": "d0e0e513",
   "metadata": {},
   "outputs": [],
   "source": [
    "Tasks, NUM_TASK, MAX_DIM = Load_data([12,13])"
   ]
  },
  {
   "cell_type": "code",
   "execution_count": 28,
   "id": "fb9b270e",
   "metadata": {},
   "outputs": [],
   "source": [
    "\n",
    "def GeneratorIndiv(dims=MAX_DIM):\n",
    "    indiv = np.random.sample(dims)\n",
    "\n",
    "    fac_cost = []\n",
    "    for task in Tasks:\n",
    "        fac_cost.append(task.Cost(indiv))\n",
    "    \n",
    "    return indiv, fac_cost"
   ]
  },
  {
   "cell_type": "code",
   "execution_count": 29,
   "id": "65e59695",
   "metadata": {},
   "outputs": [],
   "source": [
    "def Generate_Eval(sizePop, d = MAX_DIM):\n",
    "    population = []\n",
    "    pop_cost = []\n",
    "    for i in range(sizePop):\n",
    "        pi, f_cost = GeneratorIndiv(d)\n",
    "        population.append(pi)\n",
    "        pop_cost.append(f_cost)\n",
    "    population,pop_cost = np.asarray(population),np.asarray(pop_cost)\n",
    "    rank = rankdata(pop_cost,axis=0,method='ordinal')\n",
    "#     skill_factor = np.argmin(rank,axis = 1)+1\n",
    "#     fitness = 1/np.min(rank,axis = 1) \n",
    "#     return population,pop_cost,rank,skill_factor,fitness\n",
    "    return population,pop_cost,rank"
   ]
  },
  {
   "cell_type": "code",
   "execution_count": 30,
   "id": "e135f379",
   "metadata": {},
   "outputs": [],
   "source": [
    "def heSo(n,m,TH=0.4):\n",
    "    # a1 + b1 = 1\n",
    "    # a1*m+b1 = TH\n",
    "    # a2*m + b2= TH\n",
    "    # a2*n + b2 = 0\n",
    "    a1 = (1-TH)/(1-m)\n",
    "    b1 = 1 - a1\n",
    "    a2 = TH/(m-n)\n",
    "    b2 = (TH-a2*m)\n",
    "    return a1,b1,a2,b2"
   ]
  },
  {
   "cell_type": "code",
   "execution_count": 31,
   "id": "7253ae3a",
   "metadata": {},
   "outputs": [],
   "source": [
    "def fm(a1,b1,a2,b2,n,m,r,TH=0.4):\n",
    "    if r >= 1 and r <m:\n",
    "        return a1*r+b1\n",
    "    elif r == m:\n",
    "        return TH\n",
    "    elif r >= m+1:\n",
    "        return a2*r+b2"
   ]
  },
  {
   "cell_type": "code",
   "execution_count": 32,
   "id": "caf2dc5b",
   "metadata": {},
   "outputs": [],
   "source": [
    "def abilitiVector(rank,TH,n,m):\n",
    "    a1,b1,a2,b2 = heSo(n,m,TH)\n",
    "    abiVector =[]\n",
    "    for x in range(len(rank)):\n",
    "        df =[]\n",
    "        for item in rank[x]:\n",
    "            df.append(fm(a1,b1,a2,b2,n,m,item,TH))\n",
    "        abiVector.append(df)\n",
    "    return np.array(abiVector)"
   ]
  },
  {
   "cell_type": "code",
   "execution_count": 33,
   "id": "28378a94",
   "metadata": {},
   "outputs": [],
   "source": [
    "import math\n",
    "\n",
    "def cross_SBX(p1, p2, nc = 1):\n",
    "    u = np.random.random_sample()\n",
    "    if u < 0.5:\n",
    "        beta = math.pow(2*u, 1/(nc+1))\n",
    "    else:\n",
    "        beta = math.pow(0.5/(1-u), 1/(nc+1))\n",
    "\n",
    "    c1 = 0.5*((1+beta)*p1 + (1-beta)*p2)\n",
    "    c2 = 0.5*((1-beta)*p1 + (1+beta)*p2)\n",
    "\n",
    "    return c1, c2"
   ]
  },
  {
   "cell_type": "code",
   "execution_count": 34,
   "id": "d4f04a7d",
   "metadata": {},
   "outputs": [],
   "source": [
    "def Diff_Mutation(y1,y2,y3,y4):\n",
    "    F = np.random.random_sample()\n",
    "    return y1 + F * (y4 - y1 + y2 - y3)"
   ]
  },
  {
   "cell_type": "code",
   "execution_count": 35,
   "id": "5719107c",
   "metadata": {},
   "outputs": [],
   "source": [
    "def Poly_Mutation(p,nm = 1):\n",
    "    u = np.random.random_sample()\n",
    "    if u <= 0.5:\n",
    "        phi = np.power(2*u,1/(nm+1)) -1\n",
    "        return p + phi*p\n",
    "    else:\n",
    "        phi = 1 - np.power(2-2*u,1/(nm+1))\n",
    "        return p + phi*(1-p)"
   ]
  },
  {
   "cell_type": "code",
   "execution_count": 36,
   "id": "a53ef0b8",
   "metadata": {},
   "outputs": [],
   "source": [
    "def mutation(individual, e = 0.15):\n",
    "    n = len(individual)\n",
    "    res = np.array(individual)\n",
    "\n",
    "    index1 = np.random.randint(n)\n",
    "    index2 = np.random.randint(n)\n",
    "    while index1 == index2:\n",
    "        index2 = np.random.randint(n)\n",
    "\n",
    "    res[index1] -= e\n",
    "    res[index2] += e\n",
    "\n",
    "    return res"
   ]
  },
  {
   "cell_type": "code",
   "execution_count": 37,
   "id": "8f83eafa",
   "metadata": {},
   "outputs": [],
   "source": [
    "def paradox_mutation(indiv):\n",
    "    n = len(indiv)\n",
    "    index1 = 0\n",
    "    index2 = np.random.randint(n)\n",
    "\n",
    "    # if index1 > index2:\n",
    "    #     temp = index1\n",
    "    #     index1 = index2\n",
    "    #     index2 = temp\n",
    "\n",
    "    while index1 < index2:\n",
    "        temp = indiv[index1]\n",
    "        indiv[index1] = indiv[index2]\n",
    "        indiv[index2] = temp\n",
    "        index1 += 1\n",
    "        index2 -= 1\n",
    "\n",
    "    return indiv"
   ]
  },
  {
   "cell_type": "code",
   "execution_count": 38,
   "id": "e8dc3e6f",
   "metadata": {},
   "outputs": [],
   "source": [
    "def Offspring_Generation(pop,abiVector,task,Pa,Pb,m):\n",
    "    n = pop.shape[0]\n",
    "    x_star = pop[abiVector[:,task].argmax()]\n",
    "    offs_gen = []\n",
    "    abi_gen = []\n",
    "    for indiv in range(int(m/2)):\n",
    "        index1 = np.random.randint(n)\n",
    "        while True:\n",
    "            index2 = np.random.randint(n)\n",
    "            if index1 != index2: break\n",
    "        p1,p2 = pop[index1],pop[index2]\n",
    "\n",
    "        if np.random.random_sample() < Pa:\n",
    "            c1,c2 = cross_SBX(p1,p2)\n",
    "\n",
    "            # if np.random.random_sample() < Pb:\n",
    "            #     c1 = Diff_Mutation(c1, p1, p2, Tasks[task].indvi_best)\n",
    "            #     c2 = Diff_Mutation(c2, p2, p1, Tasks[task].indvi_best)\n",
    "            if np.random.random_sample() < Pb:\n",
    "                c1 = Diff_Mutation(c1, p1, p2, Tasks[task].indvi_best)\n",
    "                c2 = Diff_Mutation(c2, p2, p1, Tasks[task].indvi_best)\n",
    "        else:\n",
    "            c1 = paradox_mutation(p1)\n",
    "            c2 = paradox_mutation(p2)\n",
    "\n",
    "\n",
    "        if np.random.random_sample() < 0.5:\n",
    "            a1 = abiVector[index1]\n",
    "            a2 = abiVector[index2]\n",
    "        else:\n",
    "            a1 = abiVector[index2]\n",
    "            a2 = abiVector[index1]\n",
    "        \n",
    "        offs_gen.append(c1)\n",
    "        offs_gen.append(c2)\n",
    "        abi_gen.append(a1)\n",
    "        abi_gen.append(a2)\n",
    "    return np.array(offs_gen), np.array(abi_gen) "
   ]
  },
  {
   "cell_type": "code",
   "execution_count": 39,
   "id": "17e39602",
   "metadata": {},
   "outputs": [],
   "source": [
    "MAX = np.inf"
   ]
  },
  {
   "cell_type": "code",
   "execution_count": 40,
   "id": "dc5e1848",
   "metadata": {},
   "outputs": [],
   "source": [
    "def Select_Eval(offs_gen,abi_gen,task,k):\n",
    "    size_gen = offs_gen.shape[0]\n",
    "    tmp = np.arange(size_gen)\n",
    "    random.shuffle(tmp)\n",
    "    \n",
    "    new_gen = []\n",
    "    new_fc = []\n",
    "    for x in tmp:\n",
    "        indiv = offs_gen[x]\n",
    "        abi_x = abi_gen[x]\n",
    "        fc = []\n",
    "        for js in range(k):\n",
    "            # print(\"js\",js)\n",
    "            # print(\" abi_x[js]\", abi_x[js])\n",
    "            if js == task or np.random.random_sample() <= abi_x[js]:\n",
    "                cost = Tasks[js].Cost(indiv)\n",
    "            else:\n",
    "                cost = MAX\n",
    "            fc.append(cost)\n",
    "        new_fc.append(fc)\n",
    "        new_gen.append(indiv)\n",
    "    return np.array(new_gen),np.array(new_fc)"
   ]
  },
  {
   "cell_type": "code",
   "execution_count": 41,
   "id": "ffe31313",
   "metadata": {},
   "outputs": [],
   "source": [
    "def updateAbility(pop_cost,TH,n,m):\n",
    "    rank = rankdata(pop_cost,axis=0,method='ordinal')\n",
    "    abiVector = abilitiVector(rank,TH,n,m)\n",
    "    return abiVector"
   ]
  },
  {
   "cell_type": "code",
   "execution_count": 42,
   "id": "54f7ce64",
   "metadata": {},
   "outputs": [],
   "source": [
    "from tqdm import tqdm"
   ]
  },
  {
   "cell_type": "code",
   "execution_count": 43,
   "id": "425ce5fc",
   "metadata": {},
   "outputs": [],
   "source": [
    "def selectNewPop(pop,pop_cost,off_gen,off_fc,k):\n",
    "    tmp = np.arange(off_gen.shape[0])\n",
    "    random.shuffle(tmp)\n",
    "    new_pop = []\n",
    "    new_cost = []\n",
    "    for task in range(k):\n",
    "        index = pop_cost[:,task].argmin()\n",
    "        new_pop.append([pop[index]])\n",
    "        new_cost.append([pop_cost[index]])\n",
    "    new_pop.append(off_gen[tmp[:-2]])\n",
    "    new_cost.append(off_fc[tmp[:-2]])\n",
    "    return np.concatenate(new_pop), np.concatenate(new_cost)"
   ]
  },
  {
   "cell_type": "code",
   "execution_count": 44,
   "id": "bc126b6d",
   "metadata": {},
   "outputs": [],
   "source": [
    "def SREMTO(n,TH,Pa,Pb,epochs=200):\n",
    "    population,pop_cost,rank = Generate_Eval(n)\n",
    "    k = len(Tasks)\n",
    "    m = int(n/k)\n",
    "    abiVector = abilitiVector(rank,TH,n,m)\n",
    "    \n",
    "    log = []\n",
    "    KTI = []\n",
    "    for epoch in tqdm(range(epochs)):\n",
    "        off_gen = []\n",
    "        off_fc = []\n",
    "        for task in range(k):\n",
    "            index = abiVector[:,task].argsort()[-m:]\n",
    "            if task == 0:\n",
    "                setA = set(index)\n",
    "            elif task == 1:\n",
    "                setB = set(index)\n",
    "            group = [population[index],pop_cost[index],rank[index],abiVector[index]]\n",
    "            \n",
    "            offs_gen,abi_gen = Offspring_Generation(group[0],group[3],task,Pa,Pb,m)\n",
    "            \n",
    "            new_gen,new_fc = Select_Eval(offs_gen,abi_gen,task,k)\n",
    "            \n",
    "            off_gen.append(new_gen)\n",
    "            off_fc.append(new_fc)\n",
    "        KTI.append(len(setA.intersection(setB))/n)\n",
    "\n",
    "        \n",
    "        \n",
    "        off_gen = np.concatenate(off_gen)\n",
    "        off_fc = np.concatenate(off_fc)\n",
    " \n",
    "        \n",
    "        # population = np.concatenate([population,off_gen],axis=0)\n",
    "        # pop_cost = np.concatenate([pop_cost,off_fc],axis=0)\n",
    "        \n",
    "        # #update\n",
    "        # tmp_pop = []\n",
    "        # tmp_cost = []\n",
    "        # for task in range(k):\n",
    "        #     index = pop_cost[:,task].argsort()[:m]\n",
    "        #     tmp_pop.append(population[index])\n",
    "        #     tmp_cost.append(pop_cost[index])\n",
    "        # population = np.concatenate(tmp_pop)\n",
    "        # pop_cost = np.concatenate(tmp_cost)\n",
    "        # abiVector = updateAbility(pop_cost,TH,n,m)\n",
    "\n",
    "        population,pop_cost = selectNewPop(population,pop_cost,off_gen,off_fc,2)\n",
    "        abiVector = updateAbility(pop_cost,TH,n,m)\n",
    "        \n",
    "        best = []\n",
    "        for task in range(k):\n",
    "            index = pop_cost[:,task].argmin()\n",
    "            indiv = population[index]\n",
    "            cost = Tasks[task].Cost(indiv)\n",
    "            best.append(cost)\n",
    "        log.append(best)\n",
    "    return np.array(log),KTI"
   ]
  },
  {
   "cell_type": "code",
   "execution_count": 45,
   "id": "d6865fc0",
   "metadata": {},
   "outputs": [
    {
     "name": "stderr",
     "output_type": "stream",
     "text": [
      "100%|██████████| 500/500 [02:05<00:00,  3.97it/s]\n"
     ]
    }
   ],
   "source": [
    "log_seeds = []\n",
    "\n",
    "\n",
    "for i in range(1):\n",
    "    np.random.seed(0)\n",
    "    random.seed(0)\n",
    "    Tasks[0].best = np.inf\n",
    "    Tasks[0].indivi_best = []\n",
    "    Tasks[1].best = np.inf\n",
    "    Tasks[1].indivi_best = []\n",
    "\n",
    "    log,KTI = SREMTO(100,0.7,0.7,1,epochs=500)\n",
    "    # population,pop_cost,rank,abiVector =  SREMTO(100,0.7,0.7,1,epochs=1000)\n",
    "    # log_seeds.append(log)"
   ]
  },
  {
   "cell_type": "code",
   "execution_count": 46,
   "id": "8ae2ecaf",
   "metadata": {},
   "outputs": [
    {
     "data": {
      "text/plain": [
       "[0.21, 0.21, 0.2, 0.19, 0.24, 0.17, 0.2, 0.21, 0.23, 0.18]"
      ]
     },
     "execution_count": 46,
     "metadata": {},
     "output_type": "execute_result"
    }
   ],
   "source": [
    "KTI[-10:]"
   ]
  },
  {
   "cell_type": "code",
   "execution_count": 47,
   "id": "28f6cdd8",
   "metadata": {},
   "outputs": [
    {
     "data": {
      "image/png": "[encoded data removed]",
      "text/plain": [
       "<Figure size 432x288 with 1 Axes>"
      ]
     },
     "metadata": {
      "needs_background": "light"
     },
     "output_type": "display_data"
    }
   ],
   "source": [
    "plt.plot(range(len(KTI)),KTI)\n",
    "plt.show()"
   ]
  },
  {
   "cell_type": "code",
   "execution_count": 48,
   "id": "4ca445b6",
   "metadata": {},
   "outputs": [],
   "source": [
    "k = len(Tasks)"
   ]
  },
  {
   "cell_type": "code",
   "execution_count": 49,
   "id": "ee037843",
   "metadata": {},
   "outputs": [],
   "source": [
    "def show(log,stt):\n",
    "    plt.figure(figsize=(10, 50))\n",
    "    for i in range(k):\n",
    "        name = str(Tasks[i].NUM_NODE) + ' x '+ str(Tasks[i].NUM_DOMAIN)\n",
    "        plt.subplot(12,2,i+1)\n",
    "        best = log[:,i].min()\n",
    "        plt.plot(log[:,i])\n",
    "        plt.title('IDPCU {i} best: {best}'.format(i=name.upper(),best=best))\n",
    "    plt.show()"
   ]
  },
  {
   "cell_type": "code",
   "execution_count": 50,
   "id": "2b2f98ac",
   "metadata": {},
   "outputs": [
    {
     "data": {
      "image/png": "[encoded data removed]",
      "text/plain": [
       "<Figure size 720x3600 with 2 Axes>"
      ]
     },
     "metadata": {
      "needs_background": "light"
     },
     "output_type": "display_data"
    }
   ],
   "source": [
    "show(log,'12')"
   ]
  },
  {
   "cell_type": "code",
   "execution_count": 51,
   "id": "6800b6b0",
   "metadata": {
    "scrolled": false
   },
   "outputs": [],
   "source": [
    "# for i in range(30):\n",
    "#     show(log_seeds[i],'30epochs')"
   ]
  },
  {
   "cell_type": "code",
   "execution_count": null,
   "id": "1197ae2e",
   "metadata": {},
   "outputs": [],
   "source": []
  }
 ],
 "metadata": {
  "kernelspec": {
   "display_name": "Python 3",
   "language": "python",
   "name": "python3"
  },
  "language_info": {
   "codemirror_mode": {
    "name": "ipython",
    "version": 3
   },
   "file_extension": ".py",
   "mimetype": "text/x-python",
   "name": "python",
   "nbconvert_exporter": "python",
   "pygments_lexer": "ipython3",
   "version": "3.8.8"
  }
 },
 "nbformat": 4,
 "nbformat_minor": 5
}
