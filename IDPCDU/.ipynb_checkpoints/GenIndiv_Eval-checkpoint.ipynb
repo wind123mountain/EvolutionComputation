{
 "cells": [
  {
   "cell_type": "markdown",
   "metadata": {},
   "source": [
    "# **Version 1**"
   ]
  },
  {
   "cell_type": "code",
   "execution_count": 1,
   "metadata": {},
   "outputs": [],
   "source": [
    "import numpy as np\n",
    "\n",
    "MAX_DIM = 0\n",
    "MAX_NODE = 0\n",
    "Tasks = []"
   ]
  },
  {
   "cell_type": "code",
   "execution_count": 7,
   "metadata": {},
   "outputs": [],
   "source": [
    "def GeneratorIndiv(dims=MAX_DIM, nodes=MAX_NODE):\n",
    "    indiv = [[], []]\n",
    "    indiv[0] = np.random.permutation(range(1,dims+1))\n",
    "    indiv[1] = np.random.randint(1, nodes+1, size=(dims,))\n",
    "    indiv = np.array(indiv)\n",
    "\n",
    "    fac_cost = []\n",
    "    for task in Tasks:\n",
    "        fac_cost.append(task.Cost(indiv))\n",
    "    \n",
    "    return indiv, fac_cost"
   ]
  },
  {
   "cell_type": "markdown",
   "metadata": {},
   "source": [
    "# **Version 2**"
   ]
  },
  {
   "cell_type": "code",
   "execution_count": null,
   "metadata": {},
   "outputs": [],
   "source": [
    "import numpy as np\n",
    "\n",
    "MAX_DIM = 0\n",
    "Tasks = []"
   ]
  },
  {
   "cell_type": "code",
   "execution_count": null,
   "metadata": {},
   "outputs": [],
   "source": [
    "def GeneratorIndiv(dims=MAX_DIM):\n",
    "    indiv = np.random.permutation(range(1,dims+1))\n",
    "\n",
    "    fac_cost = []\n",
    "    for task in Tasks:\n",
    "        fac_cost.append(task.Cost(indiv))\n",
    "    \n",
    "    return indiv, fac_cost"
   ]
  }
 ],
 "metadata": {
  "interpreter": {
   "hash": "b0fdbd91fa1014f333c33329988a7a04d464deba86e034a82d46dbd46f2ee1d2"
  },
  "kernelspec": {
   "display_name": "Python 3",
   "language": "python",
   "name": "python3"
  },
  "language_info": {
   "codemirror_mode": {
    "name": "ipython",
    "version": 3
   },
   "file_extension": ".py",
   "mimetype": "text/x-python",
   "name": "python",
   "nbconvert_exporter": "python",
   "pygments_lexer": "ipython3",
   "version": "3.8.8"
  }
 },
 "nbformat": 4,
 "nbformat_minor": 2
}
