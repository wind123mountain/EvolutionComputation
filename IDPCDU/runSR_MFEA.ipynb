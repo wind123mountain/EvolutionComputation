{
 "cells": [
  {
   "cell_type": "code",
   "execution_count": 1,
   "metadata": {},
   "outputs": [],
   "source": [
    "import numpy as np\n",
    "import json\n",
    "import os\n",
    "import random\n",
    "import time\n",
    "from build_real import GraphDomain \n",
    "from SR_MFEA_for_real import *"
   ]
  },
  {
   "cell_type": "code",
   "execution_count": 2,
   "metadata": {},
   "outputs": [
    {
     "name": "stdout",
     "output_type": "stream",
     "text": [
      "0 idpc_10x10x1000.idpc\n",
      "1 idpc_10x20x2713.idpc\n",
      "2 idpc_10x5x425.idpc\n",
      "3 idpc_15x15x3375.idpc\n",
      "4 idpc_15x30x12111.idpc\n",
      "5 idpc_15x7x1504.idpc\n",
      "6 idpc_20x10x2492.idpc\n",
      "7 idpc_20x20x8000.idpc\n",
      "8 idpc_20x40x26104.idpc\n",
      "9 idpc_25x12x4817.idpc\n",
      "10 idpc_25x25x15625.idpc\n",
      "11 idpc_25x50x57147.idpc\n",
      "12 idpc_30x15x10025.idpc\n",
      "13 idpc_30x30x27000.idpc\n",
      "14 idpc_30x60x89772.idpc\n",
      "15 idpc_35x17x13934.idpc\n",
      "16 idpc_35x35x42875.idpc\n",
      "17 idpc_35x70x123585.idpc\n",
      "18 idpc_40x20x18485.idpc\n",
      "19 idpc_40x40x64000.idpc\n",
      "20 idpc_40x80x130681.idpc\n",
      "21 idpc_45x22x43769.idpc\n",
      "22 idpc_45x45x91125.idpc\n",
      "23 idpc_45x90x322081.idpc\n"
     ]
    }
   ],
   "source": [
    "sc = \"Datasets/IDPCDU_Edges/set1/\"\n",
    "TaskNames = os.listdir(sc)\n",
    "TaskNames.sort()\n",
    "\n",
    "for i in range(24):\n",
    "    print(i, TaskNames[i])"
   ]
  },
  {
   "cell_type": "code",
   "execution_count": 3,
   "metadata": {},
   "outputs": [],
   "source": [
    "def Load_data(taskIDs):\n",
    "    Tasks = [0, 0]\n",
    "    MAX_DIM = 0\n",
    "    NUM_TASK = 2\n",
    "\n",
    "    for i in range(2):\n",
    "        path = sc + TaskNames[taskIDs[i]] \n",
    "        Tasks[i] = GraphDomain(path,name=TaskNames[taskIDs[i]])\n",
    "        MAX_DIM = max(MAX_DIM, Tasks[i].NUM_DOMAIN)\n",
    "\n",
    "    return Tasks, NUM_TASK, MAX_DIM\n"
   ]
  },
  {
   "cell_type": "code",
   "execution_count": 4,
   "metadata": {},
   "outputs": [],
   "source": [
    "from tqdm import tqdm"
   ]
  },
  {
   "cell_type": "code",
   "execution_count": 5,
   "metadata": {},
   "outputs": [
    {
     "name": "stderr",
     "output_type": "stream",
     "text": [
      "100%|██████████| 30/30 [06:06<00:00, 12.22s/it]\n"
     ]
    }
   ],
   "source": [
    "for t in range(1):\n",
    "    his0 = dict()\n",
    "    his1 = dict()\n",
    "    total_time = 0\n",
    "\n",
    "    Tasks, NUM_TASK, MAX_DIM = Load_data([t, t+1])\n",
    "    sr_mfea = SR_MFEA(Tasks=Tasks, NUM_TASK=NUM_TASK, MAX_DIM=MAX_DIM, sizePop=100, TH=0.5, Pa=0.7, Pb=1, epochs=500)\n",
    "\n",
    "    for i in tqdm(range(30)):\n",
    "        np.random.seed(i)\n",
    "        random.seed(i)\n",
    "        sr_mfea.Tasks[0].best = np.inf\n",
    "        sr_mfea.Tasks[0].indivi_best = []\n",
    "        sr_mfea.Tasks[1].best = np.inf\n",
    "        sr_mfea.Tasks[1].indivi_best = []\n",
    "\n",
    "        start = time.time()\n",
    "        log = sr_mfea.SREMTO()\n",
    "        end = time.time()\n",
    "\n",
    "        his0[i] = list(log[:, 0])\n",
    "        his1[i] = list(log[:, 1])\n",
    "        total_time += end - start\n",
    "\n",
    "\n",
    "    path0 = 'Result/SE_MFEA_result/set1/' + TaskNames[t] + '.json'\n",
    "    path1 = 'Result/SE_MFEA_result/set1/' + TaskNames[t+1] + '.json'\n",
    "\n",
    "    with open(path0, \"w\", encoding=\"utf-8\") as outfile:\n",
    "        json.dump(his0, outfile)\n",
    "\n",
    "    with open(path1, \"w\", encoding=\"utf-8\") as outfile:\n",
    "        json.dump(his1, outfile)\n",
    "\n",
    "    with open('Result/SE_MFEA_result/set1/runtime_' + TaskNames[t], \"w\") as outfile:\n",
    "        outfile.writelines(TaskNames[t]+'\\n')\n",
    "        outfile.writelines('Total_time : {} secsonds\\n'.format(total_time))\n",
    "        outfile.writelines(\"Average_time : {} secsonds\\n\".format(total_time/30))\n",
    "\n",
    "    with open('Result/SE_MFEA_result/set1/runtime_' + TaskNames[t+1], \"w\") as outfile:\n",
    "        outfile.writelines(TaskNames[t+1]+'\\n')\n",
    "        outfile.writelines('Total_time : {} secsonds\\n'.format(total_time))\n",
    "        outfile.writelines(\"Average_time : {} secsonds\\n\".format(total_time/30))\n",
    "        \n",
    "    "
   ]
  }
 ],
 "metadata": {
  "interpreter": {
   "hash": "916dbcbb3f70747c44a77c7bcd40155683ae19c65e1c03b4aa3499c5328201f1"
  },
  "kernelspec": {
   "display_name": "Python 3.8.10 64-bit",
   "language": "python",
   "name": "python3"
  },
  "language_info": {
   "codemirror_mode": {
    "name": "ipython",
    "version": 3
   },
   "file_extension": ".py",
   "mimetype": "text/x-python",
   "name": "python",
   "nbconvert_exporter": "python",
   "pygments_lexer": "ipython3",
   "version": "3.9.7"
  },
  "orig_nbformat": 4
 },
 "nbformat": 4,
 "nbformat_minor": 2
}
