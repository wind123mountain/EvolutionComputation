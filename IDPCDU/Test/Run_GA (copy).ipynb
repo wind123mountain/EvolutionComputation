{
 "cells": [
  {
   "cell_type": "code",
   "execution_count": 1,
   "metadata": {},
   "outputs": [],
   "source": [
    "import numpy as np\n",
    "import os\n",
    "import random\n",
    "from build import GraphDomain\n",
    "from GA import *"
   ]
  },
  {
   "cell_type": "code",
   "execution_count": 5,
   "metadata": {},
   "outputs": [
    {
     "name": "stdout",
     "output_type": "stream",
     "text": [
      "0 idpc_10x10x1000.idpc\n",
      "1 idpc_10x20x2713.idpc\n",
      "2 idpc_10x5x425.idpc\n",
      "3 idpc_15x15x3375.idpc\n",
      "4 idpc_15x30x12111.idpc\n",
      "5 idpc_15x7x1504.idpc\n",
      "6 idpc_20x10x2492.idpc\n",
      "7 idpc_20x20x8000.idpc\n",
      "8 idpc_20x40x26104.idpc\n",
      "9 idpc_25x12x4817.idpc\n",
      "10 idpc_25x25x15625.idpc\n",
      "11 idpc_25x50x57147.idpc\n",
      "12 idpc_30x15x10025.idpc\n",
      "13 idpc_30x30x27000.idpc\n",
      "14 idpc_30x60x89772.idpc\n",
      "15 idpc_35x17x13934.idpc\n",
      "16 idpc_35x35x42875.idpc\n",
      "17 idpc_35x70x123585.idpc\n",
      "18 idpc_40x20x18485.idpc\n",
      "19 idpc_40x40x64000.idpc\n",
      "20 idpc_40x80x130681.idpc\n",
      "21 idpc_45x22x43769.idpc\n",
      "22 idpc_45x45x91125.idpc\n",
      "23 idpc_45x90x322081.idpc\n"
     ]
    }
   ],
   "source": [
    "sc = \"Datasets/IDPCDU_Edges/set1/\"\n",
    "TaskNames = os.listdir(sc)\n",
    "TaskNames.sort()\n",
    "\n",
    "for i in range(24):\n",
    "    print(i, TaskNames[i])"
   ]
  },
  {
   "cell_type": "code",
   "execution_count": 3,
   "metadata": {},
   "outputs": [],
   "source": [
    "def Load(index):\n",
    "    path = sc + TaskNames[index]\n",
    "    name = TaskNames[index].split('.')[0]\n",
    "    task = GraphDomain(path=path, name=name)\n",
    "    return task"
   ]
  },
  {
   "cell_type": "code",
   "execution_count": 6,
   "metadata": {},
   "outputs": [],
   "source": [
    "import json\n",
    "\n",
    "for i in range(18, 20):\n",
    "    history = dict()\n",
    "\n",
    "    task = Load(i)\n",
    "\n",
    "    for j in range(30):\n",
    "        np.random.seed(j)\n",
    "        random.seed(j)\n",
    "        task.best = np.inf\n",
    "        \n",
    "        ga = GA(100, 500, 0.7, 0.1, task=task)\n",
    "        log = ga.run()\n",
    "        history[j] = log\n",
    "\n",
    "    path = 'Result/GA_result/set1/' + TaskNames[i] + '.json'\n",
    "    with open(path, \"w\", encoding=\"utf-8\") as outfile:\n",
    "        json.dump(history, outfile)"
   ]
  },
  {
   "cell_type": "code",
   "execution_count": null,
   "metadata": {},
   "outputs": [],
   "source": [
    "import pandas as pd\n",
    "import json\n",
    "\n",
    "res = {}\n",
    "\n",
    "for i in range(24):\n",
    "    path = 'Result\\\\GA_result\\\\set1\\\\' + TaskNames[i] + \".json\"\n",
    "    log = {}\n",
    "    with open(path, \"r\", encoding=\"utf-8\") as infile:\n",
    "        log = json.load(infile)\n",
    "    df = pd.DataFrame.from_dict(log)\n",
    "    df.to_csv (r'Result\\\\GA_result\\\\set1\\\\'+TaskNames[i]+'.csv', index_label='generation', header=True)\n",
    "    \n",
    "    avg = 0\n",
    "    best = np.inf\n",
    "    for j in range(30):\n",
    "        avg += log[str(j)][\"499\"]\n",
    "        best = min(best, log[str(j)][\"499\"])\n",
    "\n",
    "    res[i] = {\"Datasets\": TaskNames[i], \"BEST\": best, \"AVG\": avg/30}\n",
    "\n",
    "\n",
    "df = pd.DataFrame.from_dict(res, orient='index')\n",
    "df.to_csv (r'Result\\\\GA_result\\\\set1\\\\Result_set1.csv', index_label='ID', header=True)\n"
   ]
  }
 ],
 "metadata": {
  "interpreter": {
   "hash": "916dbcbb3f70747c44a77c7bcd40155683ae19c65e1c03b4aa3499c5328201f1"
  },
  "kernelspec": {
   "display_name": "Python 3.8.10 64-bit",
   "language": "python",
   "name": "python3"
  },
  "language_info": {
   "codemirror_mode": {
    "name": "ipython",
    "version": 3
   },
   "file_extension": ".py",
   "mimetype": "text/x-python",
   "name": "python",
   "nbconvert_exporter": "python",
   "pygments_lexer": "ipython3",
   "version": "3.8.10"
  },
  "orig_nbformat": 4
 },
 "nbformat": 4,
 "nbformat_minor": 2
}
