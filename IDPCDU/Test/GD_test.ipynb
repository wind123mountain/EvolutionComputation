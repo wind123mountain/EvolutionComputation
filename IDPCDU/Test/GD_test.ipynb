{
 "cells": [
  {
   "cell_type": "code",
   "execution_count": 1,
   "metadata": {},
   "outputs": [],
   "source": [
    "import numpy as np\n",
    "from queue import PriorityQueue"
   ]
  },
  {
   "cell_type": "code",
   "execution_count": 2,
   "metadata": {},
   "outputs": [],
   "source": [
    "class GraphDomain:\n",
    "    def __init__(self, path, name = 'NULL', pad = 1):\n",
    "        self.NAME = name\n",
    "        self.NUM_NODE = 0\n",
    "        self.NUM_DOMAIN = 0\n",
    "        self.START_NODE = -1\n",
    "        self.END_NODE = -1\n",
    "\n",
    "        self.adj = {}\n",
    "        self.distance = {}\n",
    "        self.pre_node = {}\n",
    "        self.domain_start_nodes = {}\n",
    "        \n",
    "        self.pad = pad\n",
    "        self.load_data(path)\n",
    "        self.build_graph()\n",
    "\n",
    "        self.best = np.inf\n",
    " \n",
    "        \n",
    "    def load_data(self, path):\n",
    "        f = open(path, 'r')\n",
    "\n",
    "        l1 = f.readline()\n",
    "        l1 = l1.strip()\n",
    "        l1 = l1.split(' ')\n",
    "        self.NUM_NODE = int(l1[0])\n",
    "        self.NUM_DOMAIN = int(l1[1])\n",
    "\n",
    "        l2 = f.readline()\n",
    "        l2 = l2.strip()\n",
    "        l2 = l2.split(' ')\n",
    "        self.START_NODE = int(l2[0])\n",
    "        self.END_NODE = int(l2[1])\n",
    "\n",
    "        # fomat edge: start, end, weight, domain\n",
    "        edges = f.readlines()\n",
    "\n",
    "        f.close()\n",
    "\n",
    "        #setup\n",
    "        for d in range(self.pad, self.pad+self.NUM_DOMAIN):\n",
    "            self.adj[d] = {}\n",
    "            self.distance[d] = {}\n",
    "            self.domain_start_nodes[d] = []\n",
    "            self.pre_node[d] = {}\n",
    "            for v in range(self.pad, self.pad+self.NUM_NODE):\n",
    "                self.adj[d][v] = list()\n",
    "                self.distance[d][v] = np.full((self.NUM_NODE+self.pad,), np.inf)\n",
    "                self.pre_node[d][v] = np.full((self.NUM_NODE+self.pad,), -1)\n",
    "        \n",
    "        for e in edges:\n",
    "            e = e.strip()\n",
    "            e = e.split(' ')\n",
    "            #u = e[0], v = e[1], w = e[2], d = e[3]\n",
    "            self.adj[int(e[3])][int(e[0])].append((int(e[1]), int(e[2])))\n",
    "            \n",
    "        \n",
    "\n",
    "    def Dijkstra(self, domain, start, to_show=False):\n",
    "        if(to_show):\n",
    "            dis = np.full((self.NUM_NODE+self.pad,), np.inf)\n",
    "        else:\n",
    "            dis = self.distance[domain][start]\n",
    "        # pre = np.full((self.NUM_NODE+self.pad,), -1)\n",
    "        pre = self.pre_node[domain][start]\n",
    "        dis[start] = 0\n",
    "        pre[start] = start\n",
    "\n",
    "        PQ = PriorityQueue()\n",
    "        # PQ.put((dis[start], start))\n",
    "        PQ.put((0, start))\n",
    "\n",
    "        while not PQ.empty():\n",
    "            curr = PQ.get()\n",
    "            u = curr[1]\n",
    "            d = curr[0]\n",
    "\n",
    "            for e in self.adj[domain][u]:\n",
    "                if e[1] + d < dis[e[0]]:\n",
    "                    dis[e[0]] = e[1] + d\n",
    "                    pre[e[0]] = u\n",
    "                    PQ.put((dis[e[0]], e[0]))\n",
    "        \n",
    "        # return pre\n",
    "    \n",
    "\n",
    "    def build_graph(self):\n",
    "        for d in range(self.pad, self.NUM_DOMAIN+self.pad):\n",
    "            for v in range(self.pad, self.NUM_NODE+self.pad):\n",
    "                self.Dijkstra(d, v)\n",
    "                if len(self.adj[d][v]) != 0:\n",
    "                    self.domain_start_nodes[d].append(v)"
   ]
  },
  {
   "cell_type": "code",
   "execution_count": 3,
   "metadata": {},
   "outputs": [
    {
     "name": "stdout",
     "output_type": "stream",
     "text": [
      "0 idpc_10x10x1000.idpc\n",
      "1 idpc_10x20x2713.idpc\n",
      "2 idpc_10x5x425.idpc\n",
      "3 idpc_15x15x3375.idpc\n",
      "4 idpc_15x30x12111.idpc\n",
      "5 idpc_15x7x1504.idpc\n",
      "6 idpc_20x10x2492.idpc\n",
      "7 idpc_20x20x8000.idpc\n",
      "8 idpc_20x40x26104.idpc\n",
      "9 idpc_25x12x4817.idpc\n",
      "10 idpc_25x25x15625.idpc\n",
      "11 idpc_25x50x57147.idpc\n",
      "12 idpc_30x15x10025.idpc\n",
      "13 idpc_30x30x27000.idpc\n",
      "14 idpc_30x60x89772.idpc\n",
      "15 idpc_35x17x13934.idpc\n",
      "16 idpc_35x35x42875.idpc\n",
      "17 idpc_35x70x123585.idpc\n",
      "18 idpc_40x20x18485.idpc\n",
      "19 idpc_40x40x64000.idpc\n",
      "20 idpc_40x80x130681.idpc\n",
      "21 idpc_45x22x43769.idpc\n",
      "22 idpc_45x45x91125.idpc\n",
      "23 idpc_45x90x322081.idpc\n"
     ]
    }
   ],
   "source": [
    "import os\n",
    "\n",
    "sc = \"D:/MachineLearning/EvolutionComputation/IDPCDU/Datasets/IDPCDU_Edges/set1/\"\n",
    "TaskNames = os.listdir(sc)\n",
    "TaskNames.sort()\n",
    "for i in range(len(TaskNames)):\n",
    "    print(i, TaskNames[i])"
   ]
  },
  {
   "cell_type": "code",
   "execution_count": 4,
   "metadata": {},
   "outputs": [],
   "source": [
    "test = GraphDomain(sc+TaskNames[0])"
   ]
  },
  {
   "cell_type": "code",
   "execution_count": 5,
   "metadata": {},
   "outputs": [
    {
     "data": {
      "text/plain": [
       "1"
      ]
     },
     "execution_count": 5,
     "metadata": {},
     "output_type": "execute_result"
    }
   ],
   "source": [
    "test.START_NODE"
   ]
  },
  {
   "cell_type": "code",
   "execution_count": 6,
   "metadata": {},
   "outputs": [
    {
     "data": {
      "text/plain": [
       "10"
      ]
     },
     "execution_count": 6,
     "metadata": {},
     "output_type": "execute_result"
    }
   ],
   "source": [
    "test.END_NODE"
   ]
  },
  {
   "cell_type": "code",
   "execution_count": 7,
   "metadata": {},
   "outputs": [],
   "source": [
    "adj = [[] for i in range(test.NUM_NODE+1)]\n",
    "mark_domain = [np.full((test.NUM_NODE+1,), -1) for i in range(test.NUM_NODE+1)]"
   ]
  },
  {
   "cell_type": "code",
   "execution_count": 8,
   "metadata": {},
   "outputs": [],
   "source": [
    "\n",
    "for i in range(1, test.NUM_NODE+1):\n",
    "    for j in range(1, test.NUM_NODE+1):\n",
    "        dis = np.inf\n",
    "        domain = -1\n",
    "        for d in range(1, test.NUM_DOMAIN+1):\n",
    "            if dis > test.distance[d][i][j]:\n",
    "                dis = test.distance[d][i][j]\n",
    "                domain = d\n",
    "        adj[i].append((j, dis))\n",
    "        mark_domain[i][j] = domain"
   ]
  },
  {
   "cell_type": "code",
   "execution_count": 31,
   "metadata": {},
   "outputs": [],
   "source": [
    "dis = np.full((test.NUM_NODE+1,), np.inf)\n",
    "pre = np.full((test.NUM_NODE+1,), -1)\n",
    "dis[test.START_NODE] = 0\n",
    "pre[test.START_NODE] = test.START_NODE\n",
    "\n",
    "PQ = PriorityQueue()\n",
    "PQ.put((0, test.START_NODE))\n",
    "\n",
    "while not PQ.empty():\n",
    "    curr = PQ.get()\n",
    "    u = curr[1]\n",
    "    d = curr[0]\n",
    "\n",
    "    for e in adj[u]:\n",
    "        if e[1] + d < dis[e[0]]:\n",
    "            dis[e[0]] = e[1] + d\n",
    "            pre[e[0]] = u\n",
    "            PQ.put((dis[e[0]], e[0]))"
   ]
  },
  {
   "cell_type": "code",
   "execution_count": 10,
   "metadata": {},
   "outputs": [
    {
     "data": {
      "text/plain": [
       "7.0"
      ]
     },
     "execution_count": 10,
     "metadata": {},
     "output_type": "execute_result"
    }
   ],
   "source": [
    "dis[test.END_NODE]"
   ]
  },
  {
   "cell_type": "code",
   "execution_count": 32,
   "metadata": {},
   "outputs": [],
   "source": [
    "path = []\n",
    "path.append(test.END_NODE)\n",
    "curr = test.END_NODE\n",
    "\n",
    "while curr != pre[curr]:\n",
    "    curr = pre[curr]\n",
    "    path.append(curr)\n",
    "\n",
    "path = path[::-1]"
   ]
  },
  {
   "cell_type": "code",
   "execution_count": 12,
   "metadata": {},
   "outputs": [],
   "source": [
    "domain = []\n",
    "for i in range(len(path)-1):\n",
    "    domain.append(mark_domain[path[i]][path[i+1]])"
   ]
  },
  {
   "cell_type": "code",
   "execution_count": 13,
   "metadata": {},
   "outputs": [
    {
     "name": "stdout",
     "output_type": "stream",
     "text": [
      "TRUE\n"
     ]
    }
   ],
   "source": [
    "if len(domain) == len(set(domain)):\n",
    "    print('TRUE')"
   ]
  },
  {
   "cell_type": "code",
   "execution_count": 14,
   "metadata": {},
   "outputs": [
    {
     "name": "stdout",
     "output_type": "stream",
     "text": [
      "7\n",
      "[1, 6, 9, 2, 8, 7, 10]\n"
     ]
    }
   ],
   "source": [
    "print(len(path))\n",
    "print(path)"
   ]
  },
  {
   "cell_type": "code",
   "execution_count": 15,
   "metadata": {},
   "outputs": [
    {
     "name": "stdout",
     "output_type": "stream",
     "text": [
      "6\n",
      "[2, 6, 8, 3, 9, 4]\n"
     ]
    }
   ],
   "source": [
    "print(len(domain))\n",
    "print(domain)"
   ]
  },
  {
   "cell_type": "code",
   "execution_count": 33,
   "metadata": {},
   "outputs": [
    {
     "name": "stdout",
     "output_type": "stream",
     "text": [
      "[13. 14. 14. 15. 16. 17. 18. 22. 25. 26.]\n",
      "[11. 12. 12. 15. 15. 16. 18. 18. 18. 23.]\n",
      "[11. 14. 16. 19. 22. 26. 27. 29. 32. 34.]\n",
      "[12. 14. 16. 17. 17. 18. 18. 19. 19. 27.]\n",
      "[ 1. 11. 13. 14. 21. 27. 30. 30. 34. 39.]\n",
      "[0. 0. 0. 0. 0. 0. 0. 0. 0. 0.]\n"
     ]
    }
   ],
   "source": [
    "for v in range(len(path)-1):\n",
    "    temp = []\n",
    "\n",
    "    for i in range(1, test.NUM_DOMAIN+1):\n",
    "        temp.append(test.distance[i][path[v]][7])\n",
    "\n",
    "    print(np.sort(np.array(temp)))"
   ]
  },
  {
   "cell_type": "code",
   "execution_count": 17,
   "metadata": {},
   "outputs": [],
   "source": [
    "from build import GraphDomain as gd\n",
    "\n",
    "t = gd(sc+TaskNames[0])"
   ]
  },
  {
   "cell_type": "code",
   "execution_count": 26,
   "metadata": {},
   "outputs": [
    {
     "data": {
      "text/plain": [
       "(7.0, 7)"
      ]
     },
     "execution_count": 26,
     "metadata": {},
     "output_type": "execute_result"
    }
   ],
   "source": [
    "t.Cost([2, 6, 8, 3, 9, 4])"
   ]
  },
  {
   "cell_type": "code",
   "execution_count": 35,
   "metadata": {},
   "outputs": [],
   "source": [
    "dis = np.full((test.NUM_NODE+1,), np.inf)\n",
    "pre = np.full((test.NUM_NODE+1,), -1)\n",
    "dis[4] = 0\n",
    "pre[4] = 4\n",
    "\n",
    "PQ = PriorityQueue()\n",
    "PQ.put((0, 4))\n",
    "\n",
    "while not PQ.empty():\n",
    "    curr = PQ.get()\n",
    "    u = curr[1]\n",
    "    d = curr[0]\n",
    "\n",
    "    for e in adj[u]:\n",
    "        if e[1] + d < dis[e[0]]:\n",
    "            dis[e[0]] = e[1] + d\n",
    "            pre[e[0]] = u\n",
    "            PQ.put((dis[e[0]], e[0]))"
   ]
  },
  {
   "cell_type": "code",
   "execution_count": 37,
   "metadata": {},
   "outputs": [
    {
     "data": {
      "text/plain": [
       "array([inf, 11., 12., 12.,  0., 11., 11., 12., 12., 11., 13.])"
      ]
     },
     "execution_count": 37,
     "metadata": {},
     "output_type": "execute_result"
    }
   ],
   "source": [
    "dis"
   ]
  },
  {
   "cell_type": "code",
   "execution_count": 36,
   "metadata": {},
   "outputs": [
    {
     "name": "stdout",
     "output_type": "stream",
     "text": [
      "[3]\n",
      "[1]\n",
      "[8]\n",
      "[]\n",
      "[1]\n",
      "[8]\n",
      "[9]\n",
      "[4]\n",
      "[8]\n",
      "[1]\n"
     ]
    }
   ],
   "source": [
    "for i in range(1, 11):\n",
    "    path = []\n",
    "    path.append(i)\n",
    "    curr = i\n",
    "\n",
    "    while curr != pre[curr]:\n",
    "        curr = pre[curr]\n",
    "        path.append(curr)\n",
    "\n",
    "    path = path[::-1]\n",
    "\n",
    "    domain = []\n",
    "    for i in range(len(path)-1):\n",
    "        domain.append(mark_domain[path[i]][path[i+1]])\n",
    "\n",
    "    print(domain)"
   ]
  },
  {
   "cell_type": "markdown",
   "metadata": {},
   "source": [
    "#### **Run**"
   ]
  },
  {
   "cell_type": "code",
   "execution_count": null,
   "metadata": {},
   "outputs": [],
   "source": [
    "import os\n",
    "\n",
    "sc = \"D:/MachineLearning/EvolutionComputation/IDPCDU/Datasets/IDPCDU_Edges/set1/\"\n",
    "TaskNames = os.listdir(sc)\n",
    "TaskNames.sort()\n",
    "for i in range(len(TaskNames)):\n",
    "    print(i, TaskNames[i])"
   ]
  },
  {
   "cell_type": "code",
   "execution_count": 85,
   "metadata": {},
   "outputs": [
    {
     "name": "stdout",
     "output_type": "stream",
     "text": [
      "0   idpc_10x10x1000.idpc   \t 7.0\n",
      "1   idpc_10x20x2713.idpc   \t 7.0\n",
      "2   idpc_10x5x425.idpc   \t 7.0\n",
      "3   idpc_15x15x3375.idpc   \t 10.0\n",
      "4   idpc_15x30x12111.idpc   \t 10.0\n",
      "5   idpc_15x7x1504.idpc   \t 10.0\n",
      "6   idpc_20x10x2492.idpc   \t 15.0\n",
      "7   idpc_20x20x8000.idpc   \t 15.0\n",
      "8   idpc_20x40x26104.idpc   \t 15.0\n",
      "9   idpc_25x12x4817.idpc   \t 18.0\n",
      "10   idpc_25x25x15625.idpc   \t 18.0\n",
      "11   idpc_25x50x57147.idpc   \t 18.0\n",
      "12   idpc_30x15x10025.idpc   \t 24.0\n",
      "13   idpc_30x30x27000.idpc   \t 24.0\n",
      "14   idpc_30x60x89772.idpc   \t 24.0\n",
      "15   idpc_35x17x13934.idpc   \t 28.0\n",
      "16   idpc_35x35x42875.idpc   \t 28.0\n",
      "17   idpc_35x70x123585.idpc   \t 28.0\n",
      "18   idpc_40x20x18485.idpc   \t 32.0\n",
      "19   idpc_40x40x64000.idpc   \t 32.0\n",
      "20   idpc_40x80x130681.idpc   \t 32.0\n",
      "21   idpc_45x22x43769.idpc   \t 35.0\n",
      "22   idpc_45x45x91125.idpc   \t 35.0\n",
      "23   idpc_45x90x322081.idpc   \t 35.0\n"
     ]
    }
   ],
   "source": [
    "for t in range(24):\n",
    "    test = GraphDomain(sc+TaskNames[t])\n",
    "\n",
    "    adj = [[] for i in range(test.NUM_NODE+1)]\n",
    "    mark_domain = [np.full((test.NUM_NODE+1,), -1) for i in range(test.NUM_NODE+1)]\n",
    "\n",
    "    for i in range(1, test.NUM_NODE+1):\n",
    "        for j in range(1, test.NUM_NODE+1):\n",
    "            dis = np.inf\n",
    "            domain = -1\n",
    "            for d in range(1, test.NUM_DOMAIN+1):\n",
    "                if dis > test.distance[d][i][j]:\n",
    "                    dis = test.distance[d][i][j]\n",
    "                    domain = d\n",
    "            adj[i].append((j, dis))\n",
    "            mark_domain[i][j] = domain\n",
    "\n",
    "    dis = np.full((test.NUM_NODE+1,), np.inf)\n",
    "    pre = np.full((test.NUM_NODE+1,), -1)\n",
    "    dis[test.START_NODE] = 0\n",
    "    pre[test.START_NODE] = test.START_NODE\n",
    "\n",
    "    PQ = PriorityQueue()\n",
    "    PQ.put((0, test.START_NODE))\n",
    "\n",
    "    while not PQ.empty():\n",
    "        curr = PQ.get()\n",
    "        u = curr[1]\n",
    "        d = curr[0]\n",
    "\n",
    "        for e in adj[u]:\n",
    "            if e[1] + d < dis[e[0]]:\n",
    "                dis[e[0]] = e[1] + d\n",
    "                pre[e[0]] = u\n",
    "                PQ.put((dis[e[0]], e[0]))\n",
    "\n",
    "    path = []\n",
    "    path.append(test.END_NODE)\n",
    "    curr = test.END_NODE\n",
    "\n",
    "    while curr != pre[curr]:\n",
    "        curr = pre[curr]\n",
    "        path.append(curr)\n",
    "\n",
    "    path = path[::-1]\n",
    "\n",
    "    domain = []\n",
    "    for i in range(len(path)-1):\n",
    "        domain.append(mark_domain[path[i]][path[i+1]])\n",
    "\n",
    "    if len(domain) == len(set(domain)):\n",
    "        print(t, \" \", TaskNames[t], \"  \\t\", dis[test.END_NODE])"
   ]
  },
  {
   "cell_type": "code",
   "execution_count": 87,
   "metadata": {},
   "outputs": [
    {
     "name": "stdout",
     "output_type": "stream",
     "text": [
      "0 idpc_100x100x1000000.idpc\n",
      "1 idpc_100x200x2296097.idpc\n",
      "2 idpc_100x50x461319.idpc\n",
      "3 idpc_50x100x285357.idpc\n",
      "4 idpc_50x25x38961.idpc\n",
      "5 idpc_50x50x125000.idpc\n",
      "6 idpc_60x120x434337.idpc\n",
      "7 idpc_60x30x99470.idpc\n",
      "8 idpc_60x60x216000.idpc\n",
      "9 idpc_70x140x923343.idpc\n",
      "10 idpc_70x35x120810.idpc\n",
      "11 idpc_70x70x343000.idpc\n",
      "12 idpc_80x160x1490468.idpc\n",
      "13 idpc_80x40x175762.idpc\n",
      "14 idpc_80x80x512000.idpc\n",
      "15 idpc_90x180x1644367.idpc\n",
      "16 idpc_90x45x260195.idpc\n",
      "17 idpc_90x90x729000.idpc\n"
     ]
    }
   ],
   "source": [
    "import os\n",
    "\n",
    "sc = \"D:/MachineLearning/EvolutionComputation/IDPCDU/Datasets/IDPCDU_Edges/set2/\"\n",
    "TaskNames = os.listdir(sc)\n",
    "TaskNames.sort()\n",
    "for i in range(len(TaskNames)):\n",
    "    print(i, TaskNames[i])"
   ]
  },
  {
   "cell_type": "code",
   "execution_count": 88,
   "metadata": {},
   "outputs": [
    {
     "name": "stdout",
     "output_type": "stream",
     "text": [
      "0   idpc_100x100x1000000.idpc   \t 80.0\n",
      "1   idpc_100x200x2296097.idpc   \t 80.0\n",
      "2   idpc_100x50x461319.idpc   \t 80.0\n",
      "3   idpc_50x100x285357.idpc   \t 38.0\n",
      "4   idpc_50x25x38961.idpc   \t 38.0\n",
      "5   idpc_50x50x125000.idpc   \t 38.0\n",
      "6   idpc_60x120x434337.idpc   \t 45.0\n",
      "7   idpc_60x30x99470.idpc   \t 45.0\n",
      "8   idpc_60x60x216000.idpc   \t 45.0\n",
      "9   idpc_70x140x923343.idpc   \t 55.0\n",
      "10   idpc_70x35x120810.idpc   \t 55.0\n",
      "11   idpc_70x70x343000.idpc   \t 55.0\n",
      "12   idpc_80x160x1490468.idpc   \t 70.0\n",
      "13   idpc_80x40x175762.idpc   \t 70.0\n",
      "14   idpc_80x80x512000.idpc   \t 70.0\n",
      "15   idpc_90x180x1644367.idpc   \t 75.0\n",
      "16   idpc_90x45x260195.idpc   \t 75.0\n",
      "17   idpc_90x90x729000.idpc   \t 75.0\n"
     ]
    }
   ],
   "source": [
    "for t in range(18):\n",
    "    test = GraphDomain(sc+TaskNames[t])\n",
    "\n",
    "    adj = [[] for i in range(test.NUM_NODE+1)]\n",
    "    mark_domain = [np.full((test.NUM_NODE+1,), -1) for i in range(test.NUM_NODE+1)]\n",
    "\n",
    "    for i in range(1, test.NUM_NODE+1):\n",
    "        for j in range(1, test.NUM_NODE+1):\n",
    "            dis = np.inf\n",
    "            domain = -1\n",
    "            for d in range(1, test.NUM_DOMAIN+1):\n",
    "                if dis > test.distance[d][i][j]:\n",
    "                    dis = test.distance[d][i][j]\n",
    "                    domain = d\n",
    "            adj[i].append((j, dis))\n",
    "            mark_domain[i][j] = domain\n",
    "\n",
    "    dis = np.full((test.NUM_NODE+1,), np.inf)\n",
    "    pre = np.full((test.NUM_NODE+1,), -1)\n",
    "    dis[test.START_NODE] = 0\n",
    "    pre[test.START_NODE] = test.START_NODE\n",
    "\n",
    "    PQ = PriorityQueue()\n",
    "    PQ.put((0, test.START_NODE))\n",
    "\n",
    "    while not PQ.empty():\n",
    "        curr = PQ.get()\n",
    "        u = curr[1]\n",
    "        d = curr[0]\n",
    "\n",
    "        for e in adj[u]:\n",
    "            if e[1] + d < dis[e[0]]:\n",
    "                dis[e[0]] = e[1] + d\n",
    "                pre[e[0]] = u\n",
    "                PQ.put((dis[e[0]], e[0]))\n",
    "\n",
    "    path = []\n",
    "    path.append(test.END_NODE)\n",
    "    curr = test.END_NODE\n",
    "\n",
    "    while curr != pre[curr]:\n",
    "        curr = pre[curr]\n",
    "        path.append(curr)\n",
    "\n",
    "    path = path[::-1]\n",
    "\n",
    "    domain = []\n",
    "    for i in range(len(path)-1):\n",
    "        domain.append(mark_domain[path[i]][path[i+1]])\n",
    "\n",
    "    if len(domain) == len(set(domain)):\n",
    "        print(t, \" \", TaskNames[t], \"  \\t\", dis[test.END_NODE])"
   ]
  }
 ],
 "metadata": {
  "interpreter": {
   "hash": "b0fdbd91fa1014f333c33329988a7a04d464deba86e034a82d46dbd46f2ee1d2"
  },
  "kernelspec": {
   "display_name": "Python 3.8.8 64-bit ('base': conda)",
   "language": "python",
   "name": "python3"
  },
  "language_info": {
   "codemirror_mode": {
    "name": "ipython",
    "version": 3
   },
   "file_extension": ".py",
   "mimetype": "text/x-python",
   "name": "python",
   "nbconvert_exporter": "python",
   "pygments_lexer": "ipython3",
   "version": "3.8.8"
  },
  "orig_nbformat": 4
 },
 "nbformat": 4,
 "nbformat_minor": 2
}
