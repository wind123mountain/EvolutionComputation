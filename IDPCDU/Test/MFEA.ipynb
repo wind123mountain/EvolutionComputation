{
 "cells": [
  {
   "cell_type": "code",
   "execution_count": 1,
   "metadata": {},
   "outputs": [],
   "source": [
    "import numpy as np\n",
    "import matplotlib.pyplot as plt\n",
    "from build_mfea import GraphDomain"
   ]
  },
  {
   "cell_type": "code",
   "execution_count": 2,
   "metadata": {},
   "outputs": [
    {
     "name": "stdout",
     "output_type": "stream",
     "text": [
      "0 idpc_10x10x1000.idpc\n",
      "1 idpc_10x20x2713.idpc\n",
      "2 idpc_10x5x425.idpc\n",
      "3 idpc_15x15x3375.idpc\n",
      "4 idpc_15x30x12111.idpc\n",
      "5 idpc_15x7x1504.idpc\n",
      "6 idpc_20x10x2492.idpc\n",
      "7 idpc_20x20x8000.idpc\n",
      "8 idpc_20x40x26104.idpc\n",
      "9 idpc_25x12x4817.idpc\n",
      "10 idpc_25x25x15625.idpc\n",
      "11 idpc_25x50x57147.idpc\n",
      "12 idpc_30x15x10025.idpc\n",
      "13 idpc_30x30x27000.idpc\n",
      "14 idpc_30x60x89772.idpc\n",
      "15 idpc_35x17x13934.idpc\n",
      "16 idpc_35x35x42875.idpc\n",
      "17 idpc_35x70x123585.idpc\n",
      "18 idpc_40x20x18485.idpc\n",
      "19 idpc_40x40x64000.idpc\n",
      "20 idpc_40x80x130681.idpc\n",
      "21 idpc_45x22x43769.idpc\n",
      "22 idpc_45x45x91125.idpc\n",
      "23 idpc_45x90x322081.idpc\n"
     ]
    }
   ],
   "source": [
    "import os\n",
    "\n",
    "sc = \"Datasets/IDPCDU_Edges/set1/\"\n",
    "TaskNames = os.listdir(sc)\n",
    "TaskNames.sort()\n",
    "\n",
    "for i in range(24):\n",
    "    print(i, TaskNames[i])"
   ]
  },
  {
   "cell_type": "code",
   "execution_count": 3,
   "metadata": {},
   "outputs": [],
   "source": [
    "def Load_data(taskIDs):\n",
    "    Tasks = [0, 0]\n",
    "    MAX_DIM = 0\n",
    "\n",
    "    for i in range(2):\n",
    "        path = sc + TaskNames[taskIDs[i]] \n",
    "        Tasks[i] = GraphDomain(path,name=TaskNames[taskIDs[i]])\n",
    "        MAX_DIM = max(MAX_DIM, Tasks[i].NUM_DOMAIN)\n",
    "\n",
    "    return Tasks, MAX_DIM"
   ]
  },
  {
   "cell_type": "code",
   "execution_count": 4,
   "metadata": {},
   "outputs": [],
   "source": [
    "Tasks, D= Load_data([2, 3])"
   ]
  },
  {
   "cell_type": "code",
   "execution_count": 5,
   "metadata": {},
   "outputs": [
    {
     "data": {
      "text/plain": [
       "15"
      ]
     },
     "execution_count": 5,
     "metadata": {},
     "output_type": "execute_result"
    }
   ],
   "source": [
    "Tasks[1].NUM_DOMAIN"
   ]
  },
  {
   "cell_type": "code",
   "execution_count": 6,
   "metadata": {},
   "outputs": [],
   "source": [
    "def Factorial_Cost(indiv, t):\n",
    "    if t == 0:\n",
    "        return Tasks[0].Cost(indiv)\n",
    "    elif t == 1:\n",
    "        return Tasks[1].Cost(indiv)\n",
    "    else:\n",
    "        return Tasks[0].Cost(indiv), Tasks[1].Cost(indiv)"
   ]
  },
  {
   "cell_type": "code",
   "execution_count": 7,
   "metadata": {},
   "outputs": [],
   "source": [
    "# mark_tsp = set()\n",
    "# mark_kp = set()\n",
    "\n",
    "# def check_generated(individual, t = 2):\n",
    "#     res = False\n",
    "\n",
    "#     if t == 0 or t == 2:\n",
    "#         tsp = decode_TSP(individual)\n",
    "#         hash_val = hash(tsp.tobytes())\n",
    "#         pre_size = len(mark_tsp)\n",
    "#         mark_tsp.add(hash_val)\n",
    "#         if(pre_size == len(mark_tsp)): res = True\n",
    "\n",
    "#     if t == 1 or t == 2:\n",
    "#         kp = decode_KP(individual)\n",
    "#         hash_val = hash(kp.tobytes())\n",
    "#         pre_size = len(mark_kp)\n",
    "#         mark_kp.add(hash_val)\n",
    "#         if(pre_size == len(mark_kp)): res = True\n",
    "    \n",
    "#     return res"
   ]
  },
  {
   "cell_type": "code",
   "execution_count": 8,
   "metadata": {},
   "outputs": [],
   "source": [
    "def GeneratorIndiv(dims=D):\n",
    "    indiv = np.random.permutation(range(dims)) + 1\n",
    "    # while check_generated(indiv):\n",
    "    #     indiv = np.random.random_sample((dims, ))\n",
    "    \n",
    "    return indiv, Factorial_Cost(indiv, t=2)"
   ]
  },
  {
   "cell_type": "code",
   "execution_count": 9,
   "metadata": {},
   "outputs": [],
   "source": [
    "def Generate_Eval(sizePop):\n",
    "    population = []\n",
    "    tsp_cost = []\n",
    "    kp_cost = []\n",
    "\n",
    "    for i in range(sizePop):\n",
    "        pi, fcosti = GeneratorIndiv()\n",
    "\n",
    "        #(pi, ti, fitnessi, fac_costi)\n",
    "        population.append([pi, -1, -1.0, -1.0])\n",
    "        tsp_cost.append((i, fcosti[0]))\n",
    "        kp_cost.append((i, fcosti[1]))\n",
    "    \n",
    "    tsp_cost.sort(key=lambda p: p[1])\n",
    "    kp_cost.sort(key=lambda p: p[1])\n",
    "\n",
    "    for i in range(sizePop):\n",
    "        #if fitness < 1/rank\n",
    "        if population[tsp_cost[i][0]][2] < 1/(i+1):\n",
    "            population[tsp_cost[i][0]][1] = int(0)\n",
    "            population[tsp_cost[i][0]][2] = 1/(i+1)\n",
    "            population[tsp_cost[i][0]][3] = tsp_cost[i][1]\n",
    "            \n",
    "        if population[kp_cost[i][0]][2] < 1/(i+1):\n",
    "            population[kp_cost[i][0]][1] = int(1)\n",
    "            population[kp_cost[i][0]][2] = 1/(i+1)\n",
    "            population[kp_cost[i][0]][3] = kp_cost[i][1]\n",
    "            \n",
    "\n",
    "    return population"
   ]
  },
  {
   "cell_type": "code",
   "execution_count": 10,
   "metadata": {},
   "outputs": [],
   "source": [
    "def chooseParents(pop):\n",
    "    n = len(pop)\n",
    "    index1 = np.random.randint(n)\n",
    "    while True:\n",
    "        index2 = np.random.randint(n)\n",
    "        if index1 != index2: break\n",
    "    index3 = np.random.randint(n)\n",
    "    while True:\n",
    "        index4 = np.random.randint(n)\n",
    "        if index3 != index4: break\n",
    "    \n",
    "    if pop[index1][2] > pop[index2][2]:\n",
    "        p1 = pop[index1]\n",
    "    else:\n",
    "        p1 = pop[index2]\n",
    "    \n",
    "    if pop[index3][2] > pop[index4][2]:\n",
    "        p2 = pop[index3]\n",
    "    else:\n",
    "        p2 = pop[index4]\n",
    "    \n",
    "    return p1, p2"
   ]
  },
  {
   "cell_type": "code",
   "execution_count": 11,
   "metadata": {},
   "outputs": [],
   "source": [
    "def cross_pmx(p1, p2):\n",
    "    n = len(p1)\n",
    "    l = int(n/3)\n",
    "    \n",
    "    index1 = np.random.randint(l)\n",
    "    index2 = np.random.randint(l+l, 3*l)\n",
    "\n",
    "    o1 = np.array(p2)\n",
    "    o2 = np.array(p1)\n",
    "\n",
    "    pos1 = np.full(n+1, -1, dtype=int)\n",
    "    pos2 = np.full(n+1, -1, dtype=int)\n",
    "    for i in range(index1, index2+1):\n",
    "        pos1[o1[i]] = i\n",
    "        pos2[o2[i]] = i\n",
    "        \n",
    "    for i in range(n):\n",
    "        if index1 <= i and i <= index2: continue\n",
    "\n",
    "        id1 = i\n",
    "        while True:\n",
    "            if pos1[p1[id1]] == -1:\n",
    "                o1[i] = p1[id1]\n",
    "                break\n",
    "            id1 = pos1[p1[id1]]\n",
    "        \n",
    "        id2 = i\n",
    "        while True:\n",
    "            if pos2[p2[id2]] == -1:\n",
    "                o2[i] = p2[id2]\n",
    "                break\n",
    "            id2 = pos2[p2[id2]]\n",
    "    \n",
    "    return o1, o2\n",
    "\n",
    "\n",
    "def paradox_mutation(ind):\n",
    "    n = len(ind)\n",
    "    indiv = np.array(ind)\n",
    "    index1 = 0\n",
    "    index2 = np.random.randint(1, n-1)\n",
    "\n",
    "    while index1 < index2:\n",
    "        temp = indiv[index1]\n",
    "        indiv[index1] = indiv[index2]\n",
    "        indiv[index2] = temp\n",
    "        index1 += 1\n",
    "        index2 -= 1\n",
    "\n",
    "    return indiv\n"
   ]
  },
  {
   "cell_type": "code",
   "execution_count": 12,
   "metadata": {},
   "outputs": [],
   "source": [
    "def update_fitness(pop):\n",
    "    task = [[], []]\n",
    "\n",
    "    for indiv in pop:\n",
    "        task[indiv[1]].append(indiv)\n",
    "    \n",
    "    task[0].sort(key=lambda p: p[3])\n",
    "    task[1].sort(key=lambda p: p[3])\n",
    "\n",
    "    for i in range(len(task[0])):\n",
    "        task[0][i][2] = 1/(i+1)\n",
    "    for i in range(len(task[1])):\n",
    "        task[1][i][2] = 1/(i+1)\n",
    "\n",
    "    return task[0] + task[1]"
   ]
  },
  {
   "cell_type": "code",
   "execution_count": 13,
   "metadata": {},
   "outputs": [],
   "source": [
    "def selection(pre_pop, offs_pop):\n",
    "    pop = pre_pop + offs_pop\n",
    "    pop = update_fitness(pop)\n",
    "    pop.sort(key=lambda indiv: indiv[2], reverse = True)\n",
    "    next_pop = pop[:len(pre_pop)]\n",
    "    #random.shuffle(next_pop)\n",
    "\n",
    "    return next_pop"
   ]
  },
  {
   "cell_type": "code",
   "execution_count": 14,
   "metadata": {},
   "outputs": [],
   "source": [
    "from tqdm import tqdm\n",
    "\n",
    "def MFEA(size_pop, num_gens, rmp):\n",
    "    population = Generate_Eval(sizePop=size_pop)\n",
    "    logg = []\n",
    "\n",
    "    # for t in tqdm(range(num_gens)):\n",
    "    for t in range(num_gens):\n",
    "        offs_pop = []\n",
    "        n_offs = 0\n",
    "\n",
    "        while n_offs < size_pop:\n",
    "            p1, p2 = chooseParents(population)\n",
    "\n",
    "            if p1[1] == p2[1]:\n",
    "                c1, c2 = cross_pmx(p1[0], p2[0])\n",
    "                \n",
    "                # if not check_generated(c1, t=p1[1]):\n",
    "                if True:\n",
    "                    offs_pop.append([c1, p1[1], -1, Factorial_Cost(c1, p1[1])])\n",
    "                    n_offs += 1\n",
    "                \n",
    "                # if not check_generated(c2):\n",
    "                    offs_pop.append([c2, p1[1], -1, Factorial_Cost(c2, p1[1])])\n",
    "                    n_offs += 1\n",
    "            \n",
    "            elif np.random.random_sample() < rmp:\n",
    "                c1, c2 = cross_pmx(p1[0], p2[0])\n",
    "                \n",
    "                if np.random.random_sample() < 0.5:\n",
    "                    offs_pop.append([c1, p1[1], -1, Factorial_Cost(c1, p1[1])])\n",
    "                    n_offs += 1\n",
    "                else:\n",
    "                    offs_pop.append([c1, p2[1], -1, Factorial_Cost(c1, p2[1])])\n",
    "                    n_offs += 1\n",
    "        \n",
    "                if np.random.random_sample() < 0.5:\n",
    "                    offs_pop.append([c2, p1[1], -1, Factorial_Cost(c2, p1[1])])\n",
    "                    n_offs += 1\n",
    "                else:\n",
    "                    offs_pop.append([c2, p2[1], -1, Factorial_Cost(c2, p2[1])])\n",
    "                    n_offs += 1\n",
    "            \n",
    "            else:\n",
    "                c1 = paradox_mutation(p1[0])\n",
    "                # if not check_generated(c1, t=p1[1]):\n",
    "                offs_pop.append([c1, p1[1], -1, Factorial_Cost(c1, p1[1])])\n",
    "                n_offs += 1\n",
    "\n",
    "                c2 = paradox_mutation(p2[0])\n",
    "                # if not check_generated(c2, t=p2[1]):\n",
    "                offs_pop.append([c2, p2[1], -1, Factorial_Cost(c2, p2[1])])\n",
    "                n_offs += 1\n",
    "\n",
    "        population = selection(population, offs_pop)\n",
    "        best = [0, 0]\n",
    "        \n",
    "        if population[1][2] == 1.0:\n",
    "            best[population[0][1]] = population[0][0]\n",
    "            best[population[1][1]] = population[1][0]\n",
    "        else:\n",
    "            best[0] = population[0][0]\n",
    "            best[1] = population[0][0]\n",
    "        \n",
    "        logg.append([t, best])\n",
    "    \n",
    "    return logg"
   ]
  },
  {
   "cell_type": "code",
   "execution_count": 15,
   "metadata": {},
   "outputs": [
    {
     "name": "stderr",
     "output_type": "stream",
     "text": [
      "  3%|▎         | 1/30 [00:16<07:49, 16.17s/it]"
     ]
    },
    {
     "name": "stdout",
     "output_type": "stream",
     "text": [
      "7.0 17.0\n"
     ]
    },
    {
     "name": "stderr",
     "output_type": "stream",
     "text": [
      "  7%|▋         | 2/30 [00:31<07:17, 15.63s/it]"
     ]
    },
    {
     "name": "stdout",
     "output_type": "stream",
     "text": [
      "7.0 17.0\n"
     ]
    },
    {
     "name": "stderr",
     "output_type": "stream",
     "text": [
      " 10%|█         | 3/30 [00:46<06:49, 15.18s/it]"
     ]
    },
    {
     "name": "stdout",
     "output_type": "stream",
     "text": [
      "7.0 17.0\n"
     ]
    },
    {
     "name": "stderr",
     "output_type": "stream",
     "text": [
      " 13%|█▎        | 4/30 [01:01<06:35, 15.20s/it]"
     ]
    },
    {
     "name": "stdout",
     "output_type": "stream",
     "text": [
      "7.0 17.0\n"
     ]
    },
    {
     "name": "stderr",
     "output_type": "stream",
     "text": [
      " 17%|█▋        | 5/30 [01:17<06:29, 15.57s/it]"
     ]
    },
    {
     "name": "stdout",
     "output_type": "stream",
     "text": [
      "7.0 17.0\n"
     ]
    },
    {
     "name": "stderr",
     "output_type": "stream",
     "text": [
      " 20%|██        | 6/30 [01:34<06:23, 15.96s/it]"
     ]
    },
    {
     "name": "stdout",
     "output_type": "stream",
     "text": [
      "7.0 17.0\n"
     ]
    },
    {
     "name": "stderr",
     "output_type": "stream",
     "text": [
      " 23%|██▎       | 7/30 [01:49<06:05, 15.87s/it]"
     ]
    },
    {
     "name": "stdout",
     "output_type": "stream",
     "text": [
      "7.0 17.0\n"
     ]
    },
    {
     "name": "stderr",
     "output_type": "stream",
     "text": [
      " 27%|██▋       | 8/30 [02:04<05:39, 15.44s/it]"
     ]
    },
    {
     "name": "stdout",
     "output_type": "stream",
     "text": [
      "7.0 17.0\n"
     ]
    },
    {
     "name": "stderr",
     "output_type": "stream",
     "text": [
      " 30%|███       | 9/30 [02:19<05:20, 15.26s/it]"
     ]
    },
    {
     "name": "stdout",
     "output_type": "stream",
     "text": [
      "7.0 17.0\n"
     ]
    },
    {
     "name": "stderr",
     "output_type": "stream",
     "text": [
      " 33%|███▎      | 10/30 [02:33<04:59, 14.98s/it]"
     ]
    },
    {
     "name": "stdout",
     "output_type": "stream",
     "text": [
      "7.0 17.0\n"
     ]
    },
    {
     "name": "stderr",
     "output_type": "stream",
     "text": [
      " 37%|███▋      | 11/30 [02:49<04:49, 15.22s/it]"
     ]
    },
    {
     "name": "stdout",
     "output_type": "stream",
     "text": [
      "7.0 17.0\n"
     ]
    },
    {
     "name": "stderr",
     "output_type": "stream",
     "text": [
      " 40%|████      | 12/30 [03:04<04:30, 15.03s/it]"
     ]
    },
    {
     "name": "stdout",
     "output_type": "stream",
     "text": [
      "7.0 17.0\n"
     ]
    },
    {
     "name": "stderr",
     "output_type": "stream",
     "text": [
      " 43%|████▎     | 13/30 [03:18<04:14, 15.00s/it]"
     ]
    },
    {
     "name": "stdout",
     "output_type": "stream",
     "text": [
      "7.0 17.0\n"
     ]
    },
    {
     "name": "stderr",
     "output_type": "stream",
     "text": [
      " 47%|████▋     | 14/30 [03:36<04:14, 15.90s/it]"
     ]
    },
    {
     "name": "stdout",
     "output_type": "stream",
     "text": [
      "7.0 17.0\n"
     ]
    },
    {
     "name": "stderr",
     "output_type": "stream",
     "text": [
      " 50%|█████     | 15/30 [03:52<03:55, 15.71s/it]"
     ]
    },
    {
     "name": "stdout",
     "output_type": "stream",
     "text": [
      "7.0 17.0\n"
     ]
    },
    {
     "name": "stderr",
     "output_type": "stream",
     "text": [
      " 53%|█████▎    | 16/30 [04:07<03:37, 15.55s/it]"
     ]
    },
    {
     "name": "stdout",
     "output_type": "stream",
     "text": [
      "7.0 17.0\n"
     ]
    },
    {
     "name": "stderr",
     "output_type": "stream",
     "text": [
      " 57%|█████▋    | 17/30 [04:22<03:21, 15.46s/it]"
     ]
    },
    {
     "name": "stdout",
     "output_type": "stream",
     "text": [
      "7.0 17.0\n"
     ]
    },
    {
     "name": "stderr",
     "output_type": "stream",
     "text": [
      " 60%|██████    | 18/30 [04:38<03:06, 15.52s/it]"
     ]
    },
    {
     "name": "stdout",
     "output_type": "stream",
     "text": [
      "7.0 17.0\n"
     ]
    },
    {
     "name": "stderr",
     "output_type": "stream",
     "text": [
      " 63%|██████▎   | 19/30 [04:53<02:48, 15.32s/it]"
     ]
    },
    {
     "name": "stdout",
     "output_type": "stream",
     "text": [
      "7.0 17.0\n"
     ]
    },
    {
     "name": "stderr",
     "output_type": "stream",
     "text": [
      " 67%|██████▋   | 20/30 [05:08<02:34, 15.42s/it]"
     ]
    },
    {
     "name": "stdout",
     "output_type": "stream",
     "text": [
      "7.0 17.0\n"
     ]
    },
    {
     "name": "stderr",
     "output_type": "stream",
     "text": [
      " 70%|███████   | 21/30 [05:24<02:20, 15.60s/it]"
     ]
    },
    {
     "name": "stdout",
     "output_type": "stream",
     "text": [
      "7.0 17.0\n"
     ]
    },
    {
     "name": "stderr",
     "output_type": "stream",
     "text": [
      " 73%|███████▎  | 22/30 [05:40<02:05, 15.71s/it]"
     ]
    },
    {
     "name": "stdout",
     "output_type": "stream",
     "text": [
      "7.0 17.0\n"
     ]
    },
    {
     "name": "stderr",
     "output_type": "stream",
     "text": [
      " 77%|███████▋  | 23/30 [05:56<01:49, 15.70s/it]"
     ]
    },
    {
     "name": "stdout",
     "output_type": "stream",
     "text": [
      "7.0 17.0\n"
     ]
    },
    {
     "name": "stderr",
     "output_type": "stream",
     "text": [
      " 80%|████████  | 24/30 [06:11<01:32, 15.40s/it]"
     ]
    },
    {
     "name": "stdout",
     "output_type": "stream",
     "text": [
      "7.0 17.0\n"
     ]
    },
    {
     "name": "stderr",
     "output_type": "stream",
     "text": [
      " 83%|████████▎ | 25/30 [06:26<01:16, 15.24s/it]"
     ]
    },
    {
     "name": "stdout",
     "output_type": "stream",
     "text": [
      "7.0 17.0\n"
     ]
    },
    {
     "name": "stderr",
     "output_type": "stream",
     "text": [
      " 87%|████████▋ | 26/30 [06:41<01:00, 15.22s/it]"
     ]
    },
    {
     "name": "stdout",
     "output_type": "stream",
     "text": [
      "7.0 17.0\n"
     ]
    },
    {
     "name": "stderr",
     "output_type": "stream",
     "text": [
      " 90%|█████████ | 27/30 [06:56<00:45, 15.21s/it]"
     ]
    },
    {
     "name": "stdout",
     "output_type": "stream",
     "text": [
      "7.0 17.0\n"
     ]
    },
    {
     "name": "stderr",
     "output_type": "stream",
     "text": [
      " 93%|█████████▎| 28/30 [07:12<00:30, 15.37s/it]"
     ]
    },
    {
     "name": "stdout",
     "output_type": "stream",
     "text": [
      "7.0 17.0\n"
     ]
    },
    {
     "name": "stderr",
     "output_type": "stream",
     "text": [
      " 97%|█████████▋| 29/30 [07:27<00:15, 15.51s/it]"
     ]
    },
    {
     "name": "stdout",
     "output_type": "stream",
     "text": [
      "7.0 17.0\n"
     ]
    },
    {
     "name": "stderr",
     "output_type": "stream",
     "text": [
      "100%|██████████| 30/30 [07:42<00:00, 15.41s/it]"
     ]
    },
    {
     "name": "stdout",
     "output_type": "stream",
     "text": [
      "7.0 17.0\n"
     ]
    },
    {
     "name": "stderr",
     "output_type": "stream",
     "text": [
      "\n"
     ]
    }
   ],
   "source": [
    "import random\n",
    "\n",
    "for i in tqdm(range(30)):\n",
    "    np.random.seed(i)\n",
    "    random.seed(i)\n",
    "    Tasks[0].best = np.inf\n",
    "    Tasks[1].best = np.inf\n",
    "\n",
    "    history = MFEA(100, 500, 0.3)\n",
    "\n",
    "    ind0, ind1 = history[-1][1]\n",
    "\n",
    "    print(Tasks[0].Cost(ind0), Tasks[1].Cost(ind1))\n"
   ]
  },
  {
   "cell_type": "code",
   "execution_count": 16,
   "metadata": {},
   "outputs": [],
   "source": [
    "def show(his):\n",
    "    input = np.array(his, dtype=object)\n",
    "    x = input[:, 0]\n",
    "    res = np.array(input[:, 1])\n",
    "    res_tsp = []\n",
    "    res_kp = []\n",
    "    for indivs in res:\n",
    "        res_tsp.append(Factorial_Cost(indivs[0], 0))\n",
    "        res_kp.append(Factorial_Cost(indivs[1], 1))\n",
    "    res_tsp = np.array(res_tsp)\n",
    "    res_kp = np.array(res_kp)\n",
    "\n",
    "    plt.figure(figsize=(20, 7))\n",
    "\n",
    "    plt.subplot(1, 2, 1)\n",
    "    plt.plot(x, res_tsp)\n",
    "    plt.title('TSP: best = '+ str(res_tsp[-1]))\n",
    "\n",
    "    plt.subplot(1, 2, 2)\n",
    "    plt.plot(x, res_kp)\n",
    "    plt.title('KPbest = '+ str(res_kp[-1]))\n",
    "\n",
    "    plt.show()"
   ]
  },
  {
   "cell_type": "code",
   "execution_count": 17,
   "metadata": {},
   "outputs": [],
   "source": [
    "history = MFEA(100, 500, 0.3)"
   ]
  },
  {
   "cell_type": "code",
   "execution_count": 18,
   "metadata": {},
   "outputs": [
    {
     "data": {
      "image/png": "[encoded data removed]",
      "text/plain": [
       "<Figure size 1440x504 with 2 Axes>"
      ]
     },
     "metadata": {
      "needs_background": "light"
     },
     "output_type": "display_data"
    }
   ],
   "source": [
    "show(history)"
   ]
  }
 ],
 "metadata": {
  "interpreter": {
   "hash": "b0fdbd91fa1014f333c33329988a7a04d464deba86e034a82d46dbd46f2ee1d2"
  },
  "kernelspec": {
   "display_name": "Python 3",
   "language": "python",
   "name": "python3"
  },
  "language_info": {
   "codemirror_mode": {
    "name": "ipython",
    "version": 3
   },
   "file_extension": ".py",
   "mimetype": "text/x-python",
   "name": "python",
   "nbconvert_exporter": "python",
   "pygments_lexer": "ipython3",
   "version": "3.8.8"
  }
 },
 "nbformat": 4,
 "nbformat_minor": 2
}
