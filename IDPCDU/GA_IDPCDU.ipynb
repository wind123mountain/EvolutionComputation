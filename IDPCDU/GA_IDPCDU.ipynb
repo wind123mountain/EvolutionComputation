{
 "cells": [
  {
   "cell_type": "code",
   "execution_count": 41,
   "metadata": {},
   "outputs": [],
   "source": [
    "import numpy as np\n",
    "import matplotlib.pyplot as plt\n",
    "from GraphDomain import EncodePriority\n",
    "import os"
   ]
  },
  {
   "cell_type": "code",
   "execution_count": 42,
   "metadata": {},
   "outputs": [],
   "source": [
    "np.random.seed(0)"
   ]
  },
  {
   "cell_type": "code",
   "execution_count": 43,
   "metadata": {},
   "outputs": [
    {
     "data": {
      "text/plain": [
       "['idpc_10x10x1000.idpc',\n",
       " 'idpc_10x20x2713.idpc',\n",
       " 'idpc_10x5x425.idpc',\n",
       " 'idpc_15x15x3375.idpc',\n",
       " 'idpc_15x30x12111.idpc',\n",
       " 'idpc_15x7x1504.idpc',\n",
       " 'idpc_20x10x2492.idpc',\n",
       " 'idpc_20x20x8000.idpc',\n",
       " 'idpc_20x40x26104.idpc',\n",
       " 'idpc_25x12x4817.idpc',\n",
       " 'idpc_25x25x15625.idpc',\n",
       " 'idpc_25x50x57147.idpc',\n",
       " 'idpc_30x15x10025.idpc',\n",
       " 'idpc_30x30x27000.idpc',\n",
       " 'idpc_30x60x89772.idpc',\n",
       " 'idpc_35x17x13934.idpc',\n",
       " 'idpc_35x35x42875.idpc',\n",
       " 'idpc_35x70x123585.idpc',\n",
       " 'idpc_40x20x18485.idpc',\n",
       " 'idpc_40x40x64000.idpc',\n",
       " 'idpc_40x80x130681.idpc',\n",
       " 'idpc_45x22x43769.idpc',\n",
       " 'idpc_45x45x91125.idpc',\n",
       " 'idpc_45x90x322081.idpc']"
      ]
     },
     "execution_count": 43,
     "metadata": {},
     "output_type": "execute_result"
    }
   ],
   "source": [
    "sc = \"Datasets/IDPCDU_Edges/set1/\"\n",
    "TaskNames = os.listdir(sc)\n",
    "TaskNames"
   ]
  },
  {
   "cell_type": "code",
   "execution_count": 44,
   "metadata": {},
   "outputs": [
    {
     "data": {
      "text/plain": [
       "'idpc_10x5x425'"
      ]
     },
     "execution_count": 44,
     "metadata": {},
     "output_type": "execute_result"
    }
   ],
   "source": [
    "def Load(index):\n",
    "    path = sc + TaskNames[index]\n",
    "    name = TaskNames[index].split('.')[0]\n",
    "    task = EncodePriority(path=path, name=name)\n",
    "    return task\n",
    "\n",
    "Task = Load(2)\n",
    "Task.NAME"
   ]
  },
  {
   "cell_type": "code",
   "execution_count": 104,
   "metadata": {},
   "outputs": [],
   "source": [
    "def GeneratorPopulaion(sizePop, dims=Task.NUM_DOMAIN, task=Task):\n",
    "    Populaion = []\n",
    "    for i in range(sizePop):\n",
    "        pi = np.random.permutation(range(1, dims+1))\n",
    "        f_pi = task.Cost(pi)\n",
    "        Populaion.append((pi, f_pi))\n",
    "\n",
    "    return Populaion"
   ]
  },
  {
   "cell_type": "code",
   "execution_count": 46,
   "metadata": {},
   "outputs": [
    {
     "data": {
      "text/plain": [
       "'idpc_10x10x1000'"
      ]
     },
     "execution_count": 46,
     "metadata": {},
     "output_type": "execute_result"
    }
   ],
   "source": [
    "Task = Load(0)\n",
    "Task.NAME"
   ]
  },
  {
   "cell_type": "code",
   "execution_count": 47,
   "metadata": {},
   "outputs": [
    {
     "data": {
      "text/plain": [
       "[(array([3, 1, 2, 4, 5]), 14.0),\n",
       " (array([1, 3, 2, 5, 4]), 13.0),\n",
       " (array([2, 4, 5, 1, 3]), 14.0),\n",
       " (array([4, 2, 3, 5, 1]), 14.0),\n",
       " (array([5, 3, 4, 2, 1]), 14.0)]"
      ]
     },
     "execution_count": 47,
     "metadata": {},
     "output_type": "execute_result"
    }
   ],
   "source": [
    "np.set_printoptions(linewidth=np.inf)\n",
    "GeneratorPopulaion(5)"
   ]
  },
  {
   "cell_type": "code",
   "execution_count": 52,
   "metadata": {},
   "outputs": [],
   "source": [
    "def chooseParents(pop):\n",
    "    n = len(pop)\n",
    "    index1 = np.random.randint(n)\n",
    "    index2 = np.random.randint(n)\n",
    "    while index1 == index2:\n",
    "        index2 = np.random.randint(n)\n",
    "    \n",
    "    index3 = np.random.randint(n)\n",
    "    index4 = np.random.randint(n)\n",
    "    while index3 == index4:\n",
    "        index4 = np.random.randint(n)\n",
    "    \n",
    "    if pop[index1][1] < pop[index2][1]:\n",
    "        p1 = pop[index1][0]\n",
    "    else:\n",
    "        p1 = pop[index2][0]\n",
    "    \n",
    "    if pop[index3][1] < pop[index4][1]:\n",
    "        p2 = pop[index3][0]\n",
    "    else:\n",
    "        p2 = pop[index4][0]\n",
    "    \n",
    "    return p1, p2"
   ]
  },
  {
   "cell_type": "code",
   "execution_count": 53,
   "metadata": {},
   "outputs": [],
   "source": [
    "def cross_pmx(p1, p2):\n",
    "    n = len(p1)\n",
    "    \n",
    "    index1 = np.random.randint(1, n-1)\n",
    "    index2 = np.random.randint(1, n-1)\n",
    "    while index1 == index2:\n",
    "       index2 = np.random.randint(1, n-1)\n",
    "   \n",
    "    if index1 > index2:\n",
    "        temp = index1\n",
    "        index1 = index2\n",
    "        index2 = temp\n",
    "\n",
    "    #print(index1, index2)\n",
    "\n",
    "    o1 = np.array(p2)\n",
    "    o2 = np.array(p1)\n",
    "\n",
    "    pos1 = np.full(n+1, -1, dtype=int)\n",
    "    pos2 = np.full(n+1, -1, dtype=int)\n",
    "    for i in range(index1, index2+1):\n",
    "        pos1[o1[i]] = i\n",
    "        pos2[o2[i]] = i\n",
    "        \n",
    "    for i in range(n):\n",
    "        if index1 <= i and i <= index2: continue\n",
    "\n",
    "        id1 = i\n",
    "        while True:\n",
    "            if pos1[p1[id1]] == -1:\n",
    "                o1[i] = p1[id1]\n",
    "                break\n",
    "            id1 = pos1[p1[id1]]\n",
    "        \n",
    "        id2 = i\n",
    "        while True:\n",
    "            if pos2[p2[id2]] == -1:\n",
    "                o2[i] = p2[id2]\n",
    "                break\n",
    "            id2 = pos2[p2[id2]]\n",
    "    \n",
    "    return o1, o2"
   ]
  },
  {
   "cell_type": "code",
   "execution_count": 54,
   "metadata": {},
   "outputs": [],
   "source": [
    "def paradox_mutation(indiv):\n",
    "    n = len(indiv)\n",
    "    index1 = np.random.randint(1, n-1)\n",
    "    index2 = np.random.randint(1, n-1)\n",
    "    while index1 == index2:\n",
    "       index2 = np.random.randint(1, n-1)\n",
    "   \n",
    "    if index1 > index2:\n",
    "        temp = index1\n",
    "        index1 = index2\n",
    "        index2 = temp\n",
    "\n",
    "    while index1 < index2:\n",
    "        temp = indiv[index1]\n",
    "        indiv[index1] = indiv[index2]\n",
    "        indiv[index2] = temp\n",
    "        index1 += 1\n",
    "        index2 -= 1\n",
    "\n",
    "    return indiv\n"
   ]
  },
  {
   "cell_type": "code",
   "execution_count": 97,
   "metadata": {},
   "outputs": [],
   "source": [
    "def selection(pre_pop, offs_pop, rate_sel = 0.3):  \n",
    "    n = len(pre_pop)\n",
    "    # n_p = int(n*rate_sel)\n",
    "    # n_o = int(n*(0.5 - rate_sel))\n",
    "    # pre_pop.sort(key=lambda tup: tup[1])\n",
    "    # offs_pop.sort(key=lambda tup: tup[1])\n",
    "    # pop = pre_pop[n_p:] + offs_pop[n_o:]\n",
    "    # pop.sort(key=lambda tup: tup[1])\n",
    "    # next_pop = pre_pop[0:n_p] + offs_pop[0:n_o] + pop[0:(n-n_p-n_o)]\n",
    "\n",
    "    pop = offs_pop + pre_pop\n",
    "    pop.sort(key=lambda tup: tup[1])\n",
    "    next_pop = pop[:n]\n",
    "\n",
    "    return next_pop"
   ]
  },
  {
   "cell_type": "code",
   "execution_count": 110,
   "metadata": {},
   "outputs": [],
   "source": [
    "from tqdm import tqdm\n",
    "\n",
    "def GA(size_pop, num_gens, Pc, Pm, task=Task):\n",
    "    population = GeneratorPopulaion(size_pop, task=task)\n",
    "    logg = []\n",
    "\n",
    "    for t in tqdm(range(num_gens)):\n",
    "        offs_pop = []\n",
    "        while len(offs_pop) < size_pop:\n",
    "            p1, p2 = chooseParents(population)\n",
    "\n",
    "            rand = np.random.random_sample()\n",
    "            o1, o2 = [], []\n",
    "            if rand <= Pc:\n",
    "                o1, o2 = cross_pmx(p1, p2)\n",
    "            else:\n",
    "                o1 = paradox_mutation(p1)\n",
    "                o2 = paradox_mutation(p2)\n",
    "            if np.random.random_sample() < Pm:\n",
    "                o1 = paradox_mutation(o1)\n",
    "                o2 = paradox_mutation(o2)\n",
    "            \n",
    "            offs_pop.append((o1, task.Cost(o1)))\n",
    "            offs_pop.append((o2, task.Cost(o2)))\n",
    "        \n",
    "        population = selection(population, offs_pop)\n",
    "        logg.append([t, population[0]])\n",
    "    \n",
    "    return logg"
   ]
  },
  {
   "cell_type": "code",
   "execution_count": 57,
   "metadata": {},
   "outputs": [],
   "source": [
    "def show(his):\n",
    "    input = np.array(his, dtype=object)\n",
    "    x = input[:, 0]\n",
    "    y = np.array(input[:, 1])\n",
    "    y = [i[1] for i in y]\n",
    "    plt.plot(x, y)\n",
    "    plt.title(Task.NAME + \": best = {}\".format(his[-1][1][1]))\n",
    "    plt.show()"
   ]
  },
  {
   "cell_type": "code",
   "execution_count": 76,
   "metadata": {},
   "outputs": [],
   "source": [
    "np.random.seed(None)"
   ]
  },
  {
   "cell_type": "code",
   "execution_count": 123,
   "metadata": {},
   "outputs": [
    {
     "data": {
      "text/plain": [
       "'idpc_10x10x1000'"
      ]
     },
     "execution_count": 123,
     "metadata": {},
     "output_type": "execute_result"
    }
   ],
   "source": [
    "Task = Load(0)\n",
    "Task.NAME"
   ]
  },
  {
   "cell_type": "code",
   "execution_count": 116,
   "metadata": {},
   "outputs": [
    {
     "name": "stderr",
     "output_type": "stream",
     "text": [
      "100%|██████████| 5/5 [00:53<00:00, 10.61s/it]\n"
     ]
    },
    {
     "data": {
      "image/png": "[encoded data removed]",
      "text/plain": [
       "<Figure size 432x288 with 1 Axes>"
      ]
     },
     "metadata": {
      "needs_background": "light"
     },
     "output_type": "display_data"
    }
   ],
   "source": [
    "history = GA(1000, 5, 0.7, 0.5, task=Task)\n",
    "show(history)"
   ]
  },
  {
   "cell_type": "code",
   "execution_count": 117,
   "metadata": {},
   "outputs": [
    {
     "data": {
      "text/plain": [
       "[4,\n",
       " (array([66, 67, 50,  9, 21, 85, 26, 10, 87, 35, 63,  2, 12, 55, 79,  3, 59, 62, 57, 19, 81, 75, 37, 25, 83, 52, 42, 41, 24, 58,  6, 34, 53, 65, 49, 38, 73, 17, 89, 40, 29, 77, 23,  4, 71, 11, 14, 64,  1, 22, 74,  7, 69, 90, 78, 61, 31, 82,  5, 54, 30, 32, 72, 60, 36, 28, 45, 51, 47, 43, 18, 16, 56, 68, 39, 48, 13, 84, 33, 20,  8, 86, 88, 70, 80, 46, 76, 27, 15, 44]),\n",
       "  26.0)]"
      ]
     },
     "execution_count": 117,
     "metadata": {},
     "output_type": "execute_result"
    }
   ],
   "source": [
    "history[-1]"
   ]
  }
 ],
 "metadata": {
  "interpreter": {
   "hash": "b0fdbd91fa1014f333c33329988a7a04d464deba86e034a82d46dbd46f2ee1d2"
  },
  "kernelspec": {
   "display_name": "Python 3.8.8 64-bit ('base': conda)",
   "language": "python",
   "name": "python3"
  },
  "language_info": {
   "codemirror_mode": {
    "name": "ipython",
    "version": 3
   },
   "file_extension": ".py",
   "mimetype": "text/x-python",
   "name": "python",
   "nbconvert_exporter": "python",
   "pygments_lexer": "ipython3",
   "version": "3.8.8"
  },
  "orig_nbformat": 4
 },
 "nbformat": 4,
 "nbformat_minor": 2
}
