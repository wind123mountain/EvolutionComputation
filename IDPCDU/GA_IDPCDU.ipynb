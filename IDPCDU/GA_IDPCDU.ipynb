{
 "cells": [
  {
   "cell_type": "code",
   "execution_count": 1,
   "metadata": {},
   "outputs": [],
   "source": [
    "import numpy as np\n",
    "import matplotlib.pyplot as plt\n",
    "from BuildGraph import EncodePriority\n",
    "import os"
   ]
  },
  {
   "cell_type": "code",
   "execution_count": 3,
   "metadata": {},
   "outputs": [
    {
     "data": {
      "text/plain": [
       "['idpc_10x10x1000.idpc',\n",
       " 'idpc_10x20x2713.idpc',\n",
       " 'idpc_10x5x425.idpc',\n",
       " 'idpc_15x15x3375.idpc',\n",
       " 'idpc_15x30x12111.idpc',\n",
       " 'idpc_15x7x1504.idpc',\n",
       " 'idpc_20x10x2492.idpc',\n",
       " 'idpc_20x20x8000.idpc',\n",
       " 'idpc_20x40x26104.idpc',\n",
       " 'idpc_25x12x4817.idpc',\n",
       " 'idpc_25x25x15625.idpc',\n",
       " 'idpc_25x50x57147.idpc',\n",
       " 'idpc_30x15x10025.idpc',\n",
       " 'idpc_30x30x27000.idpc',\n",
       " 'idpc_30x60x89772.idpc',\n",
       " 'idpc_35x17x13934.idpc',\n",
       " 'idpc_35x35x42875.idpc',\n",
       " 'idpc_35x70x123585.idpc',\n",
       " 'idpc_40x20x18485.idpc',\n",
       " 'idpc_40x40x64000.idpc',\n",
       " 'idpc_40x80x130681.idpc',\n",
       " 'idpc_45x22x43769.idpc',\n",
       " 'idpc_45x45x91125.idpc',\n",
       " 'idpc_45x90x322081.idpc']"
      ]
     },
     "execution_count": 3,
     "metadata": {},
     "output_type": "execute_result"
    }
   ],
   "source": [
    "sc = \"Datasets/IDPCDU_Edges/set1/\"\n",
    "TaskNames = os.listdir(sc)\n",
    "TaskNames"
   ]
  },
  {
   "cell_type": "code",
   "execution_count": 4,
   "metadata": {},
   "outputs": [
    {
     "data": {
      "text/plain": [
       "'idpc_10x5x425'"
      ]
     },
     "execution_count": 4,
     "metadata": {},
     "output_type": "execute_result"
    }
   ],
   "source": [
    "def Load(index):\n",
    "    path = sc + TaskNames[index]\n",
    "    name = TaskNames[index].split('.')[0]\n",
    "    task = EncodePriority(path=path, name=name)\n",
    "    return task"
   ]
  },
  {
   "cell_type": "code",
   "execution_count": 5,
   "metadata": {},
   "outputs": [],
   "source": [
    "def GeneratorPopulaion(sizePop, task:EncodePriority):\n",
    "    Populaion = []\n",
    "    dims=task.NUM_DOMAIN\n",
    "    for i in range(sizePop):\n",
    "        pi = np.random.permutation(range(1, dims+1))\n",
    "        f_pi = task.Cost(pi)\n",
    "        Populaion.append((pi, f_pi))\n",
    "\n",
    "    return Populaion"
   ]
  },
  {
   "cell_type": "code",
   "execution_count": 6,
   "metadata": {},
   "outputs": [],
   "source": [
    "def chooseParents(pop):\n",
    "    n = len(pop)\n",
    "    index1 = np.random.randint(n)\n",
    "    index2 = np.random.randint(n)\n",
    "    while index1 == index2:\n",
    "        index2 = np.random.randint(n)\n",
    "    \n",
    "    index3 = np.random.randint(n)\n",
    "    index4 = np.random.randint(n)\n",
    "    while index3 == index4:\n",
    "        index4 = np.random.randint(n)\n",
    "    \n",
    "    if pop[index1][1] < pop[index2][1]:\n",
    "        p1 = pop[index1][0]\n",
    "    else:\n",
    "        p1 = pop[index2][0]\n",
    "    \n",
    "    if pop[index3][1] < pop[index4][1]:\n",
    "        p2 = pop[index3][0]\n",
    "    else:\n",
    "        p2 = pop[index4][0]\n",
    "    \n",
    "    return p1, p2"
   ]
  },
  {
   "cell_type": "code",
   "execution_count": 7,
   "metadata": {},
   "outputs": [],
   "source": [
    "def cross_pmx(p1, p2):\n",
    "    n = len(p1)\n",
    "    \n",
    "    index1 = np.random.randint(1, n-1)\n",
    "    index2 = np.random.randint(1, n-1)\n",
    "    while index1 == index2:\n",
    "       index2 = np.random.randint(1, n-1)\n",
    "   \n",
    "    if index1 > index2:\n",
    "        temp = index1\n",
    "        index1 = index2\n",
    "        index2 = temp\n",
    "\n",
    "    #print(index1, index2)\n",
    "\n",
    "    o1 = np.array(p2)\n",
    "    o2 = np.array(p1)\n",
    "\n",
    "    pos1 = np.full(n+1, -1, dtype=int)\n",
    "    pos2 = np.full(n+1, -1, dtype=int)\n",
    "    for i in range(index1, index2+1):\n",
    "        pos1[o1[i]] = i\n",
    "        pos2[o2[i]] = i\n",
    "        \n",
    "    for i in range(n):\n",
    "        if index1 <= i and i <= index2: continue\n",
    "\n",
    "        id1 = i\n",
    "        while True:\n",
    "            if pos1[p1[id1]] == -1:\n",
    "                o1[i] = p1[id1]\n",
    "                break\n",
    "            id1 = pos1[p1[id1]]\n",
    "        \n",
    "        id2 = i\n",
    "        while True:\n",
    "            if pos2[p2[id2]] == -1:\n",
    "                o2[i] = p2[id2]\n",
    "                break\n",
    "            id2 = pos2[p2[id2]]\n",
    "    \n",
    "    return o1, o2"
   ]
  },
  {
   "cell_type": "code",
   "execution_count": 8,
   "metadata": {},
   "outputs": [],
   "source": [
    "def paradox_mutation(indiv):\n",
    "    n = len(indiv)\n",
    "    index1 = np.random.randint(1, n-1)\n",
    "    index2 = np.random.randint(1, n-1)\n",
    "    while index1 == index2:\n",
    "       index2 = np.random.randint(1, n-1)\n",
    "   \n",
    "    if index1 > index2:\n",
    "        temp = index1\n",
    "        index1 = index2\n",
    "        index2 = temp\n",
    "\n",
    "    while index1 < index2:\n",
    "        temp = indiv[index1]\n",
    "        indiv[index1] = indiv[index2]\n",
    "        indiv[index2] = temp\n",
    "        index1 += 1\n",
    "        index2 -= 1\n",
    "\n",
    "    return indiv\n"
   ]
  },
  {
   "cell_type": "code",
   "execution_count": 9,
   "metadata": {},
   "outputs": [],
   "source": [
    "def mutation_swap(individual):\n",
    "    n = len(individual)\n",
    "    res = np.array(individual)\n",
    "\n",
    "    index1 = np.random.randint(n)\n",
    "    index2 = np.random.randint(n)\n",
    "    while index1 == index2:\n",
    "        index2 = np.random.randint(n)\n",
    "\n",
    "    temp = res[index1]\n",
    "    res[index1] = res[index2]\n",
    "    res[index2] = temp\n",
    "\n",
    "    return res"
   ]
  },
  {
   "cell_type": "code",
   "execution_count": 10,
   "metadata": {},
   "outputs": [],
   "source": [
    "def selection(pre_pop, offs_pop, rate_sel = 0.1):  \n",
    "    n = len(pre_pop)\n",
    "    n_p = int(n*rate_sel)\n",
    "    n_o = int(n*(0.5 - rate_sel))\n",
    "    pre_pop.sort(key=lambda tup: tup[1])\n",
    "    offs_pop.sort(key=lambda tup: tup[1])\n",
    "    pop = pre_pop[n_p:] + offs_pop[n_o:]\n",
    "    pop.sort(key=lambda tup: tup[1])\n",
    "    next_pop = pre_pop[0:n_p] + offs_pop[0:n_o] + pop[0:(n-n_p-n_o)]\n",
    "\n",
    "    # pop = offs_pop + pre_pop\n",
    "    # pop.sort(key=lambda tup: tup[1])\n",
    "    # next_pop = pop[:n]\n",
    "\n",
    "    return next_pop"
   ]
  },
  {
   "cell_type": "code",
   "execution_count": 11,
   "metadata": {},
   "outputs": [],
   "source": [
    "from tqdm import tqdm\n",
    "\n",
    "def GA(size_pop, num_gens, Pc, Pm, task:EncodePriority):\n",
    "    population = GeneratorPopulaion(size_pop, task=task)\n",
    "    logg = []\n",
    "\n",
    "    for t in tqdm(range(num_gens)):\n",
    "        offs_pop = []\n",
    "        while len(offs_pop) < size_pop:\n",
    "            p1, p2 = chooseParents(population)\n",
    "\n",
    "            rand = np.random.random_sample()\n",
    "            o1, o2 = [], []\n",
    "            if rand <= Pc:\n",
    "                o1, o2 = cross_pmx(p1, p2)\n",
    "            else:\n",
    "                o1 = paradox_mutation(p1)\n",
    "                o2 = paradox_mutation(p2)\n",
    "            if np.random.random_sample() < Pm:\n",
    "                o1 = paradox_mutation(o1)\n",
    "                o2 = paradox_mutation(o2)\n",
    "            \n",
    "            offs_pop.append((o1, task.Cost(o1)))\n",
    "            offs_pop.append((o2, task.Cost(o2)))\n",
    "        \n",
    "        population = selection(population, offs_pop)\n",
    "        logg.append([t, population[0]])\n",
    "    \n",
    "    return logg"
   ]
  },
  {
   "cell_type": "code",
   "execution_count": 12,
   "metadata": {},
   "outputs": [],
   "source": [
    "def show(his):\n",
    "    input = np.array(his, dtype=object)\n",
    "    x = input[:, 0]\n",
    "    y = np.array(input[:, 1])\n",
    "    y = [i[1] for i in y]\n",
    "    plt.plot(x, y)\n",
    "    plt.title(Task.NAME + \": best = {}\".format(his[-1][1][1]))\n",
    "    plt.show()"
   ]
  },
  {
   "cell_type": "code",
   "execution_count": 13,
   "metadata": {},
   "outputs": [],
   "source": [
    "np.random.seed(1)"
   ]
  },
  {
   "cell_type": "code",
   "execution_count": 16,
   "metadata": {},
   "outputs": [
    {
     "name": "stderr",
     "output_type": "stream",
     "text": [
      "100%|██████████| 1000/1000 [02:52<00:00,  5.79it/s]\n"
     ]
    },
    {
     "data": {
      "image/png": "[encoded data removed]",
      "text/plain": [
       "<Figure size 432x288 with 1 Axes>"
      ]
     },
     "metadata": {
      "needs_background": "light"
     },
     "output_type": "display_data"
    }
   ],
   "source": [
    "history = GA(50, 1000, 0.75, 0.1, task=Load(0))\n",
    "show(history)"
   ]
  }
 ],
 "metadata": {
  "interpreter": {
   "hash": "b0fdbd91fa1014f333c33329988a7a04d464deba86e034a82d46dbd46f2ee1d2"
  },
  "kernelspec": {
   "display_name": "Python 3.8.8 64-bit ('base': conda)",
   "language": "python",
   "name": "python3"
  },
  "language_info": {
   "codemirror_mode": {
    "name": "ipython",
    "version": 3
   },
   "file_extension": ".py",
   "mimetype": "text/x-python",
   "name": "python",
   "nbconvert_exporter": "python",
   "pygments_lexer": "ipython3",
   "version": "3.8.8"
  },
  "orig_nbformat": 4
 },
 "nbformat": 4,
 "nbformat_minor": 2
}
