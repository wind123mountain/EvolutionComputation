{
 "cells": [
  {
   "cell_type": "code",
   "execution_count": 1,
   "metadata": {
    "executionInfo": {
     "elapsed": 404,
     "status": "ok",
     "timestamp": 1635696943768,
     "user": {
      "displayName": "Phong DQ",
      "photoUrl": "https://lh3.googleusercontent.com/a/default-user=s64",
      "userId": "11600774587194441145"
     },
     "user_tz": -420
    },
    "id": "idOmB1BhP6zf"
   },
   "outputs": [],
   "source": [
    "import numpy as np\n",
    "import matplotlib.pyplot as plt"
   ]
  },
  {
   "cell_type": "code",
   "execution_count": 2,
   "metadata": {
    "executionInfo": {
     "elapsed": 3,
     "status": "ok",
     "timestamp": 1635696944112,
     "user": {
      "displayName": "Phong DQ",
      "photoUrl": "https://lh3.googleusercontent.com/a/default-user=s64",
      "userId": "11600774587194441145"
     },
     "user_tz": -420
    },
    "id": "wPFpVToIP6zh"
   },
   "outputs": [],
   "source": [
    "def load_data(path = \"76.txt\"):\n",
    "    with open(path, 'r') as f:\n",
    "        inputData = f.readlines()\n",
    "    \n",
    "    N = int(inputData[0].strip())\n",
    "    node_list=[]\n",
    "    for node in inputData[1:]:\n",
    "        #del '\\n' \n",
    "        node = node.strip()\n",
    "        #split by ' '\n",
    "        node = node.split(' ')\n",
    "        node_list.append((int(node[1]), int(node[2])))\n",
    "\n",
    "    return node_list, N"
   ]
  },
  {
   "cell_type": "code",
   "execution_count": 3,
   "metadata": {
    "colab": {
     "base_uri": "https://localhost:8080/"
    },
    "executionInfo": {
     "elapsed": 559,
     "status": "ok",
     "timestamp": 1635696944668,
     "user": {
      "displayName": "Phong DQ",
      "photoUrl": "https://lh3.googleusercontent.com/a/default-user=s64",
      "userId": "11600774587194441145"
     },
     "user_tz": -420
    },
    "id": "pwxvT57wP6zi",
    "outputId": "79867ce8-f49b-4d0f-c0d3-4e91bc7e4b5a"
   },
   "outputs": [
    {
     "name": "stdout",
     "output_type": "stream",
     "text": [
      "[(22, 22), (36, 26), (21, 45), (45, 35), (55, 20), (33, 34), (50, 50), (55, 45), (26, 59), (40, 66), (55, 65), (35, 51), (62, 35), (62, 57), (62, 24), (21, 36), (33, 44), (9, 56), (62, 48), (66, 14), (44, 13), (26, 13), (11, 28), (7, 43), (17, 64), (41, 46), (55, 34), (35, 16), (52, 26), (43, 26), (31, 76), (22, 53), (26, 29), (50, 40), (55, 50), (54, 10), (60, 15), (47, 66), (30, 60), (30, 50), (12, 17), (15, 14), (16, 19), (21, 48), (50, 30), (51, 42), (50, 15), (48, 21), (12, 38), (15, 56), (29, 39), (54, 38), (55, 57), (67, 41), (10, 70), (6, 25), (65, 27), (40, 60), (70, 64), (64, 4), (36, 6), (30, 20), (20, 30), (15, 5), (50, 70), (57, 72), (45, 42), (38, 33), (50, 4), (66, 8), (59, 5), (35, 60), (27, 24), (40, 20), (40, 37), (40, 40)]\n",
      "76\n"
     ]
    }
   ],
   "source": [
    "node_list, num_cities = load_data()\n",
    "print(node_list)\n",
    "print(num_cities)"
   ]
  },
  {
   "cell_type": "code",
   "execution_count": 4,
   "metadata": {
    "executionInfo": {
     "elapsed": 13,
     "status": "ok",
     "timestamp": 1635696944669,
     "user": {
      "displayName": "Phong DQ",
      "photoUrl": "https://lh3.googleusercontent.com/a/default-user=s64",
      "userId": "11600774587194441145"
     },
     "user_tz": -420
    },
    "id": "Q2tyAUlzP6zj"
   },
   "outputs": [],
   "source": [
    "def DistanceMatrix(cities, n):\n",
    "    dis_matrix = np.zeros([n,n])\n",
    "    min_dis = np.full((n, 2), np.inf)\n",
    "    adv0 = []\n",
    "    for i in range(n):\n",
    "        for j in range(i+1, n):\n",
    "            a = np.array(cities[i])\n",
    "            b = np.array(cities[j])\n",
    "            c = a - b\n",
    "            dis_matrix[i, j] = np.sqrt(np.sum(c*c))\n",
    "            if dis_matrix[i, j] < min_dis[i, 1]:\n",
    "              min_dis[i, 0] = j\n",
    "              min_dis[i, 1] = dis_matrix[i, j]\n",
    "            dis_matrix[j, i] = dis_matrix[i, j]\n",
    "            if dis_matrix[j, i] < min_dis[j, 1] and i != 0:\n",
    "              min_dis[j, 0] = i\n",
    "              min_dis[j, 1] = dis_matrix[i, j]\n",
    "            if i == 0: adv0.append((dis_matrix[i, j], j))\n",
    "    \n",
    "    adv0.sort(key=lambda tup: tup[0], reverse = False)\n",
    "\n",
    "    return dis_matrix, min_dis, adv0"
   ]
  },
  {
   "cell_type": "code",
   "execution_count": 5,
   "metadata": {
    "colab": {
     "base_uri": "https://localhost:8080/"
    },
    "executionInfo": {
     "elapsed": 13,
     "status": "ok",
     "timestamp": 1635696944670,
     "user": {
      "displayName": "Phong DQ",
      "photoUrl": "https://lh3.googleusercontent.com/a/default-user=s64",
      "userId": "11600774587194441145"
     },
     "user_tz": -420
    },
    "id": "CJ2177bZP6zk",
    "outputId": "81dc9f98-0085-4cef-cf2d-37e0e8ea6e67"
   },
   "outputs": [
    {
     "name": "stdout",
     "output_type": "stream",
     "text": [
      "[(5.385164807134504, 72), (6.708203932499369, 42), (8.06225774829855, 32), (8.246211251235321, 61), (8.246211251235321, 62), (9.848857801796104, 21), (10.63014581273465, 41), (11.180339887498949, 40), (12.529964086141668, 22), (14.035668847618199, 15), (14.317821063276353, 27), (14.560219778561036, 1), (16.278820596099706, 5), (16.278820596099706, 55), (18.110770276274835, 73), (18.384776310850235, 50), (18.384776310850235, 63), (18.867962264113206, 48), (19.4164878389476, 67), (21.2602916254693, 60), (21.37755832643195, 29), (23.021728866442675, 2), (23.430749027719962, 74), (23.769728648009426, 20), (24.596747752497688, 16), (25.45584412271571, 75), (25.80697580112788, 23), (26.019223662515376, 43), (26.019223662515376, 47), (26.419689627245813, 3), (28.861739379323623, 46), (29.120439557122072, 39), (29.120439557122072, 44), (30.265491900843113, 28), (30.479501308256342, 66), (30.610455730027933, 25), (31.0, 31), (31.78049716414141, 11), (33.06055050963308, 4), (33.28663395418648, 33), (33.28663395418648, 68), (34.17601498127012, 35), (34.713109915419565, 49), (35.11409973215888, 26), (35.22782990761707, 45), (35.77708763999664, 51), (36.40054944640259, 17), (37.21558813185679, 8), (38.63935817272331, 36), (38.8329756778952, 38), (39.59797974644666, 6), (40.049968789001575, 14), (40.162171256046406, 71), (40.22437072223753, 7), (40.718546143004666, 70), (42.04759208325728, 57), (42.05948168962618, 12), (42.2965719651132, 24), (43.278170016764804, 34), (43.289721643826724, 56), (44.721359549995796, 19), (45.69463863518345, 59), (46.17358552246078, 69), (47.53945729601885, 9), (47.70744176750625, 18), (48.104053883222775, 52), (48.84669896727925, 53), (49.47726750741192, 54), (50.60632371551998, 37), (53.150729063673246, 13), (54.20332093147061, 10), (54.74486277268398, 30), (55.569775957799216, 64), (61.032778078668514, 65), (63.7808748764079, 58)]\n"
     ]
    }
   ],
   "source": [
    "dis_matrix, min_dis, adv0 = DistanceMatrix(node_list, num_cities)\n",
    "\n",
    "#set print full and one line\n",
    "#np.set_printoptions(threshold=np.inf, linewidth=np.inf)\n",
    "dis_matrix\n",
    "print(adv0)"
   ]
  },
  {
   "cell_type": "code",
   "execution_count": 6,
   "metadata": {
    "executionInfo": {
     "elapsed": 11,
     "status": "ok",
     "timestamp": 1635696944670,
     "user": {
      "displayName": "Phong DQ",
      "photoUrl": "https://lh3.googleusercontent.com/a/default-user=s64",
      "userId": "11600774587194441145"
     },
     "user_tz": -420
    },
    "id": "zPsvDcgpP6zk"
   },
   "outputs": [],
   "source": [
    "import math\n",
    "\n",
    "size_pop = 500\n",
    "Pc = 0.8\n",
    "Pm = 0.1\n",
    "dims = num_cities - 1 #start from 0\n",
    "#set of individuals generated\n",
    "mark = set()\n",
    "best_parents = (0, math.inf)"
   ]
  },
  {
   "cell_type": "code",
   "execution_count": 7,
   "metadata": {
    "executionInfo": {
     "elapsed": 11,
     "status": "ok",
     "timestamp": 1635696944670,
     "user": {
      "displayName": "Phong DQ",
      "photoUrl": "https://lh3.googleusercontent.com/a/default-user=s64",
      "userId": "11600774587194441145"
     },
     "user_tz": -420
    },
    "id": "8Bio3xv3P6zl"
   },
   "outputs": [],
   "source": [
    "def Fitness(indiv):\n",
    "    cost = dis_matrix[0, indiv[0]]\n",
    "    for i in range(dims - 1):\n",
    "        cost += dis_matrix[indiv[i], indiv[i+1]]\n",
    "    cost += dis_matrix[indiv[dims-1], 0]\n",
    "\n",
    "    return cost"
   ]
  },
  {
   "cell_type": "code",
   "execution_count": 8,
   "metadata": {
    "executionInfo": {
     "elapsed": 11,
     "status": "ok",
     "timestamp": 1635696944670,
     "user": {
      "displayName": "Phong DQ",
      "photoUrl": "https://lh3.googleusercontent.com/a/default-user=s64",
      "userId": "11600774587194441145"
     },
     "user_tz": -420
    },
    "id": "gB03A7uWP6zm"
   },
   "outputs": [],
   "source": [
    "def GeneratorPopulaion(sizePop, dims):\n",
    "    Populaion = []\n",
    "    for i in range(sizePop):\n",
    "        pi = np.random.permutation(range(1, dims))\n",
    "        f_pi = Fitness(pi)\n",
    "        global best_parents\n",
    "        if f_pi < best_parents[1]: \n",
    "            best_parents = (pi, f_pi)\n",
    "        mark.add(hash(pi.tobytes()))\n",
    "        Populaion.append((pi, f_pi))\n",
    "\n",
    "    return Populaion"
   ]
  },
  {
   "cell_type": "code",
   "execution_count": 9,
   "metadata": {
    "executionInfo": {
     "elapsed": 9,
     "status": "ok",
     "timestamp": 1635696944671,
     "user": {
      "displayName": "Phong DQ",
      "photoUrl": "https://lh3.googleusercontent.com/a/default-user=s64",
      "userId": "11600774587194441145"
     },
     "user_tz": -420
    },
    "id": "KKVs6qF_nmrQ"
   },
   "outputs": [],
   "source": [
    "def GreedyGeneration(sizePop, dims):\n",
    "  Populaion = []\n",
    "  n = dims-1\n",
    "  i = 0\n",
    "\n",
    "  while i < sizePop:\n",
    "    st = adv0[i][1]\n",
    "    indiv = [st]\n",
    "    while len(indiv) < n:\n",
    "      if(np.random.random_sample() < 0.2): \n",
    "        temp = np.random.randint(1, dims)\n",
    "        if temp not in indiv:\n",
    "          indiv.append(temp)\n",
    "      elif int(min_dis[indiv[-1], 0]) not in indiv:\n",
    "        indiv.append(int(min_dis[indiv[-1], 0]))\n",
    "    \n",
    "    indiv = np.array(indiv)\n",
    "    f_indiv = Fitness(indiv)\n",
    "\n",
    "    global best_parents\n",
    "    if f_indiv < best_parents[1]: \n",
    "      best_parents = (indiv, f_indiv)\n",
    "    mark.add(hash(indiv.tobytes()))\n",
    "\n",
    "    Populaion.append((indiv, f_indiv))\n",
    "\n",
    "    i += 1\n",
    "\n",
    "  return Populaion"
   ]
  },
  {
   "cell_type": "code",
   "execution_count": 10,
   "metadata": {
    "executionInfo": {
     "elapsed": 484,
     "status": "ok",
     "timestamp": 1635698658915,
     "user": {
      "displayName": "Phong DQ",
      "photoUrl": "https://lh3.googleusercontent.com/a/default-user=s64",
      "userId": "11600774587194441145"
     },
     "user_tz": -420
    },
    "id": "xApUx71E0Ppy"
   },
   "outputs": [],
   "source": [
    "import random\n",
    "\n",
    "def Generation(sizePop, dims):\n",
    "  greedy_size = int(sizePop*0.4)\n",
    "  pop = GreedyGeneration(greedy_size, dims) + GeneratorPopulaion(sizePop-greedy_size, dims)\n",
    "  random.shuffle(pop)\n",
    "  return pop"
   ]
  },
  {
   "cell_type": "code",
   "execution_count": 11,
   "metadata": {
    "executionInfo": {
     "elapsed": 9,
     "status": "ok",
     "timestamp": 1635696944671,
     "user": {
      "displayName": "Phong DQ",
      "photoUrl": "https://lh3.googleusercontent.com/a/default-user=s64",
      "userId": "11600774587194441145"
     },
     "user_tz": -420
    },
    "id": "DXj6Zn5fP6zn"
   },
   "outputs": [],
   "source": [
    "def chooseParents(pop):\n",
    "    n = len(pop)\n",
    "    index1 = np.random.randint(n)\n",
    "    index2 = np.random.randint(n)\n",
    "    while index1 == index2:\n",
    "        index2 = np.random.randint(n)\n",
    "    \n",
    "    index3 = np.random.randint(n)\n",
    "    index4 = np.random.randint(n)\n",
    "    while index3 == index4:\n",
    "        index4 = np.random.randint(n)\n",
    "    \n",
    "    if pop[index1][1] < pop[index2][1]:\n",
    "        p1 = pop[index1][0]\n",
    "    else:\n",
    "        p1 = pop[index2][0]\n",
    "    \n",
    "    if pop[index3][1] < pop[index4][1]:\n",
    "        p2 = pop[index3][0]\n",
    "    else:\n",
    "        p2 = pop[index4][0]\n",
    "    \n",
    "    return p1, p2"
   ]
  },
  {
   "cell_type": "code",
   "execution_count": 12,
   "metadata": {
    "executionInfo": {
     "elapsed": 316,
     "status": "ok",
     "timestamp": 1635698317999,
     "user": {
      "displayName": "Phong DQ",
      "photoUrl": "https://lh3.googleusercontent.com/a/default-user=s64",
      "userId": "11600774587194441145"
     },
     "user_tz": -420
    },
    "id": "JcBX0d-RP6zo"
   },
   "outputs": [],
   "source": [
    "def cross_pmx(p1, p2):\n",
    "    n = len(p1)\n",
    "    # min = int(n/4)\n",
    "    # max = int(n - n/4)\n",
    "\n",
    "    if n > 13:\n",
    "        cross = 20\n",
    "    else:\n",
    "        cross = 0\n",
    "    #if(np.random.random_sample() < 0.01): cross = 25\n",
    "    \n",
    "    index1 = np.random.randint(1, n-cross)\n",
    "    index2 = index1 + cross\n",
    "    #while index1 == index2:\n",
    "    #    index2 = np.random.randint(1, n-1)\n",
    "   \n",
    "    # if index1 > index2:\n",
    "    #     temp = index1\n",
    "    #     index1 = index2\n",
    "    #     index2 = temp\n",
    "\n",
    "    #print(index1, index2)\n",
    "\n",
    "    o1 = np.array(p2)\n",
    "    o2 = np.array(p1)\n",
    "\n",
    "    pos1 = np.full(n+1, -1, dtype=int)\n",
    "    pos2 = np.full(n+1, -1, dtype=int)\n",
    "    for i in range(index1, index2+1):\n",
    "        pos1[o1[i]] = i\n",
    "        pos2[o2[i]] = i\n",
    "        \n",
    "    for i in range(n):\n",
    "        if index1 <= i and i <= index2: continue\n",
    "\n",
    "        id1 = i\n",
    "        while True:\n",
    "            if pos1[p1[id1]] == -1:\n",
    "                o1[i] = p1[id1]\n",
    "                break\n",
    "            id1 = pos1[p1[id1]]\n",
    "        \n",
    "        id2 = i\n",
    "        while True:\n",
    "            if pos2[p2[id2]] == -1:\n",
    "                o2[i] = p2[id2]\n",
    "                break\n",
    "            id2 = pos2[p2[id2]]\n",
    "    \n",
    "    return o1, o2"
   ]
  },
  {
   "cell_type": "code",
   "execution_count": 13,
   "metadata": {
    "executionInfo": {
     "elapsed": 10,
     "status": "ok",
     "timestamp": 1635696944672,
     "user": {
      "displayName": "Phong DQ",
      "photoUrl": "https://lh3.googleusercontent.com/a/default-user=s64",
      "userId": "11600774587194441145"
     },
     "user_tz": -420
    },
    "id": "BSmWLZmNP6zp"
   },
   "outputs": [],
   "source": [
    "def mutation_swap(individual):\n",
    "    n = len(individual)\n",
    "    res = np.array(individual)\n",
    "\n",
    "    index1 = np.random.randint(n)\n",
    "    index2 = np.random.randint(n)\n",
    "    while index1 == index2:\n",
    "        index2 = np.random.randint(n)\n",
    "\n",
    "    temp = res[index1]\n",
    "    res[index1] = res[index2]\n",
    "    res[index2] = temp\n",
    "\n",
    "    return res"
   ]
  },
  {
   "cell_type": "code",
   "execution_count": 14,
   "metadata": {
    "executionInfo": {
     "elapsed": 9,
     "status": "ok",
     "timestamp": 1635696944672,
     "user": {
      "displayName": "Phong DQ",
      "photoUrl": "https://lh3.googleusercontent.com/a/default-user=s64",
      "userId": "11600774587194441145"
     },
     "user_tz": -420
    },
    "id": "2GMIsQvhP6zq"
   },
   "outputs": [],
   "source": [
    "def check_generated(individual):\n",
    "    hash_val = hash(individual.tobytes())\n",
    "    pre_size = len(mark)\n",
    "    mark.add(hash_val)\n",
    "    if(pre_size < len(mark)): return False\n",
    "    \n",
    "    return True"
   ]
  },
  {
   "cell_type": "code",
   "execution_count": 15,
   "metadata": {
    "executionInfo": {
     "elapsed": 335,
     "status": "ok",
     "timestamp": 1635697864401,
     "user": {
      "displayName": "Phong DQ",
      "photoUrl": "https://lh3.googleusercontent.com/a/default-user=s64",
      "userId": "11600774587194441145"
     },
     "user_tz": -420
    },
    "id": "m1ud-pcO-qRs"
   },
   "outputs": [],
   "source": [
    "def selection(pre_pop, offs_pop, rate_sel = 0.3):  \n",
    "    n = len(pre_pop)\n",
    "    n_p = int(n*rate_sel)\n",
    "    n_o = int(n*(0.5 - rate_sel))\n",
    "    pre_pop.sort(key=lambda tup: tup[1], reverse = False)\n",
    "    offs_pop.sort(key=lambda tup: tup[1], reverse = False)\n",
    "    pop = pre_pop[n_p:] + offs_pop[n_o:]\n",
    "    pop.sort(key=lambda tup: tup[1], reverse = False)\n",
    "    next_pop = pre_pop[0:n_p] + offs_pop[0:n_o] + pop[0:(n-n_p-n_o)]\n",
    "\n",
    "    return next_pop"
   ]
  },
  {
   "cell_type": "code",
   "execution_count": 16,
   "metadata": {
    "executionInfo": {
     "elapsed": 316,
     "status": "ok",
     "timestamp": 1635700066846,
     "user": {
      "displayName": "Phong DQ",
      "photoUrl": "https://lh3.googleusercontent.com/a/default-user=s64",
      "userId": "11600774587194441145"
     },
     "user_tz": -420
    },
    "id": "FnfCkWzsP6zq"
   },
   "outputs": [],
   "source": [
    "from copy import deepcopy\n",
    "#start_population = GeneratorPopulaion(size_pop, num_cities)\n",
    "def GA(size_pop, num_gens, Pc, Pm):\n",
    "    #population = GeneratorPopulaion(size_pop, num_cities)\n",
    "    population = Generation(size_pop, num_cities)\n",
    "    res = deepcopy(best_parents)\n",
    "    best_offs = (0, math.inf)\n",
    "    logg = []\n",
    "\n",
    "    t = 0\n",
    "    while t < num_gens:\n",
    "        offs_pop = []\n",
    "        while len(offs_pop) < size_pop:\n",
    "            p1, p2 = chooseParents(population)\n",
    "\n",
    "            rand = np.random.random_sample()\n",
    "            o1, o2 = [], []\n",
    "            if rand <= Pc:\n",
    "                o1, o2 = cross_pmx(p1, p2)\n",
    "                if check_generated(o1): o1 = mutation_swap(o1)\n",
    "                if check_generated(o2): o2 = mutation_swap(o2)\n",
    "            else:\n",
    "                o1 = mutation_swap(p1)\n",
    "                o2 = mutation_swap(p2)\n",
    "            if np.random.random_sample() < Pm:\n",
    "                o1 = mutation_swap(o1)\n",
    "                o2 = mutation_swap(o2)\n",
    "            if not check_generated(o1):\n",
    "            #if True:\n",
    "                f_o1 = Fitness(o1)\n",
    "                if(f_o1 < best_offs[1]): best_offs = (o1, f_o1)\n",
    "                offs_pop.append((o1, f_o1))\n",
    "            if not check_generated(o2):\n",
    "            #if True:\n",
    "                f_o2 = Fitness(o2)\n",
    "                if(f_o2 < best_offs[1]): best_offs = (o2, f_o2)\n",
    "                offs_pop.append((o2, f_o2))\n",
    "        \n",
    "        population = selection(population, offs_pop)\n",
    "        if res[1] > best_offs[1]: res = best_offs\n",
    "        logg.append([t, res])\n",
    "        t+= 1\n",
    "    \n",
    "    return logg"
   ]
  },
  {
   "cell_type": "code",
   "execution_count": 17,
   "metadata": {
    "executionInfo": {
     "elapsed": 12,
     "status": "ok",
     "timestamp": 1635696944675,
     "user": {
      "displayName": "Phong DQ",
      "photoUrl": "https://lh3.googleusercontent.com/a/default-user=s64",
      "userId": "11600774587194441145"
     },
     "user_tz": -420
    },
    "id": "66NNpg27P6zr"
   },
   "outputs": [],
   "source": [
    "def show(his):\n",
    "    input = np.array(his, dtype=object)\n",
    "    x = input[:, 0]\n",
    "    y = np.array(input[:, 1])\n",
    "    y = [i[1] for i in y]\n",
    "    plt.plot(x, y)\n",
    "    plt.title('GA')\n",
    "    plt.show()"
   ]
  },
  {
   "cell_type": "code",
   "execution_count": 18,
   "metadata": {
    "colab": {
     "base_uri": "https://localhost:8080/",
     "height": 334
    },
    "executionInfo": {
     "elapsed": 707,
     "status": "ok",
     "timestamp": 1635699280972,
     "user": {
      "displayName": "Phong DQ",
      "photoUrl": "https://lh3.googleusercontent.com/a/default-user=s64",
      "userId": "11600774587194441145"
     },
     "user_tz": -420
    },
    "id": "WSq1_6NHP6zr",
    "outputId": "dbe29073-f69a-4675-cd7d-6a2fcbd32af4"
   },
   "outputs": [
    {
     "data": {
      "image/png": "[encoded data removed]",
      "text/plain": [
       "<Figure size 432x288 with 1 Axes>"
      ]
     },
     "metadata": {
      "needs_background": "light"
     },
     "output_type": "display_data"
    },
    {
     "name": "stdout",
     "output_type": "stream",
     "text": [
      "(array([72, 61, 27, 63, 41, 42, 15, 50, 16, 75, 28,  4, 36, 70, 35, 46, 20,\n",
      "       73,  2, 43, 49, 31, 39, 11, 25, 33, 45, 51, 26, 56, 12, 53, 10, 37,\n",
      "        9, 38,  8, 71, 57,  3, 44, 29,  1, 32, 62, 22, 55, 40,  5, 67, 74,\n",
      "       66,  6,  7, 18, 34, 52, 13, 58, 65, 64, 30, 24, 54, 17, 23, 48, 47,\n",
      "       14, 19, 69, 59, 68, 60, 21]), 779.36451132881)\n"
     ]
    }
   ],
   "source": [
    "history = GA(40, 3000, 0.75, 0.1)\n",
    "show(history)\n",
    "print(history[-1][1])"
   ]
  }
 ],
 "metadata": {
  "interpreter": {
   "hash": "b0fdbd91fa1014f333c33329988a7a04d464deba86e034a82d46dbd46f2ee1d2"
  },
  "kernelspec": {
   "display_name": "Python 3",
   "language": "python",
   "name": "python3"
  },
  "language_info": {
   "codemirror_mode": {
    "name": "ipython",
    "version": 3
   },
   "file_extension": ".py",
   "mimetype": "text/x-python",
   "name": "python",
   "nbconvert_exporter": "python",
   "pygments_lexer": "ipython3",
   "version": "3.8.8"
  }
 },
 "nbformat": 4,
 "nbformat_minor": 2
}
