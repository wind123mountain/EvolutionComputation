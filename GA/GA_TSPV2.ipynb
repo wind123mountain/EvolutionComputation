{
 "cells": [
  {
   "cell_type": "code",
   "execution_count": 2,
   "metadata": {
    "executionInfo": {
     "elapsed": 404,
     "status": "ok",
     "timestamp": 1635696943768,
     "user": {
      "displayName": "Phong DQ",
      "photoUrl": "https://lh3.googleusercontent.com/a/default-user=s64",
      "userId": "11600774587194441145"
     },
     "user_tz": -420
    },
    "id": "idOmB1BhP6zf"
   },
   "outputs": [],
   "source": [
    "import numpy as np\n",
    "import matplotlib.pyplot as plt"
   ]
  },
  {
   "cell_type": "code",
   "execution_count": 3,
   "metadata": {
    "executionInfo": {
     "elapsed": 3,
     "status": "ok",
     "timestamp": 1635696944112,
     "user": {
      "displayName": "Phong DQ",
      "photoUrl": "https://lh3.googleusercontent.com/a/default-user=s64",
      "userId": "11600774587194441145"
     },
     "user_tz": -420
    },
    "id": "wPFpVToIP6zh"
   },
   "outputs": [],
   "source": [
    "def load_data(path = \"datasets/eil51.txt\"):\n",
    "    with open(path, 'r') as f:\n",
    "        inputData = f.readlines()\n",
    "    \n",
    "    N = int(inputData[0].strip())\n",
    "    node_list=[]\n",
    "    for node in inputData[1:]:\n",
    "        #del '\\n' \n",
    "        node = node.strip()\n",
    "        #split by ' '\n",
    "        node = node.split(' ')\n",
    "        node_list.append((int(node[1]), int(node[2])))\n",
    "\n",
    "    return node_list, N"
   ]
  },
  {
   "cell_type": "code",
   "execution_count": 4,
   "metadata": {
    "colab": {
     "base_uri": "https://localhost:8080/"
    },
    "executionInfo": {
     "elapsed": 559,
     "status": "ok",
     "timestamp": 1635696944668,
     "user": {
      "displayName": "Phong DQ",
      "photoUrl": "https://lh3.googleusercontent.com/a/default-user=s64",
      "userId": "11600774587194441145"
     },
     "user_tz": -420
    },
    "id": "pwxvT57wP6zi",
    "outputId": "79867ce8-f49b-4d0f-c0d3-4e91bc7e4b5a"
   },
   "outputs": [
    {
     "name": "stdout",
     "output_type": "stream",
     "text": [
      "[(37, 52), (49, 49), (52, 64), (20, 26), (40, 30), (21, 47), (17, 63), (31, 62), (52, 33), (51, 21), (42, 41), (31, 32), (5, 25), (12, 42), (36, 16), (52, 41), (27, 23), (17, 33), (13, 13), (57, 58), (62, 42), (42, 57), (16, 57), (8, 52), (7, 38), (27, 68), (30, 48), (43, 67), (58, 48), (58, 27), (37, 69), (38, 46), (46, 10), (61, 33), (62, 63), (63, 69), (32, 22), (45, 35), (59, 15), (5, 6), (10, 17), (21, 10), (5, 64), (30, 15), (39, 10), (32, 39), (25, 32), (25, 55), (48, 28), (56, 37), (30, 40)]\n",
      "51\n"
     ]
    }
   ],
   "source": [
    "node_list, num_cities = load_data()\n",
    "print(node_list)\n",
    "print(num_cities)"
   ]
  },
  {
   "cell_type": "code",
   "execution_count": 5,
   "metadata": {
    "executionInfo": {
     "elapsed": 13,
     "status": "ok",
     "timestamp": 1635696944669,
     "user": {
      "displayName": "Phong DQ",
      "photoUrl": "https://lh3.googleusercontent.com/a/default-user=s64",
      "userId": "11600774587194441145"
     },
     "user_tz": -420
    },
    "id": "Q2tyAUlzP6zj"
   },
   "outputs": [],
   "source": [
    "def DistanceMatrix(cities, n):\n",
    "    dis_matrix = np.zeros([n,n])\n",
    "    min_dis = np.full((n, 2), np.inf)\n",
    "    adv0 = []\n",
    "    for i in range(n):\n",
    "        for j in range(i+1, n):\n",
    "            a = np.array(cities[i])\n",
    "            b = np.array(cities[j])\n",
    "            c = a - b\n",
    "            dis_matrix[i, j] = np.sqrt(np.sum(c*c))\n",
    "            if dis_matrix[i, j] < min_dis[i, 1]:\n",
    "              min_dis[i, 0] = j\n",
    "              min_dis[i, 1] = dis_matrix[i, j]\n",
    "            dis_matrix[j, i] = dis_matrix[i, j]\n",
    "            if dis_matrix[j, i] < min_dis[j, 1] and i != 0:\n",
    "              min_dis[j, 0] = i\n",
    "              min_dis[j, 1] = dis_matrix[i, j]\n",
    "            if i == 0: adv0.append((dis_matrix[i, j], j))\n",
    "    \n",
    "    adv0.sort(key=lambda tup: tup[0], reverse = False)\n",
    "\n",
    "    return dis_matrix, min_dis, adv0"
   ]
  },
  {
   "cell_type": "code",
   "execution_count": 6,
   "metadata": {
    "colab": {
     "base_uri": "https://localhost:8080/"
    },
    "executionInfo": {
     "elapsed": 13,
     "status": "ok",
     "timestamp": 1635696944670,
     "user": {
      "displayName": "Phong DQ",
      "photoUrl": "https://lh3.googleusercontent.com/a/default-user=s64",
      "userId": "11600774587194441145"
     },
     "user_tz": -420
    },
    "id": "CJ2177bZP6zk",
    "outputId": "81dc9f98-0085-4cef-cf2d-37e0e8ea6e67"
   },
   "outputs": [
    {
     "name": "stdout",
     "output_type": "stream",
     "text": [
      "[(6.082762530298219, 31), (7.0710678118654755, 21), (8.06225774829855, 26), (11.661903789690601, 7), (12.083045973594572, 10), (12.36931687685298, 1), (12.36931687685298, 47), (13.892443989449804, 50), (13.92838827718412, 45), (16.15549442140351, 27), (16.76305461424021, 5), (17.0, 30), (18.601075237738275, 15), (18.788294228055936, 37), (18.867962264113206, 25), (19.209372712298546, 2), (20.8806130178211, 11), (20.8806130178211, 19), (21.37755832643195, 28), (21.587033144922902, 22), (22.20360331117452, 4), (22.825424421026653, 6), (23.323807579381203, 46), (24.20743687382041, 8), (24.20743687382041, 49), (26.40075756488817, 48), (26.92582403567252, 13), (26.92582403567252, 20), (27.313000567495326, 34), (27.586228448267445, 17), (29.0, 23), (30.4138126514911, 36), (30.610455730027933, 33), (30.675723300355934, 16), (31.064449134018133, 3), (31.064449134018133, 35), (32.64965543462902, 29), (33.1058907144937, 24), (34.0147027033899, 9), (34.17601498127012, 42), (36.013886210738214, 14), (37.656340767525464, 43), (41.86884283091664, 12), (42.04759208325728, 44), (42.95346318982906, 32), (43.04648650006177, 38), (44.204072210600685, 40), (44.94441010848846, 41), (45.79301256742124, 18), (56.0357029044876, 39)]\n"
     ]
    }
   ],
   "source": [
    "dis_matrix, min_dis, adv0 = DistanceMatrix(node_list, num_cities)\n",
    "\n",
    "#set print full and one line\n",
    "#np.set_printoptions(threshold=np.inf, linewidth=np.inf)\n",
    "dis_matrix\n",
    "print(adv0)"
   ]
  },
  {
   "cell_type": "code",
   "execution_count": 7,
   "metadata": {
    "executionInfo": {
     "elapsed": 11,
     "status": "ok",
     "timestamp": 1635696944670,
     "user": {
      "displayName": "Phong DQ",
      "photoUrl": "https://lh3.googleusercontent.com/a/default-user=s64",
      "userId": "11600774587194441145"
     },
     "user_tz": -420
    },
    "id": "zPsvDcgpP6zk"
   },
   "outputs": [],
   "source": [
    "import math\n",
    "\n",
    "size_pop = 500\n",
    "Pc = 0.8\n",
    "Pm = 0.1\n",
    "dims = num_cities - 1 #start from 0\n",
    "#set of individuals generated\n",
    "mark = set()\n",
    "best_parents = (0, math.inf)"
   ]
  },
  {
   "cell_type": "code",
   "execution_count": 8,
   "metadata": {
    "executionInfo": {
     "elapsed": 11,
     "status": "ok",
     "timestamp": 1635696944670,
     "user": {
      "displayName": "Phong DQ",
      "photoUrl": "https://lh3.googleusercontent.com/a/default-user=s64",
      "userId": "11600774587194441145"
     },
     "user_tz": -420
    },
    "id": "8Bio3xv3P6zl"
   },
   "outputs": [],
   "source": [
    "def Fitness(indiv):\n",
    "    cost = dis_matrix[0, indiv[0]]\n",
    "    for i in range(dims - 1):\n",
    "        cost += dis_matrix[indiv[i], indiv[i+1]]\n",
    "    cost += dis_matrix[indiv[dims-1], 0]\n",
    "\n",
    "    return cost"
   ]
  },
  {
   "cell_type": "code",
   "execution_count": 9,
   "metadata": {
    "executionInfo": {
     "elapsed": 11,
     "status": "ok",
     "timestamp": 1635696944670,
     "user": {
      "displayName": "Phong DQ",
      "photoUrl": "https://lh3.googleusercontent.com/a/default-user=s64",
      "userId": "11600774587194441145"
     },
     "user_tz": -420
    },
    "id": "gB03A7uWP6zm"
   },
   "outputs": [],
   "source": [
    "def GeneratorPopulaion(sizePop, dims):\n",
    "    Populaion = []\n",
    "    for i in range(sizePop):\n",
    "        pi = np.random.permutation(range(1, dims))\n",
    "        f_pi = Fitness(pi)\n",
    "        global best_parents\n",
    "        if f_pi < best_parents[1]: \n",
    "            best_parents = (pi, f_pi)\n",
    "        mark.add(hash(pi.tobytes()))\n",
    "        Populaion.append((pi, f_pi))\n",
    "\n",
    "    return Populaion"
   ]
  },
  {
   "cell_type": "code",
   "execution_count": 10,
   "metadata": {
    "executionInfo": {
     "elapsed": 9,
     "status": "ok",
     "timestamp": 1635696944671,
     "user": {
      "displayName": "Phong DQ",
      "photoUrl": "https://lh3.googleusercontent.com/a/default-user=s64",
      "userId": "11600774587194441145"
     },
     "user_tz": -420
    },
    "id": "KKVs6qF_nmrQ"
   },
   "outputs": [],
   "source": [
    "def GreedyGeneration(sizePop, dims):\n",
    "  Populaion = []\n",
    "  n = dims-1\n",
    "  i = 0\n",
    "\n",
    "  while i < sizePop:\n",
    "    st = adv0[i][1]\n",
    "    indiv = [st]\n",
    "    while len(indiv) < n:\n",
    "      if(np.random.random_sample() < 0.2): \n",
    "        temp = np.random.randint(1, dims)\n",
    "        if temp not in indiv:\n",
    "          indiv.append(temp)\n",
    "      elif int(min_dis[indiv[-1], 0]) not in indiv:\n",
    "        indiv.append(int(min_dis[indiv[-1], 0]))\n",
    "    \n",
    "    indiv = np.array(indiv)\n",
    "    f_indiv = Fitness(indiv)\n",
    "\n",
    "    global best_parents\n",
    "    if f_indiv < best_parents[1]: \n",
    "      best_parents = (indiv, f_indiv)\n",
    "    mark.add(hash(indiv.tobytes()))\n",
    "\n",
    "    Populaion.append((indiv, f_indiv))\n",
    "\n",
    "    i += 1\n",
    "\n",
    "  return Populaion"
   ]
  },
  {
   "cell_type": "code",
   "execution_count": 11,
   "metadata": {
    "executionInfo": {
     "elapsed": 484,
     "status": "ok",
     "timestamp": 1635698658915,
     "user": {
      "displayName": "Phong DQ",
      "photoUrl": "https://lh3.googleusercontent.com/a/default-user=s64",
      "userId": "11600774587194441145"
     },
     "user_tz": -420
    },
    "id": "xApUx71E0Ppy"
   },
   "outputs": [],
   "source": [
    "import random\n",
    "\n",
    "def Generation(sizePop, dims):\n",
    "  greedy_size = int(sizePop*0.4)\n",
    "  pop = GreedyGeneration(greedy_size, dims) + GeneratorPopulaion(sizePop-greedy_size, dims)\n",
    "  random.shuffle(pop)\n",
    "  return pop"
   ]
  },
  {
   "cell_type": "code",
   "execution_count": 12,
   "metadata": {
    "executionInfo": {
     "elapsed": 9,
     "status": "ok",
     "timestamp": 1635696944671,
     "user": {
      "displayName": "Phong DQ",
      "photoUrl": "https://lh3.googleusercontent.com/a/default-user=s64",
      "userId": "11600774587194441145"
     },
     "user_tz": -420
    },
    "id": "DXj6Zn5fP6zn"
   },
   "outputs": [],
   "source": [
    "def chooseParents(pop):\n",
    "    n = len(pop)\n",
    "    index1 = np.random.randint(n)\n",
    "    while True:\n",
    "        index2 = np.random.randint(n)\n",
    "        if index1 == index2: break\n",
    "    index3 = np.random.randint(n)\n",
    "    while True:\n",
    "        index4 = np.random.randint(n)\n",
    "        if index3 == index4: break\n",
    "    \n",
    "    if pop[index1][1] < pop[index2][1]:\n",
    "        p1 = pop[index1][0]\n",
    "    else:\n",
    "        p1 = pop[index2][0]\n",
    "    \n",
    "    if pop[index3][1] < pop[index4][1]:\n",
    "        p2 = pop[index3][0]\n",
    "    else:\n",
    "        p2 = pop[index4][0]\n",
    "    \n",
    "    return p1, p2"
   ]
  },
  {
   "cell_type": "code",
   "execution_count": 13,
   "metadata": {
    "executionInfo": {
     "elapsed": 316,
     "status": "ok",
     "timestamp": 1635698317999,
     "user": {
      "displayName": "Phong DQ",
      "photoUrl": "https://lh3.googleusercontent.com/a/default-user=s64",
      "userId": "11600774587194441145"
     },
     "user_tz": -420
    },
    "id": "JcBX0d-RP6zo"
   },
   "outputs": [],
   "source": [
    "def cross_pmx(p1, p2):\n",
    "    n = len(p1)\n",
    "    # min = int(n/4)\n",
    "    # max = int(n - n/4)\n",
    "\n",
    "    if n > 13:\n",
    "        cross = 10\n",
    "    else:\n",
    "        cross = 0\n",
    "    #if(np.random.random_sample() < 0.01): cross = 25\n",
    "    \n",
    "    index1 = np.random.randint(1, n-cross)\n",
    "    index2 = index1 + cross\n",
    "    #while index1 == index2:\n",
    "    #    index2 = np.random.randint(1, n-1)\n",
    "   \n",
    "    # if index1 > index2:\n",
    "    #     temp = index1\n",
    "    #     index1 = index2\n",
    "    #     index2 = temp\n",
    "\n",
    "    #print(index1, index2)\n",
    "\n",
    "    o1 = np.array(p2)\n",
    "    o2 = np.array(p1)\n",
    "\n",
    "    pos1 = np.full(n+1, -1, dtype=int)\n",
    "    pos2 = np.full(n+1, -1, dtype=int)\n",
    "    for i in range(index1, index2+1):\n",
    "        pos1[o1[i]] = i\n",
    "        pos2[o2[i]] = i\n",
    "        \n",
    "    for i in range(n):\n",
    "        if index1 <= i and i <= index2: continue\n",
    "\n",
    "        id1 = i\n",
    "        while True:\n",
    "            if pos1[p1[id1]] == -1:\n",
    "                o1[i] = p1[id1]\n",
    "                break\n",
    "            id1 = pos1[p1[id1]]\n",
    "        \n",
    "        id2 = i\n",
    "        while True:\n",
    "            if pos2[p2[id2]] == -1:\n",
    "                o2[i] = p2[id2]\n",
    "                break\n",
    "            id2 = pos2[p2[id2]]\n",
    "    \n",
    "    return o1, o2"
   ]
  },
  {
   "cell_type": "code",
   "execution_count": 14,
   "metadata": {
    "executionInfo": {
     "elapsed": 10,
     "status": "ok",
     "timestamp": 1635696944672,
     "user": {
      "displayName": "Phong DQ",
      "photoUrl": "https://lh3.googleusercontent.com/a/default-user=s64",
      "userId": "11600774587194441145"
     },
     "user_tz": -420
    },
    "id": "BSmWLZmNP6zp"
   },
   "outputs": [],
   "source": [
    "def mutation_swap(individual):\n",
    "    n = len(individual)\n",
    "    res = np.array(individual)\n",
    "\n",
    "    index1 = np.random.randint(n)\n",
    "    index2 = np.random.randint(n)\n",
    "    while index1 == index2:\n",
    "        index2 = np.random.randint(n)\n",
    "\n",
    "    temp = res[index1]\n",
    "    res[index1] = res[index2]\n",
    "    res[index2] = temp\n",
    "\n",
    "    return res"
   ]
  },
  {
   "cell_type": "code",
   "execution_count": 15,
   "metadata": {
    "executionInfo": {
     "elapsed": 9,
     "status": "ok",
     "timestamp": 1635696944672,
     "user": {
      "displayName": "Phong DQ",
      "photoUrl": "https://lh3.googleusercontent.com/a/default-user=s64",
      "userId": "11600774587194441145"
     },
     "user_tz": -420
    },
    "id": "2GMIsQvhP6zq"
   },
   "outputs": [],
   "source": [
    "def check_generated(individual):\n",
    "    hash_val = hash(individual.tobytes())\n",
    "    pre_size = len(mark)\n",
    "    mark.add(hash_val)\n",
    "    if(pre_size < len(mark)): return False\n",
    "    \n",
    "    return True"
   ]
  },
  {
   "cell_type": "code",
   "execution_count": 16,
   "metadata": {
    "executionInfo": {
     "elapsed": 335,
     "status": "ok",
     "timestamp": 1635697864401,
     "user": {
      "displayName": "Phong DQ",
      "photoUrl": "https://lh3.googleusercontent.com/a/default-user=s64",
      "userId": "11600774587194441145"
     },
     "user_tz": -420
    },
    "id": "m1ud-pcO-qRs"
   },
   "outputs": [],
   "source": [
    "import random\n",
    "\n",
    "def selection(pre_pop, offs_pop, rate_sel = 0.2):  \n",
    "    n = len(pre_pop)\n",
    "    n_p = int(n*rate_sel)\n",
    "    n_o = int(n*(0.5 - rate_sel))\n",
    "    pre_pop.sort(key=lambda tup: tup[1], reverse = False)\n",
    "    offs_pop.sort(key=lambda tup: tup[1], reverse = False)\n",
    "    pop = pre_pop[n_p:] + offs_pop[n_o:]\n",
    "    pop.sort(key=lambda tup: tup[1], reverse = False)\n",
    "    next_pop = pre_pop[0:n_p] + offs_pop[0:n_o] + pop[0:(n-n_p-n_o)]\n",
    "    random.shuffle(next_pop)\n",
    "    return next_pop"
   ]
  },
  {
   "cell_type": "code",
   "execution_count": 17,
   "metadata": {
    "executionInfo": {
     "elapsed": 316,
     "status": "ok",
     "timestamp": 1635700066846,
     "user": {
      "displayName": "Phong DQ",
      "photoUrl": "https://lh3.googleusercontent.com/a/default-user=s64",
      "userId": "11600774587194441145"
     },
     "user_tz": -420
    },
    "id": "FnfCkWzsP6zq"
   },
   "outputs": [],
   "source": [
    "from copy import deepcopy\n",
    "#start_population = GeneratorPopulaion(size_pop, num_cities)\n",
    "def GA(size_pop, num_gens, Pc, Pm):\n",
    "    #population = GeneratorPopulaion(size_pop, num_cities)\n",
    "    population = Generation(size_pop, num_cities)\n",
    "    res = deepcopy(best_parents)\n",
    "    best_offs = (0, math.inf)\n",
    "    logg = []\n",
    "\n",
    "    t = 0\n",
    "    while t < num_gens:\n",
    "        offs_pop = []\n",
    "        while len(offs_pop) < size_pop:\n",
    "            p1, p2 = chooseParents(population)\n",
    "\n",
    "            rand = np.random.random_sample()\n",
    "            o1, o2 = [], []\n",
    "            if rand <= Pc:\n",
    "                o1, o2 = cross_pmx(p1, p2)\n",
    "                if check_generated(o1): o1 = mutation_swap(o1)\n",
    "                if check_generated(o2): o2 = mutation_swap(o2)\n",
    "            else:\n",
    "                o1 = mutation_swap(p1)\n",
    "                o2 = mutation_swap(p2)\n",
    "            if np.random.random_sample() < Pm:\n",
    "                o1 = mutation_swap(o1)\n",
    "                o2 = mutation_swap(o2)\n",
    "            if not check_generated(o1):\n",
    "            #if True:\n",
    "                f_o1 = Fitness(o1)\n",
    "                if(f_o1 < best_offs[1]): best_offs = (o1, f_o1)\n",
    "                offs_pop.append((o1, f_o1))\n",
    "            if not check_generated(o2):\n",
    "            #if True:\n",
    "                f_o2 = Fitness(o2)\n",
    "                if(f_o2 < best_offs[1]): best_offs = (o2, f_o2)\n",
    "                offs_pop.append((o2, f_o2))\n",
    "        \n",
    "        population = selection(population, offs_pop)\n",
    "        if res[1] > best_offs[1]: res = best_offs\n",
    "        logg.append([t, res])\n",
    "        t+= 1\n",
    "    \n",
    "    return logg"
   ]
  },
  {
   "cell_type": "code",
   "execution_count": 18,
   "metadata": {
    "executionInfo": {
     "elapsed": 12,
     "status": "ok",
     "timestamp": 1635696944675,
     "user": {
      "displayName": "Phong DQ",
      "photoUrl": "https://lh3.googleusercontent.com/a/default-user=s64",
      "userId": "11600774587194441145"
     },
     "user_tz": -420
    },
    "id": "66NNpg27P6zr"
   },
   "outputs": [],
   "source": [
    "def show(his):\n",
    "    input = np.array(his, dtype=object)\n",
    "    x = input[:, 0]\n",
    "    y = np.array(input[:, 1])\n",
    "    y = [i[1] for i in y]\n",
    "    plt.plot(x, y)\n",
    "    plt.title('GA')\n",
    "    plt.show()"
   ]
  },
  {
   "cell_type": "code",
   "execution_count": 19,
   "metadata": {
    "colab": {
     "base_uri": "https://localhost:8080/",
     "height": 334
    },
    "executionInfo": {
     "elapsed": 707,
     "status": "ok",
     "timestamp": 1635699280972,
     "user": {
      "displayName": "Phong DQ",
      "photoUrl": "https://lh3.googleusercontent.com/a/default-user=s64",
      "userId": "11600774587194441145"
     },
     "user_tz": -420
    },
    "id": "WSq1_6NHP6zr",
    "outputId": "dbe29073-f69a-4675-cd7d-6a2fcbd32af4"
   },
   "outputs": [
    {
     "data": {
      "image/png": "[encoded data removed]",
      "text/plain": [
       "<Figure size 432x288 with 1 Axes>"
      ]
     },
     "metadata": {
      "needs_background": "light"
     },
     "output_type": "display_data"
    },
    {
     "name": "stdout",
     "output_type": "stream",
     "text": [
      "(array([10, 37,  8, 49, 33, 29, 48,  4, 50, 47,  7, 25, 30, 27,  2, 35, 34,\n",
      "       19, 21, 31, 45, 11, 46, 17, 24, 12, 40, 18, 39, 41, 43,  9, 38, 32,\n",
      "       44, 14, 36, 16,  3, 13, 23, 42,  6, 22,  5, 26, 15, 20, 28,  1]), 514.45783491996)\n"
     ]
    }
   ],
   "source": [
    "history = GA(100, 5000, 0.75, 0.01)\n",
    "show(history)\n",
    "print(history[-1][1])"
   ]
  }
 ],
 "metadata": {
  "interpreter": {
   "hash": "b0fdbd91fa1014f333c33329988a7a04d464deba86e034a82d46dbd46f2ee1d2"
  },
  "kernelspec": {
   "display_name": "Python 3.8.8 64-bit ('base': conda)",
   "name": "python3"
  },
  "language_info": {
   "codemirror_mode": {
    "name": "ipython",
    "version": 3
   },
   "file_extension": ".py",
   "mimetype": "text/x-python",
   "name": "python",
   "nbconvert_exporter": "python",
   "pygments_lexer": "ipython3",
   "version": "3.8.8"
  },
  "orig_nbformat": 4
 },
 "nbformat": 4,
 "nbformat_minor": 2
}
