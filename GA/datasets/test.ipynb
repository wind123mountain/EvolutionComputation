{
 "cells": [
  {
   "cell_type": "code",
   "execution_count": 2,
   "metadata": {},
   "outputs": [
    {
     "name": "stdout",
     "output_type": "stream",
     "text": [
      "[3, 4, 8]\n"
     ]
    }
   ],
   "source": [
    "a = [3, 4, 5]\n",
    "b = (a, 9)\n",
    "b[0][2] = 8\n",
    "print(a)"
   ]
  },
  {
   "cell_type": "code",
   "execution_count": 4,
   "metadata": {},
   "outputs": [],
   "source": [
    "import numpy as np\n",
    "\n",
    "def Fitness(indiv):\n",
    "    return np.random.randint(100)"
   ]
  },
  {
   "cell_type": "code",
   "execution_count": 5,
   "metadata": {},
   "outputs": [],
   "source": [
    "def GeneratorPopulaion(sizePop, dims):\n",
    "    Populaion = []\n",
    "    for i in range(sizePop):\n",
    "        pi = np.random.permutation(range(1, dims))\n",
    "        f_pi = Fitness(pi)\n",
    "        Populaion.append((pi, f_pi))\n",
    "\n",
    "    return Populaion"
   ]
  },
  {
   "cell_type": "code",
   "execution_count": 6,
   "metadata": {},
   "outputs": [
    {
     "data": {
      "text/plain": [
       "[(array([3, 1, 8, 7, 2, 6, 5, 4, 9]), 24),\n",
       " (array([3, 1, 6, 5, 7, 8, 9, 2, 4]), 28),\n",
       " (array([4, 5, 8, 1, 7, 2, 6, 3, 9]), 29),\n",
       " (array([1, 3, 9, 8, 4, 6, 7, 5, 2]), 38),\n",
       " (array([5, 6, 8, 2, 9, 3, 1, 4, 7]), 56),\n",
       " (array([9, 1, 2, 4, 5, 8, 6, 7, 3]), 56),\n",
       " (array([3, 2, 8, 7, 5, 9, 1, 6, 4]), 67),\n",
       " (array([7, 4, 8, 2, 5, 9, 3, 6, 1]), 68),\n",
       " (array([6, 9, 8, 2, 3, 5, 7, 4, 1]), 75),\n",
       " (array([6, 3, 7, 4, 1, 8, 2, 5, 9]), 96)]"
      ]
     },
     "execution_count": 6,
     "metadata": {},
     "output_type": "execute_result"
    }
   ],
   "source": [
    "pop = GeneratorPopulaion(10, 10)\n",
    "pop.sort(key=lambda tup: tup[1], reverse = False)\n",
    "pop"
   ]
  }
 ],
 "metadata": {
  "interpreter": {
   "hash": "b0fdbd91fa1014f333c33329988a7a04d464deba86e034a82d46dbd46f2ee1d2"
  },
  "kernelspec": {
   "display_name": "Python 3.8.8 64-bit ('base': conda)",
   "name": "python3"
  },
  "language_info": {
   "codemirror_mode": {
    "name": "ipython",
    "version": 3
   },
   "file_extension": ".py",
   "mimetype": "text/x-python",
   "name": "python",
   "nbconvert_exporter": "python",
   "pygments_lexer": "ipython3",
   "version": "3.8.8"
  },
  "orig_nbformat": 4
 },
 "nbformat": 4,
 "nbformat_minor": 2
}
