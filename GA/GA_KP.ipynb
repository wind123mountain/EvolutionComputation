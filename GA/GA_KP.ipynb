{
 "cells": [
  {
   "cell_type": "code",
   "execution_count": 60,
   "metadata": {},
   "outputs": [],
   "source": [
    "import numpy as np\n",
    "import matplotlib.pyplot as plt"
   ]
  },
  {
   "cell_type": "code",
   "execution_count": 84,
   "metadata": {},
   "outputs": [],
   "source": [
    "def load_data(path = \"datasets/KP24.txt\"):\n",
    "    with open(path, 'r') as f:\n",
    "        inputData = f.readlines()\n",
    "    \n",
    "    Capacity = int(inputData[0].strip())\n",
    "    N = int(inputData[1].strip())\n",
    "    item_list=[]\n",
    "    for item in inputData[2:]:\n",
    "        #del '\\n' \n",
    "        item = item.strip()\n",
    "        #split by ' '\n",
    "        item = item.split(' ')\n",
    "        #(p, w)\n",
    "        item_list.append((int(item[0]), int(item[1])))\n",
    "\n",
    "    return Capacity, N, item_list"
   ]
  },
  {
   "cell_type": "code",
   "execution_count": 85,
   "metadata": {},
   "outputs": [
    {
     "name": "stdout",
     "output_type": "stream",
     "text": [
      "6404180\n",
      "24\n",
      "[(825594, 382745), (1677009, 799601), (1676628, 909247), (1523970, 729069), (943972, 467902), (97426, 44328), (69666, 34610), (1296457, 698150), (1679693, 823460), (1902996, 903959), (1844992, 853665), (1049289, 551830), (1252836, 610856), (1319836, 670702), (953277, 488960), (2067538, 951111), (675367, 323046), (853655, 446298), (1826027, 931161), (65731, 31385), (901489, 496951), (577243, 264724), (466257, 224916), (369261, 169684)]\n"
     ]
    }
   ],
   "source": [
    "Capacity, N, item_list = load_data()\n",
    "print(Capacity)\n",
    "print(N)\n",
    "print(item_list)"
   ]
  },
  {
   "cell_type": "code",
   "execution_count": 63,
   "metadata": {},
   "outputs": [],
   "source": [
    "def Fitness_check(indiv, n = N):\n",
    "    cost = 0\n",
    "    weight_total = 0\n",
    "\n",
    "    for i in range(n):\n",
    "        cost += indiv[i]*item_list[i][0]\n",
    "        weight_total += indiv[i]*item_list[i][1]\n",
    "\n",
    "    res = cost    \n",
    "    if(weight_total > Capacity):\n",
    "        res -= 50*(weight_total - Capacity)\n",
    "    return res"
   ]
  },
  {
   "cell_type": "code",
   "execution_count": 64,
   "metadata": {},
   "outputs": [],
   "source": [
    "mark = set()\n",
    "\n",
    "def check_generated(individual):\n",
    "    hash_val = hash(individual.tobytes())\n",
    "    pre_size = len(mark)\n",
    "    mark.add(hash_val)\n",
    "    if(pre_size < len(mark)): return False\n",
    "    \n",
    "    return True"
   ]
  },
  {
   "cell_type": "code",
   "execution_count": 65,
   "metadata": {},
   "outputs": [],
   "source": [
    "def GeneratorIndivV2(dims=N):\n",
    "    indiv = []\n",
    "    w = 0\n",
    "    cost = 0\n",
    "    n = 0\n",
    "    rate = 0.1\n",
    "    while n < dims:\n",
    "        if(np.random.random_sample() < rate): indiv.append(1)\n",
    "        else: indiv.append(0)\n",
    "        n += 1\n",
    "    indiv = np.array(indiv)\n",
    "    cost= Fitness_check(indiv, dims)\n",
    "\n",
    "    return indiv, cost"
   ]
  },
  {
   "cell_type": "code",
   "execution_count": 66,
   "metadata": {},
   "outputs": [],
   "source": [
    "def GeneratorIndiv(dims=N):\n",
    "    indiv = []\n",
    "    w = 0\n",
    "    cost = 0\n",
    "    n = 0\n",
    "    while n < dims:\n",
    "        i = np.random.randint(2)\n",
    "        w += i*item_list[n][1]\n",
    "        if(w > Capacity): indiv.append(0)\n",
    "        else: indiv.append(i)\n",
    "        n += 1\n",
    "    indiv = np.array(indiv)\n",
    "    cost= Fitness_check(indiv, dims)\n",
    "\n",
    "    return indiv, cost"
   ]
  },
  {
   "cell_type": "code",
   "execution_count": 67,
   "metadata": {},
   "outputs": [
    {
     "data": {
      "text/plain": [
       "(array([0, 1, 1, 1, 1, 1, 1, 0, 0, 1, 1, 0, 1, 1, 0, 0, 0, 0, 0, 0, 0, 0,\n",
       "        0, 0]),\n",
       " 12309331)"
      ]
     },
     "execution_count": 67,
     "metadata": {},
     "output_type": "execute_result"
    }
   ],
   "source": [
    "GeneratorIndiv()"
   ]
  },
  {
   "cell_type": "code",
   "execution_count": 68,
   "metadata": {},
   "outputs": [],
   "source": [
    "import math\n",
    "\n",
    "best_parents = (0, 0)\n",
    "\n",
    "def GeneratorPopulaion(sizePop, dims):\n",
    "    Populaion = []\n",
    "    for i in range(sizePop):\n",
    "        pi, f_pi = GeneratorIndiv(dims)\n",
    "        global best_parents\n",
    "        if f_pi > best_parents[1]: \n",
    "            best_parents = (pi, f_pi)\n",
    "        mark.add(hash(pi.tobytes()))\n",
    "        Populaion.append((pi, f_pi))\n",
    "\n",
    "    return Populaion"
   ]
  },
  {
   "cell_type": "code",
   "execution_count": 69,
   "metadata": {},
   "outputs": [],
   "source": [
    "import random\n",
    "\n",
    "def GeneratorPopulaionV2(sizePop, dims):\n",
    "    Populaion = []\n",
    "    for i in range(int(sizePop/2)):\n",
    "        pi1, f_pi1 = GeneratorIndiv(dims)\n",
    "        pi2, f_pi2 = GeneratorIndivV2(dims)\n",
    "        global best_parents\n",
    "        if f_pi1 > best_parents[1]: \n",
    "            best_parents = (pi1, f_pi1)\n",
    "        mark.add(hash(pi1.tobytes()))\n",
    "        Populaion.append((pi1, f_pi1))\n",
    "        if f_pi2 > best_parents[1]: \n",
    "            best_parents = (pi2, f_pi2)\n",
    "        mark.add(hash(pi2.tobytes()))\n",
    "        Populaion.append((pi2, f_pi2))\n",
    "    \n",
    "    random.shuffle(Populaion)\n",
    "\n",
    "    return Populaion"
   ]
  },
  {
   "cell_type": "code",
   "execution_count": 70,
   "metadata": {},
   "outputs": [
    {
     "data": {
      "text/plain": [
       "[(array([0, 0, 1, 0, 0, 0, 0, 0, 1, 0, 1, 1, 0, 1, 1, 0, 1, 0, 0, 0, 1, 0,\n",
       "         1, 0]),\n",
       "  10566828),\n",
       " (array([0, 1, 1, 0, 0, 0, 0, 0, 0, 1, 0, 1, 0, 0, 0, 0, 1, 0, 0, 1, 1, 1,\n",
       "         0, 1]),\n",
       "  8895013),\n",
       " (array([1, 0, 0, 1, 0, 0, 0, 0, 0, 1, 0, 0, 0, 0, 0, 1, 0, 0, 0, 0, 0, 0,\n",
       "         0, 0]),\n",
       "  6320098),\n",
       " (array([0, 0, 0, 0, 0, 0, 0, 0, 0, 0, 0, 0, 0, 0, 0, 0, 0, 0, 0, 0, 0, 0,\n",
       "         0, 0]),\n",
       "  0),\n",
       " (array([1, 0, 1, 1, 0, 1, 1, 1, 0, 0, 0, 0, 1, 0, 0, 0, 0, 1, 1, 0, 0, 0,\n",
       "         0, 0]),\n",
       "  9422259),\n",
       " (array([0, 0, 0, 0, 0, 1, 0, 0, 1, 1, 1, 0, 0, 1, 1, 1, 1, 1, 0, 0, 0, 0,\n",
       "         0, 0]),\n",
       "  11394780),\n",
       " (array([0, 0, 0, 0, 0, 0, 0, 0, 0, 0, 0, 0, 1, 1, 1, 0, 0, 0, 0, 0, 0, 0,\n",
       "         1, 0]),\n",
       "  3992206),\n",
       " (array([0, 0, 0, 0, 0, 0, 0, 0, 0, 0, 0, 0, 0, 0, 1, 0, 0, 0, 0, 0, 0, 0,\n",
       "         0, 0]),\n",
       "  953277),\n",
       " (array([1, 1, 1, 1, 1, 0, 0, 1, 1, 0, 1, 0, 0, 1, 0, 0, 0, 0, 0, 0, 0, 0,\n",
       "         0, 0]),\n",
       "  12788151),\n",
       " (array([0, 1, 0, 0, 0, 0, 0, 0, 0, 1, 0, 0, 0, 0, 0, 0, 0, 0, 0, 0, 0, 0,\n",
       "         1, 0]),\n",
       "  4046262)]"
      ]
     },
     "execution_count": 70,
     "metadata": {},
     "output_type": "execute_result"
    }
   ],
   "source": [
    "GeneratorPopulaionV2(10, N)"
   ]
  },
  {
   "cell_type": "code",
   "execution_count": 71,
   "metadata": {
    "executionInfo": {
     "elapsed": 9,
     "status": "ok",
     "timestamp": 1635696944671,
     "user": {
      "displayName": "Phong DQ",
      "photoUrl": "https://lh3.googleusercontent.com/a/default-user=s64",
      "userId": "11600774587194441145"
     },
     "user_tz": -420
    },
    "id": "DXj6Zn5fP6zn"
   },
   "outputs": [],
   "source": [
    "def chooseParents(pop):\n",
    "    n = len(pop)\n",
    "    index1 = np.random.randint(n)\n",
    "    while True:\n",
    "        index2 = np.random.randint(n)\n",
    "        if index1 == index2: break\n",
    "    index3 = np.random.randint(n)\n",
    "    while True:\n",
    "        index4 = np.random.randint(n)\n",
    "        if index3 == index4: break\n",
    "    \n",
    "    if pop[index1][1] > pop[index2][1]:\n",
    "        p1 = pop[index1][0]\n",
    "    else:\n",
    "        p1 = pop[index2][0]\n",
    "    \n",
    "    if pop[index3][1] > pop[index4][1]:\n",
    "        p2 = pop[index3][0]\n",
    "    else:\n",
    "        p2 = pop[index4][0]\n",
    "    \n",
    "    return p1, p2"
   ]
  },
  {
   "cell_type": "code",
   "execution_count": 72,
   "metadata": {},
   "outputs": [],
   "source": [
    "def cross_TwoPoint(p1, p2):\n",
    "    n = len(p1)\n",
    "    cross = int(n*0.2)\n",
    "\n",
    "    index1 = np.random.randint(1, n-cross)\n",
    "    index2 = index1 + cross\n",
    "    while index1 == index2:\n",
    "       index2 = np.random.randint(1, n-1)\n",
    "   \n",
    "    if index1 > index2:\n",
    "        temp = index1\n",
    "        index1 = index2\n",
    "        index2 = temp\n",
    "\n",
    "    o1 = np.array(p1)\n",
    "    o2 = np.array(p2)\n",
    "\n",
    "    for i in range(index1, index2+1):\n",
    "        o1[i] = p2[i]\n",
    "        o2[i] = p1[i]\n",
    "\n",
    "    return o1, o2"
   ]
  },
  {
   "cell_type": "code",
   "execution_count": 73,
   "metadata": {},
   "outputs": [
    {
     "data": {
      "text/plain": [
       "(array([0, 1, 0, 0, 1, 1, 1, 1, 1, 0, 1, 0, 0, 0, 1]),\n",
       " array([0, 0, 1, 1, 0, 1, 1, 1, 1, 1, 1, 1, 1, 0, 1]))"
      ]
     },
     "execution_count": 73,
     "metadata": {},
     "output_type": "execute_result"
    }
   ],
   "source": [
    "cross_TwoPoint([0, 0, 1, 1, 0, 1, 1, 1, 1, 0, 1, 0, 0, 0, 1], [0, 1, 0, 0, 1, 1, 1, 1, 1, 1, 1, 1, 1, 0, 1])"
   ]
  },
  {
   "cell_type": "code",
   "execution_count": 74,
   "metadata": {
    "executionInfo": {
     "elapsed": 10,
     "status": "ok",
     "timestamp": 1635696944672,
     "user": {
      "displayName": "Phong DQ",
      "photoUrl": "https://lh3.googleusercontent.com/a/default-user=s64",
      "userId": "11600774587194441145"
     },
     "user_tz": -420
    },
    "id": "BSmWLZmNP6zp"
   },
   "outputs": [],
   "source": [
    "def mutation_xor(individual):\n",
    "    n = len(individual)\n",
    "    res = np.array(individual)\n",
    "\n",
    "    index1 = np.random.randint(n)\n",
    "    res[index1] = (res[index1] + 1)%2\n",
    "\n",
    "    return res"
   ]
  },
  {
   "cell_type": "code",
   "execution_count": 75,
   "metadata": {},
   "outputs": [
    {
     "data": {
      "text/plain": [
       "array([0, 0, 1, 0, 0, 0, 0, 1, 1, 1, 1, 1, 0, 1, 0])"
      ]
     },
     "execution_count": 75,
     "metadata": {},
     "output_type": "execute_result"
    }
   ],
   "source": [
    "mutation_xor([0, 0, 1, 0, 0, 1, 0, 1, 1, 1, 1, 1, 0, 1, 0])"
   ]
  },
  {
   "cell_type": "code",
   "execution_count": 76,
   "metadata": {},
   "outputs": [],
   "source": [
    "import random\n",
    "\n",
    "def selection(pre_pop, offs_pop, rate_sel = 0.2):  \n",
    "    n = len(pre_pop)\n",
    "    n_p = int(n*rate_sel)\n",
    "    n_o = int(n*(0.5 - rate_sel))\n",
    "    pre_pop.sort(key=lambda tup: tup[1], reverse = True)\n",
    "    offs_pop.sort(key=lambda tup: tup[1], reverse = True)\n",
    "    pop = pre_pop[n_p:] + offs_pop[n_o:]\n",
    "    pop.sort(key=lambda tup: tup[1], reverse = True)\n",
    "    next_pop = pre_pop[0:n_p] + offs_pop[0:n_o] + pop[0:(n-n_p-n_o)]\n",
    "    random.shuffle(next_pop)\n",
    "    return next_pop"
   ]
  },
  {
   "cell_type": "code",
   "execution_count": 77,
   "metadata": {
    "executionInfo": {
     "elapsed": 316,
     "status": "ok",
     "timestamp": 1635700066846,
     "user": {
      "displayName": "Phong DQ",
      "photoUrl": "https://lh3.googleusercontent.com/a/default-user=s64",
      "userId": "11600774587194441145"
     },
     "user_tz": -420
    },
    "id": "FnfCkWzsP6zq"
   },
   "outputs": [],
   "source": [
    "from copy import deepcopy\n",
    "#start_population = GeneratorPopulaion(size_pop, num_cities)\n",
    "def GA(size_pop, num_gens, Pc, Pm):\n",
    "    \n",
    "    population = GeneratorPopulaion(size_pop, N)\n",
    "    res = deepcopy(best_parents)\n",
    "    best_offs = (0, 0)\n",
    "    logg = []\n",
    "\n",
    "    t = 0\n",
    "    while t < num_gens:\n",
    "        offs_pop = []\n",
    "        while len(offs_pop) < size_pop:\n",
    "            p1, p2 = chooseParents(population)\n",
    "\n",
    "            rand = np.random.random_sample()\n",
    "            o1, o2 = [], []\n",
    "            if rand <= Pc:\n",
    "                o1, o2 = cross_TwoPoint(p1, p2)\n",
    "            else:\n",
    "                o1 = mutation_xor(p1)\n",
    "                o2 = mutation_xor(p2)\n",
    "            if np.random.random_sample() < Pm:\n",
    "                o1 = mutation_xor(o1)\n",
    "                o2 = mutation_xor(o2)\n",
    "            if not check_generated(o1):\n",
    "            #if True:\n",
    "                f_o1 = Fitness_check(o1)\n",
    "                if(f_o1 > best_offs[1]): best_offs = (o1, f_o1)\n",
    "                offs_pop.append((o1, f_o1))\n",
    "            if not check_generated(o2):\n",
    "            #if True:\n",
    "                f_o2 = Fitness_check(o2)\n",
    "                if(f_o2 > best_offs[1]): best_offs = (o2, f_o2)\n",
    "                offs_pop.append((o2, f_o2))\n",
    "        \n",
    "        population = selection(population, offs_pop)\n",
    "        if res[1] < best_offs[1]: res = best_offs\n",
    "        logg.append([t, res])\n",
    "        t+= 1\n",
    "    \n",
    "    return logg, population"
   ]
  },
  {
   "cell_type": "code",
   "execution_count": 78,
   "metadata": {
    "executionInfo": {
     "elapsed": 12,
     "status": "ok",
     "timestamp": 1635696944675,
     "user": {
      "displayName": "Phong DQ",
      "photoUrl": "https://lh3.googleusercontent.com/a/default-user=s64",
      "userId": "11600774587194441145"
     },
     "user_tz": -420
    },
    "id": "66NNpg27P6zr"
   },
   "outputs": [],
   "source": [
    "def show(his):\n",
    "    input = np.array(his, dtype=object)\n",
    "    x = input[:, 0]\n",
    "    y = np.array(input[:, 1])\n",
    "    y = [i[1] for i in y]\n",
    "    plt.plot(x, y)\n",
    "    plt.title('GA')\n",
    "    plt.show()"
   ]
  },
  {
   "cell_type": "code",
   "execution_count": 83,
   "metadata": {},
   "outputs": [
    {
     "data": {
      "image/png": "[encoded data removed]",
      "text/plain": [
       "<Figure size 432x288 with 1 Axes>"
      ]
     },
     "metadata": {
      "needs_background": "light"
     },
     "output_type": "display_data"
    },
    {
     "name": "stdout",
     "output_type": "stream",
     "text": [
      "(array([1, 1, 0, 1, 1, 1, 0, 0, 1, 1, 1, 0, 0, 0, 0, 1, 0, 0, 0, 0, 0, 1,\n",
      "       0, 1]), 13509694)\n"
     ]
    }
   ],
   "source": [
    "history, pop = GA(20, 1000, 0.75, 0.1)\n",
    "show(history)\n",
    "print(history[-1][1])"
   ]
  },
  {
   "cell_type": "code",
   "execution_count": 80,
   "metadata": {},
   "outputs": [],
   "source": [
    "def check(indiv, n = N):\n",
    "    cost = 0\n",
    "    weight_total = 0\n",
    "\n",
    "    for i in range(n):\n",
    "        cost += indiv[i]*item_list[i][0]\n",
    "        weight_total += indiv[i]*item_list[i][1]\n",
    "\n",
    "    return (weight_total, cost)"
   ]
  },
  {
   "cell_type": "code",
   "execution_count": 81,
   "metadata": {},
   "outputs": [],
   "source": [
    "# check([0, 1, 0, 0, 0, 0, 0, 0, 0, 0, 0, 0, 1, 0, 0, 0, 0, 0, 0, 0, 1, 0,\n",
    "#        0, 0, 0, 0, 1, 0, 0, 1, 0, 0, 0, 0, 0, 0, 0, 0, 0, 0, 0, 0, 0, 0,\n",
    "#        0, 0, 1, 0, 0, 0, 1, 0, 0, 0, 0, 0, 0, 0, 0, 0, 0, 0, 0, 0, 1, 0,\n",
    "#        0, 0, 0, 0, 1, 0, 0, 0, 1, 0, 1, 0, 0, 0, 0, 0, 0, 0, 0, 1, 0, 0,\n",
    "#        0, 1, 0, 0, 0, 0, 0, 0, 1, 0, 0, 0])"
   ]
  }
 ],
 "metadata": {
  "interpreter": {
   "hash": "b0fdbd91fa1014f333c33329988a7a04d464deba86e034a82d46dbd46f2ee1d2"
  },
  "kernelspec": {
   "display_name": "Python 3.8.8 64-bit ('base': conda)",
   "name": "python3"
  },
  "language_info": {
   "codemirror_mode": {
    "name": "ipython",
    "version": 3
   },
   "file_extension": ".py",
   "mimetype": "text/x-python",
   "name": "python",
   "nbconvert_exporter": "python",
   "pygments_lexer": "ipython3",
   "version": "3.8.8"
  },
  "orig_nbformat": 4
 },
 "nbformat": 4,
 "nbformat_minor": 2
}
